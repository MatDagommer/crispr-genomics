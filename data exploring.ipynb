{
 "cells": [
  {
   "cell_type": "code",
   "execution_count": 7,
   "metadata": {},
   "outputs": [],
   "source": [
    "import torch\n",
    "import torch.nn as nn\n",
    "import torch.utils.data\n",
    "import torch.utils.data as data_utils\n",
    "import torch.nn.functional as F\n",
    "import numpy as np\n",
    "import matplotlib.pyplot as plt\n",
    "import pandas as pd\n",
    "import seaborn\n",
    "from tqdm import tqdm\n",
    "import timeit"
   ]
  },
  {
   "cell_type": "markdown",
   "metadata": {},
   "source": [
    "### CRISPR_gene_effect.csv"
   ]
  },
  {
   "cell_type": "code",
   "execution_count": 8,
   "metadata": {},
   "outputs": [
    {
     "name": "stdout",
     "output_type": "stream",
     "text": [
      "<class 'pandas.core.frame.DataFrame'>\n",
      "RangeIndex: 1086 entries, 0 to 1085\n",
      "Columns: 17387 entries, DepMap_ID to ZZZ3 (26009)\n",
      "dtypes: float64(17386), object(1)\n",
      "memory usage: 144.1+ MB\n"
     ]
    }
   ],
   "source": [
    "df = pd.read_csv('data/CRISPR_gene_effect.csv')\n",
    "df.info()"
   ]
  },
  {
   "cell_type": "code",
   "execution_count": null,
   "metadata": {},
   "outputs": [],
   "source": [
    "df.iloc[:,1:].fillna(0).to_numpy().min()"
   ]
  },
  {
   "cell_type": "markdown",
   "metadata": {},
   "source": [
    "Genes:17386  \n",
    "Cell Lines:1086  \n",
    "Primary Diseases:31  \n",
    "Lineages:28  "
   ]
  },
  {
   "cell_type": "code",
   "execution_count": null,
   "metadata": {},
   "outputs": [],
   "source": [
    "gene_effect = df #.set_index(\"DepMap_ID\")"
   ]
  },
  {
   "cell_type": "code",
   "execution_count": null,
   "metadata": {},
   "outputs": [],
   "source": [
    "gene_effect.iloc[:5,:10]"
   ]
  },
  {
   "cell_type": "code",
   "execution_count": null,
   "metadata": {},
   "outputs": [],
   "source": [
    "gene_mean = gene_effect.mean().to_numpy()"
   ]
  },
  {
   "cell_type": "code",
   "execution_count": null,
   "metadata": {
    "scrolled": true
   },
   "outputs": [],
   "source": [
    "fig = plt.figure(figsize=(20,4))\n",
    "plt.imshow(gene_effect.iloc[:,1:].fillna(0).to_numpy(), cmap=\"YlGnBu\",interpolation='nearest')\n",
    "plt.xlabel(\"Genes\")\n",
    "plt.ylabel(\"Cell lines\")\n",
    "plt.title(\"Gene effect\")\n",
    "plt.show()"
   ]
  },
  {
   "cell_type": "code",
   "execution_count": null,
   "metadata": {},
   "outputs": [],
   "source": [
    "fig = plt.figure(figsize=(5,3))\n",
    "plt.hist(gene_mean, rwidth=0.9, bins=20)\n",
    "plt.xlabel('Average gene effect score')\n",
    "plt.ylabel('Number of genes')\n",
    "plt.title(\"Histogram of the global gene effect\")\n",
    "plt.show()"
   ]
  },
  {
   "cell_type": "code",
   "execution_count": null,
   "metadata": {},
   "outputs": [],
   "source": []
  },
  {
   "cell_type": "markdown",
   "metadata": {},
   "source": [
    "### CCLE_expression.csv"
   ]
  },
  {
   "cell_type": "code",
   "execution_count": null,
   "metadata": {},
   "outputs": [],
   "source": [
    "df = pd.read_csv('data/CCLE_expression.csv')\n",
    "df.info()"
   ]
  },
  {
   "cell_type": "code",
   "execution_count": null,
   "metadata": {},
   "outputs": [],
   "source": [
    "df[:5]"
   ]
  },
  {
   "cell_type": "code",
   "execution_count": null,
   "metadata": {},
   "outputs": [],
   "source": [
    "print(f\"Gene expression goes from {df.iloc[:,1:].fillna(0).to_numpy().min():.2f} \"\n",
    "      f\"to {df.iloc[:,1:].fillna(0).to_numpy().max():.2f}.\")"
   ]
  },
  {
   "cell_type": "code",
   "execution_count": null,
   "metadata": {},
   "outputs": [],
   "source": [
    "gene_expression = df.rename(columns={\"Unnamed: 0\":\"DepMap\"}).set_index(\"DepMap\")"
   ]
  },
  {
   "cell_type": "code",
   "execution_count": null,
   "metadata": {},
   "outputs": [],
   "source": [
    "gene_expression.iloc[:5,:10]"
   ]
  },
  {
   "cell_type": "code",
   "execution_count": null,
   "metadata": {
    "scrolled": true
   },
   "outputs": [],
   "source": [
    "gene_expr_mean = gene_expression.mean().to_numpy()"
   ]
  },
  {
   "cell_type": "code",
   "execution_count": null,
   "metadata": {},
   "outputs": [],
   "source": [
    "fig = plt.figure(figsize=(20,20))\n",
    "plt.imshow(-gene_expression.iloc[:,1:].fillna(0).to_numpy(), cmap=\"YlGnBu\",interpolation='nearest')\n",
    "plt.xlabel(\"Genes\")\n",
    "plt.ylabel(\"Cell lines\")\n",
    "plt.title(\"Gene expression\")\n",
    "plt.show()"
   ]
  },
  {
   "cell_type": "code",
   "execution_count": null,
   "metadata": {},
   "outputs": [],
   "source": [
    "fig = plt.figure(figsize=(5,3))\n",
    "plt.hist(gene_expr_mean, rwidth=0.9, bins=20)\n",
    "plt.xlabel('Average gene expression score')\n",
    "plt.ylabel('Number of genes')\n",
    "plt.title(\"Histogram of the global gene expression\")\n",
    "plt.show()"
   ]
  },
  {
   "cell_type": "code",
   "execution_count": null,
   "metadata": {},
   "outputs": [],
   "source": []
  },
  {
   "cell_type": "code",
   "execution_count": null,
   "metadata": {},
   "outputs": [],
   "source": []
  },
  {
   "cell_type": "markdown",
   "metadata": {},
   "source": [
    "### CRISPR_gene_dependency.csv"
   ]
  },
  {
   "cell_type": "code",
   "execution_count": null,
   "metadata": {},
   "outputs": [],
   "source": [
    "df = pd.read_csv('data/CRISPR_gene_dependency.csv')\n",
    "df.info()"
   ]
  },
  {
   "cell_type": "code",
   "execution_count": null,
   "metadata": {},
   "outputs": [],
   "source": [
    "gene_dependency = df"
   ]
  },
  {
   "cell_type": "code",
   "execution_count": null,
   "metadata": {},
   "outputs": [],
   "source": [
    "gene_dependency[:5]"
   ]
  },
  {
   "cell_type": "code",
   "execution_count": null,
   "metadata": {},
   "outputs": [],
   "source": [
    "fig = plt.figure(figsize=(20,20))\n",
    "plt.imshow(-gene_dependency.iloc[:,1:].fillna(0).to_numpy(), cmap=\"YlGnBu\",interpolation='nearest')\n",
    "plt.xlabel(\"Genes\")\n",
    "plt.ylabel(\"Cell lines\")\n",
    "plt.title(\"Gene dependency\")\n",
    "plt.show()"
   ]
  },
  {
   "cell_type": "code",
   "execution_count": null,
   "metadata": {},
   "outputs": [],
   "source": [
    "fig = plt.figure(figsize=(5,3))\n",
    "plt.hist(gene_dependency.mean().to_numpy(), rwidth=0.9, bins=20)\n",
    "plt.xlabel('Average gene effect score')\n",
    "plt.ylabel('Number of genes')\n",
    "plt.title(\"Histogram of the global gene effect\")\n",
    "plt.show()"
   ]
  },
  {
   "cell_type": "code",
   "execution_count": null,
   "metadata": {},
   "outputs": [],
   "source": []
  },
  {
   "cell_type": "markdown",
   "metadata": {},
   "source": [
    "### common_essentials.csv"
   ]
  },
  {
   "cell_type": "code",
   "execution_count": null,
   "metadata": {},
   "outputs": [],
   "source": [
    "df = pd.read_csv('data/common_essentials.csv')\n",
    "df.info()"
   ]
  },
  {
   "cell_type": "code",
   "execution_count": null,
   "metadata": {},
   "outputs": [],
   "source": [
    "common_essentials = df.values[:,0].tolist()"
   ]
  },
  {
   "cell_type": "code",
   "execution_count": null,
   "metadata": {
    "scrolled": false
   },
   "outputs": [],
   "source": [
    "common_essentials[:10]"
   ]
  },
  {
   "cell_type": "code",
   "execution_count": null,
   "metadata": {
    "scrolled": true
   },
   "outputs": [],
   "source": [
    "print(f\"{len(set(gene_effect.columns[1:]).intersection(common_essentials))} \" \n",
    "      f\"essential genes out of \"\n",
    "      f\"{len(common_essentials)} are in CRISPR dataset\")"
   ]
  },
  {
   "cell_type": "markdown",
   "metadata": {},
   "source": [
    "### nonessentials.csv"
   ]
  },
  {
   "cell_type": "code",
   "execution_count": null,
   "metadata": {},
   "outputs": [],
   "source": [
    "df = pd.read_csv('data/nonessentials.csv')\n",
    "df.info()"
   ]
  },
  {
   "cell_type": "code",
   "execution_count": null,
   "metadata": {},
   "outputs": [],
   "source": [
    "nonessentials = df.values[:,0].tolist()"
   ]
  },
  {
   "cell_type": "code",
   "execution_count": null,
   "metadata": {
    "scrolled": true
   },
   "outputs": [],
   "source": [
    "nonessentials[:10]"
   ]
  },
  {
   "cell_type": "code",
   "execution_count": null,
   "metadata": {
    "scrolled": false
   },
   "outputs": [],
   "source": [
    "print(f\"{len(set(gene_effect.columns[1:]).intersection(nonessentials))} \" \n",
    "      f\"non-essential genes out of \"\n",
    "      f\"{len(nonessentials)} are in CRISPR dataset\")"
   ]
  },
  {
   "cell_type": "code",
   "execution_count": null,
   "metadata": {},
   "outputs": [],
   "source": [
    "len(gene_effect.columns[1:]) - 1237 - 632"
   ]
  },
  {
   "cell_type": "markdown",
   "metadata": {},
   "source": [
    "### Achilles_gene_effect.csv"
   ]
  },
  {
   "cell_type": "code",
   "execution_count": null,
   "metadata": {},
   "outputs": [],
   "source": [
    "df = pd.read_csv('data/Achilles_gene_effect.csv')\n",
    "df.info()"
   ]
  },
  {
   "cell_type": "code",
   "execution_count": null,
   "metadata": {},
   "outputs": [],
   "source": [
    "ach_gene_effect = df"
   ]
  },
  {
   "cell_type": "code",
   "execution_count": null,
   "metadata": {},
   "outputs": [],
   "source": [
    "gene_effect[:5]"
   ]
  },
  {
   "cell_type": "code",
   "execution_count": null,
   "metadata": {},
   "outputs": [],
   "source": [
    "ach_gene_effect[:10]"
   ]
  },
  {
   "cell_type": "code",
   "execution_count": null,
   "metadata": {},
   "outputs": [],
   "source": [
    "plt.hist(gene_effect.mean().to_numpy(), rwidth=0.9, bins=20);plt.show()"
   ]
  },
  {
   "cell_type": "code",
   "execution_count": null,
   "metadata": {},
   "outputs": [],
   "source": [
    "plt.hist(ach_gene_effect.mean().to_numpy(), rwidth=0.9, bins=20);plt.show()"
   ]
  },
  {
   "cell_type": "code",
   "execution_count": null,
   "metadata": {},
   "outputs": [],
   "source": []
  },
  {
   "cell_type": "code",
   "execution_count": null,
   "metadata": {},
   "outputs": [],
   "source": []
  },
  {
   "cell_type": "code",
   "execution_count": null,
   "metadata": {},
   "outputs": [],
   "source": []
  },
  {
   "cell_type": "code",
   "execution_count": null,
   "metadata": {},
   "outputs": [],
   "source": []
  },
  {
   "cell_type": "code",
   "execution_count": null,
   "metadata": {},
   "outputs": [],
   "source": []
  },
  {
   "cell_type": "markdown",
   "metadata": {},
   "source": [
    "### sample_info.csv"
   ]
  },
  {
   "cell_type": "code",
   "execution_count": null,
   "metadata": {},
   "outputs": [],
   "source": [
    "df = pd.read_csv('data/sample_info.csv')\n",
    "df.info()"
   ]
  },
  {
   "cell_type": "code",
   "execution_count": null,
   "metadata": {},
   "outputs": [],
   "source": [
    "df.columns"
   ]
  },
  {
   "cell_type": "code",
   "execution_count": null,
   "metadata": {},
   "outputs": [],
   "source": [
    "cell_lines_info = df[['DepMap_ID', 'sample_collection_site', 'lineage', 'primary_disease']]"
   ]
  },
  {
   "cell_type": "code",
   "execution_count": null,
   "metadata": {},
   "outputs": [],
   "source": [
    "cell_lines_info.groupby('lineage').count()"
   ]
  },
  {
   "cell_type": "code",
   "execution_count": null,
   "metadata": {
    "scrolled": true
   },
   "outputs": [],
   "source": [
    "cell_lines_info.groupby('primary_disease')['lineage'].apply(lambda x: len(set(x)))"
   ]
  },
  {
   "cell_type": "code",
   "execution_count": null,
   "metadata": {},
   "outputs": [],
   "source": [
    "cell_lines_info.groupby('lineage').count().info()"
   ]
  },
  {
   "cell_type": "code",
   "execution_count": null,
   "metadata": {},
   "outputs": [],
   "source": []
  },
  {
   "cell_type": "code",
   "execution_count": null,
   "metadata": {},
   "outputs": [],
   "source": []
  },
  {
   "cell_type": "code",
   "execution_count": null,
   "metadata": {},
   "outputs": [],
   "source": []
  },
  {
   "cell_type": "code",
   "execution_count": null,
   "metadata": {},
   "outputs": [],
   "source": []
  },
  {
   "cell_type": "markdown",
   "metadata": {},
   "source": [
    "**Retrieve Data**"
   ]
  },
  {
   "cell_type": "code",
   "execution_count": 9,
   "metadata": {},
   "outputs": [
    {
     "data": {
      "text/html": [
       "<div>\n",
       "<style scoped>\n",
       "    .dataframe tbody tr th:only-of-type {\n",
       "        vertical-align: middle;\n",
       "    }\n",
       "\n",
       "    .dataframe tbody tr th {\n",
       "        vertical-align: top;\n",
       "    }\n",
       "\n",
       "    .dataframe thead th {\n",
       "        text-align: right;\n",
       "    }\n",
       "</style>\n",
       "<table border=\"1\" class=\"dataframe\">\n",
       "  <thead>\n",
       "    <tr style=\"text-align: right;\">\n",
       "      <th></th>\n",
       "      <th>A1BG (1)</th>\n",
       "      <th>A1CF (29974)</th>\n",
       "      <th>A2M (2)</th>\n",
       "      <th>A2ML1 (144568)</th>\n",
       "      <th>A3GALT2 (127550)</th>\n",
       "      <th>A4GALT (53947)</th>\n",
       "      <th>A4GNT (51146)</th>\n",
       "      <th>AAAS (8086)</th>\n",
       "      <th>AACS (65985)</th>\n",
       "      <th>AADAC (13)</th>\n",
       "      <th>...</th>\n",
       "      <th>ZWILCH (55055)</th>\n",
       "      <th>ZWINT (11130)</th>\n",
       "      <th>ZXDA (7789)</th>\n",
       "      <th>ZXDB (158586)</th>\n",
       "      <th>ZXDC (79364)</th>\n",
       "      <th>ZYG11A (440590)</th>\n",
       "      <th>ZYG11B (79699)</th>\n",
       "      <th>ZYX (7791)</th>\n",
       "      <th>ZZEF1 (23140)</th>\n",
       "      <th>ZZZ3 (26009)</th>\n",
       "    </tr>\n",
       "    <tr>\n",
       "      <th>DepMap</th>\n",
       "      <th></th>\n",
       "      <th></th>\n",
       "      <th></th>\n",
       "      <th></th>\n",
       "      <th></th>\n",
       "      <th></th>\n",
       "      <th></th>\n",
       "      <th></th>\n",
       "      <th></th>\n",
       "      <th></th>\n",
       "      <th></th>\n",
       "      <th></th>\n",
       "      <th></th>\n",
       "      <th></th>\n",
       "      <th></th>\n",
       "      <th></th>\n",
       "      <th></th>\n",
       "      <th></th>\n",
       "      <th></th>\n",
       "      <th></th>\n",
       "      <th></th>\n",
       "    </tr>\n",
       "  </thead>\n",
       "  <tbody>\n",
       "    <tr>\n",
       "      <th>ACH-000001</th>\n",
       "      <td>-0.134808</td>\n",
       "      <td>0.059764</td>\n",
       "      <td>-0.008665</td>\n",
       "      <td>-0.003572</td>\n",
       "      <td>-0.106211</td>\n",
       "      <td>-0.008257</td>\n",
       "      <td>0.018711</td>\n",
       "      <td>-0.291985</td>\n",
       "      <td>0.010921</td>\n",
       "      <td>0.064932</td>\n",
       "      <td>...</td>\n",
       "      <td>-0.037619</td>\n",
       "      <td>-0.116524</td>\n",
       "      <td>-0.029331</td>\n",
       "      <td>0.105940</td>\n",
       "      <td>0.147605</td>\n",
       "      <td>-0.119822</td>\n",
       "      <td>0.063387</td>\n",
       "      <td>0.160857</td>\n",
       "      <td>0.058648</td>\n",
       "      <td>-0.316792</td>\n",
       "    </tr>\n",
       "    <tr>\n",
       "      <th>ACH-000004</th>\n",
       "      <td>0.081853</td>\n",
       "      <td>-0.056401</td>\n",
       "      <td>-0.106738</td>\n",
       "      <td>-0.014499</td>\n",
       "      <td>0.078209</td>\n",
       "      <td>-0.137562</td>\n",
       "      <td>0.168657</td>\n",
       "      <td>-0.198560</td>\n",
       "      <td>0.133372</td>\n",
       "      <td>0.151300</td>\n",
       "      <td>...</td>\n",
       "      <td>-0.030901</td>\n",
       "      <td>-0.262220</td>\n",
       "      <td>0.136406</td>\n",
       "      <td>0.031327</td>\n",
       "      <td>0.093763</td>\n",
       "      <td>-0.079692</td>\n",
       "      <td>-0.173709</td>\n",
       "      <td>0.153632</td>\n",
       "      <td>0.175627</td>\n",
       "      <td>-0.040869</td>\n",
       "    </tr>\n",
       "    <tr>\n",
       "      <th>ACH-000005</th>\n",
       "      <td>-0.094196</td>\n",
       "      <td>-0.014598</td>\n",
       "      <td>0.100426</td>\n",
       "      <td>0.169103</td>\n",
       "      <td>0.032363</td>\n",
       "      <td>-0.148050</td>\n",
       "      <td>0.168931</td>\n",
       "      <td>-0.244777</td>\n",
       "      <td>-0.086871</td>\n",
       "      <td>-0.036037</td>\n",
       "      <td>...</td>\n",
       "      <td>0.039434</td>\n",
       "      <td>-0.336925</td>\n",
       "      <td>-0.095528</td>\n",
       "      <td>-0.035541</td>\n",
       "      <td>-0.035612</td>\n",
       "      <td>-0.040183</td>\n",
       "      <td>-0.165464</td>\n",
       "      <td>0.077343</td>\n",
       "      <td>0.019387</td>\n",
       "      <td>-0.085687</td>\n",
       "    </tr>\n",
       "    <tr>\n",
       "      <th>ACH-000007</th>\n",
       "      <td>-0.011544</td>\n",
       "      <td>-0.123189</td>\n",
       "      <td>0.080692</td>\n",
       "      <td>0.061046</td>\n",
       "      <td>-0.013454</td>\n",
       "      <td>-0.016922</td>\n",
       "      <td>-0.029474</td>\n",
       "      <td>-0.206516</td>\n",
       "      <td>-0.063998</td>\n",
       "      <td>0.139288</td>\n",
       "      <td>...</td>\n",
       "      <td>-0.229303</td>\n",
       "      <td>-0.463191</td>\n",
       "      <td>0.061641</td>\n",
       "      <td>0.190301</td>\n",
       "      <td>0.119388</td>\n",
       "      <td>-0.036695</td>\n",
       "      <td>-0.182449</td>\n",
       "      <td>-0.146936</td>\n",
       "      <td>-0.189451</td>\n",
       "      <td>-0.281167</td>\n",
       "    </tr>\n",
       "    <tr>\n",
       "      <th>ACH-000009</th>\n",
       "      <td>-0.050782</td>\n",
       "      <td>-0.037466</td>\n",
       "      <td>0.068885</td>\n",
       "      <td>0.090375</td>\n",
       "      <td>0.012634</td>\n",
       "      <td>-0.079339</td>\n",
       "      <td>-0.017808</td>\n",
       "      <td>-0.183192</td>\n",
       "      <td>0.006227</td>\n",
       "      <td>-0.001700</td>\n",
       "      <td>...</td>\n",
       "      <td>-0.157219</td>\n",
       "      <td>-0.318765</td>\n",
       "      <td>0.015761</td>\n",
       "      <td>0.196949</td>\n",
       "      <td>-0.045874</td>\n",
       "      <td>-0.186805</td>\n",
       "      <td>-0.275629</td>\n",
       "      <td>-0.001227</td>\n",
       "      <td>-0.049140</td>\n",
       "      <td>-0.240582</td>\n",
       "    </tr>\n",
       "  </tbody>\n",
       "</table>\n",
       "<p>5 rows × 17386 columns</p>\n",
       "</div>"
      ],
      "text/plain": [
       "            A1BG (1)  A1CF (29974)   A2M (2)  A2ML1 (144568)  \\\n",
       "DepMap                                                         \n",
       "ACH-000001 -0.134808      0.059764 -0.008665       -0.003572   \n",
       "ACH-000004  0.081853     -0.056401 -0.106738       -0.014499   \n",
       "ACH-000005 -0.094196     -0.014598  0.100426        0.169103   \n",
       "ACH-000007 -0.011544     -0.123189  0.080692        0.061046   \n",
       "ACH-000009 -0.050782     -0.037466  0.068885        0.090375   \n",
       "\n",
       "            A3GALT2 (127550)  A4GALT (53947)  A4GNT (51146)  AAAS (8086)  \\\n",
       "DepMap                                                                     \n",
       "ACH-000001         -0.106211       -0.008257       0.018711    -0.291985   \n",
       "ACH-000004          0.078209       -0.137562       0.168657    -0.198560   \n",
       "ACH-000005          0.032363       -0.148050       0.168931    -0.244777   \n",
       "ACH-000007         -0.013454       -0.016922      -0.029474    -0.206516   \n",
       "ACH-000009          0.012634       -0.079339      -0.017808    -0.183192   \n",
       "\n",
       "            AACS (65985)  AADAC (13)  ...  ZWILCH (55055)  ZWINT (11130)  \\\n",
       "DepMap                                ...                                  \n",
       "ACH-000001      0.010921    0.064932  ...       -0.037619      -0.116524   \n",
       "ACH-000004      0.133372    0.151300  ...       -0.030901      -0.262220   \n",
       "ACH-000005     -0.086871   -0.036037  ...        0.039434      -0.336925   \n",
       "ACH-000007     -0.063998    0.139288  ...       -0.229303      -0.463191   \n",
       "ACH-000009      0.006227   -0.001700  ...       -0.157219      -0.318765   \n",
       "\n",
       "            ZXDA (7789)  ZXDB (158586)  ZXDC (79364)  ZYG11A (440590)  \\\n",
       "DepMap                                                                  \n",
       "ACH-000001    -0.029331       0.105940      0.147605        -0.119822   \n",
       "ACH-000004     0.136406       0.031327      0.093763        -0.079692   \n",
       "ACH-000005    -0.095528      -0.035541     -0.035612        -0.040183   \n",
       "ACH-000007     0.061641       0.190301      0.119388        -0.036695   \n",
       "ACH-000009     0.015761       0.196949     -0.045874        -0.186805   \n",
       "\n",
       "            ZYG11B (79699)  ZYX (7791)  ZZEF1 (23140)  ZZZ3 (26009)  \n",
       "DepMap                                                               \n",
       "ACH-000001        0.063387    0.160857       0.058648     -0.316792  \n",
       "ACH-000004       -0.173709    0.153632       0.175627     -0.040869  \n",
       "ACH-000005       -0.165464    0.077343       0.019387     -0.085687  \n",
       "ACH-000007       -0.182449   -0.146936      -0.189451     -0.281167  \n",
       "ACH-000009       -0.275629   -0.001227      -0.049140     -0.240582  \n",
       "\n",
       "[5 rows x 17386 columns]"
      ]
     },
     "execution_count": 9,
     "metadata": {},
     "output_type": "execute_result"
    }
   ],
   "source": [
    "df = pd.read_csv('data/CRISPR_gene_effect.csv')\n",
    "gene_effect = df.rename(columns={\"DepMap_ID\":\"DepMap\"}).set_index(\"DepMap\")\n",
    "\n",
    "gene_effect.head(5)"
   ]
  },
  {
   "cell_type": "code",
   "execution_count": 10,
   "metadata": {},
   "outputs": [
    {
     "data": {
      "text/html": [
       "<div>\n",
       "<style scoped>\n",
       "    .dataframe tbody tr th:only-of-type {\n",
       "        vertical-align: middle;\n",
       "    }\n",
       "\n",
       "    .dataframe tbody tr th {\n",
       "        vertical-align: top;\n",
       "    }\n",
       "\n",
       "    .dataframe thead th {\n",
       "        text-align: right;\n",
       "    }\n",
       "</style>\n",
       "<table border=\"1\" class=\"dataframe\">\n",
       "  <thead>\n",
       "    <tr style=\"text-align: right;\">\n",
       "      <th></th>\n",
       "      <th>TSPAN6 (7105)</th>\n",
       "      <th>TNMD (64102)</th>\n",
       "      <th>DPM1 (8813)</th>\n",
       "      <th>SCYL3 (57147)</th>\n",
       "      <th>C1orf112 (55732)</th>\n",
       "      <th>FGR (2268)</th>\n",
       "      <th>CFH (3075)</th>\n",
       "      <th>FUCA2 (2519)</th>\n",
       "      <th>GCLC (2729)</th>\n",
       "      <th>NFYA (4800)</th>\n",
       "      <th>...</th>\n",
       "      <th>H3C2 (8358)</th>\n",
       "      <th>H3C3 (8352)</th>\n",
       "      <th>AC098582.1 (8916)</th>\n",
       "      <th>DUS4L-BCAP29 (115253422)</th>\n",
       "      <th>C8orf44-SGK3 (100533105)</th>\n",
       "      <th>ELOA3B (728929)</th>\n",
       "      <th>NPBWR1 (2831)</th>\n",
       "      <th>ELOA3D (100506888)</th>\n",
       "      <th>ELOA3 (162699)</th>\n",
       "      <th>CDR1 (1038)</th>\n",
       "    </tr>\n",
       "    <tr>\n",
       "      <th>DepMap</th>\n",
       "      <th></th>\n",
       "      <th></th>\n",
       "      <th></th>\n",
       "      <th></th>\n",
       "      <th></th>\n",
       "      <th></th>\n",
       "      <th></th>\n",
       "      <th></th>\n",
       "      <th></th>\n",
       "      <th></th>\n",
       "      <th></th>\n",
       "      <th></th>\n",
       "      <th></th>\n",
       "      <th></th>\n",
       "      <th></th>\n",
       "      <th></th>\n",
       "      <th></th>\n",
       "      <th></th>\n",
       "      <th></th>\n",
       "      <th></th>\n",
       "      <th></th>\n",
       "    </tr>\n",
       "  </thead>\n",
       "  <tbody>\n",
       "    <tr>\n",
       "      <th>ACH-001113</th>\n",
       "      <td>4.331992</td>\n",
       "      <td>0.000000</td>\n",
       "      <td>7.364397</td>\n",
       "      <td>2.792855</td>\n",
       "      <td>4.470537</td>\n",
       "      <td>0.028569</td>\n",
       "      <td>1.226509</td>\n",
       "      <td>3.042644</td>\n",
       "      <td>6.499686</td>\n",
       "      <td>4.739848</td>\n",
       "      <td>...</td>\n",
       "      <td>2.689299</td>\n",
       "      <td>0.189034</td>\n",
       "      <td>0.201634</td>\n",
       "      <td>2.130931</td>\n",
       "      <td>0.555816</td>\n",
       "      <td>0.0</td>\n",
       "      <td>0.275007</td>\n",
       "      <td>0.0</td>\n",
       "      <td>0.0</td>\n",
       "      <td>0.000000</td>\n",
       "    </tr>\n",
       "    <tr>\n",
       "      <th>ACH-001289</th>\n",
       "      <td>4.566815</td>\n",
       "      <td>0.584963</td>\n",
       "      <td>7.106537</td>\n",
       "      <td>2.543496</td>\n",
       "      <td>3.504620</td>\n",
       "      <td>0.000000</td>\n",
       "      <td>0.189034</td>\n",
       "      <td>3.813525</td>\n",
       "      <td>4.221104</td>\n",
       "      <td>3.481557</td>\n",
       "      <td>...</td>\n",
       "      <td>1.286881</td>\n",
       "      <td>1.049631</td>\n",
       "      <td>0.321928</td>\n",
       "      <td>1.464668</td>\n",
       "      <td>0.632268</td>\n",
       "      <td>0.0</td>\n",
       "      <td>0.014355</td>\n",
       "      <td>0.0</td>\n",
       "      <td>0.0</td>\n",
       "      <td>0.000000</td>\n",
       "    </tr>\n",
       "    <tr>\n",
       "      <th>ACH-001339</th>\n",
       "      <td>3.150560</td>\n",
       "      <td>0.000000</td>\n",
       "      <td>7.379032</td>\n",
       "      <td>2.333424</td>\n",
       "      <td>4.227279</td>\n",
       "      <td>0.056584</td>\n",
       "      <td>1.310340</td>\n",
       "      <td>6.687061</td>\n",
       "      <td>3.682573</td>\n",
       "      <td>3.273516</td>\n",
       "      <td>...</td>\n",
       "      <td>0.594549</td>\n",
       "      <td>1.097611</td>\n",
       "      <td>0.831877</td>\n",
       "      <td>2.946731</td>\n",
       "      <td>0.475085</td>\n",
       "      <td>0.0</td>\n",
       "      <td>0.084064</td>\n",
       "      <td>0.0</td>\n",
       "      <td>0.0</td>\n",
       "      <td>0.042644</td>\n",
       "    </tr>\n",
       "    <tr>\n",
       "      <th>ACH-001538</th>\n",
       "      <td>5.085340</td>\n",
       "      <td>0.000000</td>\n",
       "      <td>7.154109</td>\n",
       "      <td>2.545968</td>\n",
       "      <td>3.084064</td>\n",
       "      <td>0.000000</td>\n",
       "      <td>5.868143</td>\n",
       "      <td>6.165309</td>\n",
       "      <td>4.489928</td>\n",
       "      <td>3.956986</td>\n",
       "      <td>...</td>\n",
       "      <td>0.214125</td>\n",
       "      <td>0.632268</td>\n",
       "      <td>0.298658</td>\n",
       "      <td>1.641546</td>\n",
       "      <td>0.443607</td>\n",
       "      <td>0.0</td>\n",
       "      <td>0.028569</td>\n",
       "      <td>0.0</td>\n",
       "      <td>0.0</td>\n",
       "      <td>0.000000</td>\n",
       "    </tr>\n",
       "    <tr>\n",
       "      <th>ACH-000242</th>\n",
       "      <td>6.729145</td>\n",
       "      <td>0.000000</td>\n",
       "      <td>6.537607</td>\n",
       "      <td>2.456806</td>\n",
       "      <td>3.867896</td>\n",
       "      <td>0.799087</td>\n",
       "      <td>7.208381</td>\n",
       "      <td>5.569856</td>\n",
       "      <td>7.127014</td>\n",
       "      <td>4.568032</td>\n",
       "      <td>...</td>\n",
       "      <td>1.117695</td>\n",
       "      <td>2.358959</td>\n",
       "      <td>0.084064</td>\n",
       "      <td>1.910733</td>\n",
       "      <td>0.000000</td>\n",
       "      <td>0.0</td>\n",
       "      <td>0.464668</td>\n",
       "      <td>0.0</td>\n",
       "      <td>0.0</td>\n",
       "      <td>0.000000</td>\n",
       "    </tr>\n",
       "  </tbody>\n",
       "</table>\n",
       "<p>5 rows × 19221 columns</p>\n",
       "</div>"
      ],
      "text/plain": [
       "            TSPAN6 (7105)  TNMD (64102)  DPM1 (8813)  SCYL3 (57147)  \\\n",
       "DepMap                                                                \n",
       "ACH-001113       4.331992      0.000000     7.364397       2.792855   \n",
       "ACH-001289       4.566815      0.584963     7.106537       2.543496   \n",
       "ACH-001339       3.150560      0.000000     7.379032       2.333424   \n",
       "ACH-001538       5.085340      0.000000     7.154109       2.545968   \n",
       "ACH-000242       6.729145      0.000000     6.537607       2.456806   \n",
       "\n",
       "            C1orf112 (55732)  FGR (2268)  CFH (3075)  FUCA2 (2519)  \\\n",
       "DepMap                                                               \n",
       "ACH-001113          4.470537    0.028569    1.226509      3.042644   \n",
       "ACH-001289          3.504620    0.000000    0.189034      3.813525   \n",
       "ACH-001339          4.227279    0.056584    1.310340      6.687061   \n",
       "ACH-001538          3.084064    0.000000    5.868143      6.165309   \n",
       "ACH-000242          3.867896    0.799087    7.208381      5.569856   \n",
       "\n",
       "            GCLC (2729)  NFYA (4800)  ...  H3C2 (8358)  H3C3 (8352)  \\\n",
       "DepMap                                ...                             \n",
       "ACH-001113     6.499686     4.739848  ...     2.689299     0.189034   \n",
       "ACH-001289     4.221104     3.481557  ...     1.286881     1.049631   \n",
       "ACH-001339     3.682573     3.273516  ...     0.594549     1.097611   \n",
       "ACH-001538     4.489928     3.956986  ...     0.214125     0.632268   \n",
       "ACH-000242     7.127014     4.568032  ...     1.117695     2.358959   \n",
       "\n",
       "            AC098582.1 (8916)  DUS4L-BCAP29 (115253422)  \\\n",
       "DepMap                                                    \n",
       "ACH-001113           0.201634                  2.130931   \n",
       "ACH-001289           0.321928                  1.464668   \n",
       "ACH-001339           0.831877                  2.946731   \n",
       "ACH-001538           0.298658                  1.641546   \n",
       "ACH-000242           0.084064                  1.910733   \n",
       "\n",
       "            C8orf44-SGK3 (100533105)  ELOA3B (728929)  NPBWR1 (2831)  \\\n",
       "DepMap                                                                 \n",
       "ACH-001113                  0.555816              0.0       0.275007   \n",
       "ACH-001289                  0.632268              0.0       0.014355   \n",
       "ACH-001339                  0.475085              0.0       0.084064   \n",
       "ACH-001538                  0.443607              0.0       0.028569   \n",
       "ACH-000242                  0.000000              0.0       0.464668   \n",
       "\n",
       "            ELOA3D (100506888)  ELOA3 (162699)  CDR1 (1038)  \n",
       "DepMap                                                       \n",
       "ACH-001113                 0.0             0.0     0.000000  \n",
       "ACH-001289                 0.0             0.0     0.000000  \n",
       "ACH-001339                 0.0             0.0     0.042644  \n",
       "ACH-001538                 0.0             0.0     0.000000  \n",
       "ACH-000242                 0.0             0.0     0.000000  \n",
       "\n",
       "[5 rows x 19221 columns]"
      ]
     },
     "execution_count": 10,
     "metadata": {},
     "output_type": "execute_result"
    }
   ],
   "source": [
    "df = pd.read_csv('data/CCLE_expression.csv')\n",
    "gene_expression = df.rename(columns={\"Unnamed: 0\":\"DepMap\"}).set_index(\"DepMap\")\n",
    "\n",
    "\n",
    "gene_expression.head(5)"
   ]
  },
  {
   "cell_type": "code",
   "execution_count": 11,
   "metadata": {},
   "outputs": [],
   "source": [
    "gene_expression = gene_expression.sort_values(by = 'DepMap').reindex(sorted(gene_expression.columns), axis = 1)\n",
    "gene_effect = gene_effect.sort_values(by = 'DepMap').reindex(sorted(gene_effect.columns), axis = 1)"
   ]
  },
  {
   "cell_type": "code",
   "execution_count": 12,
   "metadata": {},
   "outputs": [],
   "source": [
    "cols1 = gene_expression.columns\n",
    "cols2 = gene_effect.columns\n",
    "\n",
    "def intersection(lst1, lst2):\n",
    "    return list(set(lst1).intersection(lst2))\n",
    "\n",
    "cols = sorted(intersection(cols1, cols2))\n",
    "gene_expression = gene_expression[cols]\n",
    "gene_effect = gene_effect[cols]"
   ]
  },
  {
   "cell_type": "code",
   "execution_count": 13,
   "metadata": {},
   "outputs": [],
   "source": [
    "rows1 = list(gene_expression.index)\n",
    "rows2 = list(gene_effect.index)\n",
    "\n",
    "rows = intersection(rows1, rows2)\n",
    "gene_expression = gene_expression.reindex(index = sorted(rows))\n",
    "gene_effect = gene_effect.reindex(index = sorted(rows))"
   ]
  },
  {
   "cell_type": "code",
   "execution_count": 14,
   "metadata": {},
   "outputs": [
    {
     "data": {
      "text/html": [
       "<div>\n",
       "<style scoped>\n",
       "    .dataframe tbody tr th:only-of-type {\n",
       "        vertical-align: middle;\n",
       "    }\n",
       "\n",
       "    .dataframe tbody tr th {\n",
       "        vertical-align: top;\n",
       "    }\n",
       "\n",
       "    .dataframe thead th {\n",
       "        text-align: right;\n",
       "    }\n",
       "</style>\n",
       "<table border=\"1\" class=\"dataframe\">\n",
       "  <thead>\n",
       "    <tr style=\"text-align: right;\">\n",
       "      <th></th>\n",
       "      <th>A1BG (1)</th>\n",
       "      <th>A1CF (29974)</th>\n",
       "      <th>A2M (2)</th>\n",
       "      <th>A2ML1 (144568)</th>\n",
       "      <th>A3GALT2 (127550)</th>\n",
       "      <th>A4GALT (53947)</th>\n",
       "      <th>A4GNT (51146)</th>\n",
       "      <th>AAAS (8086)</th>\n",
       "      <th>AACS (65985)</th>\n",
       "      <th>AADAC (13)</th>\n",
       "      <th>...</th>\n",
       "      <th>ZWILCH (55055)</th>\n",
       "      <th>ZWINT (11130)</th>\n",
       "      <th>ZXDA (7789)</th>\n",
       "      <th>ZXDB (158586)</th>\n",
       "      <th>ZXDC (79364)</th>\n",
       "      <th>ZYG11A (440590)</th>\n",
       "      <th>ZYG11B (79699)</th>\n",
       "      <th>ZYX (7791)</th>\n",
       "      <th>ZZEF1 (23140)</th>\n",
       "      <th>ZZZ3 (26009)</th>\n",
       "    </tr>\n",
       "    <tr>\n",
       "      <th>DepMap</th>\n",
       "      <th></th>\n",
       "      <th></th>\n",
       "      <th></th>\n",
       "      <th></th>\n",
       "      <th></th>\n",
       "      <th></th>\n",
       "      <th></th>\n",
       "      <th></th>\n",
       "      <th></th>\n",
       "      <th></th>\n",
       "      <th></th>\n",
       "      <th></th>\n",
       "      <th></th>\n",
       "      <th></th>\n",
       "      <th></th>\n",
       "      <th></th>\n",
       "      <th></th>\n",
       "      <th></th>\n",
       "      <th></th>\n",
       "      <th></th>\n",
       "      <th></th>\n",
       "    </tr>\n",
       "  </thead>\n",
       "  <tbody>\n",
       "    <tr>\n",
       "      <th>ACH-000001</th>\n",
       "      <td>3.116032</td>\n",
       "      <td>0.056584</td>\n",
       "      <td>0.226509</td>\n",
       "      <td>0.111031</td>\n",
       "      <td>0.000000</td>\n",
       "      <td>1.035624</td>\n",
       "      <td>0.176323</td>\n",
       "      <td>5.700440</td>\n",
       "      <td>4.144046</td>\n",
       "      <td>0.790772</td>\n",
       "      <td>...</td>\n",
       "      <td>5.080658</td>\n",
       "      <td>6.675957</td>\n",
       "      <td>0.978196</td>\n",
       "      <td>1.914565</td>\n",
       "      <td>4.700994</td>\n",
       "      <td>3.282440</td>\n",
       "      <td>2.797013</td>\n",
       "      <td>6.821455</td>\n",
       "      <td>3.010780</td>\n",
       "      <td>4.381975</td>\n",
       "    </tr>\n",
       "    <tr>\n",
       "      <th>ACH-000004</th>\n",
       "      <td>4.178715</td>\n",
       "      <td>0.000000</td>\n",
       "      <td>0.214125</td>\n",
       "      <td>0.344828</td>\n",
       "      <td>0.070389</td>\n",
       "      <td>0.097611</td>\n",
       "      <td>0.000000</td>\n",
       "      <td>6.336819</td>\n",
       "      <td>3.231125</td>\n",
       "      <td>0.000000</td>\n",
       "      <td>...</td>\n",
       "      <td>4.276497</td>\n",
       "      <td>6.098664</td>\n",
       "      <td>0.765535</td>\n",
       "      <td>1.622930</td>\n",
       "      <td>3.619413</td>\n",
       "      <td>0.014355</td>\n",
       "      <td>2.032101</td>\n",
       "      <td>7.002252</td>\n",
       "      <td>3.444932</td>\n",
       "      <td>4.910733</td>\n",
       "    </tr>\n",
       "    <tr>\n",
       "      <th>ACH-000005</th>\n",
       "      <td>4.003602</td>\n",
       "      <td>0.014355</td>\n",
       "      <td>0.137504</td>\n",
       "      <td>0.014355</td>\n",
       "      <td>0.000000</td>\n",
       "      <td>0.028569</td>\n",
       "      <td>0.000000</td>\n",
       "      <td>6.337176</td>\n",
       "      <td>3.781360</td>\n",
       "      <td>0.000000</td>\n",
       "      <td>...</td>\n",
       "      <td>5.628482</td>\n",
       "      <td>6.785289</td>\n",
       "      <td>0.807355</td>\n",
       "      <td>1.773996</td>\n",
       "      <td>3.763412</td>\n",
       "      <td>0.014355</td>\n",
       "      <td>2.761285</td>\n",
       "      <td>6.826421</td>\n",
       "      <td>3.524816</td>\n",
       "      <td>5.592457</td>\n",
       "    </tr>\n",
       "    <tr>\n",
       "      <th>ACH-000007</th>\n",
       "      <td>0.137504</td>\n",
       "      <td>1.405992</td>\n",
       "      <td>0.201634</td>\n",
       "      <td>0.000000</td>\n",
       "      <td>0.000000</td>\n",
       "      <td>0.014355</td>\n",
       "      <td>0.000000</td>\n",
       "      <td>5.431289</td>\n",
       "      <td>4.300856</td>\n",
       "      <td>3.547203</td>\n",
       "      <td>...</td>\n",
       "      <td>3.842979</td>\n",
       "      <td>6.125775</td>\n",
       "      <td>0.526069</td>\n",
       "      <td>1.761285</td>\n",
       "      <td>3.872829</td>\n",
       "      <td>0.014355</td>\n",
       "      <td>1.989139</td>\n",
       "      <td>6.332708</td>\n",
       "      <td>3.673556</td>\n",
       "      <td>3.469886</td>\n",
       "    </tr>\n",
       "    <tr>\n",
       "      <th>ACH-000009</th>\n",
       "      <td>1.464668</td>\n",
       "      <td>3.586164</td>\n",
       "      <td>0.250962</td>\n",
       "      <td>0.000000</td>\n",
       "      <td>0.042644</td>\n",
       "      <td>4.525443</td>\n",
       "      <td>0.000000</td>\n",
       "      <td>5.674122</td>\n",
       "      <td>4.510962</td>\n",
       "      <td>1.985500</td>\n",
       "      <td>...</td>\n",
       "      <td>4.761817</td>\n",
       "      <td>7.914086</td>\n",
       "      <td>0.815575</td>\n",
       "      <td>2.176323</td>\n",
       "      <td>3.773996</td>\n",
       "      <td>1.356144</td>\n",
       "      <td>2.956057</td>\n",
       "      <td>7.853185</td>\n",
       "      <td>3.442280</td>\n",
       "      <td>3.351911</td>\n",
       "    </tr>\n",
       "  </tbody>\n",
       "</table>\n",
       "<p>5 rows × 17283 columns</p>\n",
       "</div>"
      ],
      "text/plain": [
       "            A1BG (1)  A1CF (29974)   A2M (2)  A2ML1 (144568)  \\\n",
       "DepMap                                                         \n",
       "ACH-000001  3.116032      0.056584  0.226509        0.111031   \n",
       "ACH-000004  4.178715      0.000000  0.214125        0.344828   \n",
       "ACH-000005  4.003602      0.014355  0.137504        0.014355   \n",
       "ACH-000007  0.137504      1.405992  0.201634        0.000000   \n",
       "ACH-000009  1.464668      3.586164  0.250962        0.000000   \n",
       "\n",
       "            A3GALT2 (127550)  A4GALT (53947)  A4GNT (51146)  AAAS (8086)  \\\n",
       "DepMap                                                                     \n",
       "ACH-000001          0.000000        1.035624       0.176323     5.700440   \n",
       "ACH-000004          0.070389        0.097611       0.000000     6.336819   \n",
       "ACH-000005          0.000000        0.028569       0.000000     6.337176   \n",
       "ACH-000007          0.000000        0.014355       0.000000     5.431289   \n",
       "ACH-000009          0.042644        4.525443       0.000000     5.674122   \n",
       "\n",
       "            AACS (65985)  AADAC (13)  ...  ZWILCH (55055)  ZWINT (11130)  \\\n",
       "DepMap                                ...                                  \n",
       "ACH-000001      4.144046    0.790772  ...        5.080658       6.675957   \n",
       "ACH-000004      3.231125    0.000000  ...        4.276497       6.098664   \n",
       "ACH-000005      3.781360    0.000000  ...        5.628482       6.785289   \n",
       "ACH-000007      4.300856    3.547203  ...        3.842979       6.125775   \n",
       "ACH-000009      4.510962    1.985500  ...        4.761817       7.914086   \n",
       "\n",
       "            ZXDA (7789)  ZXDB (158586)  ZXDC (79364)  ZYG11A (440590)  \\\n",
       "DepMap                                                                  \n",
       "ACH-000001     0.978196       1.914565      4.700994         3.282440   \n",
       "ACH-000004     0.765535       1.622930      3.619413         0.014355   \n",
       "ACH-000005     0.807355       1.773996      3.763412         0.014355   \n",
       "ACH-000007     0.526069       1.761285      3.872829         0.014355   \n",
       "ACH-000009     0.815575       2.176323      3.773996         1.356144   \n",
       "\n",
       "            ZYG11B (79699)  ZYX (7791)  ZZEF1 (23140)  ZZZ3 (26009)  \n",
       "DepMap                                                               \n",
       "ACH-000001        2.797013    6.821455       3.010780      4.381975  \n",
       "ACH-000004        2.032101    7.002252       3.444932      4.910733  \n",
       "ACH-000005        2.761285    6.826421       3.524816      5.592457  \n",
       "ACH-000007        1.989139    6.332708       3.673556      3.469886  \n",
       "ACH-000009        2.956057    7.853185       3.442280      3.351911  \n",
       "\n",
       "[5 rows x 17283 columns]"
      ]
     },
     "execution_count": 14,
     "metadata": {},
     "output_type": "execute_result"
    }
   ],
   "source": [
    "gene_expression.head()"
   ]
  },
  {
   "cell_type": "code",
   "execution_count": 15,
   "metadata": {},
   "outputs": [
    {
     "data": {
      "text/html": [
       "<div>\n",
       "<style scoped>\n",
       "    .dataframe tbody tr th:only-of-type {\n",
       "        vertical-align: middle;\n",
       "    }\n",
       "\n",
       "    .dataframe tbody tr th {\n",
       "        vertical-align: top;\n",
       "    }\n",
       "\n",
       "    .dataframe thead th {\n",
       "        text-align: right;\n",
       "    }\n",
       "</style>\n",
       "<table border=\"1\" class=\"dataframe\">\n",
       "  <thead>\n",
       "    <tr style=\"text-align: right;\">\n",
       "      <th></th>\n",
       "      <th>A1BG (1)</th>\n",
       "      <th>A1CF (29974)</th>\n",
       "      <th>A2M (2)</th>\n",
       "      <th>A2ML1 (144568)</th>\n",
       "      <th>A3GALT2 (127550)</th>\n",
       "      <th>A4GALT (53947)</th>\n",
       "      <th>A4GNT (51146)</th>\n",
       "      <th>AAAS (8086)</th>\n",
       "      <th>AACS (65985)</th>\n",
       "      <th>AADAC (13)</th>\n",
       "      <th>...</th>\n",
       "      <th>ZWILCH (55055)</th>\n",
       "      <th>ZWINT (11130)</th>\n",
       "      <th>ZXDA (7789)</th>\n",
       "      <th>ZXDB (158586)</th>\n",
       "      <th>ZXDC (79364)</th>\n",
       "      <th>ZYG11A (440590)</th>\n",
       "      <th>ZYG11B (79699)</th>\n",
       "      <th>ZYX (7791)</th>\n",
       "      <th>ZZEF1 (23140)</th>\n",
       "      <th>ZZZ3 (26009)</th>\n",
       "    </tr>\n",
       "    <tr>\n",
       "      <th>DepMap</th>\n",
       "      <th></th>\n",
       "      <th></th>\n",
       "      <th></th>\n",
       "      <th></th>\n",
       "      <th></th>\n",
       "      <th></th>\n",
       "      <th></th>\n",
       "      <th></th>\n",
       "      <th></th>\n",
       "      <th></th>\n",
       "      <th></th>\n",
       "      <th></th>\n",
       "      <th></th>\n",
       "      <th></th>\n",
       "      <th></th>\n",
       "      <th></th>\n",
       "      <th></th>\n",
       "      <th></th>\n",
       "      <th></th>\n",
       "      <th></th>\n",
       "      <th></th>\n",
       "    </tr>\n",
       "  </thead>\n",
       "  <tbody>\n",
       "    <tr>\n",
       "      <th>ACH-000001</th>\n",
       "      <td>-0.134808</td>\n",
       "      <td>0.059764</td>\n",
       "      <td>-0.008665</td>\n",
       "      <td>-0.003572</td>\n",
       "      <td>-0.106211</td>\n",
       "      <td>-0.008257</td>\n",
       "      <td>0.018711</td>\n",
       "      <td>-0.291985</td>\n",
       "      <td>0.010921</td>\n",
       "      <td>0.064932</td>\n",
       "      <td>...</td>\n",
       "      <td>-0.037619</td>\n",
       "      <td>-0.116524</td>\n",
       "      <td>-0.029331</td>\n",
       "      <td>0.105940</td>\n",
       "      <td>0.147605</td>\n",
       "      <td>-0.119822</td>\n",
       "      <td>0.063387</td>\n",
       "      <td>0.160857</td>\n",
       "      <td>0.058648</td>\n",
       "      <td>-0.316792</td>\n",
       "    </tr>\n",
       "    <tr>\n",
       "      <th>ACH-000004</th>\n",
       "      <td>0.081853</td>\n",
       "      <td>-0.056401</td>\n",
       "      <td>-0.106738</td>\n",
       "      <td>-0.014499</td>\n",
       "      <td>0.078209</td>\n",
       "      <td>-0.137562</td>\n",
       "      <td>0.168657</td>\n",
       "      <td>-0.198560</td>\n",
       "      <td>0.133372</td>\n",
       "      <td>0.151300</td>\n",
       "      <td>...</td>\n",
       "      <td>-0.030901</td>\n",
       "      <td>-0.262220</td>\n",
       "      <td>0.136406</td>\n",
       "      <td>0.031327</td>\n",
       "      <td>0.093763</td>\n",
       "      <td>-0.079692</td>\n",
       "      <td>-0.173709</td>\n",
       "      <td>0.153632</td>\n",
       "      <td>0.175627</td>\n",
       "      <td>-0.040869</td>\n",
       "    </tr>\n",
       "    <tr>\n",
       "      <th>ACH-000005</th>\n",
       "      <td>-0.094196</td>\n",
       "      <td>-0.014598</td>\n",
       "      <td>0.100426</td>\n",
       "      <td>0.169103</td>\n",
       "      <td>0.032363</td>\n",
       "      <td>-0.148050</td>\n",
       "      <td>0.168931</td>\n",
       "      <td>-0.244777</td>\n",
       "      <td>-0.086871</td>\n",
       "      <td>-0.036037</td>\n",
       "      <td>...</td>\n",
       "      <td>0.039434</td>\n",
       "      <td>-0.336925</td>\n",
       "      <td>-0.095528</td>\n",
       "      <td>-0.035541</td>\n",
       "      <td>-0.035612</td>\n",
       "      <td>-0.040183</td>\n",
       "      <td>-0.165464</td>\n",
       "      <td>0.077343</td>\n",
       "      <td>0.019387</td>\n",
       "      <td>-0.085687</td>\n",
       "    </tr>\n",
       "    <tr>\n",
       "      <th>ACH-000007</th>\n",
       "      <td>-0.011544</td>\n",
       "      <td>-0.123189</td>\n",
       "      <td>0.080692</td>\n",
       "      <td>0.061046</td>\n",
       "      <td>-0.013454</td>\n",
       "      <td>-0.016922</td>\n",
       "      <td>-0.029474</td>\n",
       "      <td>-0.206516</td>\n",
       "      <td>-0.063998</td>\n",
       "      <td>0.139288</td>\n",
       "      <td>...</td>\n",
       "      <td>-0.229303</td>\n",
       "      <td>-0.463191</td>\n",
       "      <td>0.061641</td>\n",
       "      <td>0.190301</td>\n",
       "      <td>0.119388</td>\n",
       "      <td>-0.036695</td>\n",
       "      <td>-0.182449</td>\n",
       "      <td>-0.146936</td>\n",
       "      <td>-0.189451</td>\n",
       "      <td>-0.281167</td>\n",
       "    </tr>\n",
       "    <tr>\n",
       "      <th>ACH-000009</th>\n",
       "      <td>-0.050782</td>\n",
       "      <td>-0.037466</td>\n",
       "      <td>0.068885</td>\n",
       "      <td>0.090375</td>\n",
       "      <td>0.012634</td>\n",
       "      <td>-0.079339</td>\n",
       "      <td>-0.017808</td>\n",
       "      <td>-0.183192</td>\n",
       "      <td>0.006227</td>\n",
       "      <td>-0.001700</td>\n",
       "      <td>...</td>\n",
       "      <td>-0.157219</td>\n",
       "      <td>-0.318765</td>\n",
       "      <td>0.015761</td>\n",
       "      <td>0.196949</td>\n",
       "      <td>-0.045874</td>\n",
       "      <td>-0.186805</td>\n",
       "      <td>-0.275629</td>\n",
       "      <td>-0.001227</td>\n",
       "      <td>-0.049140</td>\n",
       "      <td>-0.240582</td>\n",
       "    </tr>\n",
       "  </tbody>\n",
       "</table>\n",
       "<p>5 rows × 17283 columns</p>\n",
       "</div>"
      ],
      "text/plain": [
       "            A1BG (1)  A1CF (29974)   A2M (2)  A2ML1 (144568)  \\\n",
       "DepMap                                                         \n",
       "ACH-000001 -0.134808      0.059764 -0.008665       -0.003572   \n",
       "ACH-000004  0.081853     -0.056401 -0.106738       -0.014499   \n",
       "ACH-000005 -0.094196     -0.014598  0.100426        0.169103   \n",
       "ACH-000007 -0.011544     -0.123189  0.080692        0.061046   \n",
       "ACH-000009 -0.050782     -0.037466  0.068885        0.090375   \n",
       "\n",
       "            A3GALT2 (127550)  A4GALT (53947)  A4GNT (51146)  AAAS (8086)  \\\n",
       "DepMap                                                                     \n",
       "ACH-000001         -0.106211       -0.008257       0.018711    -0.291985   \n",
       "ACH-000004          0.078209       -0.137562       0.168657    -0.198560   \n",
       "ACH-000005          0.032363       -0.148050       0.168931    -0.244777   \n",
       "ACH-000007         -0.013454       -0.016922      -0.029474    -0.206516   \n",
       "ACH-000009          0.012634       -0.079339      -0.017808    -0.183192   \n",
       "\n",
       "            AACS (65985)  AADAC (13)  ...  ZWILCH (55055)  ZWINT (11130)  \\\n",
       "DepMap                                ...                                  \n",
       "ACH-000001      0.010921    0.064932  ...       -0.037619      -0.116524   \n",
       "ACH-000004      0.133372    0.151300  ...       -0.030901      -0.262220   \n",
       "ACH-000005     -0.086871   -0.036037  ...        0.039434      -0.336925   \n",
       "ACH-000007     -0.063998    0.139288  ...       -0.229303      -0.463191   \n",
       "ACH-000009      0.006227   -0.001700  ...       -0.157219      -0.318765   \n",
       "\n",
       "            ZXDA (7789)  ZXDB (158586)  ZXDC (79364)  ZYG11A (440590)  \\\n",
       "DepMap                                                                  \n",
       "ACH-000001    -0.029331       0.105940      0.147605        -0.119822   \n",
       "ACH-000004     0.136406       0.031327      0.093763        -0.079692   \n",
       "ACH-000005    -0.095528      -0.035541     -0.035612        -0.040183   \n",
       "ACH-000007     0.061641       0.190301      0.119388        -0.036695   \n",
       "ACH-000009     0.015761       0.196949     -0.045874        -0.186805   \n",
       "\n",
       "            ZYG11B (79699)  ZYX (7791)  ZZEF1 (23140)  ZZZ3 (26009)  \n",
       "DepMap                                                               \n",
       "ACH-000001        0.063387    0.160857       0.058648     -0.316792  \n",
       "ACH-000004       -0.173709    0.153632       0.175627     -0.040869  \n",
       "ACH-000005       -0.165464    0.077343       0.019387     -0.085687  \n",
       "ACH-000007       -0.182449   -0.146936      -0.189451     -0.281167  \n",
       "ACH-000009       -0.275629   -0.001227      -0.049140     -0.240582  \n",
       "\n",
       "[5 rows x 17283 columns]"
      ]
     },
     "execution_count": 15,
     "metadata": {},
     "output_type": "execute_result"
    }
   ],
   "source": [
    "gene_effect.head()"
   ]
  },
  {
   "cell_type": "code",
   "execution_count": null,
   "metadata": {},
   "outputs": [],
   "source": []
  },
  {
   "cell_type": "markdown",
   "metadata": {},
   "source": [
    "### ML"
   ]
  },
  {
   "cell_type": "code",
   "execution_count": 69,
   "metadata": {},
   "outputs": [],
   "source": [
    "def run_one_epoch(train_flag, dataloader, model, optimizer, device=\"cuda\"):\n",
    "\n",
    "    torch.set_grad_enabled(train_flag)\n",
    "    model.train() if train_flag else model.eval() \n",
    "\n",
    "    losses = []\n",
    "    accuracies = []\n",
    "\n",
    "    for (x,y) in dataloader: # collection of tuples with iterator\n",
    "\n",
    "        (x, y) = ( x.to(device), y.to(device) ) # transfer data to GPU\n",
    "\n",
    "        output = model(x) # forward pass\n",
    "        output = output.squeeze() # remove spurious channel dimension\n",
    "        #loss = F.binary_cross_entropy_with_logits( output, y ) # numerically stable\n",
    "        loss = F.mse_loss(output.float(), y.float())\n",
    "\n",
    "        if train_flag: \n",
    "            loss.backward() # back propagation\n",
    "            optimizer.step()\n",
    "            optimizer.zero_grad()\n",
    "\n",
    "        losses.append(loss.detach().cpu().numpy())\n",
    "        \n",
    "    return np.mean(losses)"
   ]
  },
  {
   "cell_type": "code",
   "execution_count": 70,
   "metadata": {},
   "outputs": [],
   "source": [
    "# TODO make wrapper function. \n",
    "\n",
    "def train_model(model, X_train, y_train, X_val, y_val, optimizer, device=\"cpu\", batch_size = 5, \n",
    "                epochs=20, patience=10, verbose=True):\n",
    "    \"\"\"\n",
    "    Train a 1D CNN model and record accuracy metrics.\n",
    "    \"\"\"\n",
    "\n",
    "    # Make new Dataset and DataLoader objects for both training and validation data.\n",
    "    train_dataset = data_utils.TensorDataset(X_train, y_train)\n",
    "    train_dataloader = data_utils.DataLoader(train_dataset, batch_size=batch_size, shuffle=True)\n",
    "    val_dataset = data_utils.TensorDataset(X_val, y_val)\n",
    "    val_dataloader = data_utils.DataLoader(val_dataset, batch_size=batch_size, shuffle=True)\n",
    "\n",
    "    # Run the training loop with early stopping. \n",
    "    train_losses = []\n",
    "    val_losses = []\n",
    "    patience_counter = patience\n",
    "    best_val_loss = np.inf\n",
    "    check_point_filename = 'model_checkpoint.pt' # to save the best model fit to date\n",
    "    for epoch in tqdm(range(epochs)):\n",
    "        start_time = timeit.default_timer()\n",
    "        train_loss = run_one_epoch(True, train_dataloader, model, optimizer, device)\n",
    "        val_loss = run_one_epoch(False, val_dataloader, model, optimizer, device)\n",
    "        train_losses.append(train_loss)\n",
    "        val_losses.append(val_loss)\n",
    "        if val_loss < best_val_loss: \n",
    "            torch.save(model.state_dict(), check_point_filename)\n",
    "            best_val_loss = val_loss\n",
    "            patience_counter = patience\n",
    "        else: \n",
    "            patience_counter -= 1\n",
    "            if patience_counter <= 0: \n",
    "                model.load_state_dict(torch.load(check_point_filename)) # recover the best model so far\n",
    "                break\n",
    "        elapsed = float(timeit.default_timer() - start_time)\n",
    "        if verbose:\n",
    "            print(\"Epoch %i | took %.2fs | Train loss: %.4f | Val loss: %.4f | Patience left: %i\" % \n",
    "              (epoch+1, elapsed, train_loss, val_loss, patience_counter ))\n",
    "\n",
    "    # Return the fitted model (not strictly necessary since this happens \"in place\"), train and validation accuracies.\n",
    "    return model, train_losses, val_losses\n"
   ]
  },
  {
   "cell_type": "code",
   "execution_count": 43,
   "metadata": {},
   "outputs": [],
   "source": [
    "class Net(torch.nn.Module):\n",
    "    def __init__(self, input_size, output_size=None):\n",
    "        super(Net, self).__init__()\n",
    "        if output_size is None:\n",
    "            output_size = input_size\n",
    "        self.layer = torch.nn.Linear(input_size, output_size)\n",
    "\n",
    "    def forward(self, x):\n",
    "        x = self.layer(x.float())#type('TensorDloat'))      \n",
    "        return x"
   ]
  },
  {
   "cell_type": "code",
   "execution_count": 44,
   "metadata": {},
   "outputs": [],
   "source": [
    "device=\"cpu\""
   ]
  },
  {
   "cell_type": "code",
   "execution_count": 45,
   "metadata": {},
   "outputs": [],
   "source": [
    "nb_genes = 5_000"
   ]
  },
  {
   "cell_type": "code",
   "execution_count": 46,
   "metadata": {},
   "outputs": [],
   "source": [
    "model = Net(nb_genes).to(device)"
   ]
  },
  {
   "cell_type": "code",
   "execution_count": null,
   "metadata": {},
   "outputs": [],
   "source": []
  },
  {
   "cell_type": "code",
   "execution_count": 48,
   "metadata": {},
   "outputs": [],
   "source": [
    "X = gene_expression.dropna().iloc[:500,1:nb_genes + 1].to_numpy().astype('double')"
   ]
  },
  {
   "cell_type": "code",
   "execution_count": 49,
   "metadata": {},
   "outputs": [],
   "source": [
    "y = gene_effect.dropna().iloc[:500,1:nb_genes + 1].to_numpy().astype('double')"
   ]
  },
  {
   "cell_type": "code",
   "execution_count": 102,
   "metadata": {},
   "outputs": [],
   "source": [
    "def set_split(X, y, proportion):\n",
    "    index = np.arange(len(X))\n",
    "    np.random.shuffle(index)\n",
    "    sum_p = sum(proportion)\n",
    "    proportion = [p / sum_p for p in proportion]\n",
    "    prop=0\n",
    "    N = len(index)\n",
    "    X_splits = []\n",
    "    y_splits = []\n",
    "    for i in range(len(proportion)):\n",
    "        start_index = round( N*prop )\n",
    "        end_index = round( N*(prop+proportion[i]) )\n",
    "        \n",
    "        set_index = index[start_index: end_index]\n",
    "        X_splits.append( X[set_index] )\n",
    "        y_splits.append( y[set_index] )\n",
    "        \n",
    "        prop += proportion[i]\n",
    "    \n",
    "    return *X_splits, *y_splits"
   ]
  },
  {
   "cell_type": "code",
   "execution_count": 107,
   "metadata": {},
   "outputs": [],
   "source": [
    "X_train, X_val, X_test, y_train, y_val,y_test = set_split(X, y, [0.7,0.2,0.1])"
   ]
  },
  {
   "cell_type": "code",
   "execution_count": 108,
   "metadata": {},
   "outputs": [
    {
     "name": "stdout",
     "output_type": "stream",
     "text": [
      "(350, 5000)\n",
      "(350, 5000)\n",
      "(100, 5000)\n",
      "(100, 5000)\n",
      "(50, 5000)\n",
      "(50, 5000)\n"
     ]
    }
   ],
   "source": [
    "print(X_train.shape)\n",
    "print(y_train.shape)\n",
    "print(X_val.shape)\n",
    "print(y_val.shape)\n",
    "print(X_test.shape)\n",
    "print(y_test.shape)"
   ]
  },
  {
   "cell_type": "code",
   "execution_count": 111,
   "metadata": {},
   "outputs": [],
   "source": [
    "X_train = torch.tensor(X_train, device='cpu')\n",
    "y_train = torch.tensor(y_train, device='cpu')\n",
    "X_val = torch.tensor(X_val, device='cpu')\n",
    "y_val = torch.tensor(y_val, device='cpu')\n",
    "X_test = torch.tensor(X_test, device='cpu')\n",
    "y_test = torch.tensor(y_test, device='cpu')"
   ]
  },
  {
   "cell_type": "code",
   "execution_count": 106,
   "metadata": {},
   "outputs": [
    {
     "data": {
      "text/plain": [
       "torch.Size([350, 5000])"
      ]
     },
     "execution_count": 106,
     "metadata": {},
     "output_type": "execute_result"
    }
   ],
   "source": [
    "X_train.size()"
   ]
  },
  {
   "cell_type": "code",
   "execution_count": 109,
   "metadata": {},
   "outputs": [],
   "source": [
    "optimizer = torch.optim.SGD(model.parameters(), lr=0.05, momentum=0.9)"
   ]
  },
  {
   "cell_type": "code",
   "execution_count": 112,
   "metadata": {},
   "outputs": [
    {
     "name": "stderr",
     "output_type": "stream",
     "text": [
      "100%|████████████████████████████████████████████████████████████████████████████| 20/20 [03:12<00:00,  9.61s/it]\n"
     ]
    }
   ],
   "source": [
    "trained_model, train_losses, val_losses = train_model(model, X_train, y_train, X_val, y_val, \n",
    "                                                  optimizer,\n",
    "                                                  device,\n",
    "                                                 epochs=20,verbose=False)"
   ]
  },
  {
   "cell_type": "code",
   "execution_count": 113,
   "metadata": {},
   "outputs": [
    {
     "data": {
      "image/png": "[encoded data removed]",
      "text/plain": [
       "<Figure size 640x480 with 1 Axes>"
      ]
     },
     "metadata": {},
     "output_type": "display_data"
    }
   ],
   "source": [
    "plt.plot(train_losses, label = \"train\")\n",
    "plt.plot(val_losses, label = \"validation\")\n",
    "plt.legend()\n",
    "plt.xlabel(\"Epochs\")\n",
    "plt.ylabel(\"Loss\")\n",
    "plt.show()"
   ]
  },
  {
   "cell_type": "code",
   "execution_count": null,
   "metadata": {},
   "outputs": [],
   "source": []
  }
 ],
 "metadata": {
  "kernelspec": {
   "display_name": "Python 3 (ipykernel)",
   "language": "python",
   "name": "python3"
  },
  "language_info": {
   "codemirror_mode": {
    "name": "ipython",
    "version": 3
   },
   "file_extension": ".py",
   "mimetype": "text/x-python",
   "name": "python",
   "nbconvert_exporter": "python",
   "pygments_lexer": "ipython3",
   "version": "3.8.15"
  }
 },
 "nbformat": 4,
 "nbformat_minor": 4
}
