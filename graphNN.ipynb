{
 "cells": [
  {
   "cell_type": "code",
   "execution_count": 1,
   "metadata": {},
   "outputs": [
    {
     "name": "stderr",
     "output_type": "stream",
     "text": [
      "C:\\Users\\matth\\anaconda3\\envs\\earthquake-prediction\\lib\\site-packages\\tqdm\\auto.py:22: TqdmWarning: IProgress not found. Please update jupyter and ipywidgets. See https://ipywidgets.readthedocs.io/en/stable/user_install.html\n",
      "  from .autonotebook import tqdm as notebook_tqdm\n"
     ]
    }
   ],
   "source": [
    "import torch\n",
    "import torch.nn as nn\n",
    "import torch.utils.data\n",
    "import torch.utils.data as data_utils\n",
    "import torch.nn.functional as F\n",
    "import numpy as np\n",
    "import matplotlib.pyplot as plt\n",
    "import pandas as pd\n",
    "import seaborn\n",
    "from tqdm import tqdm\n",
    "import timeit"
   ]
  },
  {
   "cell_type": "markdown",
   "metadata": {},
   "source": [
    "Input data:  \n",
    "- CCLE_expression.csv  \n",
    "Gene expression TPM (transcript per million) values of the protein coding genes for DepMap cell lines  \n",
    "log2(TPM+1) goes from 0.00 to 17.78\n",
    "\n",
    "\n",
    "- CRISPR_gene_effect.csv\n",
    "Gene effect of the protein coding genes for DepMap cell lines\n",
    "Gene Effect scores derived from CRISPR knockout screens published by Broad’s Achilles and Sanger’s SCORE projects.  \n",
    "Negative scores imply cell growth inhibition and/or death following gene knockout. Scores are normalized such that nonessential genes have a median score of 0 and independently identified common essentials have a median score of -1.\n",
    "SCORE goes from -3.89 to 2.73. \n",
    "\n",
    "- preprocess/index_to_protein_and_gene.txt\n",
    "\n",
    "- preprocess/adjacence_matrix.txt\n",
    "\n",
    "Genes:16,481  \n",
    "Cell Lines:1,081  \n",
    "Primary Diseases:31 (?)  \n",
    "Lineages:28 (?)"
   ]
  },
  {
   "cell_type": "markdown",
   "metadata": {},
   "source": [
    "## Retrieve data "
   ]
  },
  {
   "cell_type": "code",
   "execution_count": 2,
   "metadata": {},
   "outputs": [],
   "source": [
    "gene_expression = pd.read_csv('preprocess/gene_expression.csv').set_index('DepMap')\n",
    "gene_effect = pd.read_csv('preprocess/gene_effect.csv').set_index('DepMap')"
   ]
  },
  {
   "cell_type": "code",
   "execution_count": 3,
   "metadata": {},
   "outputs": [],
   "source": [
    "protein_info = pd.read_csv('preprocess/index_to_protein_and_gene.txt', header=None, sep=' ')\n",
    "protein_info = protein_info.rename(columns={0:'index', 1:'protein', 2:'gene_ID'})\n",
    "protein_info = protein_info.set_index('index')"
   ]
  },
  {
   "cell_type": "code",
   "execution_count": 4,
   "metadata": {},
   "outputs": [],
   "source": [
    "#adjacence_matrix = np.loadtxt('preprocess/adjacence_matrix.txt', delimiter=' ', dtype=int)\n",
    "index_links = pd.read_csv(\"preprocess/index_links.csv\")"
   ]
  },
  {
   "cell_type": "code",
   "execution_count": 5,
   "metadata": {},
   "outputs": [
    {
     "data": {
      "text/html": [
       "<div>\n",
       "<style scoped>\n",
       "    .dataframe tbody tr th:only-of-type {\n",
       "        vertical-align: middle;\n",
       "    }\n",
       "\n",
       "    .dataframe tbody tr th {\n",
       "        vertical-align: top;\n",
       "    }\n",
       "\n",
       "    .dataframe thead th {\n",
       "        text-align: right;\n",
       "    }\n",
       "</style>\n",
       "<table border=\"1\" class=\"dataframe\">\n",
       "  <thead>\n",
       "    <tr style=\"text-align: right;\">\n",
       "      <th></th>\n",
       "      <th>A1BG</th>\n",
       "      <th>A1CF</th>\n",
       "      <th>A2M</th>\n",
       "      <th>A2ML1</th>\n",
       "      <th>A3GALT2</th>\n",
       "      <th>A4GALT</th>\n",
       "      <th>A4GNT</th>\n",
       "      <th>AAAS</th>\n",
       "      <th>AACS</th>\n",
       "      <th>AADAC</th>\n",
       "      <th>...</th>\n",
       "      <th>ZWILCH</th>\n",
       "      <th>ZWINT</th>\n",
       "      <th>ZXDA</th>\n",
       "      <th>ZXDB</th>\n",
       "      <th>ZXDC</th>\n",
       "      <th>ZYG11A</th>\n",
       "      <th>ZYG11B</th>\n",
       "      <th>ZYX</th>\n",
       "      <th>ZZEF1</th>\n",
       "      <th>ZZZ3</th>\n",
       "    </tr>\n",
       "    <tr>\n",
       "      <th>DepMap</th>\n",
       "      <th></th>\n",
       "      <th></th>\n",
       "      <th></th>\n",
       "      <th></th>\n",
       "      <th></th>\n",
       "      <th></th>\n",
       "      <th></th>\n",
       "      <th></th>\n",
       "      <th></th>\n",
       "      <th></th>\n",
       "      <th></th>\n",
       "      <th></th>\n",
       "      <th></th>\n",
       "      <th></th>\n",
       "      <th></th>\n",
       "      <th></th>\n",
       "      <th></th>\n",
       "      <th></th>\n",
       "      <th></th>\n",
       "      <th></th>\n",
       "      <th></th>\n",
       "    </tr>\n",
       "  </thead>\n",
       "  <tbody>\n",
       "    <tr>\n",
       "      <th>ACH-000001</th>\n",
       "      <td>3.116032</td>\n",
       "      <td>0.056584</td>\n",
       "      <td>0.226509</td>\n",
       "      <td>0.111031</td>\n",
       "      <td>0.000000</td>\n",
       "      <td>1.035624</td>\n",
       "      <td>0.176323</td>\n",
       "      <td>5.700440</td>\n",
       "      <td>4.144046</td>\n",
       "      <td>0.790772</td>\n",
       "      <td>...</td>\n",
       "      <td>5.080658</td>\n",
       "      <td>6.675957</td>\n",
       "      <td>0.978196</td>\n",
       "      <td>1.914565</td>\n",
       "      <td>4.700994</td>\n",
       "      <td>3.282440</td>\n",
       "      <td>2.797013</td>\n",
       "      <td>6.821455</td>\n",
       "      <td>3.010780</td>\n",
       "      <td>4.381975</td>\n",
       "    </tr>\n",
       "    <tr>\n",
       "      <th>ACH-000002</th>\n",
       "      <td>1.395063</td>\n",
       "      <td>0.000000</td>\n",
       "      <td>0.275007</td>\n",
       "      <td>0.111031</td>\n",
       "      <td>0.000000</td>\n",
       "      <td>0.137504</td>\n",
       "      <td>0.000000</td>\n",
       "      <td>5.078951</td>\n",
       "      <td>1.948601</td>\n",
       "      <td>0.000000</td>\n",
       "      <td>...</td>\n",
       "      <td>3.204767</td>\n",
       "      <td>6.388017</td>\n",
       "      <td>0.097611</td>\n",
       "      <td>1.000000</td>\n",
       "      <td>3.925050</td>\n",
       "      <td>0.000000</td>\n",
       "      <td>1.070389</td>\n",
       "      <td>5.963474</td>\n",
       "      <td>2.169925</td>\n",
       "      <td>3.255501</td>\n",
       "    </tr>\n",
       "    <tr>\n",
       "      <th>ACH-000003</th>\n",
       "      <td>1.400538</td>\n",
       "      <td>4.305241</td>\n",
       "      <td>0.321928</td>\n",
       "      <td>0.150560</td>\n",
       "      <td>0.000000</td>\n",
       "      <td>4.219556</td>\n",
       "      <td>0.097611</td>\n",
       "      <td>5.195348</td>\n",
       "      <td>3.962549</td>\n",
       "      <td>1.687061</td>\n",
       "      <td>...</td>\n",
       "      <td>4.013462</td>\n",
       "      <td>7.528181</td>\n",
       "      <td>0.464668</td>\n",
       "      <td>1.555816</td>\n",
       "      <td>2.851999</td>\n",
       "      <td>0.704872</td>\n",
       "      <td>2.316146</td>\n",
       "      <td>7.302867</td>\n",
       "      <td>2.659925</td>\n",
       "      <td>2.748461</td>\n",
       "    </tr>\n",
       "    <tr>\n",
       "      <th>ACH-000004</th>\n",
       "      <td>4.178715</td>\n",
       "      <td>0.000000</td>\n",
       "      <td>0.214125</td>\n",
       "      <td>0.344828</td>\n",
       "      <td>0.070389</td>\n",
       "      <td>0.097611</td>\n",
       "      <td>0.000000</td>\n",
       "      <td>6.336819</td>\n",
       "      <td>3.231125</td>\n",
       "      <td>0.000000</td>\n",
       "      <td>...</td>\n",
       "      <td>4.276497</td>\n",
       "      <td>6.098664</td>\n",
       "      <td>0.765535</td>\n",
       "      <td>1.622930</td>\n",
       "      <td>3.619413</td>\n",
       "      <td>0.014355</td>\n",
       "      <td>2.032101</td>\n",
       "      <td>7.002252</td>\n",
       "      <td>3.444932</td>\n",
       "      <td>4.910733</td>\n",
       "    </tr>\n",
       "    <tr>\n",
       "      <th>ACH-000005</th>\n",
       "      <td>4.003602</td>\n",
       "      <td>0.014355</td>\n",
       "      <td>0.137504</td>\n",
       "      <td>0.014355</td>\n",
       "      <td>0.000000</td>\n",
       "      <td>0.028569</td>\n",
       "      <td>0.000000</td>\n",
       "      <td>6.337176</td>\n",
       "      <td>3.781360</td>\n",
       "      <td>0.000000</td>\n",
       "      <td>...</td>\n",
       "      <td>5.628482</td>\n",
       "      <td>6.785289</td>\n",
       "      <td>0.807355</td>\n",
       "      <td>1.773996</td>\n",
       "      <td>3.763412</td>\n",
       "      <td>0.014355</td>\n",
       "      <td>2.761285</td>\n",
       "      <td>6.826421</td>\n",
       "      <td>3.524816</td>\n",
       "      <td>5.592457</td>\n",
       "    </tr>\n",
       "  </tbody>\n",
       "</table>\n",
       "<p>5 rows × 16481 columns</p>\n",
       "</div>"
      ],
      "text/plain": [
       "                A1BG      A1CF       A2M     A2ML1   A3GALT2    A4GALT  \\\n",
       "DepMap                                                                   \n",
       "ACH-000001  3.116032  0.056584  0.226509  0.111031  0.000000  1.035624   \n",
       "ACH-000002  1.395063  0.000000  0.275007  0.111031  0.000000  0.137504   \n",
       "ACH-000003  1.400538  4.305241  0.321928  0.150560  0.000000  4.219556   \n",
       "ACH-000004  4.178715  0.000000  0.214125  0.344828  0.070389  0.097611   \n",
       "ACH-000005  4.003602  0.014355  0.137504  0.014355  0.000000  0.028569   \n",
       "\n",
       "               A4GNT      AAAS      AACS     AADAC  ...    ZWILCH     ZWINT  \\\n",
       "DepMap                                              ...                       \n",
       "ACH-000001  0.176323  5.700440  4.144046  0.790772  ...  5.080658  6.675957   \n",
       "ACH-000002  0.000000  5.078951  1.948601  0.000000  ...  3.204767  6.388017   \n",
       "ACH-000003  0.097611  5.195348  3.962549  1.687061  ...  4.013462  7.528181   \n",
       "ACH-000004  0.000000  6.336819  3.231125  0.000000  ...  4.276497  6.098664   \n",
       "ACH-000005  0.000000  6.337176  3.781360  0.000000  ...  5.628482  6.785289   \n",
       "\n",
       "                ZXDA      ZXDB      ZXDC    ZYG11A    ZYG11B       ZYX  \\\n",
       "DepMap                                                                   \n",
       "ACH-000001  0.978196  1.914565  4.700994  3.282440  2.797013  6.821455   \n",
       "ACH-000002  0.097611  1.000000  3.925050  0.000000  1.070389  5.963474   \n",
       "ACH-000003  0.464668  1.555816  2.851999  0.704872  2.316146  7.302867   \n",
       "ACH-000004  0.765535  1.622930  3.619413  0.014355  2.032101  7.002252   \n",
       "ACH-000005  0.807355  1.773996  3.763412  0.014355  2.761285  6.826421   \n",
       "\n",
       "               ZZEF1      ZZZ3  \n",
       "DepMap                          \n",
       "ACH-000001  3.010780  4.381975  \n",
       "ACH-000002  2.169925  3.255501  \n",
       "ACH-000003  2.659925  2.748461  \n",
       "ACH-000004  3.444932  4.910733  \n",
       "ACH-000005  3.524816  5.592457  \n",
       "\n",
       "[5 rows x 16481 columns]"
      ]
     },
     "execution_count": 5,
     "metadata": {},
     "output_type": "execute_result"
    }
   ],
   "source": [
    "gene_expression.head()"
   ]
  },
  {
   "cell_type": "code",
   "execution_count": 6,
   "metadata": {},
   "outputs": [
    {
     "data": {
      "text/html": [
       "<div>\n",
       "<style scoped>\n",
       "    .dataframe tbody tr th:only-of-type {\n",
       "        vertical-align: middle;\n",
       "    }\n",
       "\n",
       "    .dataframe tbody tr th {\n",
       "        vertical-align: top;\n",
       "    }\n",
       "\n",
       "    .dataframe thead th {\n",
       "        text-align: right;\n",
       "    }\n",
       "</style>\n",
       "<table border=\"1\" class=\"dataframe\">\n",
       "  <thead>\n",
       "    <tr style=\"text-align: right;\">\n",
       "      <th></th>\n",
       "      <th>A1BG</th>\n",
       "      <th>A1CF</th>\n",
       "      <th>A2M</th>\n",
       "      <th>A2ML1</th>\n",
       "      <th>A3GALT2</th>\n",
       "      <th>A4GALT</th>\n",
       "      <th>A4GNT</th>\n",
       "      <th>AAAS</th>\n",
       "      <th>AACS</th>\n",
       "      <th>AADAC</th>\n",
       "      <th>...</th>\n",
       "      <th>ZWILCH</th>\n",
       "      <th>ZWINT</th>\n",
       "      <th>ZXDA</th>\n",
       "      <th>ZXDB</th>\n",
       "      <th>ZXDC</th>\n",
       "      <th>ZYG11A</th>\n",
       "      <th>ZYG11B</th>\n",
       "      <th>ZYX</th>\n",
       "      <th>ZZEF1</th>\n",
       "      <th>ZZZ3</th>\n",
       "    </tr>\n",
       "    <tr>\n",
       "      <th>DepMap</th>\n",
       "      <th></th>\n",
       "      <th></th>\n",
       "      <th></th>\n",
       "      <th></th>\n",
       "      <th></th>\n",
       "      <th></th>\n",
       "      <th></th>\n",
       "      <th></th>\n",
       "      <th></th>\n",
       "      <th></th>\n",
       "      <th></th>\n",
       "      <th></th>\n",
       "      <th></th>\n",
       "      <th></th>\n",
       "      <th></th>\n",
       "      <th></th>\n",
       "      <th></th>\n",
       "      <th></th>\n",
       "      <th></th>\n",
       "      <th></th>\n",
       "      <th></th>\n",
       "    </tr>\n",
       "  </thead>\n",
       "  <tbody>\n",
       "    <tr>\n",
       "      <th>ACH-000001</th>\n",
       "      <td>-0.134808</td>\n",
       "      <td>0.059764</td>\n",
       "      <td>-0.008665</td>\n",
       "      <td>-0.003572</td>\n",
       "      <td>-0.106211</td>\n",
       "      <td>-0.008257</td>\n",
       "      <td>0.018711</td>\n",
       "      <td>-0.291985</td>\n",
       "      <td>0.010921</td>\n",
       "      <td>0.064932</td>\n",
       "      <td>...</td>\n",
       "      <td>-0.037619</td>\n",
       "      <td>-0.116524</td>\n",
       "      <td>-0.029331</td>\n",
       "      <td>0.105940</td>\n",
       "      <td>0.147605</td>\n",
       "      <td>-0.119822</td>\n",
       "      <td>0.063387</td>\n",
       "      <td>0.160857</td>\n",
       "      <td>0.058648</td>\n",
       "      <td>-0.316792</td>\n",
       "    </tr>\n",
       "    <tr>\n",
       "      <th>ACH-000004</th>\n",
       "      <td>0.081853</td>\n",
       "      <td>-0.056401</td>\n",
       "      <td>-0.106738</td>\n",
       "      <td>-0.014499</td>\n",
       "      <td>0.078209</td>\n",
       "      <td>-0.137562</td>\n",
       "      <td>0.168657</td>\n",
       "      <td>-0.198560</td>\n",
       "      <td>0.133372</td>\n",
       "      <td>0.151300</td>\n",
       "      <td>...</td>\n",
       "      <td>-0.030901</td>\n",
       "      <td>-0.262220</td>\n",
       "      <td>0.136406</td>\n",
       "      <td>0.031327</td>\n",
       "      <td>0.093763</td>\n",
       "      <td>-0.079692</td>\n",
       "      <td>-0.173709</td>\n",
       "      <td>0.153632</td>\n",
       "      <td>0.175627</td>\n",
       "      <td>-0.040869</td>\n",
       "    </tr>\n",
       "    <tr>\n",
       "      <th>ACH-000005</th>\n",
       "      <td>-0.094196</td>\n",
       "      <td>-0.014598</td>\n",
       "      <td>0.100426</td>\n",
       "      <td>0.169103</td>\n",
       "      <td>0.032363</td>\n",
       "      <td>-0.148050</td>\n",
       "      <td>0.168931</td>\n",
       "      <td>-0.244777</td>\n",
       "      <td>-0.086871</td>\n",
       "      <td>-0.036037</td>\n",
       "      <td>...</td>\n",
       "      <td>0.039434</td>\n",
       "      <td>-0.336925</td>\n",
       "      <td>-0.095528</td>\n",
       "      <td>-0.035541</td>\n",
       "      <td>-0.035612</td>\n",
       "      <td>-0.040183</td>\n",
       "      <td>-0.165464</td>\n",
       "      <td>0.077343</td>\n",
       "      <td>0.019387</td>\n",
       "      <td>-0.085687</td>\n",
       "    </tr>\n",
       "    <tr>\n",
       "      <th>ACH-000007</th>\n",
       "      <td>-0.011544</td>\n",
       "      <td>-0.123189</td>\n",
       "      <td>0.080692</td>\n",
       "      <td>0.061046</td>\n",
       "      <td>-0.013454</td>\n",
       "      <td>-0.016922</td>\n",
       "      <td>-0.029474</td>\n",
       "      <td>-0.206516</td>\n",
       "      <td>-0.063998</td>\n",
       "      <td>0.139288</td>\n",
       "      <td>...</td>\n",
       "      <td>-0.229303</td>\n",
       "      <td>-0.463191</td>\n",
       "      <td>0.061641</td>\n",
       "      <td>0.190301</td>\n",
       "      <td>0.119388</td>\n",
       "      <td>-0.036695</td>\n",
       "      <td>-0.182449</td>\n",
       "      <td>-0.146936</td>\n",
       "      <td>-0.189451</td>\n",
       "      <td>-0.281167</td>\n",
       "    </tr>\n",
       "    <tr>\n",
       "      <th>ACH-000009</th>\n",
       "      <td>-0.050782</td>\n",
       "      <td>-0.037466</td>\n",
       "      <td>0.068885</td>\n",
       "      <td>0.090375</td>\n",
       "      <td>0.012634</td>\n",
       "      <td>-0.079339</td>\n",
       "      <td>-0.017808</td>\n",
       "      <td>-0.183192</td>\n",
       "      <td>0.006227</td>\n",
       "      <td>-0.001700</td>\n",
       "      <td>...</td>\n",
       "      <td>-0.157219</td>\n",
       "      <td>-0.318765</td>\n",
       "      <td>0.015761</td>\n",
       "      <td>0.196949</td>\n",
       "      <td>-0.045874</td>\n",
       "      <td>-0.186805</td>\n",
       "      <td>-0.275629</td>\n",
       "      <td>-0.001227</td>\n",
       "      <td>-0.049140</td>\n",
       "      <td>-0.240582</td>\n",
       "    </tr>\n",
       "  </tbody>\n",
       "</table>\n",
       "<p>5 rows × 16481 columns</p>\n",
       "</div>"
      ],
      "text/plain": [
       "                A1BG      A1CF       A2M     A2ML1   A3GALT2    A4GALT  \\\n",
       "DepMap                                                                   \n",
       "ACH-000001 -0.134808  0.059764 -0.008665 -0.003572 -0.106211 -0.008257   \n",
       "ACH-000004  0.081853 -0.056401 -0.106738 -0.014499  0.078209 -0.137562   \n",
       "ACH-000005 -0.094196 -0.014598  0.100426  0.169103  0.032363 -0.148050   \n",
       "ACH-000007 -0.011544 -0.123189  0.080692  0.061046 -0.013454 -0.016922   \n",
       "ACH-000009 -0.050782 -0.037466  0.068885  0.090375  0.012634 -0.079339   \n",
       "\n",
       "               A4GNT      AAAS      AACS     AADAC  ...    ZWILCH     ZWINT  \\\n",
       "DepMap                                              ...                       \n",
       "ACH-000001  0.018711 -0.291985  0.010921  0.064932  ... -0.037619 -0.116524   \n",
       "ACH-000004  0.168657 -0.198560  0.133372  0.151300  ... -0.030901 -0.262220   \n",
       "ACH-000005  0.168931 -0.244777 -0.086871 -0.036037  ...  0.039434 -0.336925   \n",
       "ACH-000007 -0.029474 -0.206516 -0.063998  0.139288  ... -0.229303 -0.463191   \n",
       "ACH-000009 -0.017808 -0.183192  0.006227 -0.001700  ... -0.157219 -0.318765   \n",
       "\n",
       "                ZXDA      ZXDB      ZXDC    ZYG11A    ZYG11B       ZYX  \\\n",
       "DepMap                                                                   \n",
       "ACH-000001 -0.029331  0.105940  0.147605 -0.119822  0.063387  0.160857   \n",
       "ACH-000004  0.136406  0.031327  0.093763 -0.079692 -0.173709  0.153632   \n",
       "ACH-000005 -0.095528 -0.035541 -0.035612 -0.040183 -0.165464  0.077343   \n",
       "ACH-000007  0.061641  0.190301  0.119388 -0.036695 -0.182449 -0.146936   \n",
       "ACH-000009  0.015761  0.196949 -0.045874 -0.186805 -0.275629 -0.001227   \n",
       "\n",
       "               ZZEF1      ZZZ3  \n",
       "DepMap                          \n",
       "ACH-000001  0.058648 -0.316792  \n",
       "ACH-000004  0.175627 -0.040869  \n",
       "ACH-000005  0.019387 -0.085687  \n",
       "ACH-000007 -0.189451 -0.281167  \n",
       "ACH-000009 -0.049140 -0.240582  \n",
       "\n",
       "[5 rows x 16481 columns]"
      ]
     },
     "execution_count": 6,
     "metadata": {},
     "output_type": "execute_result"
    }
   ],
   "source": [
    "gene_effect.head()"
   ]
  },
  {
   "cell_type": "code",
   "execution_count": 7,
   "metadata": {
    "scrolled": true
   },
   "outputs": [
    {
     "data": {
      "text/html": [
       "<div>\n",
       "<style scoped>\n",
       "    .dataframe tbody tr th:only-of-type {\n",
       "        vertical-align: middle;\n",
       "    }\n",
       "\n",
       "    .dataframe tbody tr th {\n",
       "        vertical-align: top;\n",
       "    }\n",
       "\n",
       "    .dataframe thead th {\n",
       "        text-align: right;\n",
       "    }\n",
       "</style>\n",
       "<table border=\"1\" class=\"dataframe\">\n",
       "  <thead>\n",
       "    <tr style=\"text-align: right;\">\n",
       "      <th></th>\n",
       "      <th>protein</th>\n",
       "      <th>gene_ID</th>\n",
       "    </tr>\n",
       "    <tr>\n",
       "      <th>index</th>\n",
       "      <th></th>\n",
       "      <th></th>\n",
       "    </tr>\n",
       "  </thead>\n",
       "  <tbody>\n",
       "    <tr>\n",
       "      <th>0</th>\n",
       "      <td>9606.ENSP00000263100</td>\n",
       "      <td>A1BG</td>\n",
       "    </tr>\n",
       "    <tr>\n",
       "      <th>1</th>\n",
       "      <td>9606.ENSP00000378868</td>\n",
       "      <td>A1CF</td>\n",
       "    </tr>\n",
       "    <tr>\n",
       "      <th>2</th>\n",
       "      <td>9606.ENSP00000323929</td>\n",
       "      <td>A2M</td>\n",
       "    </tr>\n",
       "    <tr>\n",
       "      <th>3</th>\n",
       "      <td>9606.ENSP00000299698</td>\n",
       "      <td>A2ML1</td>\n",
       "    </tr>\n",
       "    <tr>\n",
       "      <th>4</th>\n",
       "      <td>9606.ENSP00000475261</td>\n",
       "      <td>A3GALT2</td>\n",
       "    </tr>\n",
       "  </tbody>\n",
       "</table>\n",
       "</div>"
      ],
      "text/plain": [
       "                    protein  gene_ID\n",
       "index                               \n",
       "0      9606.ENSP00000263100     A1BG\n",
       "1      9606.ENSP00000378868     A1CF\n",
       "2      9606.ENSP00000323929      A2M\n",
       "3      9606.ENSP00000299698    A2ML1\n",
       "4      9606.ENSP00000475261  A3GALT2"
      ]
     },
     "execution_count": 7,
     "metadata": {},
     "output_type": "execute_result"
    }
   ],
   "source": [
    "protein_info.head()"
   ]
  },
  {
   "cell_type": "markdown",
   "metadata": {},
   "source": [
    "## Creating Dataset"
   ]
  },
  {
   "cell_type": "code",
   "execution_count": 8,
   "metadata": {},
   "outputs": [],
   "source": [
    "# gene effect and gene expression don't have the same number of rows for some reason."
   ]
  },
  {
   "cell_type": "code",
   "execution_count": 59,
   "metadata": {},
   "outputs": [],
   "source": [
    "indices = set(gene_effect.index).intersection(gene_expression.index)\n",
    "indices = list(indices)\n",
    "gene_effect_ = gene_effect[gene_effect.index.isin(indices)]\n",
    "gene_expression_ = gene_expression[gene_expression.index.isin(indices)]"
   ]
  },
  {
   "cell_type": "code",
   "execution_count": 60,
   "metadata": {},
   "outputs": [],
   "source": [
    "gene_expression_np = gene_expression_.to_numpy()\n",
    "gene_effect_np = gene_effect_.to_numpy()"
   ]
  },
  {
   "cell_type": "code",
   "execution_count": 61,
   "metadata": {},
   "outputs": [],
   "source": [
    "edge_index = index_links[['index1', 'index2']].to_numpy().T\n",
    "edge_attr = index_links['combined_score'].to_numpy()"
   ]
  },
  {
   "cell_type": "markdown",
   "metadata": {},
   "source": [
    "**Normalize Data**"
   ]
  },
  {
   "cell_type": "code",
   "execution_count": 76,
   "metadata": {},
   "outputs": [],
   "source": [
    "from scipy import stats\n",
    "from sklearn.preprocessing import StandardScaler, MinMaxScaler\n",
    "\n",
    "scale_effect = StandardScaler()\n",
    "scale_expression = StandardScaler()\n",
    "scale_attr = MinMaxScaler()\n",
    "\n",
    "scaled_effect = scale_effect.fit_transform(gene_effect_np)\n",
    "scaled_expression = scale_expression.fit_transform(gene_expression_np)\n",
    "scaled_attr = scale_attr.fit_transform(edge_attr)"
   ]
  },
  {
   "cell_type": "code",
   "execution_count": 77,
   "metadata": {},
   "outputs": [
    {
     "data": {
      "image/png": "[encoded data removed]",
      "text/plain": [
       "<Figure size 1080x216 with 2 Axes>"
      ]
     },
     "metadata": {
      "needs_background": "light"
     },
     "output_type": "display_data"
    }
   ],
   "source": [
    "fig, ax = plt.subplots(1,2, figsize = (15,3))\n",
    "_ = ax[0].hist(np.hstack(scaled_expression), bins = 100)\n",
    "_ = ax[1].hist(np.hstack(scaled_effect), bins = 100)"
   ]
  },
  {
   "cell_type": "code",
   "execution_count": 78,
   "metadata": {},
   "outputs": [
    {
     "data": {
      "image/png": "[encoded data removed]",
      "text/plain": [
       "<Figure size 432x288 with 1 Axes>"
      ]
     },
     "metadata": {
      "needs_background": "light"
     },
     "output_type": "display_data"
    }
   ],
   "source": [
    "_ = plt.hist(scaled_attr[:,0], bins = 20)"
   ]
  },
  {
   "cell_type": "markdown",
   "metadata": {},
   "source": [
    "**Change Data Type**"
   ]
  },
  {
   "cell_type": "code",
   "execution_count": 80,
   "metadata": {},
   "outputs": [
    {
     "name": "stderr",
     "output_type": "stream",
     "text": [
      "C:\\Users\\matth\\AppData\\Local\\Temp\\ipykernel_30064\\1327882362.py:3: UserWarning: To copy construct from a tensor, it is recommended to use sourceTensor.clone().detach() or sourceTensor.clone().detach().requires_grad_(True), rather than torch.tensor(sourceTensor).\n",
      "  edge_index = torch.tensor(edge_index, dtype = torch.long)\n"
     ]
    }
   ],
   "source": [
    "x = torch.tensor(scaled_expression, dtype = torch.float32)\n",
    "y = torch.tensor(scaled_effect, dtype = torch.float32)\n",
    "edge_index = torch.tensor(edge_index, dtype = torch.long)\n",
    "edge_attr = torch.tensor(scaled_attr, dtype = torch.float32).view(-1, 1)"
   ]
  },
  {
   "cell_type": "code",
   "execution_count": 81,
   "metadata": {},
   "outputs": [
    {
     "name": "stdout",
     "output_type": "stream",
     "text": [
      "torch.Size([1001, 16481])\n",
      "torch.Size([1001, 16481])\n"
     ]
    }
   ],
   "source": [
    "print(x.shape)\n",
    "print(y.shape)"
   ]
  },
  {
   "cell_type": "code",
   "execution_count": 82,
   "metadata": {},
   "outputs": [],
   "source": [
    "# sampling one cell line\n",
    "#x = x[0].view(-1,1)\n",
    "#y = y[0].view(-1,1)"
   ]
  },
  {
   "cell_type": "code",
   "execution_count": 83,
   "metadata": {},
   "outputs": [
    {
     "name": "stdout",
     "output_type": "stream",
     "text": [
      "torch.Size([1001, 16481])\n",
      "torch.Size([1001, 16481])\n"
     ]
    }
   ],
   "source": [
    "print(x.shape)\n",
    "print(y.shape)"
   ]
  },
  {
   "cell_type": "code",
   "execution_count": 84,
   "metadata": {},
   "outputs": [
    {
     "name": "stdout",
     "output_type": "stream",
     "text": [
      "torch.Size([9928270, 1])\n",
      "torch.Size([2, 9928270])\n"
     ]
    }
   ],
   "source": [
    "print(edge_attr.shape)\n",
    "print(edge_index.shape)"
   ]
  },
  {
   "cell_type": "markdown",
   "metadata": {},
   "source": [
    "**Create Data Loaders**"
   ]
  },
  {
   "cell_type": "code",
   "execution_count": 85,
   "metadata": {},
   "outputs": [],
   "source": [
    "#random_list = np.random.randint()\n",
    "#edge_index_ = edge_index[:,:100]\n",
    "#edge_attr_ = edge_attr[:100]\n",
    "#sorted_ = torch.unique( torch.reshape(edge_index_, (-1,1))[:,0] , sorted = True)\n",
    "#x_ = x[sorted_]"
   ]
  },
  {
   "cell_type": "code",
   "execution_count": 86,
   "metadata": {},
   "outputs": [],
   "source": [
    "from torch_geometric.data import Data, DataLoader\n",
    "data = Data(x = x, edge_index = edge_index, edge_attr = edge_attr, y = y)\n",
    "\n",
    "device = torch.device('cuda')\n",
    "data = data.to(device)\n",
    "\n",
    "#train_loader = DataLoader(train_dataset, batch_size, shuffle=True)\n",
    "#test_loader = DataLoader(test_dataset, batch_size, shuffle=False)"
   ]
  },
  {
   "cell_type": "markdown",
   "metadata": {},
   "source": [
    "**Plot Graph**"
   ]
  },
  {
   "cell_type": "code",
   "execution_count": 87,
   "metadata": {},
   "outputs": [
    {
     "data": {
      "text/plain": [
       "Data(x=[1001, 16481], edge_index=[2, 9928270], edge_attr=[9928270, 1], y=[1001, 16481])"
      ]
     },
     "execution_count": 87,
     "metadata": {},
     "output_type": "execute_result"
    }
   ],
   "source": [
    "data"
   ]
  },
  {
   "cell_type": "code",
   "execution_count": 88,
   "metadata": {},
   "outputs": [],
   "source": [
    "#from torch_geometric.utils import to_networkx\n",
    "#vis = to_networkx(data)"
   ]
  },
  {
   "cell_type": "code",
   "execution_count": 89,
   "metadata": {},
   "outputs": [],
   "source": [
    "#import networkx as nx\n",
    "#nx.draw(vis)"
   ]
  },
  {
   "cell_type": "markdown",
   "metadata": {},
   "source": [
    "**Defining Dataset**"
   ]
  },
  {
   "cell_type": "code",
   "execution_count": 90,
   "metadata": {},
   "outputs": [],
   "source": [
    "# I wanted to create a clean dataset but we have the following problem:\n",
    "# datasets store each data point individually\n",
    "# in our case, each point corresponds to a cell line\n",
    "# but we don't want to store the edge attributes (PPI scores) again every time because they're always the same (redundant)\n",
    "# there's probably a way but I couldn't find it yet"
   ]
  },
  {
   "cell_type": "code",
   "execution_count": 91,
   "metadata": {},
   "outputs": [],
   "source": [
    "import os\n",
    "import os.path as osp\n",
    "import torch\n",
    "from torch_geometric.data import Dataset, download_url\n",
    "from scipy import stats\n",
    "from sklearn.preprocessing import StandardScaler\n",
    "from torch_geometric.data import Data, DataLoader\n",
    "from tqdm import tqdm\n",
    "\n",
    "\n",
    "class AchillesDataset(Dataset):\n",
    "    def __init__(self, root, transform=None, pre_transform=None, pre_filter=None):\n",
    "        super().__init__(root, transform, pre_transform, pre_filter)\n",
    "\n",
    "    @property\n",
    "    def raw_file_names(self):\n",
    "        return ['gene_expression.csv', 'gene_effect.csv', 'index_links.csv']\n",
    "\n",
    "    @property\n",
    "    def processed_file_names(self):\n",
    "        return 'processed_achilles.pt'\n",
    "\n",
    "    def download(self):\n",
    "        pass\n",
    "\n",
    "    def process(self):\n",
    "        \n",
    "        # read raw data\n",
    "        self.expression = pd.read_csv(self.raw_paths[0]).set_index('DepMap')\n",
    "        self.effect = pd.read_csv(self.raw_paths[1]).set_index('DepMap')\n",
    "        self.links = pd.read_csv(self.raw_paths[2])\n",
    "        \n",
    "        # clean data\n",
    "        indices = set(self.effect.index).intersection(self.expression.index)\n",
    "        indices = list(indices)\n",
    "        gene_effect_ = gene_effect[self.effect.index.isin(indices)]\n",
    "        gene_expression_ = self.expression[self.expression.index.isin(indices)]\n",
    "        \n",
    "        # convert to numpy array\n",
    "        gene_expression_np = gene_expression_.to_numpy()\n",
    "        gene_effect_np = gene_effect_.to_numpy()\n",
    "        \n",
    "        # retrieve sparse adjacency matrix and PPI scores\n",
    "        edge_index = index_links[['index1', 'index2']].to_numpy().T\n",
    "        edge_attr = index_links['combined_score'].to_numpy()\n",
    "        \n",
    "        # standardize data\n",
    "        scale_effect = StandardScaler()\n",
    "        scale_expression = StandardScaler()\n",
    "        scaled_effect = scale_effect.fit_transform(gene_effect_np)\n",
    "        scaled_expression = scale_expression.fit_transform(gene_expression_np)\n",
    "        \n",
    "        # convert to tensor\n",
    "        x = torch.tensor(scaled_expression, dtype = torch.float32)\n",
    "        y = torch.tensor(scaled_effect, dtype = torch.float32)\n",
    "        edge_index = torch.tensor(edge_index, dtype = torch.long)\n",
    "        edge_attr = torch.tensor(edge_attr, dtype = torch.float32).view(-1, 1)\n",
    "        \n",
    "        # store indivual data points\n",
    "        for i in tqdm(range(x.shape[0])):\n",
    "            data = Data(x = x[i].view(-1,1),\n",
    "                       edge_index = edge_index,\n",
    "                       edge_attr = edge_attr,\n",
    "                       y = y[i].view(-1,1),\n",
    "                       )\n",
    "            torch.save(data, os.path.join(self.processed_dir,\n",
    "                                         f'data_{i}.pt'))\n",
    "\n",
    "    def len(self):\n",
    "        return len(self.processed_file_names)\n",
    "\n",
    "    def get(self, idx):\n",
    "        data = torch.load(osp.join(self.processed_dir, f'data_{idx}.pt'))\n",
    "        return data"
   ]
  },
  {
   "cell_type": "code",
   "execution_count": 92,
   "metadata": {},
   "outputs": [],
   "source": [
    "#dataset = AchillesDataset(root = os.path.join(os.getcwd(), 'preprocess'))"
   ]
  },
  {
   "cell_type": "markdown",
   "metadata": {},
   "source": [
    "## Create Graph Model"
   ]
  },
  {
   "cell_type": "code",
   "execution_count": 93,
   "metadata": {},
   "outputs": [],
   "source": [
    "from torch_geometric.nn import GCNConv\n",
    "\n",
    "class GCN(torch.nn.Module):\n",
    "    \n",
    "    def __init__(self, edge_index, edge_attr):\n",
    "        super().__init__()\n",
    "        \n",
    "        self.edge_attr = edge_attr\n",
    "        self.edge_index = edge_index\n",
    "        self.conv1 = GCNConv(1, 1, edge_weights = self.edge_attr)\n",
    "        \n",
    "    def forward(self, x_input):\n",
    "        x = self.conv1(x_input, self.edge_index)\n",
    "        x = F.relu(x)\n",
    "        return x\n"
   ]
  },
  {
   "cell_type": "code",
   "execution_count": 94,
   "metadata": {},
   "outputs": [
    {
     "name": "stderr",
     "output_type": "stream",
     "text": [
      "100%|████████████████████████████████████████████████████████████████████████████████| 100/100 [00:35<00:00,  2.83it/s]\n"
     ]
    }
   ],
   "source": [
    "n_epochs = 100\n",
    "device = 'cuda'\n",
    "\n",
    "N_cl = x.shape[0] # Number of cell lines\n",
    "N_cl_per_epo = int( 0.01 * N_cl ) # Number of cell lines per epoch\n",
    "\n",
    "x = x.to(device)\n",
    "y = y.to(device)\n",
    "edge_attr = edge_attr.to(device)\n",
    "edge_index = edge_index.to(device)\n",
    "\n",
    "losses = []\n",
    "\n",
    "# model takes edge_index, edge_attr as inputs\n",
    "model = GCN(edge_index, edge_attr)\n",
    "model = model.to(device)\n",
    "data = data.to(device)\n",
    "optimizer = torch.optim.Adam(model.parameters(), lr=0.01, weight_decay=5e-4)\n",
    "\n",
    "model.train()\n",
    "\n",
    "for epoch in tqdm(range(n_epochs)):\n",
    "    \n",
    "    rand_index = np.random.randint(0, N_cl, N_cl_per_epo)\n",
    "    \n",
    "    for i, idx in enumerate(rand_index):\n",
    "        optimizer.zero_grad()\n",
    "        out = model(x[idx].view(-1,1))\n",
    "        loss = F.mse_loss(out, y[idx].view(-1,1))\n",
    "        loss.backward()\n",
    "        \n",
    "        if (i == N_cl_per_epo - 1) or (i == 0 and epoch == 0):\n",
    "            losses.append(loss.item())\n",
    "            \n",
    "        optimizer.step()"
   ]
  },
  {
   "cell_type": "code",
   "execution_count": 96,
   "metadata": {},
   "outputs": [
    {
     "name": "stderr",
     "output_type": "stream",
     "text": [
      "100%|████████████████████████████████████████████████████████████████████████████████| 100/100 [00:03<00:00, 26.88it/s]\n"
     ]
    }
   ],
   "source": [
    "n_epochs = 100\n",
    "device = 'cuda'\n",
    "\n",
    "N_cl = x.shape[0] # Number of cell lines\n",
    "N_cl_per_epo = int( 0.01 * N_cl ) # Number of cell lines per epoch\n",
    "\n",
    "x = x.to(device)\n",
    "y = y.to(device)\n",
    "edge_attr = edge_attr.to(device)\n",
    "edge_index = edge_index.to(device)\n",
    "\n",
    "losses = []\n",
    "\n",
    "# model takes edge_index, edge_attr as inputs\n",
    "model = GCN(edge_index, edge_attr)\n",
    "model = model.to(device)\n",
    "data = data.to(device)\n",
    "optimizer = torch.optim.Adam(model.parameters(), lr=0.01, weight_decay=5e-4)\n",
    "\n",
    "model.train()\n",
    "idx = 0\n",
    "\n",
    "\n",
    "for epoch in tqdm(range(n_epochs)):\n",
    "    optimizer.zero_grad()\n",
    "    out = model(x[idx].view(-1,1))\n",
    "    loss = F.mse_loss(out, y[idx].view(-1,1))\n",
    "    loss.backward()   \n",
    "    losses.append(loss.item())\n",
    "    optimizer.step()"
   ]
  },
  {
   "cell_type": "code",
   "execution_count": 97,
   "metadata": {},
   "outputs": [
    {
     "data": {
      "text/plain": [
       "[<matplotlib.lines.Line2D at 0x170bb1819f0>]"
      ]
     },
     "execution_count": 97,
     "metadata": {},
     "output_type": "execute_result"
    },
    {
     "data": {
      "image/png": "[encoded data removed]",
      "text/plain": [
       "<Figure size 432x288 with 1 Axes>"
      ]
     },
     "metadata": {
      "needs_background": "light"
     },
     "output_type": "display_data"
    }
   ],
   "source": [
    "plt.plot(losses)"
   ]
  },
  {
   "cell_type": "code",
   "execution_count": null,
   "metadata": {},
   "outputs": [],
   "source": [
    "model.eval()\n",
    "pred = model(data).argmax(dim=1)\n",
    "correct = (pred[data.test_mask] == data.y[data.test_mask]).sum()\n",
    "acc = int(correct) / int(data.test_mask.sum())\n",
    "print(f'Accuracy: {acc:.4f}')\n",
    ">>> Accuracy: 0.8150"
   ]
  }
 ],
 "metadata": {
  "kernelspec": {
   "display_name": "Python [conda env:earthquake-prediction]",
   "language": "python",
   "name": "conda-env-earthquake-prediction-py"
  },
  "language_info": {
   "codemirror_mode": {
    "name": "ipython",
    "version": 3
   },
   "file_extension": ".py",
   "mimetype": "text/x-python",
   "name": "python",
   "nbconvert_exporter": "python",
   "pygments_lexer": "ipython3",
   "version": "3.10.4"
  }
 },
 "nbformat": 4,
 "nbformat_minor": 4
}
