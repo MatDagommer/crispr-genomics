{
 "cells": [
  {
   "cell_type": "code",
   "execution_count": 1,
   "metadata": {},
   "outputs": [
    {
     "name": "stderr",
     "output_type": "stream",
     "text": [
      "C:\\Users\\matth\\anaconda3\\envs\\earthquake-prediction\\lib\\site-packages\\tqdm\\auto.py:22: TqdmWarning: IProgress not found. Please update jupyter and ipywidgets. See https://ipywidgets.readthedocs.io/en/stable/user_install.html\n",
      "  from .autonotebook import tqdm as notebook_tqdm\n"
     ]
    }
   ],
   "source": [
    "import torch\n",
    "import torch.nn as nn\n",
    "import torch.utils.data\n",
    "import torch.utils.data as data_utils\n",
    "import torch.nn.functional as F\n",
    "import numpy as np\n",
    "import matplotlib.pyplot as plt\n",
    "import pandas as pd\n",
    "import seaborn\n",
    "from tqdm import tqdm\n",
    "import timeit"
   ]
  },
  {
   "cell_type": "code",
   "execution_count": null,
   "metadata": {},
   "outputs": [],
   "source": []
  },
  {
   "cell_type": "markdown",
   "metadata": {},
   "source": [
    "Input data:  \n",
    "- CCLE_expression.csv  \n",
    "Gene expression TPM (transcript per million) values of the protein coding genes for DepMap cell lines  \n",
    "log2(TPM+1) goes from 0.00 to 17.78\n",
    "\n",
    "\n",
    "- CRISPR_gene_effect.csv\n",
    "Gene effect of the protein coding genes for DepMap cell lines\n",
    "Gene Effect scores derived from CRISPR knockout screens published by Broad’s Achilles and Sanger’s SCORE projects.  \n",
    "Negative scores imply cell growth inhibition and/or death following gene knockout. Scores are normalized such that nonessential genes have a median score of 0 and independently identified common essentials have a median score of -1.  \n",
    "SCORE goes from -3.89 to 2.73.\n",
    "\n",
    "\n",
    "\n",
    "Genes:17386  \n",
    "Cell Lines:1086  \n",
    "Primary Diseases:31  \n",
    "Lineages:28  "
   ]
  },
  {
   "cell_type": "markdown",
   "metadata": {},
   "source": [
    "## Extract data "
   ]
  },
  {
   "cell_type": "code",
   "execution_count": 2,
   "metadata": {},
   "outputs": [],
   "source": [
    "# Extract gene expression from CCLE_expression.csv\n",
    "df = pd.read_csv('data/CCLE_expression.csv')\n",
    "gene_expression = df.rename(columns={\"Unnamed: 0\":\"DepMap\"}).set_index(\"DepMap\").dropna()\n",
    "\n",
    "# Extract gene effect from CRISPR_gene_effect.csv\n",
    "df = pd.read_csv('data/CRISPR_gene_effect.csv')\n",
    "gene_effect = df.rename(columns={\"DepMap_ID\":\"DepMap\"}).set_index(\"DepMap\").dropna()"
   ]
  },
  {
   "cell_type": "code",
   "execution_count": 3,
   "metadata": {},
   "outputs": [],
   "source": [
    "# Extract protein links 9606.protein.links.v11.5.txt\n",
    "protein_links = pd.read_csv('data/9606.protein.links.v11.5.txt', sep=' ')\n",
    "\n",
    "# Extract protein info from 9606.protein.info.v11.5.txt\n",
    "df = pd.read_csv('data/9606.protein.info.v11.5.txt', sep='\t')\n",
    "protein_info = df.rename(columns={\"#string_protein_id\":\"protein\",\n",
    "                   \"preferred_name\":\"gene_ID\"})[[\"protein\",\"gene_ID\"]]"
   ]
  },
  {
   "cell_type": "code",
   "execution_count": 4,
   "metadata": {},
   "outputs": [
    {
     "data": {
      "text/html": [
       "<div>\n",
       "<style scoped>\n",
       "    .dataframe tbody tr th:only-of-type {\n",
       "        vertical-align: middle;\n",
       "    }\n",
       "\n",
       "    .dataframe tbody tr th {\n",
       "        vertical-align: top;\n",
       "    }\n",
       "\n",
       "    .dataframe thead th {\n",
       "        text-align: right;\n",
       "    }\n",
       "</style>\n",
       "<table border=\"1\" class=\"dataframe\">\n",
       "  <thead>\n",
       "    <tr style=\"text-align: right;\">\n",
       "      <th></th>\n",
       "      <th>TSPAN6 (7105)</th>\n",
       "      <th>TNMD (64102)</th>\n",
       "      <th>DPM1 (8813)</th>\n",
       "      <th>SCYL3 (57147)</th>\n",
       "      <th>C1orf112 (55732)</th>\n",
       "      <th>FGR (2268)</th>\n",
       "      <th>CFH (3075)</th>\n",
       "      <th>FUCA2 (2519)</th>\n",
       "      <th>GCLC (2729)</th>\n",
       "      <th>NFYA (4800)</th>\n",
       "      <th>...</th>\n",
       "      <th>H3C2 (8358)</th>\n",
       "      <th>H3C3 (8352)</th>\n",
       "      <th>AC098582.1 (8916)</th>\n",
       "      <th>DUS4L-BCAP29 (115253422)</th>\n",
       "      <th>C8orf44-SGK3 (100533105)</th>\n",
       "      <th>ELOA3B (728929)</th>\n",
       "      <th>NPBWR1 (2831)</th>\n",
       "      <th>ELOA3D (100506888)</th>\n",
       "      <th>ELOA3 (162699)</th>\n",
       "      <th>CDR1 (1038)</th>\n",
       "    </tr>\n",
       "    <tr>\n",
       "      <th>DepMap</th>\n",
       "      <th></th>\n",
       "      <th></th>\n",
       "      <th></th>\n",
       "      <th></th>\n",
       "      <th></th>\n",
       "      <th></th>\n",
       "      <th></th>\n",
       "      <th></th>\n",
       "      <th></th>\n",
       "      <th></th>\n",
       "      <th></th>\n",
       "      <th></th>\n",
       "      <th></th>\n",
       "      <th></th>\n",
       "      <th></th>\n",
       "      <th></th>\n",
       "      <th></th>\n",
       "      <th></th>\n",
       "      <th></th>\n",
       "      <th></th>\n",
       "      <th></th>\n",
       "    </tr>\n",
       "  </thead>\n",
       "  <tbody>\n",
       "    <tr>\n",
       "      <th>ACH-001113</th>\n",
       "      <td>4.331992</td>\n",
       "      <td>0.000000</td>\n",
       "      <td>7.364397</td>\n",
       "      <td>2.792855</td>\n",
       "      <td>4.470537</td>\n",
       "      <td>0.028569</td>\n",
       "      <td>1.226509</td>\n",
       "      <td>3.042644</td>\n",
       "      <td>6.499686</td>\n",
       "      <td>4.739848</td>\n",
       "      <td>...</td>\n",
       "      <td>2.689299</td>\n",
       "      <td>0.189034</td>\n",
       "      <td>0.201634</td>\n",
       "      <td>2.130931</td>\n",
       "      <td>0.555816</td>\n",
       "      <td>0.0</td>\n",
       "      <td>0.275007</td>\n",
       "      <td>0.0</td>\n",
       "      <td>0.0</td>\n",
       "      <td>0.000000</td>\n",
       "    </tr>\n",
       "    <tr>\n",
       "      <th>ACH-001289</th>\n",
       "      <td>4.566815</td>\n",
       "      <td>0.584963</td>\n",
       "      <td>7.106537</td>\n",
       "      <td>2.543496</td>\n",
       "      <td>3.504620</td>\n",
       "      <td>0.000000</td>\n",
       "      <td>0.189034</td>\n",
       "      <td>3.813525</td>\n",
       "      <td>4.221104</td>\n",
       "      <td>3.481557</td>\n",
       "      <td>...</td>\n",
       "      <td>1.286881</td>\n",
       "      <td>1.049631</td>\n",
       "      <td>0.321928</td>\n",
       "      <td>1.464668</td>\n",
       "      <td>0.632268</td>\n",
       "      <td>0.0</td>\n",
       "      <td>0.014355</td>\n",
       "      <td>0.0</td>\n",
       "      <td>0.0</td>\n",
       "      <td>0.000000</td>\n",
       "    </tr>\n",
       "    <tr>\n",
       "      <th>ACH-001339</th>\n",
       "      <td>3.150560</td>\n",
       "      <td>0.000000</td>\n",
       "      <td>7.379032</td>\n",
       "      <td>2.333424</td>\n",
       "      <td>4.227279</td>\n",
       "      <td>0.056584</td>\n",
       "      <td>1.310340</td>\n",
       "      <td>6.687061</td>\n",
       "      <td>3.682573</td>\n",
       "      <td>3.273516</td>\n",
       "      <td>...</td>\n",
       "      <td>0.594549</td>\n",
       "      <td>1.097611</td>\n",
       "      <td>0.831877</td>\n",
       "      <td>2.946731</td>\n",
       "      <td>0.475085</td>\n",
       "      <td>0.0</td>\n",
       "      <td>0.084064</td>\n",
       "      <td>0.0</td>\n",
       "      <td>0.0</td>\n",
       "      <td>0.042644</td>\n",
       "    </tr>\n",
       "    <tr>\n",
       "      <th>ACH-001538</th>\n",
       "      <td>5.085340</td>\n",
       "      <td>0.000000</td>\n",
       "      <td>7.154109</td>\n",
       "      <td>2.545968</td>\n",
       "      <td>3.084064</td>\n",
       "      <td>0.000000</td>\n",
       "      <td>5.868143</td>\n",
       "      <td>6.165309</td>\n",
       "      <td>4.489928</td>\n",
       "      <td>3.956986</td>\n",
       "      <td>...</td>\n",
       "      <td>0.214125</td>\n",
       "      <td>0.632268</td>\n",
       "      <td>0.298658</td>\n",
       "      <td>1.641546</td>\n",
       "      <td>0.443607</td>\n",
       "      <td>0.0</td>\n",
       "      <td>0.028569</td>\n",
       "      <td>0.0</td>\n",
       "      <td>0.0</td>\n",
       "      <td>0.000000</td>\n",
       "    </tr>\n",
       "    <tr>\n",
       "      <th>ACH-000242</th>\n",
       "      <td>6.729145</td>\n",
       "      <td>0.000000</td>\n",
       "      <td>6.537607</td>\n",
       "      <td>2.456806</td>\n",
       "      <td>3.867896</td>\n",
       "      <td>0.799087</td>\n",
       "      <td>7.208381</td>\n",
       "      <td>5.569856</td>\n",
       "      <td>7.127014</td>\n",
       "      <td>4.568032</td>\n",
       "      <td>...</td>\n",
       "      <td>1.117695</td>\n",
       "      <td>2.358959</td>\n",
       "      <td>0.084064</td>\n",
       "      <td>1.910733</td>\n",
       "      <td>0.000000</td>\n",
       "      <td>0.0</td>\n",
       "      <td>0.464668</td>\n",
       "      <td>0.0</td>\n",
       "      <td>0.0</td>\n",
       "      <td>0.000000</td>\n",
       "    </tr>\n",
       "  </tbody>\n",
       "</table>\n",
       "<p>5 rows × 19221 columns</p>\n",
       "</div>"
      ],
      "text/plain": [
       "            TSPAN6 (7105)  TNMD (64102)  DPM1 (8813)  SCYL3 (57147)  \\\n",
       "DepMap                                                                \n",
       "ACH-001113       4.331992      0.000000     7.364397       2.792855   \n",
       "ACH-001289       4.566815      0.584963     7.106537       2.543496   \n",
       "ACH-001339       3.150560      0.000000     7.379032       2.333424   \n",
       "ACH-001538       5.085340      0.000000     7.154109       2.545968   \n",
       "ACH-000242       6.729145      0.000000     6.537607       2.456806   \n",
       "\n",
       "            C1orf112 (55732)  FGR (2268)  CFH (3075)  FUCA2 (2519)  \\\n",
       "DepMap                                                               \n",
       "ACH-001113          4.470537    0.028569    1.226509      3.042644   \n",
       "ACH-001289          3.504620    0.000000    0.189034      3.813525   \n",
       "ACH-001339          4.227279    0.056584    1.310340      6.687061   \n",
       "ACH-001538          3.084064    0.000000    5.868143      6.165309   \n",
       "ACH-000242          3.867896    0.799087    7.208381      5.569856   \n",
       "\n",
       "            GCLC (2729)  NFYA (4800)  ...  H3C2 (8358)  H3C3 (8352)  \\\n",
       "DepMap                                ...                             \n",
       "ACH-001113     6.499686     4.739848  ...     2.689299     0.189034   \n",
       "ACH-001289     4.221104     3.481557  ...     1.286881     1.049631   \n",
       "ACH-001339     3.682573     3.273516  ...     0.594549     1.097611   \n",
       "ACH-001538     4.489928     3.956986  ...     0.214125     0.632268   \n",
       "ACH-000242     7.127014     4.568032  ...     1.117695     2.358959   \n",
       "\n",
       "            AC098582.1 (8916)  DUS4L-BCAP29 (115253422)  \\\n",
       "DepMap                                                    \n",
       "ACH-001113           0.201634                  2.130931   \n",
       "ACH-001289           0.321928                  1.464668   \n",
       "ACH-001339           0.831877                  2.946731   \n",
       "ACH-001538           0.298658                  1.641546   \n",
       "ACH-000242           0.084064                  1.910733   \n",
       "\n",
       "            C8orf44-SGK3 (100533105)  ELOA3B (728929)  NPBWR1 (2831)  \\\n",
       "DepMap                                                                 \n",
       "ACH-001113                  0.555816              0.0       0.275007   \n",
       "ACH-001289                  0.632268              0.0       0.014355   \n",
       "ACH-001339                  0.475085              0.0       0.084064   \n",
       "ACH-001538                  0.443607              0.0       0.028569   \n",
       "ACH-000242                  0.000000              0.0       0.464668   \n",
       "\n",
       "            ELOA3D (100506888)  ELOA3 (162699)  CDR1 (1038)  \n",
       "DepMap                                                       \n",
       "ACH-001113                 0.0             0.0     0.000000  \n",
       "ACH-001289                 0.0             0.0     0.000000  \n",
       "ACH-001339                 0.0             0.0     0.042644  \n",
       "ACH-001538                 0.0             0.0     0.000000  \n",
       "ACH-000242                 0.0             0.0     0.000000  \n",
       "\n",
       "[5 rows x 19221 columns]"
      ]
     },
     "execution_count": 4,
     "metadata": {},
     "output_type": "execute_result"
    }
   ],
   "source": [
    "gene_expression.head()"
   ]
  },
  {
   "cell_type": "code",
   "execution_count": 5,
   "metadata": {},
   "outputs": [
    {
     "data": {
      "text/html": [
       "<div>\n",
       "<style scoped>\n",
       "    .dataframe tbody tr th:only-of-type {\n",
       "        vertical-align: middle;\n",
       "    }\n",
       "\n",
       "    .dataframe tbody tr th {\n",
       "        vertical-align: top;\n",
       "    }\n",
       "\n",
       "    .dataframe thead th {\n",
       "        text-align: right;\n",
       "    }\n",
       "</style>\n",
       "<table border=\"1\" class=\"dataframe\">\n",
       "  <thead>\n",
       "    <tr style=\"text-align: right;\">\n",
       "      <th></th>\n",
       "      <th>A1BG (1)</th>\n",
       "      <th>A1CF (29974)</th>\n",
       "      <th>A2M (2)</th>\n",
       "      <th>A2ML1 (144568)</th>\n",
       "      <th>A3GALT2 (127550)</th>\n",
       "      <th>A4GALT (53947)</th>\n",
       "      <th>A4GNT (51146)</th>\n",
       "      <th>AAAS (8086)</th>\n",
       "      <th>AACS (65985)</th>\n",
       "      <th>AADAC (13)</th>\n",
       "      <th>...</th>\n",
       "      <th>ZWILCH (55055)</th>\n",
       "      <th>ZWINT (11130)</th>\n",
       "      <th>ZXDA (7789)</th>\n",
       "      <th>ZXDB (158586)</th>\n",
       "      <th>ZXDC (79364)</th>\n",
       "      <th>ZYG11A (440590)</th>\n",
       "      <th>ZYG11B (79699)</th>\n",
       "      <th>ZYX (7791)</th>\n",
       "      <th>ZZEF1 (23140)</th>\n",
       "      <th>ZZZ3 (26009)</th>\n",
       "    </tr>\n",
       "    <tr>\n",
       "      <th>DepMap</th>\n",
       "      <th></th>\n",
       "      <th></th>\n",
       "      <th></th>\n",
       "      <th></th>\n",
       "      <th></th>\n",
       "      <th></th>\n",
       "      <th></th>\n",
       "      <th></th>\n",
       "      <th></th>\n",
       "      <th></th>\n",
       "      <th></th>\n",
       "      <th></th>\n",
       "      <th></th>\n",
       "      <th></th>\n",
       "      <th></th>\n",
       "      <th></th>\n",
       "      <th></th>\n",
       "      <th></th>\n",
       "      <th></th>\n",
       "      <th></th>\n",
       "      <th></th>\n",
       "    </tr>\n",
       "  </thead>\n",
       "  <tbody>\n",
       "    <tr>\n",
       "      <th>ACH-000001</th>\n",
       "      <td>-0.134808</td>\n",
       "      <td>0.059764</td>\n",
       "      <td>-0.008665</td>\n",
       "      <td>-0.003572</td>\n",
       "      <td>-0.106211</td>\n",
       "      <td>-0.008257</td>\n",
       "      <td>0.018711</td>\n",
       "      <td>-0.291985</td>\n",
       "      <td>0.010921</td>\n",
       "      <td>0.064932</td>\n",
       "      <td>...</td>\n",
       "      <td>-0.037619</td>\n",
       "      <td>-0.116524</td>\n",
       "      <td>-0.029331</td>\n",
       "      <td>0.105940</td>\n",
       "      <td>0.147605</td>\n",
       "      <td>-0.119822</td>\n",
       "      <td>0.063387</td>\n",
       "      <td>0.160857</td>\n",
       "      <td>0.058648</td>\n",
       "      <td>-0.316792</td>\n",
       "    </tr>\n",
       "    <tr>\n",
       "      <th>ACH-000004</th>\n",
       "      <td>0.081853</td>\n",
       "      <td>-0.056401</td>\n",
       "      <td>-0.106738</td>\n",
       "      <td>-0.014499</td>\n",
       "      <td>0.078209</td>\n",
       "      <td>-0.137562</td>\n",
       "      <td>0.168657</td>\n",
       "      <td>-0.198560</td>\n",
       "      <td>0.133372</td>\n",
       "      <td>0.151300</td>\n",
       "      <td>...</td>\n",
       "      <td>-0.030901</td>\n",
       "      <td>-0.262220</td>\n",
       "      <td>0.136406</td>\n",
       "      <td>0.031327</td>\n",
       "      <td>0.093763</td>\n",
       "      <td>-0.079692</td>\n",
       "      <td>-0.173709</td>\n",
       "      <td>0.153632</td>\n",
       "      <td>0.175627</td>\n",
       "      <td>-0.040869</td>\n",
       "    </tr>\n",
       "    <tr>\n",
       "      <th>ACH-000005</th>\n",
       "      <td>-0.094196</td>\n",
       "      <td>-0.014598</td>\n",
       "      <td>0.100426</td>\n",
       "      <td>0.169103</td>\n",
       "      <td>0.032363</td>\n",
       "      <td>-0.148050</td>\n",
       "      <td>0.168931</td>\n",
       "      <td>-0.244777</td>\n",
       "      <td>-0.086871</td>\n",
       "      <td>-0.036037</td>\n",
       "      <td>...</td>\n",
       "      <td>0.039434</td>\n",
       "      <td>-0.336925</td>\n",
       "      <td>-0.095528</td>\n",
       "      <td>-0.035541</td>\n",
       "      <td>-0.035612</td>\n",
       "      <td>-0.040183</td>\n",
       "      <td>-0.165464</td>\n",
       "      <td>0.077343</td>\n",
       "      <td>0.019387</td>\n",
       "      <td>-0.085687</td>\n",
       "    </tr>\n",
       "    <tr>\n",
       "      <th>ACH-000007</th>\n",
       "      <td>-0.011544</td>\n",
       "      <td>-0.123189</td>\n",
       "      <td>0.080692</td>\n",
       "      <td>0.061046</td>\n",
       "      <td>-0.013454</td>\n",
       "      <td>-0.016922</td>\n",
       "      <td>-0.029474</td>\n",
       "      <td>-0.206516</td>\n",
       "      <td>-0.063998</td>\n",
       "      <td>0.139288</td>\n",
       "      <td>...</td>\n",
       "      <td>-0.229303</td>\n",
       "      <td>-0.463191</td>\n",
       "      <td>0.061641</td>\n",
       "      <td>0.190301</td>\n",
       "      <td>0.119388</td>\n",
       "      <td>-0.036695</td>\n",
       "      <td>-0.182449</td>\n",
       "      <td>-0.146936</td>\n",
       "      <td>-0.189451</td>\n",
       "      <td>-0.281167</td>\n",
       "    </tr>\n",
       "    <tr>\n",
       "      <th>ACH-000009</th>\n",
       "      <td>-0.050782</td>\n",
       "      <td>-0.037466</td>\n",
       "      <td>0.068885</td>\n",
       "      <td>0.090375</td>\n",
       "      <td>0.012634</td>\n",
       "      <td>-0.079339</td>\n",
       "      <td>-0.017808</td>\n",
       "      <td>-0.183192</td>\n",
       "      <td>0.006227</td>\n",
       "      <td>-0.001700</td>\n",
       "      <td>...</td>\n",
       "      <td>-0.157219</td>\n",
       "      <td>-0.318765</td>\n",
       "      <td>0.015761</td>\n",
       "      <td>0.196949</td>\n",
       "      <td>-0.045874</td>\n",
       "      <td>-0.186805</td>\n",
       "      <td>-0.275629</td>\n",
       "      <td>-0.001227</td>\n",
       "      <td>-0.049140</td>\n",
       "      <td>-0.240582</td>\n",
       "    </tr>\n",
       "  </tbody>\n",
       "</table>\n",
       "<p>5 rows × 17386 columns</p>\n",
       "</div>"
      ],
      "text/plain": [
       "            A1BG (1)  A1CF (29974)   A2M (2)  A2ML1 (144568)  \\\n",
       "DepMap                                                         \n",
       "ACH-000001 -0.134808      0.059764 -0.008665       -0.003572   \n",
       "ACH-000004  0.081853     -0.056401 -0.106738       -0.014499   \n",
       "ACH-000005 -0.094196     -0.014598  0.100426        0.169103   \n",
       "ACH-000007 -0.011544     -0.123189  0.080692        0.061046   \n",
       "ACH-000009 -0.050782     -0.037466  0.068885        0.090375   \n",
       "\n",
       "            A3GALT2 (127550)  A4GALT (53947)  A4GNT (51146)  AAAS (8086)  \\\n",
       "DepMap                                                                     \n",
       "ACH-000001         -0.106211       -0.008257       0.018711    -0.291985   \n",
       "ACH-000004          0.078209       -0.137562       0.168657    -0.198560   \n",
       "ACH-000005          0.032363       -0.148050       0.168931    -0.244777   \n",
       "ACH-000007         -0.013454       -0.016922      -0.029474    -0.206516   \n",
       "ACH-000009          0.012634       -0.079339      -0.017808    -0.183192   \n",
       "\n",
       "            AACS (65985)  AADAC (13)  ...  ZWILCH (55055)  ZWINT (11130)  \\\n",
       "DepMap                                ...                                  \n",
       "ACH-000001      0.010921    0.064932  ...       -0.037619      -0.116524   \n",
       "ACH-000004      0.133372    0.151300  ...       -0.030901      -0.262220   \n",
       "ACH-000005     -0.086871   -0.036037  ...        0.039434      -0.336925   \n",
       "ACH-000007     -0.063998    0.139288  ...       -0.229303      -0.463191   \n",
       "ACH-000009      0.006227   -0.001700  ...       -0.157219      -0.318765   \n",
       "\n",
       "            ZXDA (7789)  ZXDB (158586)  ZXDC (79364)  ZYG11A (440590)  \\\n",
       "DepMap                                                                  \n",
       "ACH-000001    -0.029331       0.105940      0.147605        -0.119822   \n",
       "ACH-000004     0.136406       0.031327      0.093763        -0.079692   \n",
       "ACH-000005    -0.095528      -0.035541     -0.035612        -0.040183   \n",
       "ACH-000007     0.061641       0.190301      0.119388        -0.036695   \n",
       "ACH-000009     0.015761       0.196949     -0.045874        -0.186805   \n",
       "\n",
       "            ZYG11B (79699)  ZYX (7791)  ZZEF1 (23140)  ZZZ3 (26009)  \n",
       "DepMap                                                               \n",
       "ACH-000001        0.063387    0.160857       0.058648     -0.316792  \n",
       "ACH-000004       -0.173709    0.153632       0.175627     -0.040869  \n",
       "ACH-000005       -0.165464    0.077343       0.019387     -0.085687  \n",
       "ACH-000007       -0.182449   -0.146936      -0.189451     -0.281167  \n",
       "ACH-000009       -0.275629   -0.001227      -0.049140     -0.240582  \n",
       "\n",
       "[5 rows x 17386 columns]"
      ]
     },
     "execution_count": 5,
     "metadata": {},
     "output_type": "execute_result"
    }
   ],
   "source": [
    "gene_effect.head()"
   ]
  },
  {
   "cell_type": "code",
   "execution_count": 6,
   "metadata": {},
   "outputs": [
    {
     "data": {
      "text/html": [
       "<div>\n",
       "<style scoped>\n",
       "    .dataframe tbody tr th:only-of-type {\n",
       "        vertical-align: middle;\n",
       "    }\n",
       "\n",
       "    .dataframe tbody tr th {\n",
       "        vertical-align: top;\n",
       "    }\n",
       "\n",
       "    .dataframe thead th {\n",
       "        text-align: right;\n",
       "    }\n",
       "</style>\n",
       "<table border=\"1\" class=\"dataframe\">\n",
       "  <thead>\n",
       "    <tr style=\"text-align: right;\">\n",
       "      <th></th>\n",
       "      <th>protein1</th>\n",
       "      <th>protein2</th>\n",
       "      <th>combined_score</th>\n",
       "    </tr>\n",
       "  </thead>\n",
       "  <tbody>\n",
       "    <tr>\n",
       "      <th>0</th>\n",
       "      <td>9606.ENSP00000000233</td>\n",
       "      <td>9606.ENSP00000379496</td>\n",
       "      <td>155</td>\n",
       "    </tr>\n",
       "    <tr>\n",
       "      <th>1</th>\n",
       "      <td>9606.ENSP00000000233</td>\n",
       "      <td>9606.ENSP00000314067</td>\n",
       "      <td>197</td>\n",
       "    </tr>\n",
       "    <tr>\n",
       "      <th>2</th>\n",
       "      <td>9606.ENSP00000000233</td>\n",
       "      <td>9606.ENSP00000263116</td>\n",
       "      <td>222</td>\n",
       "    </tr>\n",
       "    <tr>\n",
       "      <th>3</th>\n",
       "      <td>9606.ENSP00000000233</td>\n",
       "      <td>9606.ENSP00000361263</td>\n",
       "      <td>181</td>\n",
       "    </tr>\n",
       "    <tr>\n",
       "      <th>4</th>\n",
       "      <td>9606.ENSP00000000233</td>\n",
       "      <td>9606.ENSP00000409666</td>\n",
       "      <td>270</td>\n",
       "    </tr>\n",
       "  </tbody>\n",
       "</table>\n",
       "</div>"
      ],
      "text/plain": [
       "               protein1              protein2  combined_score\n",
       "0  9606.ENSP00000000233  9606.ENSP00000379496             155\n",
       "1  9606.ENSP00000000233  9606.ENSP00000314067             197\n",
       "2  9606.ENSP00000000233  9606.ENSP00000263116             222\n",
       "3  9606.ENSP00000000233  9606.ENSP00000361263             181\n",
       "4  9606.ENSP00000000233  9606.ENSP00000409666             270"
      ]
     },
     "execution_count": 6,
     "metadata": {},
     "output_type": "execute_result"
    }
   ],
   "source": [
    "protein_links.head()"
   ]
  },
  {
   "cell_type": "code",
   "execution_count": 7,
   "metadata": {},
   "outputs": [
    {
     "data": {
      "text/html": [
       "<div>\n",
       "<style scoped>\n",
       "    .dataframe tbody tr th:only-of-type {\n",
       "        vertical-align: middle;\n",
       "    }\n",
       "\n",
       "    .dataframe tbody tr th {\n",
       "        vertical-align: top;\n",
       "    }\n",
       "\n",
       "    .dataframe thead th {\n",
       "        text-align: right;\n",
       "    }\n",
       "</style>\n",
       "<table border=\"1\" class=\"dataframe\">\n",
       "  <thead>\n",
       "    <tr style=\"text-align: right;\">\n",
       "      <th></th>\n",
       "      <th>protein</th>\n",
       "      <th>gene_ID</th>\n",
       "    </tr>\n",
       "  </thead>\n",
       "  <tbody>\n",
       "    <tr>\n",
       "      <th>0</th>\n",
       "      <td>9606.ENSP00000000233</td>\n",
       "      <td>ARF5</td>\n",
       "    </tr>\n",
       "    <tr>\n",
       "      <th>1</th>\n",
       "      <td>9606.ENSP00000000412</td>\n",
       "      <td>M6PR</td>\n",
       "    </tr>\n",
       "    <tr>\n",
       "      <th>2</th>\n",
       "      <td>9606.ENSP00000001008</td>\n",
       "      <td>FKBP4</td>\n",
       "    </tr>\n",
       "    <tr>\n",
       "      <th>3</th>\n",
       "      <td>9606.ENSP00000001146</td>\n",
       "      <td>CYP26B1</td>\n",
       "    </tr>\n",
       "    <tr>\n",
       "      <th>4</th>\n",
       "      <td>9606.ENSP00000002125</td>\n",
       "      <td>NDUFAF7</td>\n",
       "    </tr>\n",
       "  </tbody>\n",
       "</table>\n",
       "</div>"
      ],
      "text/plain": [
       "                protein  gene_ID\n",
       "0  9606.ENSP00000000233     ARF5\n",
       "1  9606.ENSP00000000412     M6PR\n",
       "2  9606.ENSP00000001008    FKBP4\n",
       "3  9606.ENSP00000001146  CYP26B1\n",
       "4  9606.ENSP00000002125  NDUFAF7"
      ]
     },
     "execution_count": 7,
     "metadata": {},
     "output_type": "execute_result"
    }
   ],
   "source": [
    "protein_info.head()"
   ]
  },
  {
   "cell_type": "markdown",
   "metadata": {},
   "source": [
    "## Clean datasets"
   ]
  },
  {
   "cell_type": "code",
   "execution_count": 8,
   "metadata": {},
   "outputs": [],
   "source": [
    "gene_expression = gene_expression.sort_values(by = 'DepMap').reindex(sorted(gene_expression.columns), axis = 1)\n",
    "gene_effect = gene_effect.sort_values(by = 'DepMap').reindex(sorted(gene_effect.columns), axis = 1)"
   ]
  },
  {
   "cell_type": "code",
   "execution_count": 9,
   "metadata": {},
   "outputs": [],
   "source": [
    "def intersection(lst1, lst2):\n",
    "    return list(set(lst1).intersection(lst2))"
   ]
  },
  {
   "cell_type": "code",
   "execution_count": 10,
   "metadata": {},
   "outputs": [],
   "source": [
    "# Keep genes in common\n",
    "gene_expression_genes = gene_expression.columns\n",
    "gene_effect_genes = gene_effect.columns\n",
    "\n",
    "intersect_expression_effect = sorted(intersection(gene_expression_genes, gene_effect_genes))\n",
    "gene_expression = gene_expression[intersect_expression_effect]\n",
    "gene_effect = gene_effect[intersect_expression_effect]"
   ]
  },
  {
   "cell_type": "code",
   "execution_count": 11,
   "metadata": {},
   "outputs": [],
   "source": [
    "def get_gene_ID(name):\n",
    "    split = name.split(' ')\n",
    "    assert len(split) == 2\n",
    "    return split[0]"
   ]
  },
  {
   "cell_type": "code",
   "execution_count": 12,
   "metadata": {},
   "outputs": [],
   "source": [
    "dict_rename = dict((name,get_gene_ID(name)) for name in intersect_expression_effect)\n",
    "gene_expression = gene_expression.rename(columns=dict_rename)\n",
    "gene_effect = gene_effect.rename(columns=dict_rename)"
   ]
  },
  {
   "cell_type": "code",
   "execution_count": 13,
   "metadata": {},
   "outputs": [],
   "source": [
    "protein_list = intersection(list(protein_info['protein']), set(protein_links['protein1']))\n",
    "\n",
    "protein_info = protein_info[protein_info['protein'].isin(protein_list)]\n",
    "protein_links = protein_links[protein_links['protein1'].isin(protein_list)]\n",
    "protein_links = protein_links[protein_links['protein2'].isin(protein_list)]"
   ]
  },
  {
   "cell_type": "code",
   "execution_count": 14,
   "metadata": {},
   "outputs": [
    {
     "data": {
      "text/html": [
       "<div>\n",
       "<style scoped>\n",
       "    .dataframe tbody tr th:only-of-type {\n",
       "        vertical-align: middle;\n",
       "    }\n",
       "\n",
       "    .dataframe tbody tr th {\n",
       "        vertical-align: top;\n",
       "    }\n",
       "\n",
       "    .dataframe thead th {\n",
       "        text-align: right;\n",
       "    }\n",
       "</style>\n",
       "<table border=\"1\" class=\"dataframe\">\n",
       "  <thead>\n",
       "    <tr style=\"text-align: right;\">\n",
       "      <th></th>\n",
       "      <th>protein</th>\n",
       "      <th>gene_ID</th>\n",
       "    </tr>\n",
       "  </thead>\n",
       "  <tbody>\n",
       "    <tr>\n",
       "      <th>0</th>\n",
       "      <td>9606.ENSP00000000233</td>\n",
       "      <td>ARF5</td>\n",
       "    </tr>\n",
       "    <tr>\n",
       "      <th>1</th>\n",
       "      <td>9606.ENSP00000000412</td>\n",
       "      <td>M6PR</td>\n",
       "    </tr>\n",
       "    <tr>\n",
       "      <th>2</th>\n",
       "      <td>9606.ENSP00000001008</td>\n",
       "      <td>FKBP4</td>\n",
       "    </tr>\n",
       "    <tr>\n",
       "      <th>3</th>\n",
       "      <td>9606.ENSP00000001146</td>\n",
       "      <td>CYP26B1</td>\n",
       "    </tr>\n",
       "    <tr>\n",
       "      <th>4</th>\n",
       "      <td>9606.ENSP00000002125</td>\n",
       "      <td>NDUFAF7</td>\n",
       "    </tr>\n",
       "  </tbody>\n",
       "</table>\n",
       "</div>"
      ],
      "text/plain": [
       "                protein  gene_ID\n",
       "0  9606.ENSP00000000233     ARF5\n",
       "1  9606.ENSP00000000412     M6PR\n",
       "2  9606.ENSP00000001008    FKBP4\n",
       "3  9606.ENSP00000001146  CYP26B1\n",
       "4  9606.ENSP00000002125  NDUFAF7"
      ]
     },
     "execution_count": 14,
     "metadata": {},
     "output_type": "execute_result"
    }
   ],
   "source": [
    "protein_info.head()"
   ]
  },
  {
   "cell_type": "code",
   "execution_count": 15,
   "metadata": {},
   "outputs": [],
   "source": [
    "# Intersection of DepMap proteins and STRING proteins\n",
    "\n",
    "gene_ID_expr = [get_gene_ID(name) for name in intersect_expression_effect]\n",
    "gene_ID_list = intersection(gene_ID_expr, list(protein_info['gene_ID']))\n",
    "\n",
    "gene_expression = gene_expression[gene_ID_list]\n",
    "gene_effect = gene_effect[gene_ID_list]\n",
    "protein_info = protein_info[protein_info['gene_ID'].isin(gene_ID_list)]"
   ]
  },
  {
   "cell_type": "code",
   "execution_count": 16,
   "metadata": {},
   "outputs": [
    {
     "data": {
      "text/plain": [
       "17283"
      ]
     },
     "execution_count": 16,
     "metadata": {},
     "output_type": "execute_result"
    }
   ],
   "source": [
    "len(intersect_expression_effect)"
   ]
  },
  {
   "cell_type": "code",
   "execution_count": 17,
   "metadata": {},
   "outputs": [
    {
     "data": {
      "text/plain": [
       "16481"
      ]
     },
     "execution_count": 17,
     "metadata": {},
     "output_type": "execute_result"
    }
   ],
   "source": [
    "len(gene_ID_list)"
   ]
  },
  {
   "cell_type": "code",
   "execution_count": 18,
   "metadata": {},
   "outputs": [
    {
     "name": "stdout",
     "output_type": "stream",
     "text": [
      "NUFIP1\n"
     ]
    }
   ],
   "source": [
    "id_test = gene_ID_list[0]\n",
    "print(id_test)\n",
    "\n",
    "test_list = list(protein_info['gene_ID'])\n",
    "idx = test_list.index(id_test)"
   ]
  },
  {
   "cell_type": "code",
   "execution_count": 19,
   "metadata": {},
   "outputs": [
    {
     "name": "stdout",
     "output_type": "stream",
     "text": [
      "11252\n"
     ]
    }
   ],
   "source": [
    "print(idx)"
   ]
  },
  {
   "cell_type": "code",
   "execution_count": 20,
   "metadata": {},
   "outputs": [
    {
     "name": "stdout",
     "output_type": "stream",
     "text": [
      "protein    9606.ENSP00000325978\n",
      "gene_ID                  LRRC31\n",
      "Name: 7266, dtype: object\n"
     ]
    }
   ],
   "source": [
    "print(protein_info.iloc[6601,:])"
   ]
  },
  {
   "cell_type": "code",
   "execution_count": 21,
   "metadata": {},
   "outputs": [
    {
     "data": {
      "text/plain": [
       "19385"
      ]
     },
     "execution_count": 21,
     "metadata": {},
     "output_type": "execute_result"
    }
   ],
   "source": [
    "len(protein_list)"
   ]
  },
  {
   "cell_type": "code",
   "execution_count": 22,
   "metadata": {},
   "outputs": [
    {
     "name": "stdout",
     "output_type": "stream",
     "text": [
      "<class 'pandas.core.frame.DataFrame'>\n",
      "Int64Index: 11938498 entries, 0 to 11938497\n",
      "Data columns (total 3 columns):\n",
      " #   Column          Dtype \n",
      "---  ------          ----- \n",
      " 0   protein1        object\n",
      " 1   protein2        object\n",
      " 2   combined_score  int64 \n",
      "dtypes: int64(1), object(2)\n",
      "memory usage: 364.3+ MB\n"
     ]
    }
   ],
   "source": [
    "protein_links.info()"
   ]
  },
  {
   "cell_type": "code",
   "execution_count": 23,
   "metadata": {},
   "outputs": [
    {
     "data": {
      "text/plain": [
       "10869762"
      ]
     },
     "execution_count": 23,
     "metadata": {},
     "output_type": "execute_result"
    }
   ],
   "source": [
    "10869762"
   ]
  },
  {
   "cell_type": "code",
   "execution_count": 24,
   "metadata": {
    "scrolled": true
   },
   "outputs": [],
   "source": [
    "protein_links = protein_links[protein_links['protein1'].isin(protein_list)]\n",
    "protein_links = protein_links[protein_links['protein2'].isin(protein_list)]"
   ]
  },
  {
   "cell_type": "code",
   "execution_count": 25,
   "metadata": {},
   "outputs": [
    {
     "name": "stdout",
     "output_type": "stream",
     "text": [
      "16481\n",
      "11938498\n",
      "16481\n"
     ]
    }
   ],
   "source": [
    "print(protein_info.shape[0])\n",
    "print(protein_links.shape[0])\n",
    "print(protein_info[protein_info['protein'].isin(protein_list)].shape[0])"
   ]
  },
  {
   "cell_type": "code",
   "execution_count": 26,
   "metadata": {},
   "outputs": [
    {
     "name": "stdout",
     "output_type": "stream",
     "text": [
      "<class 'pandas.core.frame.DataFrame'>\n",
      "Int64Index: 11938498 entries, 0 to 11938497\n",
      "Data columns (total 3 columns):\n",
      " #   Column          Dtype \n",
      "---  ------          ----- \n",
      " 0   protein1        object\n",
      " 1   protein2        object\n",
      " 2   combined_score  int64 \n",
      "dtypes: int64(1), object(2)\n",
      "memory usage: 364.3+ MB\n"
     ]
    }
   ],
   "source": [
    "protein_links.info()"
   ]
  },
  {
   "cell_type": "code",
   "execution_count": 27,
   "metadata": {},
   "outputs": [],
   "source": [
    "protein_adjacence_list = {}\n",
    "last_index = 0\n",
    "total_nb_index = protein_links.shape[0]   # 11938498"
   ]
  },
  {
   "cell_type": "code",
   "execution_count": null,
   "metadata": {
    "scrolled": true
   },
   "outputs": [],
   "source": [
    "remaining_laps = 1_000_000\n",
    "for index, row in tqdm(protein_links.iterrows()):\n",
    "    if index <= last_index:\n",
    "        continue\n",
    "    protein1, protein2, score = row\n",
    "    if (index+1)%(total_nb_index//100) == 0:\n",
    "        print(f\"{(index+1)/total_nb_index *100:.0f} % analyzed\")\n",
    "    if protein1 not in protein_adjacence_list:\n",
    "        protein_adjacence_list[protein1] = {}\n",
    "        protein_adjacence_list[protein1][protein2] = score\n",
    "    last_index = index\n",
    "    \n",
    "    remaining_laps -= 1\n",
    "    if remaining_laps <= 0:\n",
    "        break\n",
    "    "
   ]
  },
  {
   "cell_type": "code",
   "execution_count": 28,
   "metadata": {},
   "outputs": [
    {
     "name": "stdout",
     "output_type": "stream",
     "text": [
      "11938498\n"
     ]
    }
   ],
   "source": [
    "print(protein_links.shape[0])"
   ]
  },
  {
   "cell_type": "code",
   "execution_count": 29,
   "metadata": {},
   "outputs": [
    {
     "name": "stdout",
     "output_type": "stream",
     "text": [
      "# possible combinations = 135819921 \n",
      "# PPIs = 11938498\n"
     ]
    }
   ],
   "source": [
    "print('# possible combinations = %d \\n# PPIs = %d' %(16481*16482 / 2, protein_links.shape[0]))\n",
    "\n",
    "# We see not all proteins are connected ==> # PPIs < # possible combinations"
   ]
  },
  {
   "cell_type": "code",
   "execution_count": 31,
   "metadata": {},
   "outputs": [],
   "source": [
    "#protein_adjacence_list['9606.ENSP00000000412']['9606.ENSP00000011653']"
   ]
  },
  {
   "cell_type": "code",
   "execution_count": null,
   "metadata": {
    "scrolled": true
   },
   "outputs": [],
   "source": [
    "protein_adjacence_list"
   ]
  },
  {
   "cell_type": "code",
   "execution_count": null,
   "metadata": {},
   "outputs": [],
   "source": [
    "def find_neighbors(protein, scan_limit=1_000_000):\n",
    "    neighbors = {}\n",
    "    remaining_laps = scan_limit\n",
    "    for index, (protein1, protein2, score) in protein_links.iterrows():\n",
    "        if protein1 == protein:\n",
    "            neighbors[protein2] = score\n",
    "        if protein2 == protein:\n",
    "            neighbors[protein1] = score\n",
    "        \n",
    "        #if (index+1)%(total_nb_index//100) == 0:\n",
    "        #    print(f\"{(index+1)/total_nb_index *100:.0f} % analyzed\")\n",
    "        \n",
    "        remaining_laps-=1\n",
    "        if remaining_laps <= 0:\n",
    "            break\n",
    "    \n",
    "    return neighbors"
   ]
  },
  {
   "cell_type": "code",
   "execution_count": null,
   "metadata": {},
   "outputs": [],
   "source": [
    "neighbors = find_neighbors(\"9606.ENSP00000005260\", scan_limit=1_000_000)"
   ]
  },
  {
   "cell_type": "code",
   "execution_count": null,
   "metadata": {
    "scrolled": true
   },
   "outputs": [],
   "source": [
    "len(neighbors)"
   ]
  },
  {
   "cell_type": "code",
   "execution_count": null,
   "metadata": {},
   "outputs": [],
   "source": [
    "neighbors"
   ]
  },
  {
   "cell_type": "code",
   "execution_count": null,
   "metadata": {},
   "outputs": [],
   "source": [
    "len(gene_effect.columns)"
   ]
  },
  {
   "cell_type": "code",
   "execution_count": null,
   "metadata": {},
   "outputs": [],
   "source": []
  },
  {
   "cell_type": "code",
   "execution_count": null,
   "metadata": {},
   "outputs": [],
   "source": []
  },
  {
   "cell_type": "markdown",
   "metadata": {},
   "source": [
    "# Comments for Matthieu"
   ]
  },
  {
   "cell_type": "markdown",
   "metadata": {},
   "source": [
    "Enregistrer ce df en format .npy, .csv ou .txt:  "
   ]
  },
  {
   "cell_type": "code",
   "execution_count": null,
   "metadata": {},
   "outputs": [],
   "source": [
    "protein_info['gene_ID'].head()"
   ]
  },
  {
   "cell_type": "markdown",
   "metadata": {},
   "source": [
    "Objectif: avoir la correspondance numero <-> protein name  \n",
    "-> Créer un dico pour ça:"
   ]
  },
  {
   "cell_type": "code",
   "execution_count": null,
   "metadata": {},
   "outputs": [],
   "source": [
    "dict_gene_ID = {}"
   ]
  },
  {
   "cell_type": "markdown",
   "metadata": {},
   "source": [
    "(Enfin le remplir correctement quoi)"
   ]
  },
  {
   "cell_type": "markdown",
   "metadata": {},
   "source": [
    "Enregistrer la matrice d'adjacence suivante :"
   ]
  },
  {
   "cell_type": "code",
   "execution_count": null,
   "metadata": {},
   "outputs": [],
   "source": [
    "adjacence_matrix = np.zeros((16487,16487))\n",
    "for protein1,list_prot2 in protein_adjacence_list.items() ??:\n",
    "    for protein2,score in list_prot2.items() ??:\n",
    "        i = dict_gene_ID[protein1]\n",
    "        j = dict_gene_ID[protein2]\n",
    "        adjacence_matrix[i,j] = score"
   ]
  },
  {
   "cell_type": "markdown",
   "metadata": {},
   "source": [
    "En version .npy ou qqch pour pouvoir les recupérer facilement"
   ]
  },
  {
   "cell_type": "markdown",
   "metadata": {},
   "source": [
    "Objectif : récupérer les voisins d'un gene sans avoir à appeler find_neighbors(protein, scan_limit=1_000_000) à chaque fois..."
   ]
  },
  {
   "cell_type": "markdown",
   "metadata": {},
   "source": [
    "Personal roadmap:\n",
    "\n",
    "Save the graph as npy  \n",
    "Smooth the graph using:\n",
    "$$new x_* = \\lambda x_* + (1-\\lambda)\\sum_i \\frac {\\alpha_i} {\\sum_j \\alpha_j} x_i$$\n",
    "Then do linear regression"
   ]
  },
  {
   "cell_type": "markdown",
   "metadata": {},
   "source": [
    "Goal:\n",
    "plot graph expr vs. graph effect before smoothing  \n",
    "plot graph expr vs. graph effect after smoothing  (different values of lambda)  \n"
   ]
  },
  {
   "cell_type": "code",
   "execution_count": null,
   "metadata": {},
   "outputs": [],
   "source": []
  },
  {
   "cell_type": "code",
   "execution_count": null,
   "metadata": {},
   "outputs": [],
   "source": []
  },
  {
   "cell_type": "markdown",
   "metadata": {},
   "source": [
    "## GraphNN"
   ]
  },
  {
   "cell_type": "markdown",
   "metadata": {},
   "source": [
    "**Aymeric check this out:**"
   ]
  },
  {
   "cell_type": "markdown",
   "metadata": {},
   "source": [
    "Graphs from pytorch library (PyG) take COO matrix as an input (sparse version of adjacency matrix) which is $[2 \\times N_{edges}]$. You have examples here : https://pytorch-geometric.readthedocs.io/en/latest/notes/introduction.html\n",
    "Here's a quick alternative for retrieving edges:"
   ]
  },
  {
   "cell_type": "code",
   "execution_count": 28,
   "metadata": {},
   "outputs": [],
   "source": [
    "from tqdm import tqdm\n",
    "import scipy\n",
    "from scipy import stats\n",
    "\n",
    "\n",
    "# row indices of sorted_proteins will serve as node indices\n",
    "sorted_proteins = protein_info.sort_values(by = 'protein')\n",
    "\n",
    "# standardize scores of proteins\n",
    "protein_links_ = protein_links.copy()\n",
    "protein_links_['combined_score'] = stats.zscore(protein_links_['combined_score'])\n",
    "protein_links_ = protein_links_[protein_links_['protein1'].isin(sorted_proteins['protein'])]\n",
    "protein_links_ = protein_links_[protein_links_['protein2'].isin(sorted_proteins['protein'])]\n",
    "\n",
    "# initializing our COO matrix\n",
    "N_edges = protein_links_.shape[0] * 2 # multiplied by 2 because graph undirected\n",
    "edge_index = np.zeros( (2, N_edges) )\n",
    "edge_attr = np.zeros( (N_edges, 1) )\n"
   ]
  },
  {
   "cell_type": "code",
   "execution_count": null,
   "metadata": {},
   "outputs": [
    {
     "name": "stderr",
     "output_type": "stream",
     "text": [
      "11it [00:00, 53.89it/s]"
     ]
    },
    {
     "name": "stdout",
     "output_type": "stream",
     "text": [
      "9606.ENSP00000000233 9606.ENSP00000379496\n",
      "9606.ENSP00000000233 9606.ENSP00000314067\n",
      "9606.ENSP00000000233 9606.ENSP00000263116\n",
      "9606.ENSP00000000233 9606.ENSP00000361263\n",
      "9606.ENSP00000000233 9606.ENSP00000409666\n",
      "9606.ENSP00000000233 9606.ENSP00000324287\n",
      "9606.ENSP00000000233 9606.ENSP00000333657\n",
      "9606.ENSP00000000233 9606.ENSP00000308413\n",
      "9606.ENSP00000000233 9606.ENSP00000215095\n",
      "9606.ENSP00000000233 9606.ENSP00000267257\n",
      "9606.ENSP00000000233 9606.ENSP00000345405\n",
      "9606.ENSP00000000233 9606.ENSP00000444357\n",
      "9606.ENSP00000000233 9606.ENSP00000296127\n",
      "9606.ENSP00000000233 9606.ENSP00000007414\n",
      "9606.ENSP00000000233 9606.ENSP00000353864\n",
      "9606.ENSP00000000233 9606.ENSP00000346733\n",
      "9606.ENSP00000000233 9606.ENSP00000308897\n",
      "9606.ENSP00000000233 9606.ENSP00000349291\n",
      "9606.ENSP00000000233"
     ]
    },
    {
     "name": "stderr",
     "output_type": "stream",
     "text": [
      "29it [00:00, 75.24it/s]"
     ]
    },
    {
     "name": "stdout",
     "output_type": "stream",
     "text": [
      " 9606.ENSP00000253401\n",
      "9606.ENSP00000000233 9606.ENSP00000360141\n",
      "9606.ENSP00000000233 9606.ENSP00000312150\n",
      "9606.ENSP00000000233 9606.ENSP00000361467\n",
      "9606.ENSP00000000233 9606.ENSP00000360727\n",
      "9606.ENSP00000000233 9606.ENSP00000402935\n",
      "9606.ENSP00000000233 9606.ENSP00000357879\n",
      "9606.ENSP00000000233 9606.ENSP00000306881\n",
      "9606.ENSP00000000233 9606.ENSP00000300026\n",
      "9606.ENSP00000000233 9606.ENSP00000437554\n",
      "9606.ENSP00000000233 9606.ENSP00000321348\n",
      "9606.ENSP00000000233 9606.ENSP00000276689\n",
      "9606.ENSP00000000233 9606.ENSP00000216373\n",
      "9606.ENSP00000000233 9606.ENSP00000377948\n",
      "9606.ENSP00000000233 9606.ENSP00000483486\n",
      "9606.ENSP00000000233 9606.ENSP00000379191\n",
      "9606.ENSP00000000233 9606.ENSP00000312734\n",
      "9606.ENSP00000000233 9606.ENSP00000307939\n"
     ]
    },
    {
     "name": "stderr",
     "output_type": "stream",
     "text": [
      "48it [00:00, 82.85it/s]"
     ]
    },
    {
     "name": "stdout",
     "output_type": "stream",
     "text": [
      "9606.ENSP00000000233 9606.ENSP00000372023\n",
      "9606.ENSP00000000233 9606.ENSP00000274289\n",
      "9606.ENSP00000000233 9606.ENSP00000417573\n",
      "9606.ENSP00000000233 9606.ENSP00000260762\n",
      "9606.ENSP00000000233 9606.ENSP00000448182\n",
      "9606.ENSP00000000233 9606.ENSP00000402103\n",
      "9606.ENSP00000000233 9606.ENSP00000349305\n",
      "9606.ENSP00000000233 9606.ENSP00000320295\n",
      "9606.ENSP00000000233 9606.ENSP00000466363\n",
      "9606.ENSP00000000233 9606.ENSP00000314214\n",
      "9606.ENSP00000000233 9606.ENSP00000385995\n",
      "9606.ENSP00000000233 9606.ENSP00000384996\n",
      "9606.ENSP00000000233 9606.ENSP00000422037\n",
      "9606.ENSP00000000233 9606.ENSP00000419361\n",
      "9606.ENSP00000000233 9606.ENSP00000261837\n",
      "9606.ENSP00000000233 9606.ENSP00000259351\n",
      "9606.ENSP00000000233 9606.ENSP00000264454\n",
      "9606.ENSP00000000233 9606.ENSP00000362413\n",
      "9606.ENSP00000000233 9606.ENSP00000313854\n",
      "9606.ENSP00000000233 9606.ENSP00000357475\n",
      "9606.ENSP00000000233 9606.ENSP00000272233\n",
      "9606.ENSP00000000233 9606.ENSP00000427463\n",
      "9606.ENSP00000000233 9606.ENSP00000373905\n"
     ]
    },
    {
     "name": "stderr",
     "output_type": "stream",
     "text": [
      "71it [00:00, 95.18it/s]"
     ]
    },
    {
     "name": "stdout",
     "output_type": "stream",
     "text": [
      "9606.ENSP00000000233 9606.ENSP00000267584\n",
      "9606.ENSP00000000233 9606.ENSP00000321537\n",
      "9606.ENSP00000000233 9606.ENSP00000227756\n",
      "9606.ENSP00000000233 9606.ENSP00000381535\n",
      "9606.ENSP00000000233 9606.ENSP00000272322\n",
      "9606.ENSP00000000233 9606.ENSP00000044462\n",
      "9606.ENSP00000000233 9606.ENSP00000341247\n",
      "9606.ENSP00000000233 9606.ENSP00000447942\n",
      "9606.ENSP00000000233 9606.ENSP00000319096\n",
      "9606.ENSP00000000233 9606.ENSP00000373215\n",
      "9606.ENSP00000000233 9606.ENSP00000256953\n",
      "9606.ENSP00000000233 9606.ENSP00000476145\n",
      "9606.ENSP00000000233 9606.ENSP00000243298\n",
      "9606.ENSP00000000233 9606.ENSP00000306330\n",
      "9606.ENSP00000000233 9606.ENSP00000359370\n",
      "9606.ENSP00000000233 9606.ENSP00000302895\n",
      "9606.ENSP00000000233 9606.ENSP00000376293\n"
     ]
    },
    {
     "name": "stderr",
     "output_type": "stream",
     "text": [
      "91it [00:01, 90.85it/s]"
     ]
    },
    {
     "name": "stdout",
     "output_type": "stream",
     "text": [
      "9606.ENSP00000000233 9606.ENSP00000225972\n",
      "9606.ENSP00000000233 9606.ENSP00000234454\n",
      "9606.ENSP00000000233 9606.ENSP00000376333\n",
      "9606.ENSP00000000233 9606.ENSP00000400972\n",
      "9606.ENSP00000000233 9606.ENSP00000303830\n",
      "9606.ENSP00000000233 9606.ENSP00000400175\n",
      "9606.ENSP00000000233 9606.ENSP00000355759\n",
      "9606.ENSP00000000233 9606.ENSP00000216181\n",
      "9606.ENSP00000000233 9606.ENSP00000336799\n",
      "9606.ENSP00000000233 9606.ENSP00000387286\n",
      "9606.ENSP00000000233 9606.ENSP00000361892\n",
      "9606.ENSP00000000233 9606.ENSP00000339467\n",
      "9606.ENSP00000000233 9606.ENSP00000420849\n",
      "9606.ENSP00000000233 9606.ENSP00000331342\n",
      "9606.ENSP00000000233 9606.ENSP00000460380\n",
      "9606.ENSP00000000233 9606.ENSP00000258787\n",
      "9606.ENSP00000000233 9606.ENSP00000311962\n",
      "9606.ENSP00000000233 9606.ENSP00000334448\n",
      "9606.ENSP00000000233 9606.ENSP00000263334\n",
      "9606.ENSP00000000233 9606.ENSP00000348349\n",
      "9606.ENSP00000000233 9606.ENSP00000295256\n",
      "9606.ENSP00000000233 9606.ENSP00000363988\n"
     ]
    },
    {
     "name": "stderr",
     "output_type": "stream",
     "text": [
      "113it [00:01, 96.25it/s]"
     ]
    },
    {
     "name": "stdout",
     "output_type": "stream",
     "text": [
      "9606.ENSP00000000233 9606.ENSP00000445359\n",
      "9606.ENSP00000000233 9606.ENSP00000442046\n",
      "9606.ENSP00000000233 9606.ENSP00000272427\n",
      "9606.ENSP00000000233 9606.ENSP00000358474\n",
      "9606.ENSP00000000233 9606.ENSP00000312224\n",
      "9606.ENSP00000000233 9606.ENSP00000471735\n",
      "9606.ENSP00000000233 9606.ENSP00000233078\n",
      "9606.ENSP00000000233 9606.ENSP00000264183\n",
      "9606.ENSP00000000233 9606.ENSP00000346921\n",
      "9606.ENSP00000000233 9606.ENSP00000349960\n",
      "9606.ENSP00000000233 9606.ENSP00000380432\n",
      "9606.ENSP00000000233 9606.ENSP00000376306\n",
      "9606.ENSP00000000233 9606.ENSP00000466248\n",
      "9606.ENSP00000000233 9606.ENSP00000339191\n",
      "9606.ENSP00000000233 9606.ENSP00000299705\n",
      "9606.ENSP00000000233 9606.ENSP00000442307\n",
      "9606.ENSP00000000233 9606.ENSP00000375682\n",
      "9606.ENSP00000000233 9606.ENSP00000377280\n",
      "9606.ENSP00000000233 9606.ENSP00000377275\n",
      "9606.ENSP00000000233 9606.ENSP00000262812\n"
     ]
    },
    {
     "name": "stderr",
     "output_type": "stream",
     "text": [
      "133it [00:01, 96.08it/s]"
     ]
    },
    {
     "name": "stdout",
     "output_type": "stream",
     "text": [
      "9606.ENSP00000000233 9606.ENSP00000482306\n",
      "9606.ENSP00000000233 9606.ENSP00000215659\n",
      "9606.ENSP00000000233 9606.ENSP00000360985\n",
      "9606.ENSP00000000233 9606.ENSP00000290158\n",
      "9606.ENSP00000000233 9606.ENSP00000397459\n",
      "9606.ENSP00000000233 9606.ENSP00000287394\n",
      "9606.ENSP00000000233 9606.ENSP00000262746\n",
      "9606.ENSP00000000233 9606.ENSP00000356702\n",
      "9606.ENSP00000000233 9606.ENSP00000354040\n",
      "9606.ENSP00000000233 9606.ENSP00000219479\n",
      "9606.ENSP00000000233 9606.ENSP00000324277\n",
      "9606.ENSP00000000233 9606.ENSP00000158762\n",
      "9606.ENSP00000000233 9606.ENSP00000449270\n",
      "9606.ENSP00000000233 9606.ENSP00000351777\n",
      "9606.ENSP00000000233 9606.ENSP00000264335\n",
      "9606.ENSP00000000233 9606.ENSP00000311430\n",
      "9606.ENSP00000000233 9606.ENSP00000357883\n",
      "9606.ENSP00000000233 9606.ENSP00000267484\n",
      "9606.ENSP00000000233 9606.ENSP00000416097\n",
      "9606.ENSP00000000233"
     ]
    },
    {
     "name": "stderr",
     "output_type": "stream",
     "text": [
      "153it [00:01, 93.92it/s]"
     ]
    },
    {
     "name": "stdout",
     "output_type": "stream",
     "text": [
      " 9606.ENSP00000361473\n",
      "9606.ENSP00000000233 9606.ENSP00000265709\n",
      "9606.ENSP00000000233 9606.ENSP00000342136\n",
      "9606.ENSP00000000233 9606.ENSP00000433102\n",
      "9606.ENSP00000000233 9606.ENSP00000300574\n",
      "9606.ENSP00000000233 9606.ENSP00000320866\n",
      "9606.ENSP00000000233 9606.ENSP00000334100\n",
      "9606.ENSP00000000233 9606.ENSP00000263245\n",
      "9606.ENSP00000000233 9606.ENSP00000222803\n",
      "9606.ENSP00000000233 9606.ENSP00000217182\n",
      "9606.ENSP00000000233 9606.ENSP00000346599\n",
      "9606.ENSP00000000233 9606.ENSP00000354837\n",
      "9606.ENSP00000000233 9606.ENSP00000300093\n",
      "9606.ENSP00000000233 9606.ENSP00000452762\n",
      "9606.ENSP00000000233 9606.ENSP00000325074\n",
      "9606.ENSP00000000233 9606.ENSP00000280700\n",
      "9606.ENSP00000000233 9606.ENSP00000283195\n"
     ]
    },
    {
     "name": "stderr",
     "output_type": "stream",
     "text": [
      "173it [00:01, 91.30it/s]"
     ]
    },
    {
     "name": "stdout",
     "output_type": "stream",
     "text": [
      "9606.ENSP00000000233 9606.ENSP00000475168\n",
      "9606.ENSP00000000233 9606.ENSP00000265462\n",
      "9606.ENSP00000000233 9606.ENSP00000255194\n",
      "9606.ENSP00000000233 9606.ENSP00000278572\n",
      "9606.ENSP00000000233 9606.ENSP00000371230\n",
      "9606.ENSP00000000233 9606.ENSP00000336994\n",
      "9606.ENSP00000000233 9606.ENSP00000327145\n",
      "9606.ENSP00000000233 9606.ENSP00000251047\n",
      "9606.ENSP00000000233 9606.ENSP00000296526\n",
      "9606.ENSP00000000233 9606.ENSP00000409382\n",
      "9606.ENSP00000000233 9606.ENSP00000364579\n",
      "9606.ENSP00000000233 9606.ENSP00000381293\n",
      "9606.ENSP00000000233 9606.ENSP00000217133\n",
      "9606.ENSP00000000233 9606.ENSP00000294016\n",
      "9606.ENSP00000000233 9606.ENSP00000440005\n",
      "9606.ENSP00000000233 9606.ENSP00000270747\n",
      "9606.ENSP00000000233 9606.ENSP00000269980\n",
      "9606.ENSP00000000233 9606.ENSP00000383234\n",
      "9606.ENSP00000000233 9606.ENSP00000250617\n",
      "9606.ENSP00000000233 9606.ENSP00000324792\n",
      "9606.ENSP00000000233 9606.ENSP00000309591\n",
      "9606.ENSP00000000233 9606.ENSP00000341658\n",
      "9606.ENSP00000000233 9606.ENSP00000351015\n",
      "9606.ENSP00000000233 9606.ENSP00000371070\n",
      "9606.ENSP00000000233 9606.ENSP00000375649\n",
      "9606.ENSP00000000233 9606.ENSP00000270176\n",
      "9606.ENSP00000000233 9606.ENSP00000358723\n"
     ]
    },
    {
     "name": "stderr",
     "output_type": "stream",
     "text": [
      "193it [00:02, 85.81it/s]"
     ]
    },
    {
     "name": "stdout",
     "output_type": "stream",
     "text": [
      "9606.ENSP00000000233 9606.ENSP00000428209\n",
      "9606.ENSP00000000233 9606.ENSP00000285518\n",
      "9606.ENSP00000000233 9606.ENSP00000265069\n",
      "9606.ENSP00000000233 9606.ENSP00000382492\n",
      "9606.ENSP00000000233 9606.ENSP00000225235\n",
      "9606.ENSP00000000233 9606.ENSP00000300176\n",
      "9606.ENSP00000000233 9606.ENSP00000478479\n",
      "9606.ENSP00000000233 9606.ENSP00000460964\n",
      "9606.ENSP00000000233 9606.ENSP00000281589\n",
      "9606.ENSP00000000233 9606.ENSP00000324527\n",
      "9606.ENSP00000000233 9606.ENSP00000264071\n",
      "9606.ENSP00000000233 9606.ENSP00000268057\n",
      "9606.ENSP00000000233 9606.ENSP00000325002\n",
      "9606.ENSP00000000233 9606.ENSP00000378669\n",
      "9606.ENSP00000000233 9606.ENSP00000377086\n",
      "9606.ENSP00000000233 9606.ENSP00000272238\n"
     ]
    },
    {
     "name": "stderr",
     "output_type": "stream",
     "text": [
      "\r",
      "202it [00:02, 79.15it/s]"
     ]
    },
    {
     "name": "stdout",
     "output_type": "stream",
     "text": [
      "9606.ENSP00000000233 9606.ENSP00000303437\n",
      "9606.ENSP00000000233 9606.ENSP00000262719\n",
      "9606.ENSP00000000233 9606.ENSP00000300249\n",
      "9606.ENSP00000000233 9606.ENSP00000413697\n",
      "9606.ENSP00000000233 9606.ENSP00000354080\n",
      "9606.ENSP00000000233 9606.ENSP00000352995\n",
      "9606.ENSP00000000233 9606.ENSP00000349503\n",
      "9606.ENSP00000000233 9606.ENSP00000265717\n",
      "9606.ENSP00000000233 9606.ENSP00000362590\n",
      "9606.ENSP00000000233 9606.ENSP00000395083\n",
      "9606.ENSP00000000233 9606.ENSP00000362115\n",
      "9606.ENSP00000000233 9606.ENSP00000348429\n",
      "9606.ENSP00000000233 9606.ENSP00000365773\n",
      "9606.ENSP00000000233 9606.ENSP00000350012\n"
     ]
    },
    {
     "name": "stderr",
     "output_type": "stream",
     "text": [
      "221it [00:02, 80.66it/s]"
     ]
    },
    {
     "name": "stdout",
     "output_type": "stream",
     "text": [
      "9606.ENSP00000000233 9606.ENSP00000261636\n",
      "9606.ENSP00000000233 9606.ENSP00000296271\n",
      "9606.ENSP00000000233 9606.ENSP00000468424\n",
      "9606.ENSP00000000233 9606.ENSP00000333037\n",
      "9606.ENSP00000000233 9606.ENSP00000363970\n",
      "9606.ENSP00000000233 9606.ENSP00000246554\n",
      "9606.ENSP00000000233 9606.ENSP00000350386\n",
      "9606.ENSP00000000233 9606.ENSP00000329468\n",
      "9606.ENSP00000000233 9606.ENSP00000454229\n",
      "9606.ENSP00000000233 9606.ENSP00000211287\n",
      "9606.ENSP00000000233 9606.ENSP00000285208\n",
      "9606.ENSP00000000233 9606.ENSP00000353444\n",
      "9606.ENSP00000000233 9606.ENSP00000223366\n",
      "9606.ENSP00000000233 9606.ENSP00000316845\n",
      "9606.ENSP00000000233 9606.ENSP00000280706\n",
      "9606.ENSP00000000233 9606.ENSP00000367220\n",
      "9606.ENSP00000000233 9606.ENSP00000251157\n",
      "9606.ENSP00000000233 9606.ENSP00000418734\n",
      "9606.ENSP00000000233 9606.ENSP00000360916\n"
     ]
    },
    {
     "name": "stderr",
     "output_type": "stream",
     "text": [
      "242it [00:02, 90.64it/s]"
     ]
    },
    {
     "name": "stdout",
     "output_type": "stream",
     "text": [
      "9606.ENSP00000000233 9606.ENSP00000331748\n",
      "9606.ENSP00000000233 9606.ENSP00000363092\n",
      "9606.ENSP00000000233 9606.ENSP00000239690\n",
      "9606.ENSP00000000233 9606.ENSP00000439182\n",
      "9606.ENSP00000000233 9606.ENSP00000280551\n",
      "9606.ENSP00000000233 9606.ENSP00000349467\n",
      "9606.ENSP00000000233 9606.ENSP00000256637\n",
      "9606.ENSP00000000233 9606.ENSP00000366283\n",
      "9606.ENSP00000000233 9606.ENSP00000350199\n",
      "9606.ENSP00000000233 9606.ENSP00000471457\n",
      "9606.ENSP00000000233 9606.ENSP00000382177\n",
      "9606.ENSP00000000233 9606.ENSP00000251472\n",
      "9606.ENSP00000000233 9606.ENSP00000381098\n",
      "9606.ENSP00000000233 9606.ENSP00000379506\n",
      "9606.ENSP00000000233 9606.ENSP00000298545\n",
      "9606.ENSP00000000233 9606.ENSP00000337797\n",
      "9606.ENSP00000000233 9606.ENSP00000366488\n",
      "9606.ENSP00000000233 9606.ENSP00000313007\n",
      "9606.ENSP00000000233 9606.ENSP00000338864\n",
      "9606.ENSP00000000233 9606.ENSP00000379838\n",
      "9606.ENSP00000000233 9606.ENSP00000262848\n"
     ]
    },
    {
     "name": "stderr",
     "output_type": "stream",
     "text": [
      "263it [00:03, 92.87it/s]"
     ]
    },
    {
     "name": "stdout",
     "output_type": "stream",
     "text": [
      "9606.ENSP00000000233 9606.ENSP00000482472\n",
      "9606.ENSP00000000233 9606.ENSP00000264051\n",
      "9606.ENSP00000000233 9606.ENSP00000290573\n",
      "9606.ENSP00000000233 9606.ENSP00000368566\n",
      "9606.ENSP00000000233 9606.ENSP00000251453\n",
      "9606.ENSP00000000233 9606.ENSP00000378313\n",
      "9606.ENSP00000000233 9606.ENSP00000257904\n",
      "9606.ENSP00000000233 9606.ENSP00000355651\n",
      "9606.ENSP00000000233 9606.ENSP00000401435\n",
      "9606.ENSP00000000233 9606.ENSP00000360922\n",
      "9606.ENSP00000000233 9606.ENSP00000329419\n",
      "9606.ENSP00000000233 9606.ENSP00000314976\n",
      "9606.ENSP00000000233 9606.ENSP00000347416\n",
      "9606.ENSP00000000233 9606.ENSP00000306124\n",
      "9606.ENSP00000000233 9606.ENSP00000344961\n",
      "9606.ENSP00000000233 9606.ENSP00000358293\n",
      "9606.ENSP00000000233 9606.ENSP00000294179\n",
      "9606.ENSP00000000233 9606.ENSP00000371253\n",
      "9606.ENSP00000000233 9606.ENSP00000248437\n",
      "9606.ENSP00000000233 9606.ENSP00000420127\n"
     ]
    },
    {
     "name": "stderr",
     "output_type": "stream",
     "text": [
      "283it [00:03, 92.86it/s]"
     ]
    },
    {
     "name": "stdout",
     "output_type": "stream",
     "text": [
      "9606.ENSP00000000233 9606.ENSP00000290949\n",
      "9606.ENSP00000000233 9606.ENSP00000361635\n",
      "9606.ENSP00000000233 9606.ENSP00000356030\n",
      "9606.ENSP00000000233 9606.ENSP00000360154\n",
      "9606.ENSP00000000233 9606.ENSP00000439625\n",
      "9606.ENSP00000000233 9606.ENSP00000347134\n",
      "9606.ENSP00000000233 9606.ENSP00000367766\n",
      "9606.ENSP00000000233 9606.ENSP00000248929\n",
      "9606.ENSP00000000233 9606.ENSP00000232501\n",
      "9606.ENSP00000000233 9606.ENSP00000284509\n",
      "9606.ENSP00000000233 9606.ENSP00000019317\n",
      "9606.ENSP00000000233 9606.ENSP00000339906\n",
      "9606.ENSP00000000233 9606.ENSP00000278568\n",
      "9606.ENSP00000000233 9606.ENSP00000253719\n",
      "9606.ENSP00000000233 9606.ENSP00000242285\n",
      "9606.ENSP00000000233 9606.ENSP00000388510\n",
      "9606.ENSP00000000233 9606.ENSP00000263967\n",
      "9606.ENSP00000000233 9606.ENSP00000251337\n",
      "9606.ENSP00000000233"
     ]
    },
    {
     "name": "stderr",
     "output_type": "stream",
     "text": [
      "303it [00:03, 90.37it/s]"
     ]
    },
    {
     "name": "stdout",
     "output_type": "stream",
     "text": [
      " 9606.ENSP00000353590\n",
      "9606.ENSP00000000233 9606.ENSP00000288266\n",
      "9606.ENSP00000000233 9606.ENSP00000216366\n",
      "9606.ENSP00000000233 9606.ENSP00000370889\n",
      "9606.ENSP00000000233 9606.ENSP00000381601\n",
      "9606.ENSP00000000233 9606.ENSP00000352603\n",
      "9606.ENSP00000000233 9606.ENSP00000432568\n",
      "9606.ENSP00000000233 9606.ENSP00000381339\n",
      "9606.ENSP00000000233 9606.ENSP00000240874\n",
      "9606.ENSP00000000233 9606.ENSP00000361298\n",
      "9606.ENSP00000000233 9606.ENSP00000443631\n",
      "9606.ENSP00000000233 9606.ENSP00000268035\n",
      "9606.ENSP00000000233 9606.ENSP00000254029\n",
      "9606.ENSP00000000233 9606.ENSP00000373979\n",
      "9606.ENSP00000000233 9606.ENSP00000282908\n",
      "9606.ENSP00000000233 9606.ENSP00000322170\n",
      "9606.ENSP00000000233 9606.ENSP00000479618\n",
      "9606.ENSP00000000233 9606.ENSP00000003100\n",
      "9606.ENSP00000000233 9606.ENSP00000293970\n",
      "9606.ENSP00000000233 9606.ENSP00000245932\n",
      "9606.ENSP00000000233 9606.ENSP00000464893\n",
      "9606.ENSP00000000233 9606.ENSP00000225174\n",
      "9606.ENSP00000000233"
     ]
    },
    {
     "name": "stderr",
     "output_type": "stream",
     "text": [
      "326it [00:03, 98.54it/s]"
     ]
    },
    {
     "name": "stdout",
     "output_type": "stream",
     "text": [
      " 9606.ENSP00000302486\n",
      "9606.ENSP00000000233 9606.ENSP00000359484\n",
      "9606.ENSP00000000233 9606.ENSP00000269299\n",
      "9606.ENSP00000000233 9606.ENSP00000365757\n",
      "9606.ENSP00000000233 9606.ENSP00000483552\n",
      "9606.ENSP00000000233 9606.ENSP00000369643\n",
      "9606.ENSP00000000233 9606.ENSP00000375892\n",
      "9606.ENSP00000000233 9606.ENSP00000478755\n",
      "9606.ENSP00000000233 9606.ENSP00000178640\n",
      "9606.ENSP00000000233 9606.ENSP00000427567\n",
      "9606.ENSP00000000233 9606.ENSP00000418770\n",
      "9606.ENSP00000000233 9606.ENSP00000422607\n",
      "9606.ENSP00000000233 9606.ENSP00000325827\n",
      "9606.ENSP00000000233 9606.ENSP00000293441\n",
      "9606.ENSP00000000233 9606.ENSP00000324302\n",
      "9606.ENSP00000000233 9606.ENSP00000435096\n",
      "9606.ENSP00000000233 9606.ENSP00000347712\n",
      "9606.ENSP00000000233 9606.ENSP00000329471\n",
      "9606.ENSP00000000233 9606.ENSP00000264028\n",
      "9606.ENSP00000000233 9606.ENSP00000361275\n",
      "9606.ENSP00000000233 9606.ENSP00000343325\n",
      "9606.ENSP00000000233 9606.ENSP00000261170\n",
      "9606.ENSP00000000233 9606.ENSP00000356918\n",
      "9606.ENSP00000000233"
     ]
    },
    {
     "name": "stderr",
     "output_type": "stream",
     "text": [
      "348it [00:03, 99.59it/s] "
     ]
    },
    {
     "name": "stdout",
     "output_type": "stream",
     "text": [
      " 9606.ENSP00000332454\n",
      "9606.ENSP00000000233 9606.ENSP00000291906\n",
      "9606.ENSP00000000233 9606.ENSP00000408236\n",
      "9606.ENSP00000000233 9606.ENSP00000373574\n",
      "9606.ENSP00000000233 9606.ENSP00000285402\n",
      "9606.ENSP00000000233 9606.ENSP00000348753\n",
      "9606.ENSP00000000233 9606.ENSP00000361057\n",
      "9606.ENSP00000000233 9606.ENSP00000393541\n",
      "9606.ENSP00000000233 9606.ENSP00000349781\n",
      "9606.ENSP00000000233 9606.ENSP00000228251\n",
      "9606.ENSP00000000233 9606.ENSP00000356982\n",
      "9606.ENSP00000000233 9606.ENSP00000296474\n",
      "9606.ENSP00000000233 9606.ENSP00000054666\n",
      "9606.ENSP00000000233 9606.ENSP00000282249\n",
      "9606.ENSP00000000233 9606.ENSP00000360076\n",
      "9606.ENSP00000000233 9606.ENSP00000327650\n",
      "9606.ENSP00000000233 9606.ENSP00000387282\n",
      "9606.ENSP00000000233 9606.ENSP00000386331\n",
      "9606.ENSP00000000233 9606.ENSP00000333568\n",
      "9606.ENSP00000000233 9606.ENSP00000200457\n",
      "9606.ENSP00000000233 9606.ENSP00000315136\n"
     ]
    },
    {
     "name": "stderr",
     "output_type": "stream",
     "text": [
      "369it [00:04, 100.14it/s]"
     ]
    },
    {
     "name": "stdout",
     "output_type": "stream",
     "text": [
      "9606.ENSP00000000233 9606.ENSP00000267512\n",
      "9606.ENSP00000000233 9606.ENSP00000430344\n",
      "9606.ENSP00000000233 9606.ENSP00000480301\n",
      "9606.ENSP00000000233 9606.ENSP00000258739\n",
      "9606.ENSP00000000233 9606.ENSP00000346015\n",
      "9606.ENSP00000000233 9606.ENSP00000430276\n",
      "9606.ENSP00000000233 9606.ENSP00000261842\n",
      "9606.ENSP00000000233 9606.ENSP00000244040\n",
      "9606.ENSP00000000233 9606.ENSP00000295240\n",
      "9606.ENSP00000000233 9606.ENSP00000263847\n",
      "9606.ENSP00000000233 9606.ENSP00000369081\n",
      "9606.ENSP00000000233 9606.ENSP00000286355\n",
      "9606.ENSP00000000233 9606.ENSP00000365692\n",
      "9606.ENSP00000000233 9606.ENSP00000356737\n",
      "9606.ENSP00000000233 9606.ENSP00000338562\n",
      "9606.ENSP00000000233 9606.ENSP00000332296\n",
      "9606.ENSP00000000233 9606.ENSP00000445175\n",
      "9606.ENSP00000000233 9606.ENSP00000466477\n",
      "9606.ENSP00000000233 9606.ENSP00000377471\n",
      "9606.ENSP00000000233 9606.ENSP00000265825\n",
      "9606.ENSP00000000233 9606.ENSP00000232564\n",
      "9606.ENSP00000000233 9606.ENSP00000394888\n",
      "9606.ENSP00000000233 9606.ENSP00000304908\n",
      "9606.ENSP00000000233 9606.ENSP00000404179\n"
     ]
    },
    {
     "name": "stderr",
     "output_type": "stream",
     "text": [
      "390it [00:04, 97.79it/s] "
     ]
    },
    {
     "name": "stdout",
     "output_type": "stream",
     "text": [
      "9606.ENSP00000000233 9606.ENSP00000383212\n",
      "9606.ENSP00000000233 9606.ENSP00000339787\n",
      "9606.ENSP00000000233 9606.ENSP00000362222\n",
      "9606.ENSP00000000233 9606.ENSP00000358921\n",
      "9606.ENSP00000000233 9606.ENSP00000333018\n",
      "9606.ENSP00000000233 9606.ENSP00000262850\n",
      "9606.ENSP00000000233 9606.ENSP00000385885\n",
      "9606.ENSP00000000233 9606.ENSP00000262215\n",
      "9606.ENSP00000000233 9606.ENSP00000382428\n",
      "9606.ENSP00000000233 9606.ENSP00000361009\n",
      "9606.ENSP00000000233 9606.ENSP00000294258\n",
      "9606.ENSP00000000233 9606.ENSP00000366036\n",
      "9606.ENSP00000000233 9606.ENSP00000356379\n",
      "9606.ENSP00000000233 9606.ENSP00000342699\n",
      "9606.ENSP00000000233 9606.ENSP00000370710\n",
      "9606.ENSP00000000233 9606.ENSP00000239940\n",
      "9606.ENSP00000000233 9606.ENSP00000282728\n",
      "9606.ENSP00000000233 9606.ENSP00000254854\n",
      "9606.ENSP00000000233 9606.ENSP00000000412\n",
      "9606.ENSP00000000233"
     ]
    },
    {
     "name": "stderr",
     "output_type": "stream",
     "text": [
      "410it [00:04, 95.87it/s]"
     ]
    },
    {
     "name": "stdout",
     "output_type": "stream",
     "text": [
      " 9606.ENSP00000276066\n",
      "9606.ENSP00000000233 9606.ENSP00000348602\n",
      "9606.ENSP00000000233 9606.ENSP00000362824\n",
      "9606.ENSP00000000233 9606.ENSP00000363763\n",
      "9606.ENSP00000000233 9606.ENSP00000337040\n",
      "9606.ENSP00000000233 9606.ENSP00000225655\n",
      "9606.ENSP00000000233 9606.ENSP00000276211\n",
      "9606.ENSP00000000233 9606.ENSP00000357178\n",
      "9606.ENSP00000000233 9606.ENSP00000288943\n",
      "9606.ENSP00000000233 9606.ENSP00000324806\n",
      "9606.ENSP00000000233 9606.ENSP00000251413\n",
      "9606.ENSP00000000233 9606.ENSP00000272317\n",
      "9606.ENSP00000000233 9606.ENSP00000418915\n",
      "9606.ENSP00000000233 9606.ENSP00000364631\n",
      "9606.ENSP00000000233 9606.ENSP00000392147\n",
      "9606.ENSP00000000233 9606.ENSP00000333326\n",
      "9606.ENSP00000000233 9606.ENSP00000479518\n",
      "9606.ENSP00000000233 9606.ENSP00000302393\n",
      "9606.ENSP00000000233 9606.ENSP00000366563\n",
      "9606.ENSP00000000233 9606.ENSP00000368824\n",
      "9606.ENSP00000000233"
     ]
    },
    {
     "name": "stderr",
     "output_type": "stream",
     "text": [
      "431it [00:04, 93.91it/s]"
     ]
    },
    {
     "name": "stdout",
     "output_type": "stream",
     "text": [
      " 9606.ENSP00000286364\n",
      "9606.ENSP00000000233 9606.ENSP00000466953\n",
      "9606.ENSP00000000233 9606.ENSP00000378368\n",
      "9606.ENSP00000000233 9606.ENSP00000479844\n",
      "9606.ENSP00000000233 9606.ENSP00000259818\n",
      "9606.ENSP00000000233 9606.ENSP00000356438\n",
      "9606.ENSP00000000233 9606.ENSP00000334134\n",
      "9606.ENSP00000000233 9606.ENSP00000388806\n",
      "9606.ENSP00000000233 9606.ENSP00000318697\n",
      "9606.ENSP00000000233 9606.ENSP00000263088\n",
      "9606.ENSP00000000233 9606.ENSP00000337691\n",
      "9606.ENSP00000000233 9606.ENSP00000464411\n",
      "9606.ENSP00000000233 9606.ENSP00000460823\n",
      "9606.ENSP00000000233 9606.ENSP00000448696\n",
      "9606.ENSP00000000233 9606.ENSP00000438085\n",
      "9606.ENSP00000000233 9606.ENSP00000233027\n",
      "9606.ENSP00000000233 9606.ENSP00000405963\n",
      "9606.ENSP00000000233 9606.ENSP00000305442\n",
      "9606.ENSP00000000233 9606.ENSP00000360183\n"
     ]
    },
    {
     "name": "stderr",
     "output_type": "stream",
     "text": [
      "453it [00:04, 97.60it/s]"
     ]
    },
    {
     "name": "stdout",
     "output_type": "stream",
     "text": [
      "9606.ENSP00000000233 9606.ENSP00000371331\n",
      "9606.ENSP00000000233 9606.ENSP00000290866\n",
      "9606.ENSP00000000233 9606.ENSP00000333685\n",
      "9606.ENSP00000000233 9606.ENSP00000239223\n",
      "9606.ENSP00000000233 9606.ENSP00000264065\n",
      "9606.ENSP00000000233 9606.ENSP00000320117\n",
      "9606.ENSP00000000233 9606.ENSP00000261716\n",
      "9606.ENSP00000000233 9606.ENSP00000347464\n",
      "9606.ENSP00000000233 9606.ENSP00000364277\n",
      "9606.ENSP00000000233 9606.ENSP00000336666\n",
      "9606.ENSP00000000233 9606.ENSP00000331901\n",
      "9606.ENSP00000000233 9606.ENSP00000340820\n",
      "9606.ENSP00000000233 9606.ENSP00000466298\n",
      "9606.ENSP00000000233 9606.ENSP00000277010\n",
      "9606.ENSP00000000233 9606.ENSP00000397908\n",
      "9606.ENSP00000000233 9606.ENSP00000369318\n",
      "9606.ENSP00000000233 9606.ENSP00000310129\n",
      "9606.ENSP00000000233 9606.ENSP00000469413\n",
      "9606.ENSP00000000233 9606.ENSP00000251412\n",
      "9606.ENSP00000000233 9606.ENSP00000379457\n",
      "9606.ENSP00000000233 9606.ENSP00000352834\n",
      "9606.ENSP00000000233"
     ]
    },
    {
     "name": "stderr",
     "output_type": "stream",
     "text": [
      "474it [00:05, 95.78it/s]"
     ]
    },
    {
     "name": "stdout",
     "output_type": "stream",
     "text": [
      " 9606.ENSP00000270625\n",
      "9606.ENSP00000000233 9606.ENSP00000323879\n",
      "9606.ENSP00000000233 9606.ENSP00000407552\n",
      "9606.ENSP00000000233 9606.ENSP00000376475\n",
      "9606.ENSP00000000233 9606.ENSP00000254846\n",
      "9606.ENSP00000000233 9606.ENSP00000229264\n",
      "9606.ENSP00000000233 9606.ENSP00000339179\n",
      "9606.ENSP00000000233 9606.ENSP00000451291\n",
      "9606.ENSP00000000233 9606.ENSP00000359552\n",
      "9606.ENSP00000000233 9606.ENSP00000365962\n",
      "9606.ENSP00000000233 9606.ENSP00000440167\n",
      "9606.ENSP00000000233 9606.ENSP00000222008\n",
      "9606.ENSP00000000233 9606.ENSP00000282032\n",
      "9606.ENSP00000000233 9606.ENSP00000338777\n",
      "9606.ENSP00000000233 9606.ENSP00000356560\n",
      "9606.ENSP00000000233 9606.ENSP00000367407\n",
      "9606.ENSP00000000233 9606.ENSP00000382423\n",
      "9606.ENSP00000000233 9606.ENSP00000315554\n",
      "9606.ENSP00000000233"
     ]
    },
    {
     "name": "stderr",
     "output_type": "stream",
     "text": [
      "494it [00:05, 91.71it/s]"
     ]
    },
    {
     "name": "stdout",
     "output_type": "stream",
     "text": [
      " 9606.ENSP00000273398\n",
      "9606.ENSP00000000233 9606.ENSP00000269571\n",
      "9606.ENSP00000000233 9606.ENSP00000376792\n",
      "9606.ENSP00000000233 9606.ENSP00000437621\n",
      "9606.ENSP00000000233 9606.ENSP00000439479\n",
      "9606.ENSP00000000233 9606.ENSP00000298510\n",
      "9606.ENSP00000000233 9606.ENSP00000274496\n",
      "9606.ENSP00000000233 9606.ENSP00000346206\n",
      "9606.ENSP00000000233 9606.ENSP00000484121\n",
      "9606.ENSP00000000233 9606.ENSP00000261263\n",
      "9606.ENSP00000000233 9606.ENSP00000222145\n",
      "9606.ENSP00000000233 9606.ENSP00000357631\n",
      "9606.ENSP00000000233 9606.ENSP00000222330\n",
      "9606.ENSP00000000233 9606.ENSP00000444957\n",
      "9606.ENSP00000000233 9606.ENSP00000393392\n",
      "9606.ENSP00000000233 9606.ENSP00000361949\n",
      "9606.ENSP00000000233 9606.ENSP00000280772\n",
      "9606.ENSP00000000233 9606.ENSP00000285735\n"
     ]
    },
    {
     "name": "stderr",
     "output_type": "stream",
     "text": [
      "\r",
      "504it [00:05, 92.03it/s]"
     ]
    },
    {
     "name": "stdout",
     "output_type": "stream",
     "text": [
      "9606.ENSP00000000233 9606.ENSP00000264380\n",
      "9606.ENSP00000000233 9606.ENSP00000305941\n",
      "9606.ENSP00000000233 9606.ENSP00000313600\n",
      "9606.ENSP00000000233 9606.ENSP00000369538\n",
      "9606.ENSP00000000233 9606.ENSP00000389326\n",
      "9606.ENSP00000000233 9606.ENSP00000315568\n",
      "9606.ENSP00000000233 9606.ENSP00000348828\n",
      "9606.ENSP00000000233 9606.ENSP00000217043\n",
      "9606.ENSP00000000233 9606.ENSP00000451752\n",
      "9606.ENSP00000000233 9606.ENSP00000274353\n",
      "9606.ENSP00000000233 9606.ENSP00000451828\n",
      "9606.ENSP00000000233 9606.ENSP00000248901\n",
      "9606.ENSP00000000233 9606.ENSP00000262225\n",
      "9606.ENSP00000000233 9606.ENSP00000264718\n",
      "9606.ENSP00000000233 9606.ENSP00000357087\n",
      "9606.ENSP00000000233 9606.ENSP00000251170\n",
      "9606.ENSP00000000233 9606.ENSP00000347792\n",
      "9606.ENSP00000000233 9606.ENSP00000379842\n",
      "9606.ENSP00000000233 9606.ENSP00000382982\n",
      "9606.ENSP00000000233 9606.ENSP00000292823\n"
     ]
    },
    {
     "name": "stderr",
     "output_type": "stream",
     "text": [
      "526it [00:05, 97.58it/s]"
     ]
    },
    {
     "name": "stdout",
     "output_type": "stream",
     "text": [
      "9606.ENSP00000000233 9606.ENSP00000438492\n",
      "9606.ENSP00000000233 9606.ENSP00000334051\n",
      "9606.ENSP00000000233 9606.ENSP00000323580\n",
      "9606.ENSP00000000233 9606.ENSP00000328551\n",
      "9606.ENSP00000000233 9606.ENSP00000219476\n",
      "9606.ENSP00000000233 9606.ENSP00000313869\n",
      "9606.ENSP00000000233 9606.ENSP00000352925\n",
      "9606.ENSP00000000233 9606.ENSP00000262903\n",
      "9606.ENSP00000000233 9606.ENSP00000295095\n",
      "9606.ENSP00000000233 9606.ENSP00000369461\n",
      "9606.ENSP00000000233 9606.ENSP00000358126\n",
      "9606.ENSP00000000233 9606.ENSP00000364298\n",
      "9606.ENSP00000000233 9606.ENSP00000400908\n",
      "9606.ENSP00000000233 9606.ENSP00000360869\n",
      "9606.ENSP00000000233 9606.ENSP00000363103\n",
      "9606.ENSP00000000233 9606.ENSP00000372210\n",
      "9606.ENSP00000000233 9606.ENSP00000267622\n",
      "9606.ENSP00000000233 9606.ENSP00000368464\n",
      "9606.ENSP00000000233 9606.ENSP00000386443\n",
      "9606.ENSP00000000233 9606.ENSP00000429744\n",
      "9606.ENSP00000000233 9606.ENSP00000361785\n"
     ]
    },
    {
     "name": "stderr",
     "output_type": "stream",
     "text": [
      "549it [00:05, 94.87it/s] "
     ]
    },
    {
     "name": "stdout",
     "output_type": "stream",
     "text": [
      "9606.ENSP00000000233 9606.ENSP00000379891\n",
      "9606.ENSP00000000233 9606.ENSP00000373600\n",
      "9606.ENSP00000000233 9606.ENSP00000373312\n",
      "9606.ENSP00000000233 9606.ENSP00000374443\n",
      "9606.ENSP00000000233 9606.ENSP00000259400\n",
      "9606.ENSP00000000233 9606.ENSP00000379386\n",
      "9606.ENSP00000000233 9606.ENSP00000369899\n",
      "9606.ENSP00000000233 9606.ENSP00000370208\n",
      "9606.ENSP00000000233 9606.ENSP00000315659\n",
      "9606.ENSP00000000233 9606.ENSP00000354451\n",
      "9606.ENSP00000000233 9606.ENSP00000301012\n",
      "9606.ENSP00000000233 9606.ENSP00000441858\n",
      "9606.ENSP00000000233 9606.ENSP00000243052\n",
      "9606.ENSP00000000233 9606.ENSP00000355809\n",
      "9606.ENSP00000000233 9606.ENSP00000035383\n",
      "9606.ENSP00000000233 9606.ENSP00000238831\n"
     ]
    },
    {
     "name": "stderr",
     "output_type": "stream",
     "text": [
      "570it [00:06, 90.49it/s]"
     ]
    },
    {
     "name": "stdout",
     "output_type": "stream",
     "text": [
      "9606.ENSP00000000233 9606.ENSP00000309036\n",
      "9606.ENSP00000000233 9606.ENSP00000347839\n",
      "9606.ENSP00000000233 9606.ENSP00000361824\n",
      "9606.ENSP00000000233 9606.ENSP00000317955\n",
      "9606.ENSP00000000233 9606.ENSP00000361930\n",
      "9606.ENSP00000000233 9606.ENSP00000159111\n",
      "9606.ENSP00000000233 9606.ENSP00000299084\n",
      "9606.ENSP00000000233 9606.ENSP00000346160\n",
      "9606.ENSP00000000233 9606.ENSP00000367203\n",
      "9606.ENSP00000000233 9606.ENSP00000363023\n",
      "9606.ENSP00000000233 9606.ENSP00000263360\n",
      "9606.ENSP00000000233 9606.ENSP00000362680\n",
      "9606.ENSP00000000233 9606.ENSP00000354376\n",
      "9606.ENSP00000000233 9606.ENSP00000264400\n",
      "9606.ENSP00000000233 9606.ENSP00000377633\n",
      "9606.ENSP00000000233 9606.ENSP00000397552\n",
      "9606.ENSP00000000233 9606.ENSP00000256935\n",
      "9606.ENSP00000000233 9606.ENSP00000332118\n",
      "9606.ENSP00000000233 9606.ENSP00000377075\n",
      "9606.ENSP00000000233 9606.ENSP00000393453\n",
      "9606.ENSP00000000233 9606.ENSP00000317790\n",
      "9606.ENSP00000000233"
     ]
    },
    {
     "name": "stderr",
     "output_type": "stream",
     "text": [
      "590it [00:06, 90.47it/s]"
     ]
    },
    {
     "name": "stdout",
     "output_type": "stream",
     "text": [
      " 9606.ENSP00000292432\n",
      "9606.ENSP00000000233 9606.ENSP00000288699\n",
      "9606.ENSP00000000233 9606.ENSP00000343741\n",
      "9606.ENSP00000000233 9606.ENSP00000377233\n",
      "9606.ENSP00000000233 9606.ENSP00000226253\n",
      "9606.ENSP00000000233 9606.ENSP00000380635\n",
      "9606.ENSP00000000233 9606.ENSP00000225577\n",
      "9606.ENSP00000000233 9606.ENSP00000362116\n",
      "9606.ENSP00000000233 9606.ENSP00000358994\n",
      "9606.ENSP00000000233 9606.ENSP00000431418\n",
      "9606.ENSP00000000233 9606.ENSP00000368818\n",
      "9606.ENSP00000000233 9606.ENSP00000356832\n",
      "9606.ENSP00000000233 9606.ENSP00000163416\n",
      "9606.ENSP00000000233 9606.ENSP00000381097\n",
      "9606.ENSP00000000233 9606.ENSP00000356607\n",
      "9606.ENSP00000000233 9606.ENSP00000261942\n",
      "9606.ENSP00000000233 9606.ENSP00000274376\n",
      "9606.ENSP00000000233 9606.ENSP00000473001\n",
      "9606.ENSP00000000233 9606.ENSP00000303909\n",
      "9606.ENSP00000000233 9606.ENSP00000314649\n",
      "9606.ENSP00000000233 9606.ENSP00000247461\n",
      "9606.ENSP00000000233 9606.ENSP00000309457\n",
      "9606.ENSP00000000233 9606.ENSP00000341083\n",
      "9606.ENSP00000000233 9606.ENSP00000482835\n",
      "9606.ENSP00000000233 9606.ENSP00000268933\n",
      "9606.ENSP00000000233 9606.ENSP00000218006"
     ]
    },
    {
     "name": "stderr",
     "output_type": "stream",
     "text": [
      "610it [00:06, 91.36it/s]"
     ]
    },
    {
     "name": "stdout",
     "output_type": "stream",
     "text": [
      "\n",
      "9606.ENSP00000000233 9606.ENSP00000345988\n",
      "9606.ENSP00000000233 9606.ENSP00000447300\n",
      "9606.ENSP00000000233 9606.ENSP00000481045\n",
      "9606.ENSP00000000233 9606.ENSP00000399403\n",
      "9606.ENSP00000000233 9606.ENSP00000279488\n",
      "9606.ENSP00000000233 9606.ENSP00000344220\n",
      "9606.ENSP00000000233 9606.ENSP00000338967\n",
      "9606.ENSP00000000233 9606.ENSP00000370719\n",
      "9606.ENSP00000000233 9606.ENSP00000466799\n",
      "9606.ENSP00000000233 9606.ENSP00000312081\n",
      "9606.ENSP00000000233 9606.ENSP00000356530\n",
      "9606.ENSP00000000233 9606.ENSP00000456782\n",
      "9606.ENSP00000000233 9606.ENSP00000311857\n",
      "9606.ENSP00000000233 9606.ENSP00000276440\n",
      "9606.ENSP00000000233 9606.ENSP00000316809\n",
      "9606.ENSP00000000233 9606.ENSP00000369038\n",
      "9606.ENSP00000000233 9606.ENSP00000223136\n",
      "9606.ENSP00000000233 9606.ENSP00000285398\n",
      "9606.ENSP00000000233 9606.ENSP00000299601\n"
     ]
    },
    {
     "name": "stderr",
     "output_type": "stream",
     "text": [
      "631it [00:06, 95.85it/s]"
     ]
    },
    {
     "name": "stdout",
     "output_type": "stream",
     "text": [
      "9606.ENSP00000000233 9606.ENSP00000419542\n",
      "9606.ENSP00000000233 9606.ENSP00000288607\n",
      "9606.ENSP00000000233 9606.ENSP00000407509\n",
      "9606.ENSP00000000233 9606.ENSP00000383178\n",
      "9606.ENSP00000000233 9606.ENSP00000262032\n",
      "9606.ENSP00000000233 9606.ENSP00000344942\n",
      "9606.ENSP00000000233 9606.ENSP00000378187\n",
      "9606.ENSP00000000233 9606.ENSP00000307940\n",
      "9606.ENSP00000000233 9606.ENSP00000379678\n",
      "9606.ENSP00000000233 9606.ENSP00000426503\n",
      "9606.ENSP00000000233 9606.ENSP00000418695\n",
      "9606.ENSP00000000233 9606.ENSP00000360108\n",
      "9606.ENSP00000000233 9606.ENSP00000298630\n",
      "9606.ENSP00000000233 9606.ENSP00000373713\n",
      "9606.ENSP00000000233 9606.ENSP00000417175\n",
      "9606.ENSP00000000233 9606.ENSP00000257770\n",
      "9606.ENSP00000000233 9606.ENSP00000360124\n",
      "9606.ENSP00000000233 9606.ENSP00000261596\n",
      "9606.ENSP00000000233 9606.ENSP00000371133\n",
      "9606.ENSP00000000233 9606.ENSP00000370419\n",
      "9606.ENSP00000000233 9606.ENSP00000311405\n",
      "9606.ENSP00000000233 9606.ENSP00000272430\n",
      "9606.ENSP00000000233 9606.ENSP00000310226\n",
      "9606.ENSP00000000233 9606.ENSP00000292314\n"
     ]
    },
    {
     "name": "stderr",
     "output_type": "stream",
     "text": [
      "651it [00:07, 94.31it/s]"
     ]
    },
    {
     "name": "stdout",
     "output_type": "stream",
     "text": [
      "9606.ENSP00000000233 9606.ENSP00000466058\n",
      "9606.ENSP00000000233 9606.ENSP00000219255\n",
      "9606.ENSP00000000233 9606.ENSP00000305995\n",
      "9606.ENSP00000000233 9606.ENSP00000377681\n",
      "9606.ENSP00000000233 9606.ENSP00000377936\n",
      "9606.ENSP00000000233 9606.ENSP00000417610\n",
      "9606.ENSP00000000233 9606.ENSP00000353224\n",
      "9606.ENSP00000000233 9606.ENSP00000327694\n",
      "9606.ENSP00000000233 9606.ENSP00000381607\n",
      "9606.ENSP00000000233 9606.ENSP00000358983\n",
      "9606.ENSP00000000233 9606.ENSP00000294618\n",
      "9606.ENSP00000000233 9606.ENSP00000445381\n",
      "9606.ENSP00000000233 9606.ENSP00000265062\n",
      "9606.ENSP00000000233 9606.ENSP00000370013\n",
      "9606.ENSP00000000233 9606.ENSP00000265074\n",
      "9606.ENSP00000000233 9606.ENSP00000354957\n",
      "9606.ENSP00000000233 9606.ENSP00000355925\n",
      "9606.ENSP00000000233 9606.ENSP00000357288\n",
      "9606.ENSP00000000233 9606.ENSP00000342793\n",
      "9606.ENSP00000000233"
     ]
    },
    {
     "name": "stderr",
     "output_type": "stream",
     "text": [
      "671it [00:07, 91.89it/s]"
     ]
    },
    {
     "name": "stdout",
     "output_type": "stream",
     "text": [
      " 9606.ENSP00000267199\n",
      "9606.ENSP00000000233 9606.ENSP00000354718\n",
      "9606.ENSP00000000233 9606.ENSP00000416387\n",
      "9606.ENSP00000000233 9606.ENSP00000385749\n",
      "9606.ENSP00000000233 9606.ENSP00000319781\n",
      "9606.ENSP00000000233 9606.ENSP00000311449\n",
      "9606.ENSP00000000233 9606.ENSP00000291574\n",
      "9606.ENSP00000000233 9606.ENSP00000390783\n",
      "9606.ENSP00000000233 9606.ENSP00000221138\n",
      "9606.ENSP00000000233 9606.ENSP00000409952\n",
      "9606.ENSP00000000233 9606.ENSP00000410186\n",
      "9606.ENSP00000000233 9606.ENSP00000215812\n",
      "9606.ENSP00000000233 9606.ENSP00000265395\n",
      "9606.ENSP00000000233 9606.ENSP00000341071\n",
      "9606.ENSP00000000233 9606.ENSP00000381785\n",
      "9606.ENSP00000000233 9606.ENSP00000228945\n",
      "9606.ENSP00000000233 9606.ENSP00000315713\n",
      "9606.ENSP00000000233 9606.ENSP00000243440\n",
      "9606.ENSP00000000233 9606.ENSP00000353557\n"
     ]
    },
    {
     "name": "stderr",
     "output_type": "stream",
     "text": [
      "691it [00:07, 91.35it/s]"
     ]
    },
    {
     "name": "stdout",
     "output_type": "stream",
     "text": [
      "9606.ENSP00000000233 9606.ENSP00000379602\n",
      "9606.ENSP00000000233 9606.ENSP00000320797\n",
      "9606.ENSP00000000233 9606.ENSP00000317473\n",
      "9606.ENSP00000000233 9606.ENSP00000479606\n",
      "9606.ENSP00000000233 9606.ENSP00000362354\n",
      "9606.ENSP00000000233 9606.ENSP00000352438\n",
      "9606.ENSP00000000233 9606.ENSP00000346037\n",
      "9606.ENSP00000000233 9606.ENSP00000437188\n",
      "9606.ENSP00000000233 9606.ENSP00000209728\n",
      "9606.ENSP00000000233 9606.ENSP00000341905\n",
      "9606.ENSP00000000233 9606.ENSP00000314499\n",
      "9606.ENSP00000000233 9606.ENSP00000265171\n",
      "9606.ENSP00000000233 9606.ENSP00000276202\n",
      "9606.ENSP00000000233 9606.ENSP00000367952\n",
      "9606.ENSP00000000233 9606.ENSP00000478892\n",
      "9606.ENSP00000000233 9606.ENSP00000378712\n",
      "9606.ENSP00000000233 9606.ENSP00000446917\n",
      "9606.ENSP00000000233 9606.ENSP00000304283\n",
      "9606.ENSP00000000233 9606.ENSP00000420211\n",
      "9606.ENSP00000000233 9606.ENSP00000369126\n",
      "9606.ENSP00000000233 9606.ENSP00000341344\n",
      "9606.ENSP00000000233 9606.ENSP00000356920\n"
     ]
    },
    {
     "name": "stderr",
     "output_type": "stream",
     "text": [
      "710it [00:07, 89.00it/s]"
     ]
    },
    {
     "name": "stdout",
     "output_type": "stream",
     "text": [
      "9606.ENSP00000000233 9606.ENSP00000376268\n",
      "9606.ENSP00000000233 9606.ENSP00000251507\n",
      "9606.ENSP00000000233 9606.ENSP00000328287\n",
      "9606.ENSP00000000233 9606.ENSP00000338844\n",
      "9606.ENSP00000000233 9606.ENSP00000480573\n",
      "9606.ENSP00000000233 9606.ENSP00000250559\n",
      "9606.ENSP00000000233 9606.ENSP00000309714\n",
      "9606.ENSP00000000233 9606.ENSP00000388996\n",
      "9606.ENSP00000000233 9606.ENSP00000346643\n",
      "9606.ENSP00000000233 9606.ENSP00000419782\n",
      "9606.ENSP00000000233 9606.ENSP00000324464\n",
      "9606.ENSP00000000233 9606.ENSP00000375855\n",
      "9606.ENSP00000000233 9606.ENSP00000345853\n",
      "9606.ENSP00000000233 9606.ENSP00000245304\n",
      "9606.ENSP00000000233 9606.ENSP00000263373\n",
      "9606.ENSP00000000233 9606.ENSP00000305260\n"
     ]
    },
    {
     "name": "stderr",
     "output_type": "stream",
     "text": [
      "729it [00:07, 90.63it/s]"
     ]
    },
    {
     "name": "stdout",
     "output_type": "stream",
     "text": [
      "9606.ENSP00000000233 9606.ENSP00000340608\n",
      "9606.ENSP00000000233 9606.ENSP00000264499\n",
      "9606.ENSP00000000233 9606.ENSP00000225430\n",
      "9606.ENSP00000000233 9606.ENSP00000369689\n",
      "9606.ENSP00000000233 9606.ENSP00000378769\n",
      "9606.ENSP00000000233 9606.ENSP00000289228\n",
      "9606.ENSP00000000233 9606.ENSP00000349325\n",
      "9606.ENSP00000000233 9606.ENSP00000360690\n",
      "9606.ENSP00000000233 9606.ENSP00000304604\n",
      "9606.ENSP00000000233 9606.ENSP00000362334\n",
      "9606.ENSP00000000233 9606.ENSP00000324422\n",
      "9606.ENSP00000000233 9606.ENSP00000481721\n",
      "9606.ENSP00000000233 9606.ENSP00000336724\n",
      "9606.ENSP00000000233 9606.ENSP00000378557\n",
      "9606.ENSP00000000233 9606.ENSP00000261769\n",
      "9606.ENSP00000000233 9606.ENSP00000315299\n",
      "9606.ENSP00000000233 9606.ENSP00000380334\n",
      "9606.ENSP00000000233 9606.ENSP00000355866\n",
      "9606.ENSP00000000233 9606.ENSP00000356489\n",
      "9606.ENSP00000000233 9606.ENSP00000367830\n",
      "9606.ENSP00000000233 9606.ENSP00000348215\n",
      "9606.ENSP00000000233 9606.ENSP00000442682\n"
     ]
    },
    {
     "name": "stderr",
     "output_type": "stream",
     "text": [
      "751it [00:08, 96.49it/s]"
     ]
    },
    {
     "name": "stdout",
     "output_type": "stream",
     "text": [
      "9606.ENSP00000000233 9606.ENSP00000404676\n",
      "9606.ENSP00000000233 9606.ENSP00000299138\n",
      "9606.ENSP00000000233 9606.ENSP00000300896\n",
      "9606.ENSP00000000233 9606.ENSP00000380530\n",
      "9606.ENSP00000000233 9606.ENSP00000382323\n",
      "9606.ENSP00000000233 9606.ENSP00000290378\n",
      "9606.ENSP00000000233 9606.ENSP00000370376\n",
      "9606.ENSP00000000233 9606.ENSP00000359297\n",
      "9606.ENSP00000000233 9606.ENSP00000281821\n",
      "9606.ENSP00000000233 9606.ENSP00000222812\n",
      "9606.ENSP00000000233 9606.ENSP00000258301\n",
      "9606.ENSP00000000233 9606.ENSP00000298573\n",
      "9606.ENSP00000000233 9606.ENSP00000275364\n",
      "9606.ENSP00000000233 9606.ENSP00000376457\n",
      "9606.ENSP00000000233 9606.ENSP00000349168\n",
      "9606.ENSP00000000233 9606.ENSP00000338769\n",
      "9606.ENSP00000000233 9606.ENSP00000362339\n",
      "9606.ENSP00000000233 9606.ENSP00000378721\n",
      "9606.ENSP00000000233 9606.ENSP00000265382\n",
      "9606.ENSP00000000233 9606.ENSP00000481878\n",
      "9606.ENSP00000000233 9606.ENSP00000406885\n"
     ]
    },
    {
     "name": "stderr",
     "output_type": "stream",
     "text": [
      "771it [00:08, 92.48it/s]"
     ]
    },
    {
     "name": "stdout",
     "output_type": "stream",
     "text": [
      "9606.ENSP00000000233 9606.ENSP00000369810\n",
      "9606.ENSP00000000233 9606.ENSP00000339973\n",
      "9606.ENSP00000000233 9606.ENSP00000356811\n",
      "9606.ENSP00000000233 9606.ENSP00000372394\n",
      "9606.ENSP00000000233 9606.ENSP00000270112\n",
      "9606.ENSP00000000233 9606.ENSP00000361900\n",
      "9606.ENSP00000000233 9606.ENSP00000220062\n",
      "9606.ENSP00000000233 9606.ENSP00000229340\n",
      "9606.ENSP00000000233 9606.ENSP00000303507\n",
      "9606.ENSP00000000233 9606.ENSP00000267113\n",
      "9606.ENSP00000000233 9606.ENSP00000358309\n",
      "9606.ENSP00000000233 9606.ENSP00000258390\n",
      "9606.ENSP00000000233 9606.ENSP00000360860\n",
      "9606.ENSP00000000233 9606.ENSP00000339381\n",
      "9606.ENSP00000000233 9606.ENSP00000378324\n",
      "9606.ENSP00000000233 9606.ENSP00000255030\n",
      "9606.ENSP00000000233 9606.ENSP00000484855\n",
      "9606.ENSP00000000233 9606.ENSP00000263025\n",
      "9606.ENSP00000000233 9606.ENSP00000245796\n",
      "9606.ENSP00000000233 9606.ENSP00000229812\n",
      "9606.ENSP00000000233 9606.ENSP00000365807\n",
      "9606.ENSP00000000233 9606.ENSP00000440984\n"
     ]
    },
    {
     "name": "stderr",
     "output_type": "stream",
     "text": [
      "793it [00:08, 92.25it/s]"
     ]
    },
    {
     "name": "stdout",
     "output_type": "stream",
     "text": [
      "9606.ENSP00000000233 9606.ENSP00000291670\n",
      "9606.ENSP00000000233 9606.ENSP00000261507\n",
      "9606.ENSP00000000233 9606.ENSP00000350937\n",
      "9606.ENSP00000000233 9606.ENSP00000269321\n",
      "9606.ENSP00000000233 9606.ENSP00000381064\n",
      "9606.ENSP00000000233 9606.ENSP00000321826\n",
      "9606.ENSP00000000233 9606.ENSP00000483786\n",
      "9606.ENSP00000000233 9606.ENSP00000352121\n",
      "9606.ENSP00000000233 9606.ENSP00000329933\n",
      "9606.ENSP00000000233 9606.ENSP00000406209\n",
      "9606.ENSP00000000233 9606.ENSP00000322300\n",
      "9606.ENSP00000000233 9606.ENSP00000234160\n",
      "9606.ENSP00000000233 9606.ENSP00000274311\n",
      "9606.ENSP00000000233 9606.ENSP00000265944\n",
      "9606.ENSP00000000233 9606.ENSP00000223369\n",
      "9606.ENSP00000000233 9606.ENSP00000309539\n",
      "9606.ENSP00000000233 9606.ENSP00000363308\n",
      "9606.ENSP00000000233 9606.ENSP00000339299\n",
      "9606.ENSP00000000233 9606.ENSP00000263238\n"
     ]
    },
    {
     "name": "stderr",
     "output_type": "stream",
     "text": [
      "813it [00:08, 93.02it/s]"
     ]
    },
    {
     "name": "stdout",
     "output_type": "stream",
     "text": [
      "9606.ENSP00000000233 9606.ENSP00000343871\n",
      "9606.ENSP00000000233 9606.ENSP00000367629\n",
      "9606.ENSP00000000233 9606.ENSP00000349259\n",
      "9606.ENSP00000000233 9606.ENSP00000271732\n",
      "9606.ENSP00000000233 9606.ENSP00000320543\n",
      "9606.ENSP00000000233 9606.ENSP00000270142\n",
      "9606.ENSP00000000233 9606.ENSP00000323421\n",
      "9606.ENSP00000000233 9606.ENSP00000239440\n",
      "9606.ENSP00000000233 9606.ENSP00000354720\n",
      "9606.ENSP00000000233 9606.ENSP00000355090\n",
      "9606.ENSP00000000233 9606.ENSP00000346671\n",
      "9606.ENSP00000000233 9606.ENSP00000365643\n",
      "9606.ENSP00000000233 9606.ENSP00000365312\n",
      "9606.ENSP00000000233 9606.ENSP00000361177\n",
      "9606.ENSP00000000233 9606.ENSP00000308496\n",
      "9606.ENSP00000000233 9606.ENSP00000251527\n",
      "9606.ENSP00000000233 9606.ENSP00000367747\n",
      "9606.ENSP00000000233 9606.ENSP00000359719\n",
      "9606.ENSP00000000233 9606.ENSP00000380413\n"
     ]
    },
    {
     "name": "stderr",
     "output_type": "stream",
     "text": [
      "834it [00:09, 95.17it/s]"
     ]
    },
    {
     "name": "stdout",
     "output_type": "stream",
     "text": [
      "9606.ENSP00000000233 9606.ENSP00000253188\n",
      "9606.ENSP00000000233 9606.ENSP00000334223\n",
      "9606.ENSP00000000233 9606.ENSP00000338173\n",
      "9606.ENSP00000000233 9606.ENSP00000340274\n",
      "9606.ENSP00000000233 9606.ENSP00000268182\n",
      "9606.ENSP00000000233 9606.ENSP00000449241\n",
      "9606.ENSP00000000233 9606.ENSP00000381565\n",
      "9606.ENSP00000000233 9606.ENSP00000361475\n",
      "9606.ENSP00000000233 9606.ENSP00000246166\n",
      "9606.ENSP00000000233 9606.ENSP00000397351\n",
      "9606.ENSP00000000233 9606.ENSP00000349877\n",
      "9606.ENSP00000000233 9606.ENSP00000298229\n",
      "9606.ENSP00000000233 9606.ENSP00000461785\n",
      "9606.ENSP00000000233 9606.ENSP00000266712\n",
      "9606.ENSP00000000233 9606.ENSP00000223023\n",
      "9606.ENSP00000000233 9606.ENSP00000387699\n",
      "9606.ENSP00000000233 9606.ENSP00000427793\n",
      "9606.ENSP00000000233 9606.ENSP00000441158\n",
      "9606.ENSP00000000233 9606.ENSP00000355995\n",
      "9606.ENSP00000000233"
     ]
    },
    {
     "name": "stderr",
     "output_type": "stream",
     "text": [
      "854it [00:09, 94.43it/s]"
     ]
    },
    {
     "name": "stdout",
     "output_type": "stream",
     "text": [
      " 9606.ENSP00000379412\n",
      "9606.ENSP00000000233 9606.ENSP00000230124\n",
      "9606.ENSP00000000233 9606.ENSP00000366156\n",
      "9606.ENSP00000000233 9606.ENSP00000398481\n",
      "9606.ENSP00000000233 9606.ENSP00000362634\n",
      "9606.ENSP00000000233 9606.ENSP00000233616\n",
      "9606.ENSP00000000233 9606.ENSP00000402515\n",
      "9606.ENSP00000000233 9606.ENSP00000414150\n",
      "9606.ENSP00000000233 9606.ENSP00000295463\n",
      "9606.ENSP00000000233 9606.ENSP00000380185\n",
      "9606.ENSP00000000233 9606.ENSP00000328083\n",
      "9606.ENSP00000000233 9606.ENSP00000358596\n",
      "9606.ENSP00000000233 9606.ENSP00000229239\n",
      "9606.ENSP00000000233 9606.ENSP00000405926\n",
      "9606.ENSP00000000233 9606.ENSP00000357669\n",
      "9606.ENSP00000000233 9606.ENSP00000218249\n",
      "9606.ENSP00000000233 9606.ENSP00000347140\n",
      "9606.ENSP00000000233 9606.ENSP00000306496\n",
      "9606.ENSP00000000233 9606.ENSP00000268613\n",
      "9606.ENSP00000000233 9606.ENSP00000270861\n",
      "9606.ENSP00000000233 9606.ENSP00000315410\n",
      "9606.ENSP00000000233 9606.ENSP00000444561\n",
      "9606.ENSP00000000233"
     ]
    },
    {
     "name": "stderr",
     "output_type": "stream",
     "text": [
      "874it [00:09, 87.46it/s]"
     ]
    },
    {
     "name": "stdout",
     "output_type": "stream",
     "text": [
      " 9606.ENSP00000356705\n",
      "9606.ENSP00000000233 9606.ENSP00000375810\n",
      "9606.ENSP00000000233 9606.ENSP00000377027\n",
      "9606.ENSP00000000233 9606.ENSP00000351475\n",
      "9606.ENSP00000000233 9606.ENSP00000357219\n",
      "9606.ENSP00000000233 9606.ENSP00000272217\n",
      "9606.ENSP00000000233 9606.ENSP00000440207\n",
      "9606.ENSP00000000233 9606.ENSP00000407586\n",
      "9606.ENSP00000000233 9606.ENSP00000362386\n",
      "9606.ENSP00000000233 9606.ENSP00000428564\n",
      "9606.ENSP00000000233 9606.ENSP00000429900\n",
      "9606.ENSP00000000233 9606.ENSP00000256682\n",
      "9606.ENSP00000000233 9606.ENSP00000244769\n",
      "9606.ENSP00000000233 9606.ENSP00000405965\n",
      "9606.ENSP00000000233 9606.ENSP00000357177\n",
      "9606.ENSP00000000233 9606.ENSP00000268989\n"
     ]
    },
    {
     "name": "stderr",
     "output_type": "stream",
     "text": [
      "892it [00:09, 85.93it/s]"
     ]
    },
    {
     "name": "stdout",
     "output_type": "stream",
     "text": [
      "9606.ENSP00000000233 9606.ENSP00000276410\n",
      "9606.ENSP00000000233 9606.ENSP00000477707\n",
      "9606.ENSP00000000233 9606.ENSP00000273047\n",
      "9606.ENSP00000000233 9606.ENSP00000354739\n",
      "9606.ENSP00000000233 9606.ENSP00000317469\n",
      "9606.ENSP00000000233 9606.ENSP00000378743\n",
      "9606.ENSP00000000233 9606.ENSP00000365201\n",
      "9606.ENSP00000000233 9606.ENSP00000309794\n",
      "9606.ENSP00000000233 9606.ENSP00000450385\n",
      "9606.ENSP00000000233 9606.ENSP00000234313\n",
      "9606.ENSP00000000233 9606.ENSP00000397441\n",
      "9606.ENSP00000000233 9606.ENSP00000377284\n",
      "9606.ENSP00000000233 9606.ENSP00000400717\n",
      "9606.ENSP00000000233 9606.ENSP00000350348\n",
      "9606.ENSP00000000233 9606.ENSP00000279387\n",
      "9606.ENSP00000000233 9606.ENSP00000387246\n"
     ]
    },
    {
     "name": "stderr",
     "output_type": "stream",
     "text": [
      "912it [00:09, 90.07it/s]"
     ]
    },
    {
     "name": "stdout",
     "output_type": "stream",
     "text": [
      "9606.ENSP00000000233 9606.ENSP00000262039\n",
      "9606.ENSP00000000233 9606.ENSP00000398131\n",
      "9606.ENSP00000000233 9606.ENSP00000355500\n",
      "9606.ENSP00000000233 9606.ENSP00000480443\n",
      "9606.ENSP00000000233 9606.ENSP00000279068\n",
      "9606.ENSP00000000233 9606.ENSP00000255136\n",
      "9606.ENSP00000000233 9606.ENSP00000354558\n",
      "9606.ENSP00000000233 9606.ENSP00000155926\n",
      "9606.ENSP00000000233 9606.ENSP00000283351\n",
      "9606.ENSP00000000233 9606.ENSP00000376056\n",
      "9606.ENSP00000000233 9606.ENSP00000290277\n",
      "9606.ENSP00000000233 9606.ENSP00000369127\n",
      "9606.ENSP00000000233 9606.ENSP00000264710\n",
      "9606.ENSP00000000233 9606.ENSP00000361731\n",
      "9606.ENSP00000000233 9606.ENSP00000446955\n",
      "9606.ENSP00000000233 9606.ENSP00000258201\n",
      "9606.ENSP00000000233 9606.ENSP00000446271\n",
      "9606.ENSP00000000233 9606.ENSP00000236192\n",
      "9606.ENSP00000000233 9606.ENSP00000464342\n"
     ]
    },
    {
     "name": "stderr",
     "output_type": "stream",
     "text": [
      "931it [00:10, 88.21it/s]"
     ]
    },
    {
     "name": "stdout",
     "output_type": "stream",
     "text": [
      "9606.ENSP00000000233 9606.ENSP00000429969\n",
      "9606.ENSP00000000233 9606.ENSP00000275493\n",
      "9606.ENSP00000000233 9606.ENSP00000341779\n",
      "9606.ENSP00000000233 9606.ENSP00000358019\n",
      "9606.ENSP00000000233 9606.ENSP00000250495\n",
      "9606.ENSP00000000233 9606.ENSP00000333298\n",
      "9606.ENSP00000000233 9606.ENSP00000354251\n",
      "9606.ENSP00000000233 9606.ENSP00000366098\n",
      "9606.ENSP00000000233 9606.ENSP00000253727\n",
      "9606.ENSP00000000233 9606.ENSP00000262646\n",
      "9606.ENSP00000000233 9606.ENSP00000310244\n",
      "9606.ENSP00000000233 9606.ENSP00000365630\n",
      "9606.ENSP00000000233 9606.ENSP00000266037\n",
      "9606.ENSP00000000233 9606.ENSP00000269305\n",
      "9606.ENSP00000000233 9606.ENSP00000304669\n",
      "9606.ENSP00000000233 9606.ENSP00000029410\n",
      "9606.ENSP00000000233 9606.ENSP00000463188\n",
      "9606.ENSP00000000233 9606.ENSP00000384192\n",
      "9606.ENSP00000000233 9606.ENSP00000269051\n",
      "9606.ENSP00000000233 9606.ENSP00000316377\n",
      "9606.ENSP00000000233 9606.ENSP00000255977\n",
      "9606.ENSP00000000233 9606.ENSP00000415090\n",
      "9606.ENSP00000000233 9606.ENSP00000300935\n",
      "9606.ENSP00000000233 9606.ENSP00000394487\n",
      "9606.ENSP00000000233 9606.ENSP00000265563\n",
      "9606.ENSP00000000233 9606.ENSP00000318884\n",
      "9606.ENSP00000000233 9606.ENSP00000466937\n",
      "9606.ENSP00000000233"
     ]
    },
    {
     "name": "stderr",
     "output_type": "stream",
     "text": [
      "951it [00:10, 90.60it/s]"
     ]
    },
    {
     "name": "stdout",
     "output_type": "stream",
     "text": [
      " 9606.ENSP00000236709\n",
      "9606.ENSP00000000233 9606.ENSP00000249363\n",
      "9606.ENSP00000000233 9606.ENSP00000297323\n",
      "9606.ENSP00000000233 9606.ENSP00000273317\n",
      "9606.ENSP00000000233 9606.ENSP00000298048\n",
      "9606.ENSP00000000233 9606.ENSP00000291295\n",
      "9606.ENSP00000000233 9606.ENSP00000232975\n",
      "9606.ENSP00000000233 9606.ENSP00000359000\n",
      "9606.ENSP00000000233 9606.ENSP00000230449\n",
      "9606.ENSP00000000233 9606.ENSP00000386741\n",
      "9606.ENSP00000000233 9606.ENSP00000232461\n",
      "9606.ENSP00000000233 9606.ENSP00000362730\n",
      "9606.ENSP00000000233 9606.ENSP00000326042\n",
      "9606.ENSP00000000233 9606.ENSP00000345656\n",
      "9606.ENSP00000000233 9606.ENSP00000351333\n",
      "9606.ENSP00000000233 9606.ENSP00000205890\n",
      "9606.ENSP00000000233 9606.ENSP00000441913\n",
      "9606.ENSP00000000233"
     ]
    },
    {
     "name": "stderr",
     "output_type": "stream",
     "text": [
      "972it [00:10, 93.13it/s]"
     ]
    },
    {
     "name": "stdout",
     "output_type": "stream",
     "text": [
      " 9606.ENSP00000286548\n",
      "9606.ENSP00000000233 9606.ENSP00000362608\n",
      "9606.ENSP00000000233 9606.ENSP00000327801\n",
      "9606.ENSP00000000233 9606.ENSP00000226284\n",
      "9606.ENSP00000000233 9606.ENSP00000261558\n",
      "9606.ENSP00000000233 9606.ENSP00000378957\n",
      "9606.ENSP00000000233 9606.ENSP00000225941\n",
      "9606.ENSP00000000233 9606.ENSP00000257663\n",
      "9606.ENSP00000000233 9606.ENSP00000347538\n",
      "9606.ENSP00000000233 9606.ENSP00000464443\n",
      "9606.ENSP00000000233 9606.ENSP00000258098\n",
      "9606.ENSP00000000233 9606.ENSP00000012443\n",
      "9606.ENSP00000000233 9606.ENSP00000326342\n",
      "9606.ENSP00000000233 9606.ENSP00000311165\n",
      "9606.ENSP00000000233 9606.ENSP00000222792\n",
      "9606.ENSP00000000233 9606.ENSP00000324856\n",
      "9606.ENSP00000000233 9606.ENSP00000343405\n",
      "9606.ENSP00000000233 9606.ENSP00000161006\n",
      "9606.ENSP00000000233"
     ]
    },
    {
     "name": "stderr",
     "output_type": "stream",
     "text": [
      "992it [00:10, 90.05it/s]"
     ]
    },
    {
     "name": "stdout",
     "output_type": "stream",
     "text": [
      " 9606.ENSP00000409667\n",
      "9606.ENSP00000000233 9606.ENSP00000245157\n",
      "9606.ENSP00000000233 9606.ENSP00000346762\n",
      "9606.ENSP00000000233 9606.ENSP00000259371\n",
      "9606.ENSP00000000233 9606.ENSP00000279022\n",
      "9606.ENSP00000000233 9606.ENSP00000360532\n",
      "9606.ENSP00000000233 9606.ENSP00000335193\n",
      "9606.ENSP00000000233 9606.ENSP00000265070\n",
      "9606.ENSP00000000233 9606.ENSP00000240100\n",
      "9606.ENSP00000000233 9606.ENSP00000324573\n",
      "9606.ENSP00000000233 9606.ENSP00000355645\n",
      "9606.ENSP00000000233 9606.ENSP00000481038\n",
      "9606.ENSP00000000233 9606.ENSP00000221855\n",
      "9606.ENSP00000000233 9606.ENSP00000216492\n",
      "9606.ENSP00000000233 9606.ENSP00000350911\n",
      "9606.ENSP00000000233 9606.ENSP00000046087\n",
      "9606.ENSP00000000233 9606.ENSP00000369436\n",
      "9606.ENSP00000000233 9606.ENSP00000434442\n",
      "9606.ENSP00000000233 9606.ENSP00000386921\n"
     ]
    },
    {
     "name": "stderr",
     "output_type": "stream",
     "text": [
      "\r",
      "1002it [00:10, 90.30it/s]"
     ]
    },
    {
     "name": "stdout",
     "output_type": "stream",
     "text": [
      "9606.ENSP00000000233 9606.ENSP00000371084\n",
      "9606.ENSP00000000233 9606.ENSP00000296674\n",
      "9606.ENSP00000000233 9606.ENSP00000371554\n",
      "9606.ENSP00000000233 9606.ENSP00000355966\n",
      "9606.ENSP00000000233 9606.ENSP00000262305\n",
      "9606.ENSP00000000233 9606.ENSP00000393241\n",
      "9606.ENSP00000000233 9606.ENSP00000223641\n",
      "9606.ENSP00000000233 9606.ENSP00000242067\n",
      "9606.ENSP00000000233 9606.ENSP00000483825\n",
      "9606.ENSP00000000233 9606.ENSP00000254066\n",
      "9606.ENSP00000000233 9606.ENSP00000343658\n",
      "9606.ENSP00000000233 9606.ENSP00000386541\n",
      "9606.ENSP00000000233 9606.ENSP00000263270\n",
      "9606.ENSP00000000233 9606.ENSP00000360672\n",
      "9606.ENSP00000000233 9606.ENSP00000377769\n",
      "9606.ENSP00000000233 9606.ENSP00000368758\n",
      "9606.ENSP00000000233 9606.ENSP00000324127\n",
      "9606.ENSP00000000233 9606.ENSP00000352601\n",
      "9606.ENSP00000000233 9606.ENSP00000367208\n"
     ]
    },
    {
     "name": "stderr",
     "output_type": "stream",
     "text": [
      "1032it [00:11, 89.76it/s]"
     ]
    },
    {
     "name": "stdout",
     "output_type": "stream",
     "text": [
      "9606.ENSP00000000233 9606.ENSP00000344871\n",
      "9606.ENSP00000000233 9606.ENSP00000256001\n",
      "9606.ENSP00000000233 9606.ENSP00000318821\n",
      "9606.ENSP00000000233 9606.ENSP00000320563\n",
      "9606.ENSP00000000233 9606.ENSP00000354398\n",
      "9606.ENSP00000000233 9606.ENSP00000335083\n",
      "9606.ENSP00000000233 9606.ENSP00000369755\n",
      "9606.ENSP00000000233 9606.ENSP00000468348\n",
      "9606.ENSP00000000233 9606.ENSP00000343244\n",
      "9606.ENSP00000000233 9606.ENSP00000360683\n",
      "9606.ENSP00000000233 9606.ENSP00000391723\n",
      "9606.ENSP00000000233 9606.ENSP00000421280\n",
      "9606.ENSP00000000233 9606.ENSP00000350036\n",
      "9606.ENSP00000000233 9606.ENSP00000378338\n",
      "9606.ENSP00000000233 9606.ENSP00000203556\n",
      "9606.ENSP00000000233 9606.ENSP00000302640\n",
      "9606.ENSP00000000233 9606.ENSP00000373450\n",
      "9606.ENSP00000000233 9606.ENSP00000326031\n",
      "9606.ENSP00000000233 9606.ENSP00000307634\n",
      "9606.ENSP00000000233 9606.ENSP00000348461\n"
     ]
    },
    {
     "name": "stderr",
     "output_type": "stream",
     "text": [
      "1054it [00:11, 96.34it/s]"
     ]
    },
    {
     "name": "stdout",
     "output_type": "stream",
     "text": [
      "9606.ENSP00000000233 9606.ENSP00000261845\n",
      "9606.ENSP00000000233 9606.ENSP00000357564\n",
      "9606.ENSP00000000233 9606.ENSP00000350512\n",
      "9606.ENSP00000000233 9606.ENSP00000379210\n",
      "9606.ENSP00000000233 9606.ENSP00000219409\n",
      "9606.ENSP00000000233 9606.ENSP00000078429\n",
      "9606.ENSP00000000233 9606.ENSP00000339001\n",
      "9606.ENSP00000000233 9606.ENSP00000367343\n",
      "9606.ENSP00000000233 9606.ENSP00000264399\n",
      "9606.ENSP00000000233 9606.ENSP00000281419\n",
      "9606.ENSP00000000233 9606.ENSP00000238789\n",
      "9606.ENSP00000000233 9606.ENSP00000354927\n",
      "9606.ENSP00000000233 9606.ENSP00000351926\n",
      "9606.ENSP00000000233 9606.ENSP00000337632\n",
      "9606.ENSP00000000233 9606.ENSP00000229795\n",
      "9606.ENSP00000000233 9606.ENSP00000356621\n",
      "9606.ENSP00000000233 9606.ENSP00000199320\n",
      "9606.ENSP00000000233 9606.ENSP00000432660\n",
      "9606.ENSP00000000233 9606.ENSP00000222547\n",
      "9606.ENSP00000000233 9606.ENSP00000380958\n",
      "9606.ENSP00000000233 9606.ENSP00000361021\n",
      "9606.ENSP00000000233 9606.ENSP00000447053\n",
      "9606.ENSP00000000233 9606.ENSP00000273666\n",
      "9606.ENSP00000000233 9606.ENSP00000311005\n",
      "9606.ENSP00000000233 9606.ENSP00000310521\n",
      "9606.ENSP00000000233 9606.ENSP00000225567\n",
      "9606.ENSP00000000233 9606.ENSP00000360290\n"
     ]
    },
    {
     "name": "stderr",
     "output_type": "stream",
     "text": [
      "1076it [00:11, 100.13it/s]"
     ]
    },
    {
     "name": "stdout",
     "output_type": "stream",
     "text": [
      "9606.ENSP00000000233 9606.ENSP00000381823\n",
      "9606.ENSP00000000233 9606.ENSP00000357869\n",
      "9606.ENSP00000000233 9606.ENSP00000449089\n",
      "9606.ENSP00000000233 9606.ENSP00000358582\n",
      "9606.ENSP00000000233 9606.ENSP00000309415\n",
      "9606.ENSP00000000233 9606.ENSP00000458162\n",
      "9606.ENSP00000000233 9606.ENSP00000374484\n",
      "9606.ENSP00000000233 9606.ENSP00000436785\n",
      "9606.ENSP00000000233 9606.ENSP00000253861\n",
      "9606.ENSP00000000233 9606.ENSP00000377250\n",
      "9606.ENSP00000000233 9606.ENSP00000345206\n",
      "9606.ENSP00000000233 9606.ENSP00000479134\n",
      "9606.ENSP00000000233 9606.ENSP00000397133\n",
      "9606.ENSP00000000233 9606.ENSP00000363054\n",
      "9606.ENSP00000000233 9606.ENSP00000283426\n",
      "9606.ENSP00000000233 9606.ENSP00000260643\n",
      "9606.ENSP00000000233 9606.ENSP00000236671\n",
      "9606.ENSP00000000233 9606.ENSP00000431800\n",
      "9606.ENSP00000000233 9606.ENSP00000353920\n",
      "9606.ENSP00000000233 9606.ENSP00000343027\n"
     ]
    },
    {
     "name": "stderr",
     "output_type": "stream",
     "text": [
      "\r",
      "1087it [00:11, 99.63it/s] "
     ]
    },
    {
     "name": "stdout",
     "output_type": "stream",
     "text": [
      "9606.ENSP00000000233 9606.ENSP00000338766\n",
      "9606.ENSP00000000233 9606.ENSP00000310551\n",
      "9606.ENSP00000000233 9606.ENSP00000407213\n",
      "9606.ENSP00000000233 9606.ENSP00000222305\n",
      "9606.ENSP00000000233 9606.ENSP00000314615\n",
      "9606.ENSP00000000233 9606.ENSP00000379203\n",
      "9606.ENSP00000000233 9606.ENSP00000337451\n",
      "9606.ENSP00000000233 9606.ENSP00000272298\n",
      "9606.ENSP00000000233 9606.ENSP00000360994\n",
      "9606.ENSP00000000233 9606.ENSP00000311505\n",
      "9606.ENSP00000000233 9606.ENSP00000357048\n",
      "9606.ENSP00000000233 9606.ENSP00000255006\n",
      "9606.ENSP00000000233 9606.ENSP00000362656\n",
      "9606.ENSP00000000233 9606.ENSP00000441875\n",
      "9606.ENSP00000000233 9606.ENSP00000351682\n",
      "9606.ENSP00000000233 9606.ENSP00000248975\n",
      "9606.ENSP00000000233 9606.ENSP00000261332\n",
      "9606.ENSP00000000233 9606.ENSP00000360874\n"
     ]
    },
    {
     "name": "stderr",
     "output_type": "stream",
     "text": [
      "1108it [00:12, 86.61it/s]"
     ]
    },
    {
     "name": "stdout",
     "output_type": "stream",
     "text": [
      "9606.ENSP00000000233 9606.ENSP00000314030\n",
      "9606.ENSP00000000233 9606.ENSP00000255882\n",
      "9606.ENSP00000000233 9606.ENSP00000250244\n",
      "9606.ENSP00000000233 9606.ENSP00000349560\n",
      "9606.ENSP00000000233 9606.ENSP00000357651\n",
      "9606.ENSP00000000233 9606.ENSP00000377148\n",
      "9606.ENSP00000000233 9606.ENSP00000480763\n",
      "9606.ENSP00000000233 9606.ENSP00000480853\n",
      "9606.ENSP00000000233 9606.ENSP00000339063\n",
      "9606.ENSP00000000233 9606.ENSP00000285039\n",
      "9606.ENSP00000000233 9606.ENSP00000411197\n",
      "9606.ENSP00000000233 9606.ENSP00000446830\n",
      "9606.ENSP00000000233 9606.ENSP00000363668\n",
      "9606.ENSP00000000233 9606.ENSP00000262958\n",
      "9606.ENSP00000000233 9606.ENSP00000303057\n",
      "9606.ENSP00000000233 9606.ENSP00000439012\n",
      "9606.ENSP00000000233"
     ]
    },
    {
     "name": "stderr",
     "output_type": "stream",
     "text": [
      "1127it [00:12, 88.49it/s]"
     ]
    },
    {
     "name": "stdout",
     "output_type": "stream",
     "text": [
      " 9606.ENSP00000217233\n",
      "9606.ENSP00000000233 9606.ENSP00000260526\n",
      "9606.ENSP00000000233 9606.ENSP00000358283\n",
      "9606.ENSP00000000233 9606.ENSP00000243918\n",
      "9606.ENSP00000000233 9606.ENSP00000416125\n",
      "9606.ENSP00000000233 9606.ENSP00000317431\n",
      "9606.ENSP00000000233 9606.ENSP00000483059\n",
      "9606.ENSP00000000233 9606.ENSP00000263125\n",
      "9606.ENSP00000000233 9606.ENSP00000386918\n",
      "9606.ENSP00000000233 9606.ENSP00000353646\n",
      "9606.ENSP00000000233 9606.ENSP00000385000\n",
      "9606.ENSP00000000233 9606.ENSP00000394071\n",
      "9606.ENSP00000000233 9606.ENSP00000385205\n",
      "9606.ENSP00000000233 9606.ENSP00000262494\n",
      "9606.ENSP00000000233 9606.ENSP00000298910\n",
      "9606.ENSP00000000233 9606.ENSP00000379256\n",
      "9606.ENSP00000000233 9606.ENSP00000317272\n",
      "9606.ENSP00000000233 9606.ENSP00000329127\n",
      "9606.ENSP00000000233 9606.ENSP00000353824\n",
      "9606.ENSP00000000233"
     ]
    },
    {
     "name": "stderr",
     "output_type": "stream",
     "text": [
      "1148it [00:12, 94.16it/s]"
     ]
    },
    {
     "name": "stdout",
     "output_type": "stream",
     "text": [
      " 9606.ENSP00000289153\n",
      "9606.ENSP00000000233 9606.ENSP00000263816\n",
      "9606.ENSP00000000233 9606.ENSP00000356825\n",
      "9606.ENSP00000000233 9606.ENSP00000362399\n",
      "9606.ENSP00000000233 9606.ENSP00000241463\n",
      "9606.ENSP00000000233 9606.ENSP00000339754\n",
      "9606.ENSP00000000233 9606.ENSP00000298316\n",
      "9606.ENSP00000000233 9606.ENSP00000252603\n",
      "9606.ENSP00000000233 9606.ENSP00000373684\n",
      "9606.ENSP00000000233 9606.ENSP00000300504\n",
      "9606.ENSP00000000233 9606.ENSP00000410059\n",
      "9606.ENSP00000000233 9606.ENSP00000358867\n",
      "9606.ENSP00000000233 9606.ENSP00000300289\n",
      "9606.ENSP00000000233 9606.ENSP00000260600\n",
      "9606.ENSP00000000233 9606.ENSP00000362751\n",
      "9606.ENSP00000000233 9606.ENSP00000327336\n",
      "9606.ENSP00000000233 9606.ENSP00000365891\n",
      "9606.ENSP00000000233 9606.ENSP00000401264\n",
      "9606.ENSP00000000233 9606.ENSP00000437783\n",
      "9606.ENSP00000000233 9606.ENSP00000304102\n",
      "9606.ENSP00000000233 9606.ENSP00000333547\n",
      "9606.ENSP00000000233 9606.ENSP00000285243\n",
      "9606.ENSP00000000233 9606.ENSP00000386538\n",
      "9606.ENSP00000000233 9606.ENSP00000261839\n"
     ]
    },
    {
     "name": "stderr",
     "output_type": "stream",
     "text": [
      "1168it [00:12, 89.85it/s]"
     ]
    },
    {
     "name": "stdout",
     "output_type": "stream",
     "text": [
      "9606.ENSP00000000233 9606.ENSP00000262713\n",
      "9606.ENSP00000000233 9606.ENSP00000353292\n",
      "9606.ENSP00000000233 9606.ENSP00000384610\n",
      "9606.ENSP00000000233 9606.ENSP00000442460\n",
      "9606.ENSP00000000233 9606.ENSP00000216133\n",
      "9606.ENSP00000000233 9606.ENSP00000379287\n",
      "9606.ENSP00000000233 9606.ENSP00000300584\n",
      "9606.ENSP00000000233 9606.ENSP00000226004\n",
      "9606.ENSP00000000233 9606.ENSP00000378332\n",
      "9606.ENSP00000000233 9606.ENSP00000056217\n",
      "9606.ENSP00000000233 9606.ENSP00000337261\n",
      "9606.ENSP00000000233 9606.ENSP00000345957\n",
      "9606.ENSP00000000233 9606.ENSP00000386213\n",
      "9606.ENSP00000000233 9606.ENSP00000223500\n",
      "9606.ENSP00000000233 9606.ENSP00000362014\n",
      "9606.ENSP00000000233 9606.ENSP00000367828\n",
      "9606.ENSP00000000233 9606.ENSP00000380942\n",
      "9606.ENSP00000000233 9606.ENSP00000225724\n",
      "9606.ENSP00000000233"
     ]
    },
    {
     "name": "stderr",
     "output_type": "stream",
     "text": [
      "1189it [00:12, 93.76it/s]"
     ]
    },
    {
     "name": "stdout",
     "output_type": "stream",
     "text": [
      " 9606.ENSP00000403636\n",
      "9606.ENSP00000000233 9606.ENSP00000384869\n",
      "9606.ENSP00000000233 9606.ENSP00000369784\n",
      "9606.ENSP00000000233 9606.ENSP00000261303\n",
      "9606.ENSP00000000233 9606.ENSP00000323880\n",
      "9606.ENSP00000000233 9606.ENSP00000462468\n",
      "9606.ENSP00000000233 9606.ENSP00000398560\n",
      "9606.ENSP00000000233 9606.ENSP00000479153\n",
      "9606.ENSP00000000233 9606.ENSP00000246194\n",
      "9606.ENSP00000000233 9606.ENSP00000357129\n",
      "9606.ENSP00000000233 9606.ENSP00000326699\n",
      "9606.ENSP00000000233 9606.ENSP00000337838\n",
      "9606.ENSP00000000233 9606.ENSP00000355026\n",
      "9606.ENSP00000000233 9606.ENSP00000322419\n",
      "9606.ENSP00000000233 9606.ENSP00000287600\n",
      "9606.ENSP00000000233 9606.ENSP00000277120\n",
      "9606.ENSP00000000233 9606.ENSP00000477781\n",
      "9606.ENSP00000000233 9606.ENSP00000444743\n",
      "9606.ENSP00000000233 9606.ENSP00000306010\n",
      "9606.ENSP00000000233"
     ]
    },
    {
     "name": "stderr",
     "output_type": "stream",
     "text": [
      "1211it [00:13, 95.67it/s]"
     ]
    },
    {
     "name": "stdout",
     "output_type": "stream",
     "text": [
      " 9606.ENSP00000402394\n",
      "9606.ENSP00000000233 9606.ENSP00000303145\n",
      "9606.ENSP00000000233 9606.ENSP00000273859\n",
      "9606.ENSP00000000233 9606.ENSP00000216127\n",
      "9606.ENSP00000000233 9606.ENSP00000470248\n",
      "9606.ENSP00000000233 9606.ENSP00000292807\n",
      "9606.ENSP00000000233 9606.ENSP00000288368\n",
      "9606.ENSP00000000233 9606.ENSP00000410111\n",
      "9606.ENSP00000000233 9606.ENSP00000347979\n",
      "9606.ENSP00000000233 9606.ENSP00000376077\n",
      "9606.ENSP00000000233 9606.ENSP00000360883\n",
      "9606.ENSP00000000233 9606.ENSP00000379712\n",
      "9606.ENSP00000000233 9606.ENSP00000286827\n",
      "9606.ENSP00000000233 9606.ENSP00000265970\n",
      "9606.ENSP00000000233 9606.ENSP00000340954\n",
      "9606.ENSP00000000233 9606.ENSP00000469759\n",
      "9606.ENSP00000000233 9606.ENSP00000265080\n",
      "9606.ENSP00000000233 9606.ENSP00000482548\n",
      "9606.ENSP00000000233 9606.ENSP00000312126\n",
      "9606.ENSP00000000233 9606.ENSP00000321266\n"
     ]
    },
    {
     "name": "stderr",
     "output_type": "stream",
     "text": [
      "1231it [00:13, 92.82it/s]"
     ]
    },
    {
     "name": "stdout",
     "output_type": "stream",
     "text": [
      "9606.ENSP00000000233 9606.ENSP00000313752\n",
      "9606.ENSP00000000233 9606.ENSP00000378217\n",
      "9606.ENSP00000000233 9606.ENSP00000369703\n",
      "9606.ENSP00000000233 9606.ENSP00000329967\n",
      "9606.ENSP00000000233 9606.ENSP00000393978\n",
      "9606.ENSP00000000233 9606.ENSP00000310561\n",
      "9606.ENSP00000000233 9606.ENSP00000355511\n",
      "9606.ENSP00000000233 9606.ENSP00000343144\n",
      "9606.ENSP00000000233 9606.ENSP00000363676\n",
      "9606.ENSP00000000233 9606.ENSP00000261890\n",
      "9606.ENSP00000000233 9606.ENSP00000249071\n",
      "9606.ENSP00000000233 9606.ENSP00000413606\n",
      "9606.ENSP00000000233 9606.ENSP00000340935\n",
      "9606.ENSP00000000233 9606.ENSP00000296795\n",
      "9606.ENSP00000000233 9606.ENSP00000215754\n",
      "9606.ENSP00000000233 9606.ENSP00000403323\n",
      "9606.ENSP00000000233 9606.ENSP00000366672\n",
      "9606.ENSP00000000233 9606.ENSP00000219313\n",
      "9606.ENSP00000000233 9606.ENSP00000335029\n",
      "9606.ENSP00000000233 9606.ENSP00000277575\n",
      "9606.ENSP00000000233 9606.ENSP00000288235\n",
      "9606.ENSP00000000233 9606.ENSP00000365005\n",
      "9606.ENSP00000000233 9606.ENSP00000386857\n"
     ]
    },
    {
     "name": "stderr",
     "output_type": "stream",
     "text": [
      "1251it [00:13, 92.05it/s]"
     ]
    },
    {
     "name": "stdout",
     "output_type": "stream",
     "text": [
      "9606.ENSP00000000233 9606.ENSP00000329219\n",
      "9606.ENSP00000000233 9606.ENSP00000264431\n",
      "9606.ENSP00000000233 9606.ENSP00000320935\n",
      "9606.ENSP00000000233 9606.ENSP00000330945\n",
      "9606.ENSP00000000233 9606.ENSP00000383118\n",
      "9606.ENSP00000000233 9606.ENSP00000482620\n",
      "9606.ENSP00000000233 9606.ENSP00000289473\n",
      "9606.ENSP00000000233 9606.ENSP00000435370\n",
      "9606.ENSP00000000233 9606.ENSP00000312442\n",
      "9606.ENSP00000000233 9606.ENSP00000360891\n",
      "9606.ENSP00000000233 9606.ENSP00000346148\n",
      "9606.ENSP00000000233 9606.ENSP00000285928\n",
      "9606.ENSP00000000233 9606.ENSP00000265840\n",
      "9606.ENSP00000000233 9606.ENSP00000267202\n",
      "9606.ENSP00000000233 9606.ENSP00000249923\n",
      "9606.ENSP00000000233 9606.ENSP00000402373\n",
      "9606.ENSP00000000233 9606.ENSP00000474246\n",
      "9606.ENSP00000000233"
     ]
    },
    {
     "name": "stderr",
     "output_type": "stream",
     "text": [
      "1271it [00:13, 88.59it/s]"
     ]
    },
    {
     "name": "stdout",
     "output_type": "stream",
     "text": [
      " 9606.ENSP00000257017\n",
      "9606.ENSP00000000233 9606.ENSP00000371267\n",
      "9606.ENSP00000000233 9606.ENSP00000255082\n",
      "9606.ENSP00000000233 9606.ENSP00000217402\n",
      "9606.ENSP00000000233 9606.ENSP00000406873\n",
      "9606.ENSP00000000233 9606.ENSP00000418447\n",
      "9606.ENSP00000000233 9606.ENSP00000368439\n",
      "9606.ENSP00000000233 9606.ENSP00000356155\n",
      "9606.ENSP00000000233 9606.ENSP00000299759\n",
      "9606.ENSP00000000233 9606.ENSP00000248600\n",
      "9606.ENSP00000000233 9606.ENSP00000356587\n",
      "9606.ENSP00000000233 9606.ENSP00000356389\n",
      "9606.ENSP00000000233 9606.ENSP00000388169\n",
      "9606.ENSP00000000233 9606.ENSP00000349588\n",
      "9606.ENSP00000000233 9606.ENSP00000347602\n",
      "9606.ENSP00000000233 9606.ENSP00000380638\n",
      "9606.ENSP00000000233 9606.ENSP00000409231\n",
      "9606.ENSP00000000233 9606.ENSP00000376410\n",
      "9606.ENSP00000000233 9606.ENSP00000382544\n",
      "9606.ENSP00000000233 9606.ENSP00000301071\n",
      "9606.ENSP00000000233 9606.ENSP00000376132\n",
      "9606.ENSP00000000233 9606.ENSP00000020673\n",
      "9606.ENSP00000000233 9606.ENSP00000221543\n"
     ]
    },
    {
     "name": "stderr",
     "output_type": "stream",
     "text": [
      "1290it [00:14, 91.49it/s]"
     ]
    },
    {
     "name": "stdout",
     "output_type": "stream",
     "text": [
      "9606.ENSP00000000233 9606.ENSP00000413156\n",
      "9606.ENSP00000000233 9606.ENSP00000360431\n",
      "9606.ENSP00000000233 9606.ENSP00000262187\n",
      "9606.ENSP00000000233 9606.ENSP00000342952\n",
      "9606.ENSP00000000233 9606.ENSP00000260363\n",
      "9606.ENSP00000000233 9606.ENSP00000376652\n",
      "9606.ENSP00000000233 9606.ENSP00000457991\n",
      "9606.ENSP00000000233 9606.ENSP00000362566\n",
      "9606.ENSP00000000233 9606.ENSP00000360214\n",
      "9606.ENSP00000000233 9606.ENSP00000262948\n",
      "9606.ENSP00000000233 9606.ENSP00000359871\n",
      "9606.ENSP00000000233 9606.ENSP00000332576\n",
      "9606.ENSP00000000233 9606.ENSP00000274963\n",
      "9606.ENSP00000000233 9606.ENSP00000220676\n",
      "9606.ENSP00000000233 9606.ENSP00000223073\n",
      "9606.ENSP00000000233 9606.ENSP00000443654\n",
      "9606.ENSP00000000233 9606.ENSP00000325369\n",
      "9606.ENSP00000000233 9606.ENSP00000375081\n",
      "9606.ENSP00000000233"
     ]
    },
    {
     "name": "stderr",
     "output_type": "stream",
     "text": [
      "1310it [00:14, 91.58it/s]"
     ]
    },
    {
     "name": "stdout",
     "output_type": "stream",
     "text": [
      " 9606.ENSP00000274710\n",
      "9606.ENSP00000000233 9606.ENSP00000341289\n",
      "9606.ENSP00000000233 9606.ENSP00000361803\n",
      "9606.ENSP00000000233 9606.ENSP00000361636\n",
      "9606.ENSP00000000233 9606.ENSP00000312999\n",
      "9606.ENSP00000000233 9606.ENSP00000381876\n",
      "9606.ENSP00000000233 9606.ENSP00000245680\n",
      "9606.ENSP00000000233 9606.ENSP00000256261\n",
      "9606.ENSP00000000233 9606.ENSP00000279281\n",
      "9606.ENSP00000000233 9606.ENSP00000418401\n",
      "9606.ENSP00000000233 9606.ENSP00000350896\n",
      "9606.ENSP00000000233 9606.ENSP00000215832\n",
      "9606.ENSP00000000233 9606.ENSP00000297044\n",
      "9606.ENSP00000000233 9606.ENSP00000295888\n",
      "9606.ENSP00000000233 9606.ENSP00000279036\n",
      "9606.ENSP00000000233 9606.ENSP00000393776\n",
      "9606.ENSP00000000233 9606.ENSP00000301522\n"
     ]
    },
    {
     "name": "stderr",
     "output_type": "stream",
     "text": [
      "1332it [00:14, 95.33it/s]"
     ]
    },
    {
     "name": "stdout",
     "output_type": "stream",
     "text": [
      "9606.ENSP00000000233 9606.ENSP00000387784\n",
      "9606.ENSP00000000233 9606.ENSP00000392718\n",
      "9606.ENSP00000000233 9606.ENSP00000368646\n",
      "9606.ENSP00000000233 9606.ENSP00000347244\n",
      "9606.ENSP00000000233 9606.ENSP00000274364\n",
      "9606.ENSP00000000233 9606.ENSP00000350757\n",
      "9606.ENSP00000000233 9606.ENSP00000263265\n",
      "9606.ENSP00000000412 9606.ENSP00000011653\n",
      "9606.ENSP00000000412 9606.ENSP00000158771\n",
      "9606.ENSP00000000412 9606.ENSP00000475750\n",
      "9606.ENSP00000000412 9606.ENSP00000386104\n",
      "9606.ENSP00000000412 9606.ENSP00000292807\n",
      "9606.ENSP00000000412 9606.ENSP00000367459\n",
      "9606.ENSP00000000412 9606.ENSP00000295087\n",
      "9606.ENSP00000000412 9606.ENSP00000268613\n",
      "9606.ENSP00000000412 9606.ENSP00000324318\n",
      "9606.ENSP00000000412 9606.ENSP00000451828\n",
      "9606.ENSP00000000412 9606.ENSP00000262225\n",
      "9606.ENSP00000000412 9606.ENSP00000296137\n",
      "9606.ENSP00000000412 9606.ENSP00000306010\n",
      "9606.ENSP00000000412 9606.ENSP00000478479\n",
      "9606.ENSP00000000412 9606.ENSP00000381448\n",
      "9606.ENSP00000000412 9606.ENSP00000229239\n",
      "9606.ENSP00000000412 9606.ENSP00000233616\n",
      "9606.ENSP00000000412 9606.ENSP00000037243\n",
      "9606.ENSP00000000412 9606.ENSP00000355969\n",
      "9606.ENSP00000000412"
     ]
    },
    {
     "name": "stderr",
     "output_type": "stream",
     "text": [
      "1353it [00:14, 97.91it/s]"
     ]
    },
    {
     "name": "stdout",
     "output_type": "stream",
     "text": [
      " 9606.ENSP00000363229\n",
      "9606.ENSP00000000412 9606.ENSP00000264380\n",
      "9606.ENSP00000000412 9606.ENSP00000440005\n",
      "9606.ENSP00000000412 9606.ENSP00000263904\n",
      "9606.ENSP00000000412 9606.ENSP00000325564\n",
      "9606.ENSP00000000412 9606.ENSP00000301178\n",
      "9606.ENSP00000000412 9606.ENSP00000303366\n",
      "9606.ENSP00000000412 9606.ENSP00000381293\n",
      "9606.ENSP00000000412 9606.ENSP00000441158\n",
      "9606.ENSP00000000412 9606.ENSP00000444957\n",
      "9606.ENSP00000000412 9606.ENSP00000362469\n",
      "9606.ENSP00000000412 9606.ENSP00000261263\n",
      "9606.ENSP00000000412 9606.ENSP00000479153\n",
      "9606.ENSP00000000412 9606.ENSP00000227266\n",
      "9606.ENSP00000000412 9606.ENSP00000357480\n",
      "9606.ENSP00000000412 9606.ENSP00000251047\n",
      "9606.ENSP00000000412 9606.ENSP00000184266\n",
      "9606.ENSP00000000412 9606.ENSP00000376792\n",
      "9606.ENSP00000000412 9606.ENSP00000255194\n",
      "9606.ENSP00000000412 9606.ENSP00000269571\n",
      "9606.ENSP00000000412 9606.ENSP00000243776\n",
      "9606.ENSP00000000412 9606.ENSP00000378394\n"
     ]
    },
    {
     "name": "stderr",
     "output_type": "stream",
     "text": [
      "1373it [00:14, 94.96it/s]"
     ]
    },
    {
     "name": "stdout",
     "output_type": "stream",
     "text": [
      "9606.ENSP00000000412 9606.ENSP00000283195\n",
      "9606.ENSP00000000412 9606.ENSP00000237596\n",
      "9606.ENSP00000000412 9606.ENSP00000447378\n",
      "9606.ENSP00000000412 9606.ENSP00000386597\n",
      "9606.ENSP00000000412 9606.ENSP00000349437\n",
      "9606.ENSP00000000412 9606.ENSP00000438399\n",
      "9606.ENSP00000000412 9606.ENSP00000225724\n",
      "9606.ENSP00000000412 9606.ENSP00000383118\n",
      "9606.ENSP00000000412 9606.ENSP00000358211\n",
      "9606.ENSP00000000412 9606.ENSP00000381098\n",
      "9606.ENSP00000000412 9606.ENSP00000363081\n",
      "9606.ENSP00000000412 9606.ENSP00000362680\n",
      "9606.ENSP00000000412 9606.ENSP00000354376\n",
      "9606.ENSP00000000412 9606.ENSP00000431445\n",
      "9606.ENSP00000000412 9606.ENSP00000260197\n",
      "9606.ENSP00000000412 9606.ENSP00000243253\n",
      "9606.ENSP00000000412 9606.ENSP00000359380\n",
      "9606.ENSP00000000412 9606.ENSP00000360645\n",
      "9606.ENSP00000000412 9606.ENSP00000350199\n",
      "9606.ENSP00000000412 9606.ENSP00000218516\n"
     ]
    },
    {
     "name": "stderr",
     "output_type": "stream",
     "text": [
      "1393it [00:15, 91.52it/s]"
     ]
    },
    {
     "name": "stdout",
     "output_type": "stream",
     "text": [
      "9606.ENSP00000000412 9606.ENSP00000354558\n",
      "9606.ENSP00000000412 9606.ENSP00000444201\n",
      "9606.ENSP00000000412 9606.ENSP00000320935\n",
      "9606.ENSP00000000412 9606.ENSP00000328524\n",
      "9606.ENSP00000000412 9606.ENSP00000347839\n",
      "9606.ENSP00000000412 9606.ENSP00000317955\n",
      "9606.ENSP00000000412 9606.ENSP00000256637\n",
      "9606.ENSP00000000412 9606.ENSP00000300055\n",
      "9606.ENSP00000000412 9606.ENSP00000262039\n",
      "9606.ENSP00000000412 9606.ENSP00000263780\n",
      "9606.ENSP00000000412 9606.ENSP00000304051\n",
      "9606.ENSP00000000412 9606.ENSP00000323929\n",
      "9606.ENSP00000000412 9606.ENSP00000354511\n",
      "9606.ENSP00000000412 9606.ENSP00000262288\n",
      "9606.ENSP00000000412 9606.ENSP00000225927\n",
      "9606.ENSP00000000412 9606.ENSP00000216341\n",
      "9606.ENSP00000000412 9606.ENSP00000366395\n",
      "9606.ENSP00000000412 9606.ENSP00000254950\n"
     ]
    },
    {
     "name": "stderr",
     "output_type": "stream",
     "text": [
      "1413it [00:15, 89.32it/s]"
     ]
    },
    {
     "name": "stdout",
     "output_type": "stream",
     "text": [
      "9606.ENSP00000000412 9606.ENSP00000429824\n",
      "9606.ENSP00000000412 9606.ENSP00000353444\n",
      "9606.ENSP00000000412 9606.ENSP00000318147\n",
      "9606.ENSP00000000412 9606.ENSP00000374443\n",
      "9606.ENSP00000000412 9606.ENSP00000259400\n",
      "9606.ENSP00000000412 9606.ENSP00000304422\n",
      "9606.ENSP00000000412 9606.ENSP00000273047\n",
      "9606.ENSP00000000412 9606.ENSP00000261890\n",
      "9606.ENSP00000000412 9606.ENSP00000324628\n",
      "9606.ENSP00000000412 9606.ENSP00000312946\n",
      "9606.ENSP00000000412 9606.ENSP00000454229\n",
      "9606.ENSP00000000412 9606.ENSP00000263054\n",
      "9606.ENSP00000000412 9606.ENSP00000379891\n",
      "9606.ENSP00000000412 9606.ENSP00000256682\n",
      "9606.ENSP00000000412 9606.ENSP00000296684\n",
      "9606.ENSP00000000412 9606.ENSP00000345344\n",
      "9606.ENSP00000000412 9606.ENSP00000386443\n",
      "9606.ENSP00000000412 9606.ENSP00000267622\n"
     ]
    },
    {
     "name": "stderr",
     "output_type": "stream",
     "text": [
      "1434it [00:15, 95.79it/s]"
     ]
    },
    {
     "name": "stdout",
     "output_type": "stream",
     "text": [
      "9606.ENSP00000000412 9606.ENSP00000340466\n",
      "9606.ENSP00000000412 9606.ENSP00000284981\n",
      "9606.ENSP00000000412 9606.ENSP00000313869\n",
      "9606.ENSP00000000412 9606.ENSP00000468424\n",
      "9606.ENSP00000000412 9606.ENSP00000358126\n",
      "9606.ENSP00000000412 9606.ENSP00000417764\n",
      "9606.ENSP00000000412 9606.ENSP00000393559\n",
      "9606.ENSP00000000412 9606.ENSP00000262640\n",
      "9606.ENSP00000000412 9606.ENSP00000362010\n",
      "9606.ENSP00000000412 9606.ENSP00000263864\n",
      "9606.ENSP00000000412 9606.ENSP00000359000\n",
      "9606.ENSP00000000412 9606.ENSP00000366673\n",
      "9606.ENSP00000000412 9606.ENSP00000365131\n",
      "9606.ENSP00000000412 9606.ENSP00000311300\n",
      "9606.ENSP00000000412 9606.ENSP00000413156\n",
      "9606.ENSP00000000412 9606.ENSP00000316454\n",
      "9606.ENSP00000000412 9606.ENSP00000315130\n",
      "9606.ENSP00000000412 9606.ENSP00000314508\n",
      "9606.ENSP00000000412 9606.ENSP00000331201\n",
      "9606.ENSP00000000412 9606.ENSP00000356198\n",
      "9606.ENSP00000000412 9606.ENSP00000362946\n",
      "9606.ENSP00000000412 9606.ENSP00000454071\n",
      "9606.ENSP00000000412 9606.ENSP00000360154\n",
      "9606.ENSP00000000412 9606.ENSP00000300935\n",
      "9606.ENSP00000000412 9606.ENSP00000275300\n",
      "9606.ENSP00000000412 9606.ENSP00000264079\n",
      "9606.ENSP00000000412 9606.ENSP00000309457\n"
     ]
    },
    {
     "name": "stderr",
     "output_type": "stream",
     "text": [
      "1454it [00:15, 91.04it/s]"
     ]
    },
    {
     "name": "stdout",
     "output_type": "stream",
     "text": [
      "9606.ENSP00000000412 9606.ENSP00000264914\n",
      "9606.ENSP00000000412 9606.ENSP00000482835\n",
      "9606.ENSP00000000412 9606.ENSP00000301286\n",
      "9606.ENSP00000000412 9606.ENSP00000420127\n",
      "9606.ENSP00000000412 9606.ENSP00000261942\n",
      "9606.ENSP00000000412 9606.ENSP00000365256\n",
      "9606.ENSP00000000412 9606.ENSP00000247461\n",
      "9606.ENSP00000000412 9606.ENSP00000163416\n",
      "9606.ENSP00000000412 9606.ENSP00000294179\n",
      "9606.ENSP00000000412 9606.ENSP00000003084\n",
      "9606.ENSP00000000412 9606.ENSP00000305692\n",
      "9606.ENSP00000000412 9606.ENSP00000347416\n",
      "9606.ENSP00000000412 9606.ENSP00000337354\n",
      "9606.ENSP00000000412 9606.ENSP00000360798\n",
      "9606.ENSP00000000412 9606.ENSP00000355651\n",
      "9606.ENSP00000000412 9606.ENSP00000401435\n",
      "9606.ENSP00000000412 9606.ENSP00000247933\n",
      "9606.ENSP00000000412 9606.ENSP00000459943\n",
      "9606.ENSP00000000412 9606.ENSP00000333298\n",
      "9606.ENSP00000000412 9606.ENSP00000275493\n",
      "9606.ENSP00000000412 9606.ENSP00000305255\n"
     ]
    },
    {
     "name": "stderr",
     "output_type": "stream",
     "text": [
      "1473it [00:16, 89.13it/s]"
     ]
    },
    {
     "name": "stdout",
     "output_type": "stream",
     "text": [
      "9606.ENSP00000000412 9606.ENSP00000355629\n",
      "9606.ENSP00000000412 9606.ENSP00000347184\n",
      "9606.ENSP00000000412 9606.ENSP00000261416\n",
      "9606.ENSP00000000412 9606.ENSP00000236192\n",
      "9606.ENSP00000000412 9606.ENSP00000335060\n",
      "9606.ENSP00000000412 9606.ENSP00000249647\n",
      "9606.ENSP00000000412 9606.ENSP00000417354\n",
      "9606.ENSP00000000412 9606.ENSP00000306100\n",
      "9606.ENSP00000000412 9606.ENSP00000361562\n",
      "9606.ENSP00000000412 9606.ENSP00000000233\n",
      "9606.ENSP00000000412 9606.ENSP00000264710\n",
      "9606.ENSP00000000412 9606.ENSP00000272902\n",
      "9606.ENSP00000000412 9606.ENSP00000217244\n",
      "9606.ENSP00000000412 9606.ENSP00000265062\n",
      "9606.ENSP00000000412 9606.ENSP00000329471\n",
      "9606.ENSP00000000412 9606.ENSP00000451261\n",
      "9606.ENSP00000000412 9606.ENSP00000337731\n",
      "9606.ENSP00000000412 9606.ENSP00000379680\n",
      "9606.ENSP00000000412 9606.ENSP00000327694\n"
     ]
    },
    {
     "name": "stderr",
     "output_type": "stream",
     "text": [
      "1491it [00:16, 85.60it/s]"
     ]
    },
    {
     "name": "stdout",
     "output_type": "stream",
     "text": [
      "9606.ENSP00000000412 9606.ENSP00000317334\n",
      "9606.ENSP00000000412 9606.ENSP00000256497\n",
      "9606.ENSP00000000412 9606.ENSP00000218548\n",
      "9606.ENSP00000000412 9606.ENSP00000335193\n",
      "9606.ENSP00000000412 9606.ENSP00000265070\n",
      "9606.ENSP00000000412 9606.ENSP00000447730\n",
      "9606.ENSP00000000412 9606.ENSP00000301464\n",
      "9606.ENSP00000000412 9606.ENSP00000353224\n",
      "9606.ENSP00000000412 9606.ENSP00000011473\n",
      "9606.ENSP00000000412 9606.ENSP00000274000\n",
      "9606.ENSP00000000412 9606.ENSP00000302665\n",
      "9606.ENSP00000000412 9606.ENSP00000207549\n",
      "9606.ENSP00000000412 9606.ENSP00000445052\n",
      "9606.ENSP00000000412 9606.ENSP00000231368\n",
      "9606.ENSP00000000412 9606.ENSP00000269299\n",
      "9606.ENSP00000000412 9606.ENSP00000483552\n",
      "9606.ENSP00000000412 9606.ENSP00000279281\n"
     ]
    },
    {
     "name": "stderr",
     "output_type": "stream",
     "text": [
      "1510it [00:16, 87.67it/s]"
     ]
    },
    {
     "name": "stdout",
     "output_type": "stream",
     "text": [
      "9606.ENSP00000000412 9606.ENSP00000374069\n",
      "9606.ENSP00000000412 9606.ENSP00000479618\n",
      "9606.ENSP00000000412 9606.ENSP00000362707\n",
      "9606.ENSP00000000412 9606.ENSP00000258145\n",
      "9606.ENSP00000000412 9606.ENSP00000367299\n",
      "9606.ENSP00000000412 9606.ENSP00000357453\n",
      "9606.ENSP00000000412 9606.ENSP00000398632\n",
      "9606.ENSP00000000412 9606.ENSP00000443631\n",
      "9606.ENSP00000000412 9606.ENSP00000264896\n",
      "9606.ENSP00000000412 9606.ENSP00000299886\n",
      "9606.ENSP00000000412 9606.ENSP00000363976\n",
      "9606.ENSP00000000412 9606.ENSP00000380378\n",
      "9606.ENSP00000000412 9606.ENSP00000268035\n",
      "9606.ENSP00000000412 9606.ENSP00000426503\n",
      "9606.ENSP00000000412 9606.ENSP00000253193\n",
      "9606.ENSP00000000412 9606.ENSP00000360108\n",
      "9606.ENSP00000000412 9606.ENSP00000251119\n"
     ]
    },
    {
     "name": "stderr",
     "output_type": "stream",
     "text": [
      "1529it [00:16, 89.60it/s]"
     ]
    },
    {
     "name": "stdout",
     "output_type": "stream",
     "text": [
      "9606.ENSP00000000412 9606.ENSP00000295770\n",
      "9606.ENSP00000000412 9606.ENSP00000288266\n",
      "9606.ENSP00000000412 9606.ENSP00000352603\n",
      "9606.ENSP00000000412 9606.ENSP00000327801\n",
      "9606.ENSP00000000412 9606.ENSP00000351575\n",
      "9606.ENSP00000000412 9606.ENSP00000325369\n",
      "9606.ENSP00000000412 9606.ENSP00000268695\n",
      "9606.ENSP00000000412 9606.ENSP00000367265\n",
      "9606.ENSP00000000412 9606.ENSP00000269228\n",
      "9606.ENSP00000000412 9606.ENSP00000366513\n",
      "9606.ENSP00000000412 9606.ENSP00000345656\n",
      "9606.ENSP00000000412 9606.ENSP00000384886\n",
      "9606.ENSP00000000412 9606.ENSP00000242285\n",
      "9606.ENSP00000000412 9606.ENSP00000327214\n",
      "9606.ENSP00000000412 9606.ENSP00000258654\n",
      "9606.ENSP00000000412 9606.ENSP00000318585\n",
      "9606.ENSP00000000412 9606.ENSP00000256997\n",
      "9606.ENSP00000000412 9606.ENSP00000368022\n",
      "9606.ENSP00000000412 9606.ENSP00000369081\n",
      "9606.ENSP00000000412"
     ]
    },
    {
     "name": "stderr",
     "output_type": "stream",
     "text": [
      "1550it [00:16, 95.36it/s]"
     ]
    },
    {
     "name": "stdout",
     "output_type": "stream",
     "text": [
      " 9606.ENSP00000384400\n",
      "9606.ENSP00000000412 9606.ENSP00000341344\n",
      "9606.ENSP00000000412 9606.ENSP00000357564\n",
      "9606.ENSP00000000412 9606.ENSP00000356920\n",
      "9606.ENSP00000000412 9606.ENSP00000378725\n",
      "9606.ENSP00000000412 9606.ENSP00000265171\n",
      "9606.ENSP00000000412 9606.ENSP00000420384\n",
      "9606.ENSP00000000412 9606.ENSP00000293217\n",
      "9606.ENSP00000000412 9606.ENSP00000422185\n",
      "9606.ENSP00000000412 9606.ENSP00000275525\n",
      "9606.ENSP00000000412 9606.ENSP00000345672\n",
      "9606.ENSP00000000412 9606.ENSP00000307939\n",
      "9606.ENSP00000000412 9606.ENSP00000427900\n",
      "9606.ENSP00000000412 9606.ENSP00000244040\n",
      "9606.ENSP00000000412 9606.ENSP00000221466\n",
      "9606.ENSP00000000412 9606.ENSP00000263847\n",
      "9606.ENSP00000000412 9606.ENSP00000276914\n",
      "9606.ENSP00000000412 9606.ENSP00000461945\n",
      "9606.ENSP00000000412 9606.ENSP00000314499\n",
      "9606.ENSP00000000412 9606.ENSP00000365938\n",
      "9606.ENSP00000000412 9606.ENSP00000364956\n"
     ]
    },
    {
     "name": "stderr",
     "output_type": "stream",
     "text": [
      "1574it [00:17, 104.66it/s]"
     ]
    },
    {
     "name": "stdout",
     "output_type": "stream",
     "text": [
      "9606.ENSP00000000412 9606.ENSP00000313756\n",
      "9606.ENSP00000000412 9606.ENSP00000355217\n",
      "9606.ENSP00000000412 9606.ENSP00000302961\n",
      "9606.ENSP00000000412 9606.ENSP00000402758\n",
      "9606.ENSP00000000412 9606.ENSP00000262623\n",
      "9606.ENSP00000000412 9606.ENSP00000263321\n",
      "9606.ENSP00000000412 9606.ENSP00000220166\n",
      "9606.ENSP00000000412 9606.ENSP00000339328\n",
      "9606.ENSP00000000412 9606.ENSP00000367697\n",
      "9606.ENSP00000000412 9606.ENSP00000479606\n",
      "9606.ENSP00000000412 9606.ENSP00000217971\n",
      "9606.ENSP00000000412 9606.ENSP00000315136\n",
      "9606.ENSP00000000412 9606.ENSP00000394863\n",
      "9606.ENSP00000000412 9606.ENSP00000299767\n",
      "9606.ENSP00000000412 9606.ENSP00000358072\n",
      "9606.ENSP00000000412 9606.ENSP00000259253\n",
      "9606.ENSP00000000412 9606.ENSP00000377700\n",
      "9606.ENSP00000000412 9606.ENSP00000354398\n",
      "9606.ENSP00000000412 9606.ENSP00000222219\n",
      "9606.ENSP00000000412 9606.ENSP00000369820\n",
      "9606.ENSP00000000412 9606.ENSP00000380401\n",
      "9606.ENSP00000000412 9606.ENSP00000318821\n",
      "9606.ENSP00000000412 9606.ENSP00000480986\n",
      "9606.ENSP00000000412 9606.ENSP00000373539\n",
      "9606.ENSP00000000412 9606.ENSP00000327650\n"
     ]
    },
    {
     "name": "stderr",
     "output_type": "stream",
     "text": [
      "1596it [00:17, 96.82it/s] "
     ]
    },
    {
     "name": "stdout",
     "output_type": "stream",
     "text": [
      "9606.ENSP00000000412 9606.ENSP00000319388\n",
      "9606.ENSP00000000412 9606.ENSP00000387282\n",
      "9606.ENSP00000000412 9606.ENSP00000400459\n",
      "9606.ENSP00000000412 9606.ENSP00000287482\n",
      "9606.ENSP00000000412 9606.ENSP00000352601\n",
      "9606.ENSP00000000412 9606.ENSP00000220509\n",
      "9606.ENSP00000000412 9606.ENSP00000251968\n",
      "9606.ENSP00000000412 9606.ENSP00000261304\n",
      "9606.ENSP00000000412 9606.ENSP00000217423\n",
      "9606.ENSP00000000412 9606.ENSP00000054666\n",
      "9606.ENSP00000000412 9606.ENSP00000402460\n",
      "9606.ENSP00000000412 9606.ENSP00000409952\n",
      "9606.ENSP00000000412 9606.ENSP00000398568\n",
      "9606.ENSP00000000412 9606.ENSP00000373570\n",
      "9606.ENSP00000000412 9606.ENSP00000311449\n",
      "9606.ENSP00000000412 9606.ENSP00000263270\n",
      "9606.ENSP00000000412 9606.ENSP00000346839\n",
      "9606.ENSP00000000412 9606.ENSP00000299314\n",
      "9606.ENSP00000000412 9606.ENSP00000223641\n",
      "9606.ENSP00000000412 9606.ENSP00000366998\n",
      "9606.ENSP00000000412 9606.ENSP00000337053\n",
      "9606.ENSP00000000412 9606.ENSP00000332247\n",
      "9606.ENSP00000000412 9606.ENSP00000204726\n"
     ]
    },
    {
     "name": "stderr",
     "output_type": "stream",
     "text": [
      "1616it [00:17, 91.85it/s]"
     ]
    },
    {
     "name": "stdout",
     "output_type": "stream",
     "text": [
      "9606.ENSP00000000412 9606.ENSP00000243662\n",
      "9606.ENSP00000000412 9606.ENSP00000267199\n",
      "9606.ENSP00000000412 9606.ENSP00000356918\n",
      "9606.ENSP00000000412 9606.ENSP00000204679\n",
      "9606.ENSP00000000412 9606.ENSP00000243298\n",
      "9606.ENSP00000000412 9606.ENSP00000403172\n",
      "9606.ENSP00000000412 9606.ENSP00000222572\n",
      "9606.ENSP00000000412 9606.ENSP00000236671\n",
      "9606.ENSP00000000412 9606.ENSP00000308938\n",
      "9606.ENSP00000000412 9606.ENSP00000391826\n",
      "9606.ENSP00000000412 9606.ENSP00000348602\n",
      "9606.ENSP00000000412 9606.ENSP00000299138\n",
      "9606.ENSP00000000412 9606.ENSP00000304133\n",
      "9606.ENSP00000000412 9606.ENSP00000362480\n",
      "9606.ENSP00000000412 9606.ENSP00000319096\n",
      "9606.ENSP00000000412 9606.ENSP00000356465\n",
      "9606.ENSP00000000412 9606.ENSP00000450731\n"
     ]
    },
    {
     "name": "stderr",
     "output_type": "stream",
     "text": [
      "1638it [00:17, 97.81it/s]"
     ]
    },
    {
     "name": "stdout",
     "output_type": "stream",
     "text": [
      "9606.ENSP00000000412 9606.ENSP00000272322\n",
      "9606.ENSP00000000412 9606.ENSP00000264649\n",
      "9606.ENSP00000000412 9606.ENSP00000294258\n",
      "9606.ENSP00000000412 9606.ENSP00000199280\n",
      "9606.ENSP00000000412 9606.ENSP00000346437\n",
      "9606.ENSP00000000412 9606.ENSP00000480893\n",
      "9606.ENSP00000000412 9606.ENSP00000385834\n",
      "9606.ENSP00000000412 9606.ENSP00000373905\n",
      "9606.ENSP00000000412 9606.ENSP00000242465\n",
      "9606.ENSP00000000412 9606.ENSP00000309415\n",
      "9606.ENSP00000000412 9606.ENSP00000262139\n",
      "9606.ENSP00000000412 9606.ENSP00000449089\n",
      "9606.ENSP00000000412 9606.ENSP00000355920\n",
      "9606.ENSP00000000412 9606.ENSP00000482826\n",
      "9606.ENSP00000000412 9606.ENSP00000358715\n",
      "9606.ENSP00000000412 9606.ENSP00000310998\n",
      "9606.ENSP00000000412 9606.ENSP00000295897\n",
      "9606.ENSP00000000412 9606.ENSP00000480332\n",
      "9606.ENSP00000000412 9606.ENSP00000365569\n",
      "9606.ENSP00000000412 9606.ENSP00000445408\n",
      "9606.ENSP00000000412 9606.ENSP00000222547\n",
      "9606.ENSP00000000412 9606.ENSP00000356540\n",
      "9606.ENSP00000000412"
     ]
    },
    {
     "name": "stderr",
     "output_type": "stream",
     "text": [
      "1658it [00:17, 93.47it/s]"
     ]
    },
    {
     "name": "stdout",
     "output_type": "stream",
     "text": [
      " 9606.ENSP00000281187\n",
      "9606.ENSP00000000412 9606.ENSP00000447053\n",
      "9606.ENSP00000000412 9606.ENSP00000351926\n",
      "9606.ENSP00000000412 9606.ENSP00000366748\n",
      "9606.ENSP00000000412 9606.ENSP00000262506\n",
      "9606.ENSP00000000412 9606.ENSP00000388996\n",
      "9606.ENSP00000000412 9606.ENSP00000309376\n",
      "9606.ENSP00000000412 9606.ENSP00000349305\n",
      "9606.ENSP00000000412 9606.ENSP00000338562\n",
      "9606.ENSP00000000412 9606.ENSP00000314214\n",
      "9606.ENSP00000000412 9606.ENSP00000360183\n",
      "9606.ENSP00000000412 9606.ENSP00000464275\n",
      "9606.ENSP00000000412 9606.ENSP00000363616\n",
      "9606.ENSP00000000412 9606.ENSP00000349960\n",
      "9606.ENSP00000000412 9606.ENSP00000380432\n",
      "9606.ENSP00000000412 9606.ENSP00000371152\n",
      "9606.ENSP00000000412 9606.ENSP00000225719\n",
      "9606.ENSP00000000412 9606.ENSP00000272190\n",
      "9606.ENSP00000000412 9606.ENSP00000364235\n",
      "9606.ENSP00000000412 9606.ENSP00000438085\n",
      "9606.ENSP00000000412"
     ]
    },
    {
     "name": "stderr",
     "output_type": "stream",
     "text": [
      "1680it [00:18, 93.73it/s]"
     ]
    },
    {
     "name": "stdout",
     "output_type": "stream",
     "text": [
      " 9606.ENSP00000374455\n",
      "9606.ENSP00000000412 9606.ENSP00000369027\n",
      "9606.ENSP00000000412 9606.ENSP00000354061\n",
      "9606.ENSP00000000412 9606.ENSP00000256255\n",
      "9606.ENSP00000000412 9606.ENSP00000295256\n",
      "9606.ENSP00000000412 9606.ENSP00000221957\n",
      "9606.ENSP00000000412 9606.ENSP00000217131\n",
      "9606.ENSP00000000412 9606.ENSP00000311962\n",
      "9606.ENSP00000000412 9606.ENSP00000351742\n",
      "9606.ENSP00000000412 9606.ENSP00000318165\n",
      "9606.ENSP00000000412 9606.ENSP00000356107\n",
      "9606.ENSP00000000412 9606.ENSP00000363397\n",
      "9606.ENSP00000000412 9606.ENSP00000369981\n",
      "9606.ENSP00000000412 9606.ENSP00000349560\n",
      "9606.ENSP00000000412 9606.ENSP00000377148\n",
      "9606.ENSP00000000412 9606.ENSP00000259711\n",
      "9606.ENSP00000000412 9606.ENSP00000480853\n"
     ]
    },
    {
     "name": "stderr",
     "output_type": "stream",
     "text": [
      "\r",
      "1690it [00:18, 88.94it/s]"
     ]
    },
    {
     "name": "stdout",
     "output_type": "stream",
     "text": [
      "9606.ENSP00000000412 9606.ENSP00000260453\n",
      "9606.ENSP00000000412 9606.ENSP00000250244\n",
      "9606.ENSP00000000412 9606.ENSP00000229340\n",
      "9606.ENSP00000000412 9606.ENSP00000378368\n",
      "9606.ENSP00000000412 9606.ENSP00000220616\n",
      "9606.ENSP00000000412 9606.ENSP00000387286\n",
      "9606.ENSP00000000412 9606.ENSP00000339801\n",
      "9606.ENSP00000000412 9606.ENSP00000233809\n",
      "9606.ENSP00000000412 9606.ENSP00000340409\n",
      "9606.ENSP00000000412 9606.ENSP00000295718\n",
      "9606.ENSP00000000412 9606.ENSP00000266458\n",
      "9606.ENSP00000000412 9606.ENSP00000369810\n",
      "9606.ENSP00000000412 9606.ENSP00000362656\n",
      "9606.ENSP00000000412 9606.ENSP00000359540\n",
      "9606.ENSP00000000412 9606.ENSP00000302728\n",
      "9606.ENSP00000000412 9606.ENSP00000432083\n",
      "9606.ENSP00000000412 9606.ENSP00000418915\n",
      "9606.ENSP00000000412"
     ]
    },
    {
     "name": "stderr",
     "output_type": "stream",
     "text": [
      "1712it [00:18, 95.64it/s]"
     ]
    },
    {
     "name": "stdout",
     "output_type": "stream",
     "text": [
      " 9606.ENSP00000233202\n",
      "9606.ENSP00000000412 9606.ENSP00000366565\n",
      "9606.ENSP00000000412 9606.ENSP00000386346\n",
      "9606.ENSP00000000412 9606.ENSP00000304376\n",
      "9606.ENSP00000000412 9606.ENSP00000371272\n",
      "9606.ENSP00000000412 9606.ENSP00000409581\n",
      "9606.ENSP00000000412 9606.ENSP00000264595\n",
      "9606.ENSP00000000412 9606.ENSP00000481750\n",
      "9606.ENSP00000000412 9606.ENSP00000366746\n",
      "9606.ENSP00000000412 9606.ENSP00000317714\n",
      "9606.ENSP00000000412 9606.ENSP00000348888\n",
      "9606.ENSP00000000412 9606.ENSP00000258301\n",
      "9606.ENSP00000000412 9606.ENSP00000300692\n",
      "9606.ENSP00000000412 9606.ENSP00000338777\n",
      "9606.ENSP00000000412 9606.ENSP00000370473\n",
      "9606.ENSP00000000412 9606.ENSP00000230085\n",
      "9606.ENSP00000000412 9606.ENSP00000308430\n",
      "9606.ENSP00000000412 9606.ENSP00000379601\n",
      "9606.ENSP00000000412 9606.ENSP00000368831\n",
      "9606.ENSP00000000412 9606.ENSP00000185150\n",
      "9606.ENSP00000000412 9606.ENSP00000320866\n",
      "9606.ENSP00000000412"
     ]
    },
    {
     "name": "stderr",
     "output_type": "stream",
     "text": [
      "1732it [00:18, 90.99it/s]"
     ]
    },
    {
     "name": "stdout",
     "output_type": "stream",
     "text": [
      " 9606.ENSP00000263245\n",
      "9606.ENSP00000000412 9606.ENSP00000386559\n",
      "9606.ENSP00000000412 9606.ENSP00000216124\n",
      "9606.ENSP00000000412 9606.ENSP00000265686\n",
      "9606.ENSP00000000412 9606.ENSP00000361926\n",
      "9606.ENSP00000000412 9606.ENSP00000368678\n",
      "9606.ENSP00000000412 9606.ENSP00000416097\n",
      "9606.ENSP00000000412 9606.ENSP00000053867\n",
      "9606.ENSP00000000412 9606.ENSP00000366280\n",
      "9606.ENSP00000000412 9606.ENSP00000269593\n",
      "9606.ENSP00000000412 9606.ENSP00000310832\n",
      "9606.ENSP00000000412 9606.ENSP00000357836\n",
      "9606.ENSP00000000412 9606.ENSP00000395473\n",
      "9606.ENSP00000000412 9606.ENSP00000408411\n",
      "9606.ENSP00000000412 9606.ENSP00000351777\n",
      "9606.ENSP00000000412 9606.ENSP00000354040\n",
      "9606.ENSP00000000412 9606.ENSP00000262839\n",
      "9606.ENSP00000000412 9606.ENSP00000306157\n",
      "9606.ENSP00000000412 9606.ENSP00000301336\n",
      "9606.ENSP00000000412 9606.ENSP00000228506\n",
      "9606.ENSP00000000412"
     ]
    },
    {
     "name": "stderr",
     "output_type": "stream",
     "text": [
      "1752it [00:19, 91.14it/s]"
     ]
    },
    {
     "name": "stdout",
     "output_type": "stream",
     "text": [
      " 9606.ENSP00000362639\n",
      "9606.ENSP00000000412 9606.ENSP00000205061\n",
      "9606.ENSP00000000412 9606.ENSP00000274306\n",
      "9606.ENSP00000000412 9606.ENSP00000483453\n",
      "9606.ENSP00000000412 9606.ENSP00000365891\n",
      "9606.ENSP00000000412 9606.ENSP00000261889\n",
      "9606.ENSP00000000412 9606.ENSP00000416066\n",
      "9606.ENSP00000000412 9606.ENSP00000264382\n",
      "9606.ENSP00000000412 9606.ENSP00000317445\n",
      "9606.ENSP00000000412 9606.ENSP00000299427\n",
      "9606.ENSP00000000412 9606.ENSP00000290649\n",
      "9606.ENSP00000000412 9606.ENSP00000308122\n",
      "9606.ENSP00000000412 9606.ENSP00000369318\n",
      "9606.ENSP00000000412 9606.ENSP00000377275\n",
      "9606.ENSP00000000412 9606.ENSP00000312506\n",
      "9606.ENSP00000000412 9606.ENSP00000300289\n",
      "9606.ENSP00000000412 9606.ENSP00000223369\n",
      "9606.ENSP00000000412 9606.ENSP00000262812\n",
      "9606.ENSP00000000412 9606.ENSP00000418082\n"
     ]
    },
    {
     "name": "stderr",
     "output_type": "stream",
     "text": [
      "1774it [00:19, 95.73it/s]"
     ]
    },
    {
     "name": "stdout",
     "output_type": "stream",
     "text": [
      "9606.ENSP00000000412 9606.ENSP00000338345\n",
      "9606.ENSP00000000412 9606.ENSP00000336666\n",
      "9606.ENSP00000000412 9606.ENSP00000335082\n",
      "9606.ENSP00000000412 9606.ENSP00000355231\n",
      "9606.ENSP00000000412 9606.ENSP00000466298\n",
      "9606.ENSP00000000412 9606.ENSP00000451112\n",
      "9606.ENSP00000000412 9606.ENSP00000462729\n",
      "9606.ENSP00000000412 9606.ENSP00000263354\n",
      "9606.ENSP00000000412 9606.ENSP00000309124\n",
      "9606.ENSP00000000412 9606.ENSP00000314606\n",
      "9606.ENSP00000000412 9606.ENSP00000466134\n",
      "9606.ENSP00000000412 9606.ENSP00000251775\n",
      "9606.ENSP00000000412 9606.ENSP00000243077\n",
      "9606.ENSP00000000412 9606.ENSP00000298316\n",
      "9606.ENSP00000000412 9606.ENSP00000376472\n",
      "9606.ENSP00000000412 9606.ENSP00000349687\n",
      "9606.ENSP00000000412 9606.ENSP00000264065\n",
      "9606.ENSP00000000412 9606.ENSP00000339191\n",
      "9606.ENSP00000000412 9606.ENSP00000263816\n",
      "9606.ENSP00000000412 9606.ENSP00000298910\n",
      "9606.ENSP00000000412 9606.ENSP00000377282\n",
      "9606.ENSP00000001008"
     ]
    },
    {
     "name": "stderr",
     "output_type": "stream",
     "text": [
      "1798it [00:19, 107.02it/s]"
     ]
    },
    {
     "name": "stdout",
     "output_type": "stream",
     "text": [
      " 9606.ENSP00000331268\n",
      "9606.ENSP00000001008 9606.ENSP00000289153\n",
      "9606.ENSP00000001008 9606.ENSP00000298910\n",
      "9606.ENSP00000001008 9606.ENSP00000222800\n",
      "9606.ENSP00000001008 9606.ENSP00000379256\n",
      "9606.ENSP00000001008 9606.ENSP00000410059\n",
      "9606.ENSP00000001008 9606.ENSP00000246024\n",
      "9606.ENSP00000001008 9606.ENSP00000462729\n",
      "9606.ENSP00000001008 9606.ENSP00000402084\n",
      "9606.ENSP00000001008 9606.ENSP00000305790\n",
      "9606.ENSP00000001008 9606.ENSP00000439250\n",
      "9606.ENSP00000001008 9606.ENSP00000351108\n",
      "9606.ENSP00000001008 9606.ENSP00000293860\n",
      "9606.ENSP00000001008 9606.ENSP00000386788\n",
      "9606.ENSP00000001008 9606.ENSP00000249356\n",
      "9606.ENSP00000001008 9606.ENSP00000452948\n",
      "9606.ENSP00000001008 9606.ENSP00000300289\n",
      "9606.ENSP00000001008 9606.ENSP00000408295\n",
      "9606.ENSP00000001008 9606.ENSP00000241337\n",
      "9606.ENSP00000001008 9606.ENSP00000401264\n",
      "9606.ENSP00000001008 9606.ENSP00000274606\n",
      "9606.ENSP00000001008 9606.ENSP00000265866\n",
      "9606.ENSP00000001008 9606.ENSP00000445306\n",
      "9606.ENSP00000001008 9606.ENSP00000440485\n",
      "9606.ENSP00000001008 9606.ENSP00000361232\n",
      "9606.ENSP00000001008 9606.ENSP00000381237\n",
      "9606.ENSP00000001008 9606.ENSP00000361287\n",
      "9606.ENSP00000001008 9606.ENSP00000306245\n",
      "9606.ENSP00000001008 9606.ENSP00000379287\n",
      "9606.ENSP00000001008 9606.ENSP00000298832\n",
      "9606.ENSP00000001008 9606.ENSP00000381266\n",
      "9606.ENSP00000001008 9606.ENSP00000368880\n",
      "9606.ENSP00000001008 9606.ENSP00000378332\n",
      "9606.ENSP00000001008"
     ]
    },
    {
     "name": "stderr",
     "output_type": "stream",
     "text": [
      "1832it [00:19, 122.30it/s]"
     ]
    },
    {
     "name": "stdout",
     "output_type": "stream",
     "text": [
      " 9606.ENSP00000446252\n",
      "9606.ENSP00000001008 9606.ENSP00000360472\n",
      "9606.ENSP00000001008 9606.ENSP00000385746\n",
      "9606.ENSP00000001008 9606.ENSP00000359688\n",
      "9606.ENSP00000001008 9606.ENSP00000324173\n",
      "9606.ENSP00000001008 9606.ENSP00000317232\n",
      "9606.ENSP00000001008 9606.ENSP00000326381\n",
      "9606.ENSP00000001008 9606.ENSP00000355924\n",
      "9606.ENSP00000001008 9606.ENSP00000284719\n",
      "9606.ENSP00000001008 9606.ENSP00000202816\n",
      "9606.ENSP00000001008 9606.ENSP00000407213\n",
      "9606.ENSP00000001008 9606.ENSP00000372667\n",
      "9606.ENSP00000001008 9606.ENSP00000359424\n",
      "9606.ENSP00000001008 9606.ENSP00000271526\n",
      "9606.ENSP00000001008 9606.ENSP00000340989\n",
      "9606.ENSP00000001008 9606.ENSP00000266556\n",
      "9606.ENSP00000001008 9606.ENSP00000261868\n",
      "9606.ENSP00000001008 9606.ENSP00000256104\n",
      "9606.ENSP00000001008 9606.ENSP00000272298\n",
      "9606.ENSP00000001008 9606.ENSP00000375978\n",
      "9606.ENSP00000001008 9606.ENSP00000362744\n",
      "9606.ENSP00000001008 9606.ENSP00000362063\n",
      "9606.ENSP00000001008 9606.ENSP00000381247\n",
      "9606.ENSP00000001008 9606.ENSP00000314193\n"
     ]
    },
    {
     "name": "stderr",
     "output_type": "stream",
     "text": [
      "\r",
      "1845it [00:19, 109.94it/s]"
     ]
    },
    {
     "name": "stdout",
     "output_type": "stream",
     "text": [
      "9606.ENSP00000001008 9606.ENSP00000383900\n",
      "9606.ENSP00000001008 9606.ENSP00000433560\n",
      "9606.ENSP00000001008 9606.ENSP00000263857\n",
      "9606.ENSP00000001008 9606.ENSP00000265310\n",
      "9606.ENSP00000001008 9606.ENSP00000441875\n",
      "9606.ENSP00000001008 9606.ENSP00000358812\n",
      "9606.ENSP00000001008 9606.ENSP00000296161\n",
      "9606.ENSP00000001008 9606.ENSP00000478212\n",
      "9606.ENSP00000001008 9606.ENSP00000362649\n",
      "9606.ENSP00000001008 9606.ENSP00000355471\n",
      "9606.ENSP00000001008 9606.ENSP00000299198\n",
      "9606.ENSP00000001008 9606.ENSP00000255882\n",
      "9606.ENSP00000001008 9606.ENSP00000314030\n",
      "9606.ENSP00000001008 9606.ENSP00000379901\n",
      "9606.ENSP00000001008 9606.ENSP00000444986\n",
      "9606.ENSP00000001008 9606.ENSP00000339801\n",
      "9606.ENSP00000001008 9606.ENSP00000360874\n",
      "9606.ENSP00000001008 9606.ENSP00000287156\n"
     ]
    },
    {
     "name": "stderr",
     "output_type": "stream",
     "text": [
      "1868it [00:20, 101.46it/s]"
     ]
    },
    {
     "name": "stdout",
     "output_type": "stream",
     "text": [
      "9606.ENSP00000001008 9606.ENSP00000310332\n",
      "9606.ENSP00000001008 9606.ENSP00000446830\n",
      "9606.ENSP00000001008 9606.ENSP00000346067\n",
      "9606.ENSP00000001008 9606.ENSP00000300113\n",
      "9606.ENSP00000001008 9606.ENSP00000414886\n",
      "9606.ENSP00000001008 9606.ENSP00000339063\n",
      "9606.ENSP00000001008 9606.ENSP00000363993\n",
      "9606.ENSP00000001008 9606.ENSP00000480763\n",
      "9606.ENSP00000001008 9606.ENSP00000217233\n",
      "9606.ENSP00000001008 9606.ENSP00000304802\n",
      "9606.ENSP00000001008 9606.ENSP00000361914\n",
      "9606.ENSP00000001008 9606.ENSP00000484669\n",
      "9606.ENSP00000001008 9606.ENSP00000378868\n",
      "9606.ENSP00000001008 9606.ENSP00000303057\n",
      "9606.ENSP00000001008 9606.ENSP00000439012\n",
      "9606.ENSP00000001008 9606.ENSP00000281938\n",
      "9606.ENSP00000001008 9606.ENSP00000305161\n",
      "9606.ENSP00000001008 9606.ENSP00000157812\n",
      "9606.ENSP00000001008 9606.ENSP00000254940\n"
     ]
    },
    {
     "name": "stderr",
     "output_type": "stream",
     "text": [
      "\r",
      "1879it [00:20, 98.89it/s] "
     ]
    },
    {
     "name": "stdout",
     "output_type": "stream",
     "text": [
      "9606.ENSP00000001008 9606.ENSP00000369027\n",
      "9606.ENSP00000001008 9606.ENSP00000420612\n",
      "9606.ENSP00000001008 9606.ENSP00000296464\n",
      "9606.ENSP00000001008 9606.ENSP00000011898\n",
      "9606.ENSP00000001008 9606.ENSP00000225298\n",
      "9606.ENSP00000001008 9606.ENSP00000271308\n",
      "9606.ENSP00000001008 9606.ENSP00000321449\n",
      "9606.ENSP00000001008 9606.ENSP00000282611\n",
      "9606.ENSP00000001008 9606.ENSP00000365147\n",
      "9606.ENSP00000001008 9606.ENSP00000238789\n",
      "9606.ENSP00000001008 9606.ENSP00000216797\n",
      "9606.ENSP00000001008 9606.ENSP00000329097\n",
      "9606.ENSP00000001008 9606.ENSP00000308622\n",
      "9606.ENSP00000001008 9606.ENSP00000370521\n",
      "9606.ENSP00000001008 9606.ENSP00000265081\n",
      "9606.ENSP00000001008 9606.ENSP00000327054\n",
      "9606.ENSP00000001008 9606.ENSP00000366179\n",
      "9606.ENSP00000001008 9606.ENSP00000432660\n"
     ]
    },
    {
     "name": "stderr",
     "output_type": "stream",
     "text": [
      "1918it [00:20, 116.37it/s]"
     ]
    },
    {
     "name": "stdout",
     "output_type": "stream",
     "text": [
      "9606.ENSP00000001008 9606.ENSP00000199320\n",
      "9606.ENSP00000001008 9606.ENSP00000323714\n",
      "9606.ENSP00000001008 9606.ENSP00000405969\n",
      "9606.ENSP00000001008 9606.ENSP00000216185\n",
      "9606.ENSP00000001008 9606.ENSP00000370343\n",
      "9606.ENSP00000001008 9606.ENSP00000361021\n",
      "9606.ENSP00000001008 9606.ENSP00000441755\n",
      "9606.ENSP00000001008 9606.ENSP00000396673\n",
      "9606.ENSP00000001008 9606.ENSP00000357869\n",
      "9606.ENSP00000001008 9606.ENSP00000356354\n",
      "9606.ENSP00000001008 9606.ENSP00000429374\n",
      "9606.ENSP00000001008 9606.ENSP00000173527\n",
      "9606.ENSP00000001008 9606.ENSP00000311513\n",
      "9606.ENSP00000001008 9606.ENSP00000262753\n",
      "9606.ENSP00000001008 9606.ENSP00000458162\n",
      "9606.ENSP00000001008 9606.ENSP00000386212\n",
      "9606.ENSP00000001008 9606.ENSP00000296181\n",
      "9606.ENSP00000001008 9606.ENSP00000417464\n",
      "9606.ENSP00000001008 9606.ENSP00000467290\n",
      "9606.ENSP00000001008 9606.ENSP00000259457\n",
      "9606.ENSP00000001008 9606.ENSP00000360028\n",
      "9606.ENSP00000001008 9606.ENSP00000417185\n",
      "9606.ENSP00000001008 9606.ENSP00000253237\n",
      "9606.ENSP00000001008 9606.ENSP00000236671\n",
      "9606.ENSP00000001008 9606.ENSP00000454836\n",
      "9606.ENSP00000001008 9606.ENSP00000361383\n",
      "9606.ENSP00000001008 9606.ENSP00000353920\n",
      "9606.ENSP00000001008 9606.ENSP00000387365\n"
     ]
    },
    {
     "name": "stderr",
     "output_type": "stream",
     "text": [
      "\r",
      "1930it [00:20, 116.39it/s]"
     ]
    },
    {
     "name": "stdout",
     "output_type": "stream",
     "text": [
      "9606.ENSP00000001008 9606.ENSP00000216367\n",
      "9606.ENSP00000001008 9606.ENSP00000278616\n",
      "9606.ENSP00000001008 9606.ENSP00000343246\n",
      "9606.ENSP00000001008 9606.ENSP00000347942\n",
      "9606.ENSP00000001008 9606.ENSP00000309126\n",
      "9606.ENSP00000001008 9606.ENSP00000367024\n",
      "9606.ENSP00000001008 9606.ENSP00000343027\n",
      "9606.ENSP00000001008 9606.ENSP00000410452\n",
      "9606.ENSP00000001008 9606.ENSP00000417418\n",
      "9606.ENSP00000001008 9606.ENSP00000371084\n",
      "9606.ENSP00000001008 9606.ENSP00000365439\n",
      "9606.ENSP00000001008 9606.ENSP00000250916\n",
      "9606.ENSP00000001008 9606.ENSP00000319664\n",
      "9606.ENSP00000001008 9606.ENSP00000483825\n",
      "9606.ENSP00000001008 9606.ENSP00000343658\n",
      "9606.ENSP00000001008 9606.ENSP00000421985\n",
      "9606.ENSP00000001008 9606.ENSP00000386541\n",
      "9606.ENSP00000001008 9606.ENSP00000358089\n",
      "9606.ENSP00000001008 9606.ENSP00000477310\n",
      "9606.ENSP00000001008 9606.ENSP00000270223\n",
      "9606.ENSP00000001008 9606.ENSP00000401564\n",
      "9606.ENSP00000001008 9606.ENSP00000367038\n",
      "9606.ENSP00000001008 9606.ENSP00000302476"
     ]
    },
    {
     "name": "stderr",
     "output_type": "stream",
     "text": [
      "1959it [00:20, 130.90it/s]"
     ]
    },
    {
     "name": "stdout",
     "output_type": "stream",
     "text": [
      "\n",
      "9606.ENSP00000001008 9606.ENSP00000359221\n",
      "9606.ENSP00000001008 9606.ENSP00000248553\n",
      "9606.ENSP00000001008 9606.ENSP00000256001\n",
      "9606.ENSP00000001008 9606.ENSP00000297435\n",
      "9606.ENSP00000001008 9606.ENSP00000439937\n",
      "9606.ENSP00000001008 9606.ENSP00000376765\n",
      "9606.ENSP00000001008 9606.ENSP00000367208\n",
      "9606.ENSP00000001008 9606.ENSP00000232892\n",
      "9606.ENSP00000001008 9606.ENSP00000216129\n",
      "9606.ENSP00000001008 9606.ENSP00000312988\n",
      "9606.ENSP00000001008 9606.ENSP00000276571\n",
      "9606.ENSP00000001008 9606.ENSP00000401371\n",
      "9606.ENSP00000001008 9606.ENSP00000476117\n",
      "9606.ENSP00000001008 9606.ENSP00000478982\n",
      "9606.ENSP00000001008 9606.ENSP00000378338\n",
      "9606.ENSP00000001008 9606.ENSP00000318585\n",
      "9606.ENSP00000001008 9606.ENSP00000339001\n",
      "9606.ENSP00000001008 9606.ENSP00000379210\n",
      "9606.ENSP00000001008 9606.ENSP00000336702\n",
      "9606.ENSP00000001008 9606.ENSP00000310572\n",
      "9606.ENSP00000001008 9606.ENSP00000215739\n",
      "9606.ENSP00000001008 9606.ENSP00000326031\n",
      "9606.ENSP00000001008 9606.ENSP00000226193\n",
      "9606.ENSP00000001008 9606.ENSP00000382239\n",
      "9606.ENSP00000001008 9606.ENSP00000303758\n",
      "9606.ENSP00000001008 9606.ENSP00000264039\n",
      "9606.ENSP00000001008 9606.ENSP00000405812\n",
      "9606.ENSP00000001008 9606.ENSP00000223073\n",
      "9606.ENSP00000001008 9606.ENSP00000337060\n",
      "9606.ENSP00000001008 9606.ENSP00000322396\n"
     ]
    },
    {
     "name": "stderr",
     "output_type": "stream",
     "text": [
      "1988it [00:21, 135.27it/s]"
     ]
    },
    {
     "name": "stdout",
     "output_type": "stream",
     "text": [
      "9606.ENSP00000001008 9606.ENSP00000449328\n",
      "9606.ENSP00000001008 9606.ENSP00000382840\n",
      "9606.ENSP00000001008 9606.ENSP00000362900\n",
      "9606.ENSP00000001008 9606.ENSP00000293677\n",
      "9606.ENSP00000001008 9606.ENSP00000371101\n",
      "9606.ENSP00000001008 9606.ENSP00000355237\n",
      "9606.ENSP00000001008 9606.ENSP00000341289\n",
      "9606.ENSP00000001008 9606.ENSP00000285667\n",
      "9606.ENSP00000001008 9606.ENSP00000261037\n",
      "9606.ENSP00000001008 9606.ENSP00000378199\n",
      "9606.ENSP00000001008 9606.ENSP00000435926\n",
      "9606.ENSP00000001008 9606.ENSP00000361626\n",
      "9606.ENSP00000001008 9606.ENSP00000313199\n",
      "9606.ENSP00000001008 9606.ENSP00000331944\n",
      "9606.ENSP00000001008 9606.ENSP00000312664\n",
      "9606.ENSP00000001008 9606.ENSP00000317310\n",
      "9606.ENSP00000001008 9606.ENSP00000361636\n",
      "9606.ENSP00000001008 9606.ENSP00000370968\n",
      "9606.ENSP00000001008 9606.ENSP00000397453\n",
      "9606.ENSP00000001008 9606.ENSP00000380495\n",
      "9606.ENSP00000001008 9606.ENSP00000229268\n",
      "9606.ENSP00000001008 9606.ENSP00000414303\n",
      "9606.ENSP00000001008 9606.ENSP00000355840\n"
     ]
    },
    {
     "name": "stderr",
     "output_type": "stream",
     "text": [
      "\r",
      "2002it [00:21, 121.70it/s]"
     ]
    },
    {
     "name": "stdout",
     "output_type": "stream",
     "text": [
      "9606.ENSP00000001008 9606.ENSP00000369456\n",
      "9606.ENSP00000001008 9606.ENSP00000418401\n",
      "9606.ENSP00000001008 9606.ENSP00000320171\n",
      "9606.ENSP00000001008 9606.ENSP00000363746\n",
      "9606.ENSP00000001008 9606.ENSP00000299300\n",
      "9606.ENSP00000001008 9606.ENSP00000256593\n",
      "9606.ENSP00000001008 9606.ENSP00000264883\n",
      "9606.ENSP00000001008 9606.ENSP00000215832\n",
      "9606.ENSP00000001008 9606.ENSP00000229329\n",
      "9606.ENSP00000001008 9606.ENSP00000370639\n",
      "9606.ENSP00000001008 9606.ENSP00000354201\n",
      "9606.ENSP00000001008 9606.ENSP00000302665\n",
      "9606.ENSP00000001008 9606.ENSP00000347055\n",
      "9606.ENSP00000001008 9606.ENSP00000230340\n",
      "9606.ENSP00000001008 9606.ENSP00000392718\n",
      "9606.ENSP00000001008 9606.ENSP00000301522\n",
      "9606.ENSP00000001008 9606.ENSP00000307863\n",
      "9606.ENSP00000001008 9606.ENSP00000267953\n",
      "9606.ENSP00000001008 9606.ENSP00000263265\n"
     ]
    },
    {
     "name": "stderr",
     "output_type": "stream",
     "text": [
      "2027it [00:21, 114.62it/s]"
     ]
    },
    {
     "name": "stdout",
     "output_type": "stream",
     "text": [
      "9606.ENSP00000001008 9606.ENSP00000379108\n",
      "9606.ENSP00000001008 9606.ENSP00000368646\n",
      "9606.ENSP00000001008 9606.ENSP00000392330\n",
      "9606.ENSP00000001008 9606.ENSP00000348596\n",
      "9606.ENSP00000001008 9606.ENSP00000286719\n",
      "9606.ENSP00000001008 9606.ENSP00000451261\n",
      "9606.ENSP00000001008 9606.ENSP00000221452\n",
      "9606.ENSP00000001008 9606.ENSP00000283033\n",
      "9606.ENSP00000001008 9606.ENSP00000348056\n",
      "9606.ENSP00000001008 9606.ENSP00000257245\n",
      "9606.ENSP00000001008 9606.ENSP00000360891\n",
      "9606.ENSP00000001008 9606.ENSP00000370896\n",
      "9606.ENSP00000001008 9606.ENSP00000299608\n",
      "9606.ENSP00000001008 9606.ENSP00000228841\n",
      "9606.ENSP00000001008 9606.ENSP00000343966\n",
      "9606.ENSP00000001008 9606.ENSP00000482907\n",
      "9606.ENSP00000001008 9606.ENSP00000259467\n",
      "9606.ENSP00000001008 9606.ENSP00000472836\n",
      "9606.ENSP00000001008 9606.ENSP00000360938\n",
      "9606.ENSP00000001008 9606.ENSP00000227507\n",
      "9606.ENSP00000001008 9606.ENSP00000425561\n"
     ]
    },
    {
     "name": "stderr",
     "output_type": "stream",
     "text": [
      "2052it [00:21, 117.48it/s]"
     ]
    },
    {
     "name": "stdout",
     "output_type": "stream",
     "text": [
      "9606.ENSP00000001008 9606.ENSP00000418447\n",
      "9606.ENSP00000001008 9606.ENSP00000359596\n",
      "9606.ENSP00000001008 9606.ENSP00000371267\n",
      "9606.ENSP00000001008 9606.ENSP00000310723\n",
      "9606.ENSP00000001008 9606.ENSP00000354742\n",
      "9606.ENSP00000001008 9606.ENSP00000356155\n",
      "9606.ENSP00000001008 9606.ENSP00000254286\n",
      "9606.ENSP00000001008 9606.ENSP00000337354\n",
      "9606.ENSP00000001008 9606.ENSP00000471191\n",
      "9606.ENSP00000001008 9606.ENSP00000359866\n",
      "9606.ENSP00000001008 9606.ENSP00000307197\n",
      "9606.ENSP00000001008 9606.ENSP00000357801\n",
      "9606.ENSP00000001008 9606.ENSP00000451080\n",
      "9606.ENSP00000001008 9606.ENSP00000363641\n",
      "9606.ENSP00000001008 9606.ENSP00000356652\n",
      "9606.ENSP00000001008 9606.ENSP00000305919\n",
      "9606.ENSP00000001008 9606.ENSP00000345575\n",
      "9606.ENSP00000001008 9606.ENSP00000366330\n",
      "9606.ENSP00000001008 9606.ENSP00000314508\n",
      "9606.ENSP00000001008 9606.ENSP00000359910\n",
      "9606.ENSP00000001008 9606.ENSP00000351524\n",
      "9606.ENSP00000001008 9606.ENSP00000457991\n",
      "9606.ENSP00000001008 9606.ENSP00000362566\n",
      "9606.ENSP00000001008 9606.ENSP00000216410\n",
      "9606.ENSP00000001008 9606.ENSP00000335636\n"
     ]
    },
    {
     "name": "stderr",
     "output_type": "stream",
     "text": [
      "2076it [00:21, 105.86it/s]"
     ]
    },
    {
     "name": "stdout",
     "output_type": "stream",
     "text": [
      "9606.ENSP00000001008 9606.ENSP00000480828\n",
      "9606.ENSP00000001008 9606.ENSP00000262187\n",
      "9606.ENSP00000001008 9606.ENSP00000260363\n",
      "9606.ENSP00000001008 9606.ENSP00000217426\n",
      "9606.ENSP00000001008 9606.ENSP00000301764\n",
      "9606.ENSP00000001008 9606.ENSP00000265970\n",
      "9606.ENSP00000001008 9606.ENSP00000454038\n",
      "9606.ENSP00000001008 9606.ENSP00000252506\n",
      "9606.ENSP00000001008 9606.ENSP00000286175\n",
      "9606.ENSP00000001008 9606.ENSP00000321266\n",
      "9606.ENSP00000001008 9606.ENSP00000424737\n",
      "9606.ENSP00000001008 9606.ENSP00000252456\n",
      "9606.ENSP00000001008 9606.ENSP00000196371\n",
      "9606.ENSP00000001008 9606.ENSP00000363055\n",
      "9606.ENSP00000001008 9606.ENSP00000216274\n",
      "9606.ENSP00000001008 9606.ENSP00000211122\n",
      "9606.ENSP00000001008 9606.ENSP00000361982\n",
      "9606.ENSP00000001008 9606.ENSP00000360129\n",
      "9606.ENSP00000001008 9606.ENSP00000415556\n",
      "9606.ENSP00000001008 9606.ENSP00000327070\n"
     ]
    },
    {
     "name": "stderr",
     "output_type": "stream",
     "text": [
      "\r",
      "2087it [00:22, 98.43it/s] "
     ]
    },
    {
     "name": "stdout",
     "output_type": "stream",
     "text": [
      "9606.ENSP00000001008 9606.ENSP00000319169\n",
      "9606.ENSP00000001008 9606.ENSP00000231487\n",
      "9606.ENSP00000001008 9606.ENSP00000244230\n",
      "9606.ENSP00000001008 9606.ENSP00000484060\n",
      "9606.ENSP00000001008 9606.ENSP00000371451\n",
      "9606.ENSP00000001008 9606.ENSP00000370253\n",
      "9606.ENSP00000001008 9606.ENSP00000363676\n",
      "9606.ENSP00000001008 9606.ENSP00000379475\n",
      "9606.ENSP00000001008 9606.ENSP00000264255\n",
      "9606.ENSP00000001008 9606.ENSP00000417653\n",
      "9606.ENSP00000001008 9606.ENSP00000219313\n",
      "9606.ENSP00000001008 9606.ENSP00000369855\n",
      "9606.ENSP00000001008 9606.ENSP00000393596\n",
      "9606.ENSP00000001008 9606.ENSP00000253024\n",
      "9606.ENSP00000001008 9606.ENSP00000419851\n",
      "9606.ENSP00000001008 9606.ENSP00000334785\n",
      "9606.ENSP00000001008 9606.ENSP00000254322\n",
      "9606.ENSP00000001008 9606.ENSP00000264279\n"
     ]
    },
    {
     "name": "stderr",
     "output_type": "stream",
     "text": [
      "2107it [00:22, 94.73it/s]"
     ]
    },
    {
     "name": "stdout",
     "output_type": "stream",
     "text": [
      "9606.ENSP00000001008 9606.ENSP00000400142\n",
      "9606.ENSP00000001008 9606.ENSP00000357709\n",
      "9606.ENSP00000001008 9606.ENSP00000420306\n",
      "9606.ENSP00000001008 9606.ENSP00000331385\n",
      "9606.ENSP00000001008 9606.ENSP00000298746\n",
      "9606.ENSP00000001008 9606.ENSP00000252486\n",
      "9606.ENSP00000001008 9606.ENSP00000366843\n",
      "9606.ENSP00000001008 9606.ENSP00000385824\n",
      "9606.ENSP00000001008 9606.ENSP00000313034\n",
      "9606.ENSP00000001008 9606.ENSP00000008527\n",
      "9606.ENSP00000001008 9606.ENSP00000295688\n",
      "9606.ENSP00000001008 9606.ENSP00000358563\n",
      "9606.ENSP00000001008 9606.ENSP00000357702\n",
      "9606.ENSP00000001008 9606.ENSP00000268668\n",
      "9606.ENSP00000001008 9606.ENSP00000367828\n",
      "9606.ENSP00000001008 9606.ENSP00000357516\n",
      "9606.ENSP00000001008 9606.ENSP00000358525\n",
      "9606.ENSP00000001008 9606.ENSP00000261303\n"
     ]
    },
    {
     "name": "stderr",
     "output_type": "stream",
     "text": [
      "2129it [00:22, 98.25it/s]"
     ]
    },
    {
     "name": "stdout",
     "output_type": "stream",
     "text": [
      "9606.ENSP00000001008 9606.ENSP00000219240\n",
      "9606.ENSP00000001008 9606.ENSP00000365576\n",
      "9606.ENSP00000001008 9606.ENSP00000281701\n",
      "9606.ENSP00000001008 9606.ENSP00000305926\n",
      "9606.ENSP00000001008 9606.ENSP00000378323\n",
      "9606.ENSP00000001008 9606.ENSP00000358417\n",
      "9606.ENSP00000001008 9606.ENSP00000352208\n",
      "9606.ENSP00000001008 9606.ENSP00000295702\n",
      "9606.ENSP00000001008 9606.ENSP00000373487\n",
      "9606.ENSP00000001008 9606.ENSP00000340691\n",
      "9606.ENSP00000001008 9606.ENSP00000478877\n",
      "9606.ENSP00000001008 9606.ENSP00000258772\n",
      "9606.ENSP00000001008 9606.ENSP00000360609\n",
      "9606.ENSP00000001008 9606.ENSP00000303511\n",
      "9606.ENSP00000001008 9606.ENSP00000477781\n",
      "9606.ENSP00000001008 9606.ENSP00000404381\n",
      "9606.ENSP00000001008 9606.ENSP00000317997\n",
      "9606.ENSP00000001008 9606.ENSP00000322419\n",
      "9606.ENSP00000001008 9606.ENSP00000219400\n",
      "9606.ENSP00000001008 9606.ENSP00000215071\n",
      "9606.ENSP00000001008 9606.ENSP00000224073\n",
      "9606.ENSP00000001008"
     ]
    },
    {
     "name": "stderr",
     "output_type": "stream",
     "text": [
      "2149it [00:22, 93.04it/s]"
     ]
    },
    {
     "name": "stdout",
     "output_type": "stream",
     "text": [
      " 9606.ENSP00000228136\n",
      "9606.ENSP00000001008 9606.ENSP00000305494\n",
      "9606.ENSP00000001008 9606.ENSP00000376608\n",
      "9606.ENSP00000001008 9606.ENSP00000357535\n",
      "9606.ENSP00000001008 9606.ENSP00000273859\n",
      "9606.ENSP00000001008 9606.ENSP00000428544\n",
      "9606.ENSP00000001008 9606.ENSP00000314348\n",
      "9606.ENSP00000001008 9606.ENSP00000386881\n",
      "9606.ENSP00000001008 9606.ENSP00000317971\n",
      "9606.ENSP00000001008 9606.ENSP00000318687\n",
      "9606.ENSP00000001008 9606.ENSP00000408860\n",
      "9606.ENSP00000001008 9606.ENSP00000360883\n",
      "9606.ENSP00000001008 9606.ENSP00000365806\n",
      "9606.ENSP00000001008 9606.ENSP00000376077\n",
      "9606.ENSP00000001008 9606.ENSP00000466897\n",
      "9606.ENSP00000001008 9606.ENSP00000365227\n",
      "9606.ENSP00000001008 9606.ENSP00000482704\n",
      "9606.ENSP00000001008 9606.ENSP00000360002\n",
      "9606.ENSP00000001008 9606.ENSP00000483786\n"
     ]
    },
    {
     "name": "stderr",
     "output_type": "stream",
     "text": [
      "2169it [00:22, 93.36it/s]"
     ]
    },
    {
     "name": "stdout",
     "output_type": "stream",
     "text": [
      "9606.ENSP00000001008 9606.ENSP00000352121\n",
      "9606.ENSP00000001008 9606.ENSP00000398350\n",
      "9606.ENSP00000001008 9606.ENSP00000261708\n",
      "9606.ENSP00000001008 9606.ENSP00000288861\n",
      "9606.ENSP00000001008 9606.ENSP00000301645\n",
      "9606.ENSP00000001008 9606.ENSP00000274026\n",
      "9606.ENSP00000001008 9606.ENSP00000399968\n",
      "9606.ENSP00000001008 9606.ENSP00000370517\n",
      "9606.ENSP00000001008 9606.ENSP00000337501\n",
      "9606.ENSP00000001008 9606.ENSP00000360266\n",
      "9606.ENSP00000001008 9606.ENSP00000445162\n",
      "9606.ENSP00000001008 9606.ENSP00000221801\n",
      "9606.ENSP00000001008 9606.ENSP00000362817\n",
      "9606.ENSP00000001008 9606.ENSP00000386135\n",
      "9606.ENSP00000001008 9606.ENSP00000263238\n",
      "9606.ENSP00000001008 9606.ENSP00000401645\n",
      "9606.ENSP00000001008 9606.ENSP00000262375\n",
      "9606.ENSP00000001008 9606.ENSP00000363308\n",
      "9606.ENSP00000001008 9606.ENSP00000379683\n",
      "9606.ENSP00000001008 9606.ENSP00000377617\n"
     ]
    },
    {
     "name": "stderr",
     "output_type": "stream",
     "text": [
      "2191it [00:23, 94.96it/s]"
     ]
    },
    {
     "name": "stdout",
     "output_type": "stream",
     "text": [
      "9606.ENSP00000001008 9606.ENSP00000311760\n",
      "9606.ENSP00000001008 9606.ENSP00000270142\n",
      "9606.ENSP00000001008 9606.ENSP00000366863\n",
      "9606.ENSP00000001008 9606.ENSP00000321656\n",
      "9606.ENSP00000001008 9606.ENSP00000359300\n",
      "9606.ENSP00000001008 9606.ENSP00000262839\n",
      "9606.ENSP00000001008 9606.ENSP00000463027\n",
      "9606.ENSP00000001008 9606.ENSP00000371858\n",
      "9606.ENSP00000001008 9606.ENSP00000365233\n",
      "9606.ENSP00000001008 9606.ENSP00000269593\n",
      "9606.ENSP00000001008 9606.ENSP00000376345\n",
      "9606.ENSP00000001008 9606.ENSP00000377969\n",
      "9606.ENSP00000001008 9606.ENSP00000275015\n",
      "9606.ENSP00000001008 9606.ENSP00000325775\n",
      "9606.ENSP00000001008 9606.ENSP00000426070\n",
      "9606.ENSP00000001008 9606.ENSP00000333433\n",
      "9606.ENSP00000001008 9606.ENSP00000254803\n",
      "9606.ENSP00000001008 9606.ENSP00000428619\n",
      "9606.ENSP00000001008 9606.ENSP00000361066\n",
      "9606.ENSP00000001008 9606.ENSP00000300291\n",
      "9606.ENSP00000001008 9606.ENSP00000393324\n",
      "9606.ENSP00000001008"
     ]
    },
    {
     "name": "stderr",
     "output_type": "stream",
     "text": [
      "2211it [00:23, 90.17it/s]"
     ]
    },
    {
     "name": "stdout",
     "output_type": "stream",
     "text": [
      " 9606.ENSP00000297436\n",
      "9606.ENSP00000001008 9606.ENSP00000377494\n",
      "9606.ENSP00000001008 9606.ENSP00000284440\n",
      "9606.ENSP00000001008 9606.ENSP00000377640\n",
      "9606.ENSP00000001008 9606.ENSP00000307280\n",
      "9606.ENSP00000001008 9606.ENSP00000471754\n",
      "9606.ENSP00000001008 9606.ENSP00000216554\n",
      "9606.ENSP00000001008 9606.ENSP00000432119\n",
      "9606.ENSP00000001008 9606.ENSP00000326227\n",
      "9606.ENSP00000001008 9606.ENSP00000363822\n",
      "9606.ENSP00000001008 9606.ENSP00000262455\n",
      "9606.ENSP00000001008 9606.ENSP00000349168\n",
      "9606.ENSP00000001008 9606.ENSP00000419004\n",
      "9606.ENSP00000001008 9606.ENSP00000405068\n",
      "9606.ENSP00000001008 9606.ENSP00000385828\n",
      "9606.ENSP00000001008 9606.ENSP00000221476\n"
     ]
    },
    {
     "name": "stderr",
     "output_type": "stream",
     "text": [
      "2231it [00:23, 89.42it/s]"
     ]
    },
    {
     "name": "stdout",
     "output_type": "stream",
     "text": [
      "9606.ENSP00000001008 9606.ENSP00000361900\n",
      "9606.ENSP00000001008 9606.ENSP00000233809\n",
      "9606.ENSP00000001008 9606.ENSP00000378324\n",
      "9606.ENSP00000001008 9606.ENSP00000401470\n",
      "9606.ENSP00000001008 9606.ENSP00000383851\n",
      "9606.ENSP00000001008 9606.ENSP00000361777\n",
      "9606.ENSP00000001008 9606.ENSP00000360860\n",
      "9606.ENSP00000001008 9606.ENSP00000223321\n",
      "9606.ENSP00000001008 9606.ENSP00000271638\n",
      "9606.ENSP00000001008 9606.ENSP00000325240\n",
      "9606.ENSP00000001008 9606.ENSP00000335153\n",
      "9606.ENSP00000001008 9606.ENSP00000216780\n",
      "9606.ENSP00000001008 9606.ENSP00000378364\n",
      "9606.ENSP00000001008 9606.ENSP00000374455\n",
      "9606.ENSP00000001008 9606.ENSP00000296792\n",
      "9606.ENSP00000001008 9606.ENSP00000349490\n",
      "9606.ENSP00000001008 9606.ENSP00000406197\n",
      "9606.ENSP00000001008 9606.ENSP00000216605\n",
      "9606.ENSP00000001008 9606.ENSP00000358931\n"
     ]
    },
    {
     "name": "stderr",
     "output_type": "stream",
     "text": [
      "2249it [00:23, 83.24it/s]"
     ]
    },
    {
     "name": "stdout",
     "output_type": "stream",
     "text": [
      "9606.ENSP00000001008 9606.ENSP00000263025\n",
      "9606.ENSP00000001008 9606.ENSP00000317177\n",
      "9606.ENSP00000001008 9606.ENSP00000463559\n",
      "9606.ENSP00000001008 9606.ENSP00000370395\n",
      "9606.ENSP00000001008 9606.ENSP00000341885\n",
      "9606.ENSP00000001008 9606.ENSP00000387334\n",
      "9606.ENSP00000001008 9606.ENSP00000221114\n",
      "9606.ENSP00000001008 9606.ENSP00000404079\n",
      "9606.ENSP00000001008 9606.ENSP00000303709\n",
      "9606.ENSP00000001008 9606.ENSP00000400433\n",
      "9606.ENSP00000001008 9606.ENSP00000440984\n",
      "9606.ENSP00000001008 9606.ENSP00000348163\n",
      "9606.ENSP00000001008 9606.ENSP00000382697\n",
      "9606.ENSP00000001008 9606.ENSP00000263253\n",
      "9606.ENSP00000001008 9606.ENSP00000419782\n",
      "9606.ENSP00000001008 9606.ENSP00000458986\n",
      "9606.ENSP00000001008 9606.ENSP00000309714\n",
      "9606.ENSP00000001008 9606.ENSP00000339933\n",
      "9606.ENSP00000001008 9606.ENSP00000359128\n",
      "9606.ENSP00000001008 9606.ENSP00000482841\n",
      "9606.ENSP00000001008 9606.ENSP00000216200\n",
      "9606.ENSP00000001008 9606.ENSP00000404121\n",
      "9606.ENSP00000001008 9606.ENSP00000245934\n",
      "9606.ENSP00000001008"
     ]
    },
    {
     "name": "stderr",
     "output_type": "stream",
     "text": [
      "2267it [00:24, 82.36it/s]"
     ]
    },
    {
     "name": "stdout",
     "output_type": "stream",
     "text": [
      " 9606.ENSP00000299642\n",
      "9606.ENSP00000001008 9606.ENSP00000376946\n",
      "9606.ENSP00000001008 9606.ENSP00000240922\n",
      "9606.ENSP00000001008 9606.ENSP00000293831\n",
      "9606.ENSP00000001008 9606.ENSP00000369689\n",
      "9606.ENSP00000001008 9606.ENSP00000281741\n",
      "9606.ENSP00000001008 9606.ENSP00000222005\n",
      "9606.ENSP00000001008 9606.ENSP00000482826\n",
      "9606.ENSP00000001008 9606.ENSP00000295897\n",
      "9606.ENSP00000001008 9606.ENSP00000293255\n",
      "9606.ENSP00000001008 9606.ENSP00000296755\n",
      "9606.ENSP00000001008 9606.ENSP00000242465\n",
      "9606.ENSP00000001008 9606.ENSP00000362334\n",
      "9606.ENSP00000001008 9606.ENSP00000263657\n",
      "9606.ENSP00000001008 9606.ENSP00000378769\n",
      "9606.ENSP00000001008 9606.ENSP00000245539\n",
      "9606.ENSP00000001008 9606.ENSP00000317985\n"
     ]
    },
    {
     "name": "stderr",
     "output_type": "stream",
     "text": [
      "2293it [00:24, 96.20it/s]"
     ]
    },
    {
     "name": "stdout",
     "output_type": "stream",
     "text": [
      "9606.ENSP00000001008 9606.ENSP00000460871\n",
      "9606.ENSP00000001008 9606.ENSP00000222968\n",
      "9606.ENSP00000001008 9606.ENSP00000359385\n",
      "9606.ENSP00000001008 9606.ENSP00000284486\n",
      "9606.ENSP00000001008 9606.ENSP00000315299\n",
      "9606.ENSP00000001008 9606.ENSP00000261643\n",
      "9606.ENSP00000001008 9606.ENSP00000348215\n",
      "9606.ENSP00000001008 9606.ENSP00000344393\n",
      "9606.ENSP00000001008 9606.ENSP00000355541\n",
      "9606.ENSP00000001008 9606.ENSP00000295225\n",
      "9606.ENSP00000001008 9606.ENSP00000359297\n",
      "9606.ENSP00000001008 9606.ENSP00000370376\n",
      "9606.ENSP00000001008 9606.ENSP00000242375\n",
      "9606.ENSP00000001008 9606.ENSP00000367623\n",
      "9606.ENSP00000001008 9606.ENSP00000300896\n",
      "9606.ENSP00000001008 9606.ENSP00000345445\n",
      "9606.ENSP00000001008 9606.ENSP00000406909\n",
      "9606.ENSP00000001008 9606.ENSP00000345096\n",
      "9606.ENSP00000001008 9606.ENSP00000357633\n",
      "9606.ENSP00000001008 9606.ENSP00000354947\n",
      "9606.ENSP00000001008 9606.ENSP00000431391\n",
      "9606.ENSP00000001008 9606.ENSP00000363939\n",
      "9606.ENSP00000001008 9606.ENSP00000350676\n",
      "9606.ENSP00000001008"
     ]
    },
    {
     "name": "stderr",
     "output_type": "stream",
     "text": [
      "2313it [00:24, 92.01it/s]"
     ]
    },
    {
     "name": "stdout",
     "output_type": "stream",
     "text": [
      " 9606.ENSP00000325239\n",
      "9606.ENSP00000001008 9606.ENSP00000376097\n",
      "9606.ENSP00000001008 9606.ENSP00000392257\n",
      "9606.ENSP00000001008 9606.ENSP00000365388\n",
      "9606.ENSP00000001008 9606.ENSP00000419081\n",
      "9606.ENSP00000001008 9606.ENSP00000340943\n",
      "9606.ENSP00000001008 9606.ENSP00000232888\n",
      "9606.ENSP00000001008 9606.ENSP00000372005\n",
      "9606.ENSP00000001008 9606.ENSP00000221138\n",
      "9606.ENSP00000001008 9606.ENSP00000252655\n",
      "9606.ENSP00000001008 9606.ENSP00000259239\n",
      "9606.ENSP00000001008 9606.ENSP00000322439\n",
      "9606.ENSP00000001008 9606.ENSP00000472998\n",
      "9606.ENSP00000001008 9606.ENSP00000259727\n",
      "9606.ENSP00000001008 9606.ENSP00000254260\n",
      "9606.ENSP00000001008 9606.ENSP00000261712\n",
      "9606.ENSP00000001008 9606.ENSP00000370745\n",
      "9606.ENSP00000001008 9606.ENSP00000303394\n",
      "9606.ENSP00000001008 9606.ENSP00000340913\n",
      "9606.ENSP00000001008 9606.ENSP00000416959\n",
      "9606.ENSP00000001008 9606.ENSP00000299767\n",
      "9606.ENSP00000001008 9606.ENSP00000348234\n"
     ]
    },
    {
     "name": "stderr",
     "output_type": "stream",
     "text": [
      "2335it [00:24, 96.58it/s]"
     ]
    },
    {
     "name": "stdout",
     "output_type": "stream",
     "text": [
      "9606.ENSP00000001008 9606.ENSP00000364293\n",
      "9606.ENSP00000001008 9606.ENSP00000371212\n",
      "9606.ENSP00000001008 9606.ENSP00000200676\n",
      "9606.ENSP00000001008 9606.ENSP00000333836\n",
      "9606.ENSP00000001008 9606.ENSP00000352438\n",
      "9606.ENSP00000001008 9606.ENSP00000402033\n",
      "9606.ENSP00000001008 9606.ENSP00000367029\n",
      "9606.ENSP00000001008 9606.ENSP00000302961\n",
      "9606.ENSP00000001008 9606.ENSP00000428056\n",
      "9606.ENSP00000001008 9606.ENSP00000437256\n",
      "9606.ENSP00000001008 9606.ENSP00000381333\n",
      "9606.ENSP00000001008 9606.ENSP00000265171\n",
      "9606.ENSP00000001008 9606.ENSP00000361007\n",
      "9606.ENSP00000001008 9606.ENSP00000275525\n",
      "9606.ENSP00000001008 9606.ENSP00000382595\n",
      "9606.ENSP00000001008 9606.ENSP00000384212\n",
      "9606.ENSP00000001008 9606.ENSP00000304283\n",
      "9606.ENSP00000001008 9606.ENSP00000423067\n",
      "9606.ENSP00000001008 9606.ENSP00000307786\n",
      "9606.ENSP00000001008 9606.ENSP00000356920\n",
      "9606.ENSP00000001008"
     ]
    },
    {
     "name": "stderr",
     "output_type": "stream",
     "text": [
      "\r",
      "2346it [00:24, 98.21it/s]"
     ]
    },
    {
     "name": "stdout",
     "output_type": "stream",
     "text": [
      " 9606.ENSP00000354522\n",
      "9606.ENSP00000001008 9606.ENSP00000428259\n",
      "9606.ENSP00000001008 9606.ENSP00000392094\n",
      "9606.ENSP00000001008 9606.ENSP00000296782\n",
      "9606.ENSP00000001008 9606.ENSP00000327801\n",
      "9606.ENSP00000001008 9606.ENSP00000389277\n",
      "9606.ENSP00000001008 9606.ENSP00000364586\n",
      "9606.ENSP00000001008 9606.ENSP00000262741\n",
      "9606.ENSP00000001008 9606.ENSP00000247003\n",
      "9606.ENSP00000001008 9606.ENSP00000264867\n",
      "9606.ENSP00000001008 9606.ENSP00000319814\n",
      "9606.ENSP00000001008 9606.ENSP00000012443\n",
      "9606.ENSP00000001008 9606.ENSP00000419117\n",
      "9606.ENSP00000001008 9606.ENSP00000332706\n",
      "9606.ENSP00000001008 9606.ENSP00000254799\n",
      "9606.ENSP00000001008 9606.ENSP00000265245\n",
      "9606.ENSP00000001008 9606.ENSP00000244763\n",
      "9606.ENSP00000001008 9606.ENSP00000379097\n",
      "9606.ENSP00000001008 9606.ENSP00000377424\n",
      "9606.ENSP00000001008 9606.ENSP00000216218\n",
      "9606.ENSP00000001008 9606.ENSP00000265388\n",
      "9606.ENSP00000001008 9606.ENSP00000248633\n",
      "9606.ENSP00000001008 9606.ENSP00000279022\n"
     ]
    },
    {
     "name": "stderr",
     "output_type": "stream",
     "text": [
      "2370it [00:25, 103.96it/s]"
     ]
    },
    {
     "name": "stdout",
     "output_type": "stream",
     "text": [
      "9606.ENSP00000001008 9606.ENSP00000360532\n",
      "9606.ENSP00000001008 9606.ENSP00000253108\n",
      "9606.ENSP00000001008 9606.ENSP00000449751\n",
      "9606.ENSP00000001008 9606.ENSP00000343223\n",
      "9606.ENSP00000001008 9606.ENSP00000326238\n",
      "9606.ENSP00000001008 9606.ENSP00000300175\n",
      "9606.ENSP00000001008 9606.ENSP00000242776\n",
      "9606.ENSP00000001008 9606.ENSP00000221855\n",
      "9606.ENSP00000001008 9606.ENSP00000350911\n",
      "9606.ENSP00000001008 9606.ENSP00000430432\n",
      "9606.ENSP00000001008 9606.ENSP00000297990\n",
      "9606.ENSP00000001008 9606.ENSP00000261622\n",
      "9606.ENSP00000001008 9606.ENSP00000290167\n",
      "9606.ENSP00000001008 9606.ENSP00000446955\n",
      "9606.ENSP00000001008 9606.ENSP00000369127\n",
      "9606.ENSP00000001008 9606.ENSP00000264230\n",
      "9606.ENSP00000001008 9606.ENSP00000358884\n",
      "9606.ENSP00000001008 9606.ENSP00000384018\n",
      "9606.ENSP00000001008 9606.ENSP00000284984\n",
      "9606.ENSP00000001008 9606.ENSP00000366157\n"
     ]
    },
    {
     "name": "stderr",
     "output_type": "stream",
     "text": [
      "2391it [00:25, 93.24it/s] "
     ]
    },
    {
     "name": "stdout",
     "output_type": "stream",
     "text": [
      "9606.ENSP00000001008 9606.ENSP00000242104\n",
      "9606.ENSP00000001008 9606.ENSP00000363745\n",
      "9606.ENSP00000001008 9606.ENSP00000379568\n",
      "9606.ENSP00000001008 9606.ENSP00000256404\n",
      "9606.ENSP00000001008 9606.ENSP00000250495\n",
      "9606.ENSP00000001008 9606.ENSP00000275493\n",
      "9606.ENSP00000001008 9606.ENSP00000287590\n",
      "9606.ENSP00000001008 9606.ENSP00000347184\n",
      "9606.ENSP00000001008 9606.ENSP00000341779\n",
      "9606.ENSP00000001008 9606.ENSP00000223167\n",
      "9606.ENSP00000001008 9606.ENSP00000258149\n",
      "9606.ENSP00000001008 9606.ENSP00000269305\n",
      "9606.ENSP00000001008 9606.ENSP00000362108\n",
      "9606.ENSP00000001008 9606.ENSP00000337572\n",
      "9606.ENSP00000001008 9606.ENSP00000262726\n",
      "9606.ENSP00000001008 9606.ENSP00000322706\n",
      "9606.ENSP00000001008 9606.ENSP00000300591\n",
      "9606.ENSP00000001008"
     ]
    },
    {
     "name": "stderr",
     "output_type": "stream",
     "text": [
      "2411it [00:25, 92.98it/s]"
     ]
    },
    {
     "name": "stdout",
     "output_type": "stream",
     "text": [
      " 9606.ENSP00000371110\n",
      "9606.ENSP00000001008 9606.ENSP00000316950\n",
      "9606.ENSP00000001008 9606.ENSP00000361927\n",
      "9606.ENSP00000001008 9606.ENSP00000269051\n",
      "9606.ENSP00000001008 9606.ENSP00000329890\n",
      "9606.ENSP00000001008 9606.ENSP00000385216\n",
      "9606.ENSP00000001008 9606.ENSP00000230990\n",
      "9606.ENSP00000001008 9606.ENSP00000336868\n",
      "9606.ENSP00000001008 9606.ENSP00000321584\n",
      "9606.ENSP00000001008 9606.ENSP00000347719\n",
      "9606.ENSP00000001008 9606.ENSP00000477848\n",
      "9606.ENSP00000001008 9606.ENSP00000349748\n",
      "9606.ENSP00000001008 9606.ENSP00000392709\n",
      "9606.ENSP00000001008 9606.ENSP00000434412\n",
      "9606.ENSP00000001008 9606.ENSP00000360782\n",
      "9606.ENSP00000001008 9606.ENSP00000315130\n",
      "9606.ENSP00000001008 9606.ENSP00000291295\n",
      "9606.ENSP00000001008 9606.ENSP00000232975\n",
      "9606.ENSP00000001008 9606.ENSP00000363799\n"
     ]
    },
    {
     "name": "stderr",
     "output_type": "stream",
     "text": [
      "2431it [00:25, 88.54it/s]"
     ]
    },
    {
     "name": "stdout",
     "output_type": "stream",
     "text": [
      "9606.ENSP00000001008 9606.ENSP00000318799\n",
      "9606.ENSP00000001008 9606.ENSP00000298248\n",
      "9606.ENSP00000001008 9606.ENSP00000367615\n",
      "9606.ENSP00000001008 9606.ENSP00000341539\n",
      "9606.ENSP00000001008 9606.ENSP00000217958\n",
      "9606.ENSP00000001008 9606.ENSP00000249330\n",
      "9606.ENSP00000001008 9606.ENSP00000262510\n",
      "9606.ENSP00000001008 9606.ENSP00000254963\n",
      "9606.ENSP00000001008 9606.ENSP00000269141\n",
      "9606.ENSP00000001008 9606.ENSP00000334061\n",
      "9606.ENSP00000001008 9606.ENSP00000403932\n",
      "9606.ENSP00000001008 9606.ENSP00000361418\n",
      "9606.ENSP00000001008 9606.ENSP00000262507\n",
      "9606.ENSP00000001008 9606.ENSP00000366934\n",
      "9606.ENSP00000001008 9606.ENSP00000291576\n",
      "9606.ENSP00000001008 9606.ENSP00000344456\n",
      "9606.ENSP00000001008 9606.ENSP00000407586\n",
      "9606.ENSP00000001008 9606.ENSP00000284981\n",
      "9606.ENSP00000001008 9606.ENSP00000321320\n",
      "9606.ENSP00000001008 9606.ENSP00000356814\n"
     ]
    },
    {
     "name": "stderr",
     "output_type": "stream",
     "text": [
      "2452it [00:25, 93.59it/s]"
     ]
    },
    {
     "name": "stdout",
     "output_type": "stream",
     "text": [
      "9606.ENSP00000001008 9606.ENSP00000362688\n",
      "9606.ENSP00000001008 9606.ENSP00000427975\n",
      "9606.ENSP00000001008 9606.ENSP00000333837\n",
      "9606.ENSP00000001008 9606.ENSP00000380565\n",
      "9606.ENSP00000001008 9606.ENSP00000332340\n",
      "9606.ENSP00000001008 9606.ENSP00000314441\n",
      "9606.ENSP00000001008 9606.ENSP00000306512\n",
      "9606.ENSP00000001008 9606.ENSP00000285018\n",
      "9606.ENSP00000001008 9606.ENSP00000380178\n",
      "9606.ENSP00000001008 9606.ENSP00000480824\n",
      "9606.ENSP00000001008 9606.ENSP00000233623\n",
      "9606.ENSP00000001008 9606.ENSP00000314151\n",
      "9606.ENSP00000001008 9606.ENSP00000310111\n",
      "9606.ENSP00000001008 9606.ENSP00000256682\n",
      "9606.ENSP00000001008 9606.ENSP00000354739\n",
      "9606.ENSP00000001008 9606.ENSP00000358081\n",
      "9606.ENSP00000001008 9606.ENSP00000369071\n",
      "9606.ENSP00000001008 9606.ENSP00000477707\n",
      "9606.ENSP00000001008 9606.ENSP00000394485\n",
      "9606.ENSP00000001008 9606.ENSP00000359799\n",
      "9606.ENSP00000001008 9606.ENSP00000297071\n",
      "9606.ENSP00000001008 9606.ENSP00000258198\n",
      "9606.ENSP00000001008 9606.ENSP00000291009\n",
      "9606.ENSP00000001008 9606.ENSP00000450385\n",
      "9606.ENSP00000001008 9606.ENSP00000234313\n"
     ]
    },
    {
     "name": "stderr",
     "output_type": "stream",
     "text": [
      "2474it [00:26, 92.62it/s]"
     ]
    },
    {
     "name": "stdout",
     "output_type": "stream",
     "text": [
      "9606.ENSP00000001008 9606.ENSP00000380250\n",
      "9606.ENSP00000001008 9606.ENSP00000279387\n",
      "9606.ENSP00000001008 9606.ENSP00000256367\n",
      "9606.ENSP00000001008 9606.ENSP00000262039\n",
      "9606.ENSP00000001008 9606.ENSP00000335632\n",
      "9606.ENSP00000001008 9606.ENSP00000290231\n",
      "9606.ENSP00000001008 9606.ENSP00000320309\n",
      "9606.ENSP00000001008 9606.ENSP00000229390\n",
      "9606.ENSP00000001008 9606.ENSP00000243563\n",
      "9606.ENSP00000001008 9606.ENSP00000354558\n",
      "9606.ENSP00000001008 9606.ENSP00000257829\n",
      "9606.ENSP00000001008 9606.ENSP00000290541\n",
      "9606.ENSP00000001008 9606.ENSP00000450909\n",
      "9606.ENSP00000001008 9606.ENSP00000408910\n",
      "9606.ENSP00000001008 9606.ENSP00000401802\n",
      "9606.ENSP00000001008 9606.ENSP00000480443\n",
      "9606.ENSP00000001008 9606.ENSP00000365198\n",
      "9606.ENSP00000001008 9606.ENSP00000261047\n",
      "9606.ENSP00000001008 9606.ENSP00000398882\n",
      "9606.ENSP00000001008 9606.ENSP00000411010\n"
     ]
    },
    {
     "name": "stderr",
     "output_type": "stream",
     "text": [
      "2494it [00:26, 93.84it/s]"
     ]
    },
    {
     "name": "stdout",
     "output_type": "stream",
     "text": [
      "9606.ENSP00000001008 9606.ENSP00000210444\n",
      "9606.ENSP00000001008 9606.ENSP00000290277\n",
      "9606.ENSP00000001008 9606.ENSP00000376056\n",
      "9606.ENSP00000001008 9606.ENSP00000361475\n",
      "9606.ENSP00000001008 9606.ENSP00000360329\n",
      "9606.ENSP00000001008 9606.ENSP00000431512\n",
      "9606.ENSP00000001008 9606.ENSP00000313581\n",
      "9606.ENSP00000001008 9606.ENSP00000232978\n",
      "9606.ENSP00000001008 9606.ENSP00000363313\n",
      "9606.ENSP00000001008 9606.ENSP00000427793\n",
      "9606.ENSP00000001008 9606.ENSP00000356520\n",
      "9606.ENSP00000001008 9606.ENSP00000380921\n",
      "9606.ENSP00000001008 9606.ENSP00000355995\n",
      "9606.ENSP00000001008 9606.ENSP00000387699\n",
      "9606.ENSP00000001008 9606.ENSP00000371548\n",
      "9606.ENSP00000001008 9606.ENSP00000349722\n",
      "9606.ENSP00000001008 9606.ENSP00000358903\n",
      "9606.ENSP00000001008 9606.ENSP00000216254\n",
      "9606.ENSP00000001008 9606.ENSP00000355533\n"
     ]
    },
    {
     "name": "stderr",
     "output_type": "stream",
     "text": [
      "2516it [00:26, 94.34it/s]"
     ]
    },
    {
     "name": "stdout",
     "output_type": "stream",
     "text": [
      "9606.ENSP00000001008 9606.ENSP00000303754\n",
      "9606.ENSP00000001008 9606.ENSP00000262367\n",
      "9606.ENSP00000001008 9606.ENSP00000261177\n",
      "9606.ENSP00000001008 9606.ENSP00000216271\n",
      "9606.ENSP00000001008 9606.ENSP00000402515\n",
      "9606.ENSP00000001008 9606.ENSP00000476767\n",
      "9606.ENSP00000001008 9606.ENSP00000263168\n",
      "9606.ENSP00000001008 9606.ENSP00000320130\n",
      "9606.ENSP00000001008 9606.ENSP00000479598\n",
      "9606.ENSP00000001008 9606.ENSP00000234590\n",
      "9606.ENSP00000001008 9606.ENSP00000368966\n",
      "9606.ENSP00000001008 9606.ENSP00000203001\n",
      "9606.ENSP00000001008 9606.ENSP00000369014\n",
      "9606.ENSP00000001008 9606.ENSP00000229239\n",
      "9606.ENSP00000001008 9606.ENSP00000307889\n",
      "9606.ENSP00000001008 9606.ENSP00000228820\n",
      "9606.ENSP00000001008 9606.ENSP00000226574\n",
      "9606.ENSP00000001008 9606.ENSP00000384273\n",
      "9606.ENSP00000001008 9606.ENSP00000325690\n",
      "9606.ENSP00000001008 9606.ENSP00000256594\n",
      "9606.ENSP00000001008 9606.ENSP00000349208\n",
      "9606.ENSP00000001008 9606.ENSP00000403683\n",
      "9606.ENSP00000001008"
     ]
    },
    {
     "name": "stderr",
     "output_type": "stream",
     "text": [
      "2541it [00:26, 107.43it/s]"
     ]
    },
    {
     "name": "stdout",
     "output_type": "stream",
     "text": [
      " 9606.ENSP00000377914\n",
      "9606.ENSP00000001008 9606.ENSP00000287585\n",
      "9606.ENSP00000001008 9606.ENSP00000483921\n",
      "9606.ENSP00000001008 9606.ENSP00000215793\n",
      "9606.ENSP00000001008 9606.ENSP00000327821\n",
      "9606.ENSP00000001008 9606.ENSP00000239223\n",
      "9606.ENSP00000001008 9606.ENSP00000369042\n",
      "9606.ENSP00000001008 9606.ENSP00000264065\n",
      "9606.ENSP00000001008 9606.ENSP00000378328\n",
      "9606.ENSP00000001008 9606.ENSP00000318318\n",
      "9606.ENSP00000001008 9606.ENSP00000301280\n",
      "9606.ENSP00000001008 9606.ENSP00000231790\n",
      "9606.ENSP00000001008 9606.ENSP00000386636\n",
      "9606.ENSP00000001008 9606.ENSP00000355231\n",
      "9606.ENSP00000001008 9606.ENSP00000340820\n",
      "9606.ENSP00000001008 9606.ENSP00000369915\n",
      "9606.ENSP00000001008 9606.ENSP00000331901\n",
      "9606.ENSP00000001008 9606.ENSP00000478255\n",
      "9606.ENSP00000001008 9606.ENSP00000260356\n",
      "9606.ENSP00000001008 9606.ENSP00000369666\n",
      "9606.ENSP00000001008 9606.ENSP00000317904\n",
      "9606.ENSP00000001008 9606.ENSP00000466134\n",
      "9606.ENSP00000001008 9606.ENSP00000262177\n",
      "9606.ENSP00000001008 9606.ENSP00000226730\n",
      "9606.ENSP00000001008 9606.ENSP00000363869\n",
      "9606.ENSP00000001008 9606.ENSP00000347464\n"
     ]
    },
    {
     "name": "stderr",
     "output_type": "stream",
     "text": [
      "2563it [00:27, 100.59it/s]"
     ]
    },
    {
     "name": "stdout",
     "output_type": "stream",
     "text": [
      "9606.ENSP00000001008 9606.ENSP00000452123\n",
      "9606.ENSP00000001008 9606.ENSP00000309124\n",
      "9606.ENSP00000001008 9606.ENSP00000377797\n",
      "9606.ENSP00000001008 9606.ENSP00000329558\n",
      "9606.ENSP00000001008 9606.ENSP00000310129\n",
      "9606.ENSP00000001008 9606.ENSP00000346725\n",
      "9606.ENSP00000001008 9606.ENSP00000327191\n",
      "9606.ENSP00000001008 9606.ENSP00000457466\n",
      "9606.ENSP00000001008 9606.ENSP00000274192\n",
      "9606.ENSP00000001008 9606.ENSP00000303706\n",
      "9606.ENSP00000001008 9606.ENSP00000341208\n",
      "9606.ENSP00000001008 9606.ENSP00000379457\n",
      "9606.ENSP00000001008 9606.ENSP00000270625\n",
      "9606.ENSP00000001008 9606.ENSP00000258091\n",
      "9606.ENSP00000001008 9606.ENSP00000254846\n",
      "9606.ENSP00000001008 9606.ENSP00000286428\n",
      "9606.ENSP00000001008 9606.ENSP00000481697\n",
      "9606.ENSP00000001008 9606.ENSP00000316042\n",
      "9606.ENSP00000001008 9606.ENSP00000354125\n",
      "9606.ENSP00000001008"
     ]
    },
    {
     "name": "stderr",
     "output_type": "stream",
     "text": [
      "\r",
      "2574it [00:27, 95.16it/s] "
     ]
    },
    {
     "name": "stdout",
     "output_type": "stream",
     "text": [
      " 9606.ENSP00000357688\n",
      "9606.ENSP00000001008 9606.ENSP00000262144\n",
      "9606.ENSP00000001008 9606.ENSP00000317123\n",
      "9606.ENSP00000001008 9606.ENSP00000358635\n",
      "9606.ENSP00000001008 9606.ENSP00000451291\n",
      "9606.ENSP00000001008 9606.ENSP00000407323\n",
      "9606.ENSP00000001008 9606.ENSP00000357076\n",
      "9606.ENSP00000001008 9606.ENSP00000367910\n",
      "9606.ENSP00000001008 9606.ENSP00000371393\n",
      "9606.ENSP00000001008 9606.ENSP00000391481\n",
      "9606.ENSP00000001008 9606.ENSP00000470142\n",
      "9606.ENSP00000001008 9606.ENSP00000341947\n",
      "9606.ENSP00000001008 9606.ENSP00000236980\n",
      "9606.ENSP00000001008 9606.ENSP00000329002\n",
      "9606.ENSP00000001008 9606.ENSP00000456405\n",
      "9606.ENSP00000001008 9606.ENSP00000225655\n",
      "9606.ENSP00000001008 9606.ENSP00000378563\n",
      "9606.ENSP00000001008 9606.ENSP00000084798\n"
     ]
    },
    {
     "name": "stderr",
     "output_type": "stream",
     "text": [
      "2595it [00:27, 96.97it/s]"
     ]
    },
    {
     "name": "stdout",
     "output_type": "stream",
     "text": [
      "9606.ENSP00000001008 9606.ENSP00000320650\n",
      "9606.ENSP00000001008 9606.ENSP00000268802\n",
      "9606.ENSP00000001008 9606.ENSP00000403310\n",
      "9606.ENSP00000001008 9606.ENSP00000392147\n",
      "9606.ENSP00000001008 9606.ENSP00000324806\n",
      "9606.ENSP00000001008 9606.ENSP00000258874\n",
      "9606.ENSP00000001008 9606.ENSP00000215574\n",
      "9606.ENSP00000001008 9606.ENSP00000291700\n",
      "9606.ENSP00000001008 9606.ENSP00000419740\n",
      "9606.ENSP00000001008 9606.ENSP00000346173\n",
      "9606.ENSP00000001008 9606.ENSP00000305465\n",
      "9606.ENSP00000001008 9606.ENSP00000280605\n",
      "9606.ENSP00000001008 9606.ENSP00000265723\n",
      "9606.ENSP00000001008 9606.ENSP00000482075\n",
      "9606.ENSP00000001008 9606.ENSP00000286091\n",
      "9606.ENSP00000001008 9606.ENSP00000366563\n",
      "9606.ENSP00000001008 9606.ENSP00000340409\n",
      "9606.ENSP00000001008 9606.ENSP00000305422\n",
      "9606.ENSP00000001008 9606.ENSP00000385385\n",
      "9606.ENSP00000001008 9606.ENSP00000311032\n",
      "9606.ENSP00000001008 9606.ENSP00000356438\n"
     ]
    },
    {
     "name": "stderr",
     "output_type": "stream",
     "text": [
      "2616it [00:27, 96.59it/s]"
     ]
    },
    {
     "name": "stdout",
     "output_type": "stream",
     "text": [
      "9606.ENSP00000001008 9606.ENSP00000478754\n",
      "9606.ENSP00000001008 9606.ENSP00000355601\n",
      "9606.ENSP00000001008 9606.ENSP00000234170\n",
      "9606.ENSP00000001008 9606.ENSP00000229771\n",
      "9606.ENSP00000001008 9606.ENSP00000270586\n",
      "9606.ENSP00000001008 9606.ENSP00000394316\n",
      "9606.ENSP00000001008 9606.ENSP00000338990\n",
      "9606.ENSP00000001008 9606.ENSP00000381461\n",
      "9606.ENSP00000001008 9606.ENSP00000351141\n",
      "9606.ENSP00000001008 9606.ENSP00000376889\n",
      "9606.ENSP00000001008 9606.ENSP00000363642\n",
      "9606.ENSP00000001008 9606.ENSP00000230431\n",
      "9606.ENSP00000001008 9606.ENSP00000295731\n",
      "9606.ENSP00000001008 9606.ENSP00000385410\n",
      "9606.ENSP00000001008 9606.ENSP00000357981\n",
      "9606.ENSP00000001008 9606.ENSP00000304915\n",
      "9606.ENSP00000001008 9606.ENSP00000260184\n",
      "9606.ENSP00000001008 9606.ENSP00000272190\n",
      "9606.ENSP00000001008 9606.ENSP00000374399\n",
      "9606.ENSP00000001008"
     ]
    },
    {
     "name": "stderr",
     "output_type": "stream",
     "text": [
      "2636it [00:27, 94.07it/s]"
     ]
    },
    {
     "name": "stdout",
     "output_type": "stream",
     "text": [
      " 9606.ENSP00000445175\n",
      "9606.ENSP00000001008 9606.ENSP00000253023\n",
      "9606.ENSP00000001008 9606.ENSP00000384296\n",
      "9606.ENSP00000001008 9606.ENSP00000216038\n",
      "9606.ENSP00000001008 9606.ENSP00000255465\n",
      "9606.ENSP00000001008 9606.ENSP00000333821\n",
      "9606.ENSP00000001008 9606.ENSP00000304908\n",
      "9606.ENSP00000001008 9606.ENSP00000404179\n",
      "9606.ENSP00000001008 9606.ENSP00000481029\n",
      "9606.ENSP00000001008 9606.ENSP00000378046\n",
      "9606.ENSP00000001008 9606.ENSP00000420514\n",
      "9606.ENSP00000001008 9606.ENSP00000219169\n",
      "9606.ENSP00000001008 9606.ENSP00000367668\n",
      "9606.ENSP00000001008 9606.ENSP00000358921\n",
      "9606.ENSP00000001008 9606.ENSP00000356687\n",
      "9606.ENSP00000001008 9606.ENSP00000363384\n",
      "9606.ENSP00000001008 9606.ENSP00000378028\n",
      "9606.ENSP00000001008 9606.ENSP00000375639\n",
      "9606.ENSP00000001008 9606.ENSP00000199447\n"
     ]
    },
    {
     "name": "stderr",
     "output_type": "stream",
     "text": [
      "2658it [00:28, 99.27it/s]"
     ]
    },
    {
     "name": "stdout",
     "output_type": "stream",
     "text": [
      "9606.ENSP00000001008 9606.ENSP00000216144\n",
      "9606.ENSP00000001008 9606.ENSP00000253329\n",
      "9606.ENSP00000001008 9606.ENSP00000308332\n",
      "9606.ENSP00000001008 9606.ENSP00000312222\n",
      "9606.ENSP00000001008 9606.ENSP00000333994\n",
      "9606.ENSP00000001008 9606.ENSP00000234310\n",
      "9606.ENSP00000001008 9606.ENSP00000264552\n",
      "9606.ENSP00000001008 9606.ENSP00000351314\n",
      "9606.ENSP00000001008 9606.ENSP00000302886\n",
      "9606.ENSP00000001008 9606.ENSP00000296930\n",
      "9606.ENSP00000001008 9606.ENSP00000362820\n",
      "9606.ENSP00000001008 9606.ENSP00000201586\n",
      "9606.ENSP00000001008 9606.ENSP00000391826\n",
      "9606.ENSP00000001008 9606.ENSP00000344431\n",
      "9606.ENSP00000001008 9606.ENSP00000345917\n",
      "9606.ENSP00000001008 9606.ENSP00000378605\n",
      "9606.ENSP00000001008 9606.ENSP00000323687\n",
      "9606.ENSP00000001008 9606.ENSP00000245206\n",
      "9606.ENSP00000001008 9606.ENSP00000381003\n",
      "9606.ENSP00000001008 9606.ENSP00000360688\n",
      "9606.ENSP00000001008 9606.ENSP00000258383\n",
      "9606.ENSP00000001008 9606.ENSP00000347626\n",
      "9606.ENSP00000001008 9606.ENSP00000368523\n",
      "9606.ENSP00000001008 9606.ENSP00000332454\n",
      "9606.ENSP00000001008 9606.ENSP00000433664\n",
      "9606.ENSP00000001008 9606.ENSP00000375942\n"
     ]
    },
    {
     "name": "stderr",
     "output_type": "stream",
     "text": [
      "2681it [00:28, 105.42it/s]"
     ]
    },
    {
     "name": "stdout",
     "output_type": "stream",
     "text": [
      "9606.ENSP00000001008 9606.ENSP00000348753\n",
      "9606.ENSP00000001008 9606.ENSP00000276079\n",
      "9606.ENSP00000001008 9606.ENSP00000334553\n",
      "9606.ENSP00000001008 9606.ENSP00000346453\n",
      "9606.ENSP00000001008 9606.ENSP00000440945\n",
      "9606.ENSP00000001008 9606.ENSP00000362395\n",
      "9606.ENSP00000001008 9606.ENSP00000381984\n",
      "9606.ENSP00000001008 9606.ENSP00000266397\n",
      "9606.ENSP00000001008 9606.ENSP00000384302\n",
      "9606.ENSP00000001008 9606.ENSP00000362936\n",
      "9606.ENSP00000001008 9606.ENSP00000352565\n",
      "9606.ENSP00000001008 9606.ENSP00000342710\n",
      "9606.ENSP00000001008 9606.ENSP00000306362\n",
      "9606.ENSP00000001008 9606.ENSP00000394863\n",
      "9606.ENSP00000001008 9606.ENSP00000318986\n",
      "9606.ENSP00000001008 9606.ENSP00000264009\n",
      "9606.ENSP00000001008 9606.ENSP00000348965\n",
      "9606.ENSP00000001008 9606.ENSP00000398523\n",
      "9606.ENSP00000001008 9606.ENSP00000379372\n"
     ]
    },
    {
     "name": "stderr",
     "output_type": "stream",
     "text": [
      "2704it [00:28, 106.46it/s]"
     ]
    }
   ],
   "source": [
    "max_rows = 1_000_000\n",
    "\n",
    "for i, row in tqdm(protein_links_[:max_rows].iterrows()):\n",
    "    protein1, protein2, score = row\n",
    "    \n",
    "    print(protein1, protein2)\n",
    "    \n",
    "    idx1 = sorted_proteins.index[sorted_proteins['protein'] == protein1].tolist()\n",
    "    idx2 = sorted_proteins.index[sorted_proteins['protein'] == protein2].tolist()\n",
    "    \n",
    "    #assert( len(idx1) == 1 and len(idx2) == 1 )\n",
    "    \n",
    "    idx1, idx2 = idx1[0], idx2[0]\n",
    "    \n",
    "    # adding both directions to the COO matrix\n",
    "    edge_index[:, 2*i] = idx1, idx2\n",
    "    edge_index[:, 2*i + 1] = idx2, idx1\n",
    "    \n",
    "    # adding scores to edge_attr matrix \n",
    "    edge_attr[2*i:2*i+2, 0] = [score]*2"
   ]
  },
  {
   "cell_type": "markdown",
   "metadata": {},
   "source": [
    "**Create Data Object for Graph**"
   ]
  },
  {
   "cell_type": "code",
   "execution_count": null,
   "metadata": {},
   "outputs": [],
   "source": [
    "from torch_geometric.data import Data\n",
    "\n",
    "data = Data(x=x, edge_index=edge_index, ...)"
   ]
  }
 ],
 "metadata": {
  "kernelspec": {
   "display_name": "Python [conda env:earthquake-prediction]",
   "language": "python",
   "name": "conda-env-earthquake-prediction-py"
  },
  "language_info": {
   "codemirror_mode": {
    "name": "ipython",
    "version": 3
   },
   "file_extension": ".py",
   "mimetype": "text/x-python",
   "name": "python",
   "nbconvert_exporter": "python",
   "pygments_lexer": "ipython3",
   "version": "3.10.4"
  }
 },
 "nbformat": 4,
 "nbformat_minor": 4
}
