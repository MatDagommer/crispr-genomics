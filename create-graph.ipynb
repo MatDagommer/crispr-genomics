{
 "cells": [
  {
   "cell_type": "code",
   "execution_count": 1,
   "metadata": {},
   "outputs": [
    {
     "name": "stderr",
     "output_type": "stream",
     "text": [
      "C:\\Users\\matth\\anaconda3\\envs\\earthquake-prediction\\lib\\site-packages\\tqdm\\auto.py:22: TqdmWarning: IProgress not found. Please update jupyter and ipywidgets. See https://ipywidgets.readthedocs.io/en/stable/user_install.html\n",
      "  from .autonotebook import tqdm as notebook_tqdm\n"
     ]
    }
   ],
   "source": [
    "import torch\n",
    "import torch.nn as nn\n",
    "import torch.utils.data\n",
    "import torch.utils.data as data_utils\n",
    "import torch.nn.functional as F\n",
    "import numpy as np\n",
    "import matplotlib.pyplot as plt\n",
    "import pandas as pd\n",
    "import seaborn\n",
    "from tqdm import tqdm\n",
    "import timeit"
   ]
  },
  {
   "cell_type": "markdown",
   "metadata": {},
   "source": [
    "Input data:  \n",
    "- CCLE_expression.csv  \n",
    "Gene expression TPM (transcript per million) values of the protein coding genes for DepMap cell lines  \n",
    "log2(TPM+1) goes from 0.00 to 17.78\n",
    "\n",
    "\n",
    "- CRISPR_gene_effect.csv\n",
    "Gene effect of the protein coding genes for DepMap cell lines\n",
    "Gene Effect scores derived from CRISPR knockout screens published by Broad’s Achilles and Sanger’s SCORE projects.  \n",
    "Negative scores imply cell growth inhibition and/or death following gene knockout. Scores are normalized such that nonessential genes have a median score of 0 and independently identified common essentials have a median score of -1.  \n",
    "SCORE goes from -3.89 to 2.73.\n",
    "\n",
    "\n",
    "- 9606.protein.info.v11.5.txt\n",
    "\n",
    "\n",
    "- protein links 9606.protein.links.v11.5.txt\n",
    "\n",
    "\n",
    "\n",
    "\n",
    "Genes:17386  \n",
    "Cell Lines:1086  \n",
    "Primary Diseases:31  \n",
    "Lineages:28  "
   ]
  },
  {
   "cell_type": "markdown",
   "metadata": {},
   "source": [
    "## Extract data "
   ]
  },
  {
   "cell_type": "code",
   "execution_count": 2,
   "metadata": {},
   "outputs": [],
   "source": [
    "# Extract gene expression from CCLE_expression.csv\n",
    "df = pd.read_csv('data/CCLE_expression.csv')\n",
    "gene_expression = df.rename(columns={\"Unnamed: 0\":\"DepMap\"}).set_index(\"DepMap\").dropna()\n",
    "\n",
    "# Extract gene effect from CRISPR_gene_effect.csv\n",
    "df = pd.read_csv('data/CRISPR_gene_effect.csv')\n",
    "gene_effect = df.rename(columns={\"DepMap_ID\":\"DepMap\"}).set_index(\"DepMap\").dropna()"
   ]
  },
  {
   "cell_type": "code",
   "execution_count": 3,
   "metadata": {},
   "outputs": [],
   "source": [
    "# Extract protein links 9606.protein.links.v11.5.txt\n",
    "protein_links = pd.read_csv('data/9606.protein.links.v11.5.txt', sep=' ')\n",
    "\n",
    "# Extract protein info from 9606.protein.info.v11.5.txt\n",
    "df = pd.read_csv('data/9606.protein.info.v11.5.txt', sep='\t')\n",
    "protein_info = df.rename(columns={\"#string_protein_id\":\"protein\",\n",
    "                   \"preferred_name\":\"gene_ID\"})[[\"protein\",\"gene_ID\"]]"
   ]
  },
  {
   "cell_type": "code",
   "execution_count": 4,
   "metadata": {},
   "outputs": [
    {
     "data": {
      "text/html": [
       "<div>\n",
       "<style scoped>\n",
       "    .dataframe tbody tr th:only-of-type {\n",
       "        vertical-align: middle;\n",
       "    }\n",
       "\n",
       "    .dataframe tbody tr th {\n",
       "        vertical-align: top;\n",
       "    }\n",
       "\n",
       "    .dataframe thead th {\n",
       "        text-align: right;\n",
       "    }\n",
       "</style>\n",
       "<table border=\"1\" class=\"dataframe\">\n",
       "  <thead>\n",
       "    <tr style=\"text-align: right;\">\n",
       "      <th></th>\n",
       "      <th>TSPAN6 (7105)</th>\n",
       "      <th>TNMD (64102)</th>\n",
       "      <th>DPM1 (8813)</th>\n",
       "      <th>SCYL3 (57147)</th>\n",
       "      <th>C1orf112 (55732)</th>\n",
       "      <th>FGR (2268)</th>\n",
       "      <th>CFH (3075)</th>\n",
       "      <th>FUCA2 (2519)</th>\n",
       "      <th>GCLC (2729)</th>\n",
       "      <th>NFYA (4800)</th>\n",
       "      <th>...</th>\n",
       "      <th>H3C2 (8358)</th>\n",
       "      <th>H3C3 (8352)</th>\n",
       "      <th>AC098582.1 (8916)</th>\n",
       "      <th>DUS4L-BCAP29 (115253422)</th>\n",
       "      <th>C8orf44-SGK3 (100533105)</th>\n",
       "      <th>ELOA3B (728929)</th>\n",
       "      <th>NPBWR1 (2831)</th>\n",
       "      <th>ELOA3D (100506888)</th>\n",
       "      <th>ELOA3 (162699)</th>\n",
       "      <th>CDR1 (1038)</th>\n",
       "    </tr>\n",
       "    <tr>\n",
       "      <th>DepMap</th>\n",
       "      <th></th>\n",
       "      <th></th>\n",
       "      <th></th>\n",
       "      <th></th>\n",
       "      <th></th>\n",
       "      <th></th>\n",
       "      <th></th>\n",
       "      <th></th>\n",
       "      <th></th>\n",
       "      <th></th>\n",
       "      <th></th>\n",
       "      <th></th>\n",
       "      <th></th>\n",
       "      <th></th>\n",
       "      <th></th>\n",
       "      <th></th>\n",
       "      <th></th>\n",
       "      <th></th>\n",
       "      <th></th>\n",
       "      <th></th>\n",
       "      <th></th>\n",
       "    </tr>\n",
       "  </thead>\n",
       "  <tbody>\n",
       "    <tr>\n",
       "      <th>ACH-001113</th>\n",
       "      <td>4.331992</td>\n",
       "      <td>0.000000</td>\n",
       "      <td>7.364397</td>\n",
       "      <td>2.792855</td>\n",
       "      <td>4.470537</td>\n",
       "      <td>0.028569</td>\n",
       "      <td>1.226509</td>\n",
       "      <td>3.042644</td>\n",
       "      <td>6.499686</td>\n",
       "      <td>4.739848</td>\n",
       "      <td>...</td>\n",
       "      <td>2.689299</td>\n",
       "      <td>0.189034</td>\n",
       "      <td>0.201634</td>\n",
       "      <td>2.130931</td>\n",
       "      <td>0.555816</td>\n",
       "      <td>0.0</td>\n",
       "      <td>0.275007</td>\n",
       "      <td>0.0</td>\n",
       "      <td>0.0</td>\n",
       "      <td>0.000000</td>\n",
       "    </tr>\n",
       "    <tr>\n",
       "      <th>ACH-001289</th>\n",
       "      <td>4.566815</td>\n",
       "      <td>0.584963</td>\n",
       "      <td>7.106537</td>\n",
       "      <td>2.543496</td>\n",
       "      <td>3.504620</td>\n",
       "      <td>0.000000</td>\n",
       "      <td>0.189034</td>\n",
       "      <td>3.813525</td>\n",
       "      <td>4.221104</td>\n",
       "      <td>3.481557</td>\n",
       "      <td>...</td>\n",
       "      <td>1.286881</td>\n",
       "      <td>1.049631</td>\n",
       "      <td>0.321928</td>\n",
       "      <td>1.464668</td>\n",
       "      <td>0.632268</td>\n",
       "      <td>0.0</td>\n",
       "      <td>0.014355</td>\n",
       "      <td>0.0</td>\n",
       "      <td>0.0</td>\n",
       "      <td>0.000000</td>\n",
       "    </tr>\n",
       "    <tr>\n",
       "      <th>ACH-001339</th>\n",
       "      <td>3.150560</td>\n",
       "      <td>0.000000</td>\n",
       "      <td>7.379032</td>\n",
       "      <td>2.333424</td>\n",
       "      <td>4.227279</td>\n",
       "      <td>0.056584</td>\n",
       "      <td>1.310340</td>\n",
       "      <td>6.687061</td>\n",
       "      <td>3.682573</td>\n",
       "      <td>3.273516</td>\n",
       "      <td>...</td>\n",
       "      <td>0.594549</td>\n",
       "      <td>1.097611</td>\n",
       "      <td>0.831877</td>\n",
       "      <td>2.946731</td>\n",
       "      <td>0.475085</td>\n",
       "      <td>0.0</td>\n",
       "      <td>0.084064</td>\n",
       "      <td>0.0</td>\n",
       "      <td>0.0</td>\n",
       "      <td>0.042644</td>\n",
       "    </tr>\n",
       "    <tr>\n",
       "      <th>ACH-001538</th>\n",
       "      <td>5.085340</td>\n",
       "      <td>0.000000</td>\n",
       "      <td>7.154109</td>\n",
       "      <td>2.545968</td>\n",
       "      <td>3.084064</td>\n",
       "      <td>0.000000</td>\n",
       "      <td>5.868143</td>\n",
       "      <td>6.165309</td>\n",
       "      <td>4.489928</td>\n",
       "      <td>3.956986</td>\n",
       "      <td>...</td>\n",
       "      <td>0.214125</td>\n",
       "      <td>0.632268</td>\n",
       "      <td>0.298658</td>\n",
       "      <td>1.641546</td>\n",
       "      <td>0.443607</td>\n",
       "      <td>0.0</td>\n",
       "      <td>0.028569</td>\n",
       "      <td>0.0</td>\n",
       "      <td>0.0</td>\n",
       "      <td>0.000000</td>\n",
       "    </tr>\n",
       "    <tr>\n",
       "      <th>ACH-000242</th>\n",
       "      <td>6.729145</td>\n",
       "      <td>0.000000</td>\n",
       "      <td>6.537607</td>\n",
       "      <td>2.456806</td>\n",
       "      <td>3.867896</td>\n",
       "      <td>0.799087</td>\n",
       "      <td>7.208381</td>\n",
       "      <td>5.569856</td>\n",
       "      <td>7.127014</td>\n",
       "      <td>4.568032</td>\n",
       "      <td>...</td>\n",
       "      <td>1.117695</td>\n",
       "      <td>2.358959</td>\n",
       "      <td>0.084064</td>\n",
       "      <td>1.910733</td>\n",
       "      <td>0.000000</td>\n",
       "      <td>0.0</td>\n",
       "      <td>0.464668</td>\n",
       "      <td>0.0</td>\n",
       "      <td>0.0</td>\n",
       "      <td>0.000000</td>\n",
       "    </tr>\n",
       "  </tbody>\n",
       "</table>\n",
       "<p>5 rows × 19221 columns</p>\n",
       "</div>"
      ],
      "text/plain": [
       "            TSPAN6 (7105)  TNMD (64102)  DPM1 (8813)  SCYL3 (57147)  \\\n",
       "DepMap                                                                \n",
       "ACH-001113       4.331992      0.000000     7.364397       2.792855   \n",
       "ACH-001289       4.566815      0.584963     7.106537       2.543496   \n",
       "ACH-001339       3.150560      0.000000     7.379032       2.333424   \n",
       "ACH-001538       5.085340      0.000000     7.154109       2.545968   \n",
       "ACH-000242       6.729145      0.000000     6.537607       2.456806   \n",
       "\n",
       "            C1orf112 (55732)  FGR (2268)  CFH (3075)  FUCA2 (2519)  \\\n",
       "DepMap                                                               \n",
       "ACH-001113          4.470537    0.028569    1.226509      3.042644   \n",
       "ACH-001289          3.504620    0.000000    0.189034      3.813525   \n",
       "ACH-001339          4.227279    0.056584    1.310340      6.687061   \n",
       "ACH-001538          3.084064    0.000000    5.868143      6.165309   \n",
       "ACH-000242          3.867896    0.799087    7.208381      5.569856   \n",
       "\n",
       "            GCLC (2729)  NFYA (4800)  ...  H3C2 (8358)  H3C3 (8352)  \\\n",
       "DepMap                                ...                             \n",
       "ACH-001113     6.499686     4.739848  ...     2.689299     0.189034   \n",
       "ACH-001289     4.221104     3.481557  ...     1.286881     1.049631   \n",
       "ACH-001339     3.682573     3.273516  ...     0.594549     1.097611   \n",
       "ACH-001538     4.489928     3.956986  ...     0.214125     0.632268   \n",
       "ACH-000242     7.127014     4.568032  ...     1.117695     2.358959   \n",
       "\n",
       "            AC098582.1 (8916)  DUS4L-BCAP29 (115253422)  \\\n",
       "DepMap                                                    \n",
       "ACH-001113           0.201634                  2.130931   \n",
       "ACH-001289           0.321928                  1.464668   \n",
       "ACH-001339           0.831877                  2.946731   \n",
       "ACH-001538           0.298658                  1.641546   \n",
       "ACH-000242           0.084064                  1.910733   \n",
       "\n",
       "            C8orf44-SGK3 (100533105)  ELOA3B (728929)  NPBWR1 (2831)  \\\n",
       "DepMap                                                                 \n",
       "ACH-001113                  0.555816              0.0       0.275007   \n",
       "ACH-001289                  0.632268              0.0       0.014355   \n",
       "ACH-001339                  0.475085              0.0       0.084064   \n",
       "ACH-001538                  0.443607              0.0       0.028569   \n",
       "ACH-000242                  0.000000              0.0       0.464668   \n",
       "\n",
       "            ELOA3D (100506888)  ELOA3 (162699)  CDR1 (1038)  \n",
       "DepMap                                                       \n",
       "ACH-001113                 0.0             0.0     0.000000  \n",
       "ACH-001289                 0.0             0.0     0.000000  \n",
       "ACH-001339                 0.0             0.0     0.042644  \n",
       "ACH-001538                 0.0             0.0     0.000000  \n",
       "ACH-000242                 0.0             0.0     0.000000  \n",
       "\n",
       "[5 rows x 19221 columns]"
      ]
     },
     "execution_count": 4,
     "metadata": {},
     "output_type": "execute_result"
    }
   ],
   "source": [
    "gene_expression.head()"
   ]
  },
  {
   "cell_type": "code",
   "execution_count": 5,
   "metadata": {},
   "outputs": [
    {
     "data": {
      "text/html": [
       "<div>\n",
       "<style scoped>\n",
       "    .dataframe tbody tr th:only-of-type {\n",
       "        vertical-align: middle;\n",
       "    }\n",
       "\n",
       "    .dataframe tbody tr th {\n",
       "        vertical-align: top;\n",
       "    }\n",
       "\n",
       "    .dataframe thead th {\n",
       "        text-align: right;\n",
       "    }\n",
       "</style>\n",
       "<table border=\"1\" class=\"dataframe\">\n",
       "  <thead>\n",
       "    <tr style=\"text-align: right;\">\n",
       "      <th></th>\n",
       "      <th>A1BG (1)</th>\n",
       "      <th>A1CF (29974)</th>\n",
       "      <th>A2M (2)</th>\n",
       "      <th>A2ML1 (144568)</th>\n",
       "      <th>A3GALT2 (127550)</th>\n",
       "      <th>A4GALT (53947)</th>\n",
       "      <th>A4GNT (51146)</th>\n",
       "      <th>AAAS (8086)</th>\n",
       "      <th>AACS (65985)</th>\n",
       "      <th>AADAC (13)</th>\n",
       "      <th>...</th>\n",
       "      <th>ZWILCH (55055)</th>\n",
       "      <th>ZWINT (11130)</th>\n",
       "      <th>ZXDA (7789)</th>\n",
       "      <th>ZXDB (158586)</th>\n",
       "      <th>ZXDC (79364)</th>\n",
       "      <th>ZYG11A (440590)</th>\n",
       "      <th>ZYG11B (79699)</th>\n",
       "      <th>ZYX (7791)</th>\n",
       "      <th>ZZEF1 (23140)</th>\n",
       "      <th>ZZZ3 (26009)</th>\n",
       "    </tr>\n",
       "    <tr>\n",
       "      <th>DepMap</th>\n",
       "      <th></th>\n",
       "      <th></th>\n",
       "      <th></th>\n",
       "      <th></th>\n",
       "      <th></th>\n",
       "      <th></th>\n",
       "      <th></th>\n",
       "      <th></th>\n",
       "      <th></th>\n",
       "      <th></th>\n",
       "      <th></th>\n",
       "      <th></th>\n",
       "      <th></th>\n",
       "      <th></th>\n",
       "      <th></th>\n",
       "      <th></th>\n",
       "      <th></th>\n",
       "      <th></th>\n",
       "      <th></th>\n",
       "      <th></th>\n",
       "      <th></th>\n",
       "    </tr>\n",
       "  </thead>\n",
       "  <tbody>\n",
       "    <tr>\n",
       "      <th>ACH-000001</th>\n",
       "      <td>-0.134808</td>\n",
       "      <td>0.059764</td>\n",
       "      <td>-0.008665</td>\n",
       "      <td>-0.003572</td>\n",
       "      <td>-0.106211</td>\n",
       "      <td>-0.008257</td>\n",
       "      <td>0.018711</td>\n",
       "      <td>-0.291985</td>\n",
       "      <td>0.010921</td>\n",
       "      <td>0.064932</td>\n",
       "      <td>...</td>\n",
       "      <td>-0.037619</td>\n",
       "      <td>-0.116524</td>\n",
       "      <td>-0.029331</td>\n",
       "      <td>0.105940</td>\n",
       "      <td>0.147605</td>\n",
       "      <td>-0.119822</td>\n",
       "      <td>0.063387</td>\n",
       "      <td>0.160857</td>\n",
       "      <td>0.058648</td>\n",
       "      <td>-0.316792</td>\n",
       "    </tr>\n",
       "    <tr>\n",
       "      <th>ACH-000004</th>\n",
       "      <td>0.081853</td>\n",
       "      <td>-0.056401</td>\n",
       "      <td>-0.106738</td>\n",
       "      <td>-0.014499</td>\n",
       "      <td>0.078209</td>\n",
       "      <td>-0.137562</td>\n",
       "      <td>0.168657</td>\n",
       "      <td>-0.198560</td>\n",
       "      <td>0.133372</td>\n",
       "      <td>0.151300</td>\n",
       "      <td>...</td>\n",
       "      <td>-0.030901</td>\n",
       "      <td>-0.262220</td>\n",
       "      <td>0.136406</td>\n",
       "      <td>0.031327</td>\n",
       "      <td>0.093763</td>\n",
       "      <td>-0.079692</td>\n",
       "      <td>-0.173709</td>\n",
       "      <td>0.153632</td>\n",
       "      <td>0.175627</td>\n",
       "      <td>-0.040869</td>\n",
       "    </tr>\n",
       "    <tr>\n",
       "      <th>ACH-000005</th>\n",
       "      <td>-0.094196</td>\n",
       "      <td>-0.014598</td>\n",
       "      <td>0.100426</td>\n",
       "      <td>0.169103</td>\n",
       "      <td>0.032363</td>\n",
       "      <td>-0.148050</td>\n",
       "      <td>0.168931</td>\n",
       "      <td>-0.244777</td>\n",
       "      <td>-0.086871</td>\n",
       "      <td>-0.036037</td>\n",
       "      <td>...</td>\n",
       "      <td>0.039434</td>\n",
       "      <td>-0.336925</td>\n",
       "      <td>-0.095528</td>\n",
       "      <td>-0.035541</td>\n",
       "      <td>-0.035612</td>\n",
       "      <td>-0.040183</td>\n",
       "      <td>-0.165464</td>\n",
       "      <td>0.077343</td>\n",
       "      <td>0.019387</td>\n",
       "      <td>-0.085687</td>\n",
       "    </tr>\n",
       "    <tr>\n",
       "      <th>ACH-000007</th>\n",
       "      <td>-0.011544</td>\n",
       "      <td>-0.123189</td>\n",
       "      <td>0.080692</td>\n",
       "      <td>0.061046</td>\n",
       "      <td>-0.013454</td>\n",
       "      <td>-0.016922</td>\n",
       "      <td>-0.029474</td>\n",
       "      <td>-0.206516</td>\n",
       "      <td>-0.063998</td>\n",
       "      <td>0.139288</td>\n",
       "      <td>...</td>\n",
       "      <td>-0.229303</td>\n",
       "      <td>-0.463191</td>\n",
       "      <td>0.061641</td>\n",
       "      <td>0.190301</td>\n",
       "      <td>0.119388</td>\n",
       "      <td>-0.036695</td>\n",
       "      <td>-0.182449</td>\n",
       "      <td>-0.146936</td>\n",
       "      <td>-0.189451</td>\n",
       "      <td>-0.281167</td>\n",
       "    </tr>\n",
       "    <tr>\n",
       "      <th>ACH-000009</th>\n",
       "      <td>-0.050782</td>\n",
       "      <td>-0.037466</td>\n",
       "      <td>0.068885</td>\n",
       "      <td>0.090375</td>\n",
       "      <td>0.012634</td>\n",
       "      <td>-0.079339</td>\n",
       "      <td>-0.017808</td>\n",
       "      <td>-0.183192</td>\n",
       "      <td>0.006227</td>\n",
       "      <td>-0.001700</td>\n",
       "      <td>...</td>\n",
       "      <td>-0.157219</td>\n",
       "      <td>-0.318765</td>\n",
       "      <td>0.015761</td>\n",
       "      <td>0.196949</td>\n",
       "      <td>-0.045874</td>\n",
       "      <td>-0.186805</td>\n",
       "      <td>-0.275629</td>\n",
       "      <td>-0.001227</td>\n",
       "      <td>-0.049140</td>\n",
       "      <td>-0.240582</td>\n",
       "    </tr>\n",
       "  </tbody>\n",
       "</table>\n",
       "<p>5 rows × 17386 columns</p>\n",
       "</div>"
      ],
      "text/plain": [
       "            A1BG (1)  A1CF (29974)   A2M (2)  A2ML1 (144568)  \\\n",
       "DepMap                                                         \n",
       "ACH-000001 -0.134808      0.059764 -0.008665       -0.003572   \n",
       "ACH-000004  0.081853     -0.056401 -0.106738       -0.014499   \n",
       "ACH-000005 -0.094196     -0.014598  0.100426        0.169103   \n",
       "ACH-000007 -0.011544     -0.123189  0.080692        0.061046   \n",
       "ACH-000009 -0.050782     -0.037466  0.068885        0.090375   \n",
       "\n",
       "            A3GALT2 (127550)  A4GALT (53947)  A4GNT (51146)  AAAS (8086)  \\\n",
       "DepMap                                                                     \n",
       "ACH-000001         -0.106211       -0.008257       0.018711    -0.291985   \n",
       "ACH-000004          0.078209       -0.137562       0.168657    -0.198560   \n",
       "ACH-000005          0.032363       -0.148050       0.168931    -0.244777   \n",
       "ACH-000007         -0.013454       -0.016922      -0.029474    -0.206516   \n",
       "ACH-000009          0.012634       -0.079339      -0.017808    -0.183192   \n",
       "\n",
       "            AACS (65985)  AADAC (13)  ...  ZWILCH (55055)  ZWINT (11130)  \\\n",
       "DepMap                                ...                                  \n",
       "ACH-000001      0.010921    0.064932  ...       -0.037619      -0.116524   \n",
       "ACH-000004      0.133372    0.151300  ...       -0.030901      -0.262220   \n",
       "ACH-000005     -0.086871   -0.036037  ...        0.039434      -0.336925   \n",
       "ACH-000007     -0.063998    0.139288  ...       -0.229303      -0.463191   \n",
       "ACH-000009      0.006227   -0.001700  ...       -0.157219      -0.318765   \n",
       "\n",
       "            ZXDA (7789)  ZXDB (158586)  ZXDC (79364)  ZYG11A (440590)  \\\n",
       "DepMap                                                                  \n",
       "ACH-000001    -0.029331       0.105940      0.147605        -0.119822   \n",
       "ACH-000004     0.136406       0.031327      0.093763        -0.079692   \n",
       "ACH-000005    -0.095528      -0.035541     -0.035612        -0.040183   \n",
       "ACH-000007     0.061641       0.190301      0.119388        -0.036695   \n",
       "ACH-000009     0.015761       0.196949     -0.045874        -0.186805   \n",
       "\n",
       "            ZYG11B (79699)  ZYX (7791)  ZZEF1 (23140)  ZZZ3 (26009)  \n",
       "DepMap                                                               \n",
       "ACH-000001        0.063387    0.160857       0.058648     -0.316792  \n",
       "ACH-000004       -0.173709    0.153632       0.175627     -0.040869  \n",
       "ACH-000005       -0.165464    0.077343       0.019387     -0.085687  \n",
       "ACH-000007       -0.182449   -0.146936      -0.189451     -0.281167  \n",
       "ACH-000009       -0.275629   -0.001227      -0.049140     -0.240582  \n",
       "\n",
       "[5 rows x 17386 columns]"
      ]
     },
     "execution_count": 5,
     "metadata": {},
     "output_type": "execute_result"
    }
   ],
   "source": [
    "gene_effect.head()"
   ]
  },
  {
   "cell_type": "code",
   "execution_count": 6,
   "metadata": {},
   "outputs": [
    {
     "data": {
      "text/html": [
       "<div>\n",
       "<style scoped>\n",
       "    .dataframe tbody tr th:only-of-type {\n",
       "        vertical-align: middle;\n",
       "    }\n",
       "\n",
       "    .dataframe tbody tr th {\n",
       "        vertical-align: top;\n",
       "    }\n",
       "\n",
       "    .dataframe thead th {\n",
       "        text-align: right;\n",
       "    }\n",
       "</style>\n",
       "<table border=\"1\" class=\"dataframe\">\n",
       "  <thead>\n",
       "    <tr style=\"text-align: right;\">\n",
       "      <th></th>\n",
       "      <th>protein1</th>\n",
       "      <th>protein2</th>\n",
       "      <th>combined_score</th>\n",
       "    </tr>\n",
       "  </thead>\n",
       "  <tbody>\n",
       "    <tr>\n",
       "      <th>0</th>\n",
       "      <td>9606.ENSP00000000233</td>\n",
       "      <td>9606.ENSP00000379496</td>\n",
       "      <td>155</td>\n",
       "    </tr>\n",
       "    <tr>\n",
       "      <th>1</th>\n",
       "      <td>9606.ENSP00000000233</td>\n",
       "      <td>9606.ENSP00000314067</td>\n",
       "      <td>197</td>\n",
       "    </tr>\n",
       "    <tr>\n",
       "      <th>2</th>\n",
       "      <td>9606.ENSP00000000233</td>\n",
       "      <td>9606.ENSP00000263116</td>\n",
       "      <td>222</td>\n",
       "    </tr>\n",
       "    <tr>\n",
       "      <th>3</th>\n",
       "      <td>9606.ENSP00000000233</td>\n",
       "      <td>9606.ENSP00000361263</td>\n",
       "      <td>181</td>\n",
       "    </tr>\n",
       "    <tr>\n",
       "      <th>4</th>\n",
       "      <td>9606.ENSP00000000233</td>\n",
       "      <td>9606.ENSP00000409666</td>\n",
       "      <td>270</td>\n",
       "    </tr>\n",
       "  </tbody>\n",
       "</table>\n",
       "</div>"
      ],
      "text/plain": [
       "               protein1              protein2  combined_score\n",
       "0  9606.ENSP00000000233  9606.ENSP00000379496             155\n",
       "1  9606.ENSP00000000233  9606.ENSP00000314067             197\n",
       "2  9606.ENSP00000000233  9606.ENSP00000263116             222\n",
       "3  9606.ENSP00000000233  9606.ENSP00000361263             181\n",
       "4  9606.ENSP00000000233  9606.ENSP00000409666             270"
      ]
     },
     "execution_count": 6,
     "metadata": {},
     "output_type": "execute_result"
    }
   ],
   "source": [
    "protein_links.head()"
   ]
  },
  {
   "cell_type": "code",
   "execution_count": 7,
   "metadata": {},
   "outputs": [
    {
     "data": {
      "text/html": [
       "<div>\n",
       "<style scoped>\n",
       "    .dataframe tbody tr th:only-of-type {\n",
       "        vertical-align: middle;\n",
       "    }\n",
       "\n",
       "    .dataframe tbody tr th {\n",
       "        vertical-align: top;\n",
       "    }\n",
       "\n",
       "    .dataframe thead th {\n",
       "        text-align: right;\n",
       "    }\n",
       "</style>\n",
       "<table border=\"1\" class=\"dataframe\">\n",
       "  <thead>\n",
       "    <tr style=\"text-align: right;\">\n",
       "      <th></th>\n",
       "      <th>protein</th>\n",
       "      <th>gene_ID</th>\n",
       "    </tr>\n",
       "  </thead>\n",
       "  <tbody>\n",
       "    <tr>\n",
       "      <th>0</th>\n",
       "      <td>9606.ENSP00000000233</td>\n",
       "      <td>ARF5</td>\n",
       "    </tr>\n",
       "    <tr>\n",
       "      <th>1</th>\n",
       "      <td>9606.ENSP00000000412</td>\n",
       "      <td>M6PR</td>\n",
       "    </tr>\n",
       "    <tr>\n",
       "      <th>2</th>\n",
       "      <td>9606.ENSP00000001008</td>\n",
       "      <td>FKBP4</td>\n",
       "    </tr>\n",
       "    <tr>\n",
       "      <th>3</th>\n",
       "      <td>9606.ENSP00000001146</td>\n",
       "      <td>CYP26B1</td>\n",
       "    </tr>\n",
       "    <tr>\n",
       "      <th>4</th>\n",
       "      <td>9606.ENSP00000002125</td>\n",
       "      <td>NDUFAF7</td>\n",
       "    </tr>\n",
       "  </tbody>\n",
       "</table>\n",
       "</div>"
      ],
      "text/plain": [
       "                protein  gene_ID\n",
       "0  9606.ENSP00000000233     ARF5\n",
       "1  9606.ENSP00000000412     M6PR\n",
       "2  9606.ENSP00000001008    FKBP4\n",
       "3  9606.ENSP00000001146  CYP26B1\n",
       "4  9606.ENSP00000002125  NDUFAF7"
      ]
     },
     "execution_count": 7,
     "metadata": {},
     "output_type": "execute_result"
    }
   ],
   "source": [
    "protein_info.head()"
   ]
  },
  {
   "cell_type": "markdown",
   "metadata": {},
   "source": [
    "## Clean datasets"
   ]
  },
  {
   "cell_type": "code",
   "execution_count": 8,
   "metadata": {},
   "outputs": [],
   "source": [
    "gene_expression = gene_expression.sort_values(by = 'DepMap').reindex(sorted(gene_expression.columns), axis = 1)\n",
    "gene_effect = gene_effect.sort_values(by = 'DepMap').reindex(sorted(gene_effect.columns), axis = 1)"
   ]
  },
  {
   "cell_type": "code",
   "execution_count": 9,
   "metadata": {},
   "outputs": [],
   "source": [
    "def intersection(lst1, lst2):\n",
    "    return list(set(lst1).intersection(lst2))"
   ]
  },
  {
   "cell_type": "code",
   "execution_count": 10,
   "metadata": {},
   "outputs": [],
   "source": [
    "# Keep genes in common\n",
    "gene_expression_genes = gene_expression.columns\n",
    "gene_effect_genes = gene_effect.columns\n",
    "\n",
    "intersect_expression_effect = sorted(intersection(gene_expression_genes, gene_effect_genes))\n",
    "gene_expression = gene_expression[intersect_expression_effect]\n",
    "gene_effect = gene_effect[intersect_expression_effect]"
   ]
  },
  {
   "cell_type": "code",
   "execution_count": 11,
   "metadata": {},
   "outputs": [],
   "source": [
    "def get_gene_ID(name):\n",
    "    split = name.split(' ')\n",
    "    assert len(split) == 2\n",
    "    return split[0]"
   ]
  },
  {
   "cell_type": "code",
   "execution_count": 12,
   "metadata": {},
   "outputs": [],
   "source": [
    "dict_rename = dict((name,get_gene_ID(name)) for name in intersect_expression_effect)\n",
    "gene_expression = gene_expression.rename(columns=dict_rename)\n",
    "gene_effect = gene_effect.rename(columns=dict_rename)"
   ]
  },
  {
   "cell_type": "code",
   "execution_count": 13,
   "metadata": {},
   "outputs": [],
   "source": [
    "protein_list = intersection(list(protein_info['protein']), set(protein_links['protein1']))\n",
    "\n",
    "protein_info = protein_info[protein_info['protein'].isin(protein_list)]\n",
    "protein_links = protein_links[protein_links['protein1'].isin(protein_list)]\n",
    "protein_links = protein_links[protein_links['protein2'].isin(protein_list)]"
   ]
  },
  {
   "cell_type": "code",
   "execution_count": 14,
   "metadata": {},
   "outputs": [],
   "source": [
    "# Intersection of DepMap proteins and STRING proteins\n",
    "\n",
    "gene_ID_expr = [get_gene_ID(name) for name in intersect_expression_effect]\n",
    "gene_ID_list = sorted(intersection(gene_ID_expr, list(protein_info['gene_ID'])))\n",
    "\n",
    "gene_expression = gene_expression[gene_ID_list]\n",
    "gene_effect = gene_effect[gene_ID_list]\n",
    "protein_info = protein_info[protein_info['gene_ID'].isin(gene_ID_list)]"
   ]
  },
  {
   "cell_type": "code",
   "execution_count": 15,
   "metadata": {
    "scrolled": true
   },
   "outputs": [],
   "source": [
    "protein_links = protein_links[protein_links['protein1'].isin(list(protein_info['protein']))]\n",
    "protein_links = protein_links[protein_links['protein2'].isin(list(protein_info['protein']))]"
   ]
  },
  {
   "cell_type": "code",
   "execution_count": 16,
   "metadata": {},
   "outputs": [
    {
     "name": "stdout",
     "output_type": "stream",
     "text": [
      "(1406, 16481)\n",
      "(1081, 16481)\n",
      "(16481, 2)\n",
      "(9928270, 3)\n"
     ]
    }
   ],
   "source": [
    "print(gene_expression.shape)\n",
    "print(gene_effect.shape)\n",
    "print(protein_info.shape)\n",
    "print(protein_links.shape)"
   ]
  },
  {
   "cell_type": "markdown",
   "metadata": {},
   "source": [
    "## Save dataframes in files"
   ]
  },
  {
   "cell_type": "code",
   "execution_count": null,
   "metadata": {},
   "outputs": [],
   "source": [
    "gene_expression.to_csv('preprocess/gene_expression.csv')\n",
    "gene_effect.to_csv('preprocess/gene_effect.csv')"
   ]
  },
  {
   "cell_type": "code",
   "execution_count": 18,
   "metadata": {},
   "outputs": [],
   "source": [
    "df_to_save = protein_info.sort_values(by='gene_ID')[['protein', 'gene_ID']]\n",
    "df_to_save['index'] = range(len(df_to_save))\n",
    "\n",
    "df_to_save = df_to_save[['index', 'protein', 'gene_ID']]\n",
    "df_to_save.to_csv(r'./preprocess/index_to_protein_and_gene.txt', header=None, index=None, sep=' ', mode='w')"
   ]
  },
  {
   "cell_type": "code",
   "execution_count": 19,
   "metadata": {},
   "outputs": [],
   "source": [
    "df_to_save = protein_info.sort_values(by='gene_ID')[['protein']]\n",
    "df_to_save['index'] = range(len(df_to_save))\n",
    "\n",
    "df_to_save = df_to_save[['index', 'protein']]\n",
    "df_to_save.to_csv(r'./preprocess/index_to_protein.txt', header=None, index=None, sep=' ', mode='w')"
   ]
  },
  {
   "cell_type": "code",
   "execution_count": 20,
   "metadata": {},
   "outputs": [],
   "source": [
    "dict_prot_ID = {}\n",
    "for _, row in df_to_save[['index','protein']].iterrows():\n",
    "    index, protein = row\n",
    "    dict_prot_ID[protein] = index"
   ]
  },
  {
   "cell_type": "code",
   "execution_count": 21,
   "metadata": {},
   "outputs": [
    {
     "data": {
      "text/plain": [
       "150"
      ]
     },
     "execution_count": 21,
     "metadata": {},
     "output_type": "execute_result"
    }
   ],
   "source": [
    "protein_links['combined_score'].min()"
   ]
  },
  {
   "cell_type": "code",
   "execution_count": 22,
   "metadata": {
    "scrolled": true
   },
   "outputs": [
    {
     "name": "stdout",
     "output_type": "stream",
     "text": [
      "CPU times: total: 1.77 s\n",
      "Wall time: 1.75 s\n"
     ]
    }
   ],
   "source": [
    "%%time\n",
    "dict_gene_to_protein = {}\n",
    "for _, row in protein_info[['protein','gene_ID']].iterrows():\n",
    "    protein, gene_idx = row\n",
    "    dict_gene_to_protein[gene_idx] = protein"
   ]
  },
  {
   "cell_type": "code",
   "execution_count": 23,
   "metadata": {},
   "outputs": [
    {
     "ename": "AssertionError",
     "evalue": "",
     "output_type": "error",
     "traceback": [
      "\u001b[1;31m---------------------------------------------------------------------------\u001b[0m",
      "\u001b[1;31mAssertionError\u001b[0m                            Traceback (most recent call last)",
      "File \u001b[1;32m<timed exec>:1\u001b[0m, in \u001b[0;36m<module>\u001b[1;34m\u001b[0m\n",
      "\u001b[1;31mAssertionError\u001b[0m: "
     ]
    }
   ],
   "source": [
    "%%time\n",
    "assert False   # be careful, young boy\n",
    "adjacence_matrix = np.zeros((len(protein_info),len(protein_info)))\n",
    "\n",
    "for index, row in protein_links[['protein1','protein2', 'combined_score']].iterrows():\n",
    "    protein1, protein2, score = row\n",
    "    i = dict_prot_ID[protein1]\n",
    "    j = dict_prot_ID[protein2]\n",
    "    adjacence_matrix[i,j] = score"
   ]
  },
  {
   "cell_type": "code",
   "execution_count": 24,
   "metadata": {},
   "outputs": [
    {
     "ename": "NameError",
     "evalue": "name 'adjacence_matrix' is not defined",
     "output_type": "error",
     "traceback": [
      "\u001b[1;31m---------------------------------------------------------------------------\u001b[0m",
      "\u001b[1;31mNameError\u001b[0m                                 Traceback (most recent call last)",
      "Input \u001b[1;32mIn [24]\u001b[0m, in \u001b[0;36m<cell line: 2>\u001b[1;34m()\u001b[0m\n\u001b[0;32m      1\u001b[0m fig \u001b[38;5;241m=\u001b[39m plt\u001b[38;5;241m.\u001b[39mfigure(figsize\u001b[38;5;241m=\u001b[39m(\u001b[38;5;241m20\u001b[39m,\u001b[38;5;241m20\u001b[39m))\n\u001b[1;32m----> 2\u001b[0m plt\u001b[38;5;241m.\u001b[39mimshow(\u001b[43madjacence_matrix\u001b[49m[:\u001b[38;5;241m1000\u001b[39m,:\u001b[38;5;241m1000\u001b[39m],cmap\u001b[38;5;241m=\u001b[39m\u001b[38;5;124m'\u001b[39m\u001b[38;5;124mgray\u001b[39m\u001b[38;5;124m'\u001b[39m) \u001b[38;5;66;03m#, cmap=\"YlGnBu\",interpolation='nearest')\u001b[39;00m\n\u001b[0;32m      3\u001b[0m plt\u001b[38;5;241m.\u001b[39mtitle(\u001b[38;5;124m\"\u001b[39m\u001b[38;5;124mAdjacence matrix\u001b[39m\u001b[38;5;124m\"\u001b[39m)\n\u001b[0;32m      4\u001b[0m plt\u001b[38;5;241m.\u001b[39mshow()\n",
      "\u001b[1;31mNameError\u001b[0m: name 'adjacence_matrix' is not defined"
     ]
    },
    {
     "data": {
      "text/plain": [
       "<Figure size 1440x1440 with 0 Axes>"
      ]
     },
     "metadata": {},
     "output_type": "display_data"
    }
   ],
   "source": [
    "fig = plt.figure(figsize=(20,20))\n",
    "plt.imshow(adjacence_matrix[:1000,:1000],cmap='gray') #, cmap=\"YlGnBu\",interpolation='nearest')\n",
    "plt.title(\"Adjacence matrix\")\n",
    "plt.show()"
   ]
  },
  {
   "cell_type": "code",
   "execution_count": 25,
   "metadata": {},
   "outputs": [
    {
     "ename": "NameError",
     "evalue": "name 'adjacence_matrix' is not defined",
     "output_type": "error",
     "traceback": [
      "\u001b[1;31m---------------------------------------------------------------------------\u001b[0m",
      "\u001b[1;31mNameError\u001b[0m                                 Traceback (most recent call last)",
      "File \u001b[1;32m<timed eval>:1\u001b[0m, in \u001b[0;36m<module>\u001b[1;34m\u001b[0m\n",
      "\u001b[1;31mNameError\u001b[0m: name 'adjacence_matrix' is not defined"
     ]
    }
   ],
   "source": [
    "%%time\n",
    "np.savetxt('./preprocess/adjacence_matrix.txt', adjacence_matrix, fmt='%i', delimiter=' ')"
   ]
  },
  {
   "cell_type": "markdown",
   "metadata": {},
   "source": [
    "## Indexing protein links"
   ]
  },
  {
   "cell_type": "code",
   "execution_count": 26,
   "metadata": {},
   "outputs": [
    {
     "data": {
      "text/html": [
       "<div>\n",
       "<style scoped>\n",
       "    .dataframe tbody tr th:only-of-type {\n",
       "        vertical-align: middle;\n",
       "    }\n",
       "\n",
       "    .dataframe tbody tr th {\n",
       "        vertical-align: top;\n",
       "    }\n",
       "\n",
       "    .dataframe thead th {\n",
       "        text-align: right;\n",
       "    }\n",
       "</style>\n",
       "<table border=\"1\" class=\"dataframe\">\n",
       "  <thead>\n",
       "    <tr style=\"text-align: right;\">\n",
       "      <th></th>\n",
       "      <th>index1</th>\n",
       "      <th>index2</th>\n",
       "      <th>combined_score</th>\n",
       "    </tr>\n",
       "  </thead>\n",
       "  <tbody>\n",
       "    <tr>\n",
       "      <th>0</th>\n",
       "      <td>820</td>\n",
       "      <td>10020</td>\n",
       "      <td>155</td>\n",
       "    </tr>\n",
       "    <tr>\n",
       "      <th>1</th>\n",
       "      <td>820</td>\n",
       "      <td>9796</td>\n",
       "      <td>197</td>\n",
       "    </tr>\n",
       "    <tr>\n",
       "      <th>2</th>\n",
       "      <td>820</td>\n",
       "      <td>11255</td>\n",
       "      <td>222</td>\n",
       "    </tr>\n",
       "    <tr>\n",
       "      <th>3</th>\n",
       "      <td>820</td>\n",
       "      <td>11365</td>\n",
       "      <td>181</td>\n",
       "    </tr>\n",
       "    <tr>\n",
       "      <th>4</th>\n",
       "      <td>820</td>\n",
       "      <td>13660</td>\n",
       "      <td>270</td>\n",
       "    </tr>\n",
       "    <tr>\n",
       "      <th>...</th>\n",
       "      <td>...</td>\n",
       "      <td>...</td>\n",
       "      <td>...</td>\n",
       "    </tr>\n",
       "    <tr>\n",
       "      <th>11938261</th>\n",
       "      <td>4264</td>\n",
       "      <td>8507</td>\n",
       "      <td>408</td>\n",
       "    </tr>\n",
       "    <tr>\n",
       "      <th>11938262</th>\n",
       "      <td>4264</td>\n",
       "      <td>3532</td>\n",
       "      <td>160</td>\n",
       "    </tr>\n",
       "    <tr>\n",
       "      <th>11938264</th>\n",
       "      <td>4264</td>\n",
       "      <td>10588</td>\n",
       "      <td>256</td>\n",
       "    </tr>\n",
       "    <tr>\n",
       "      <th>11938265</th>\n",
       "      <td>4264</td>\n",
       "      <td>2732</td>\n",
       "      <td>281</td>\n",
       "    </tr>\n",
       "    <tr>\n",
       "      <th>11938267</th>\n",
       "      <td>4264</td>\n",
       "      <td>11928</td>\n",
       "      <td>963</td>\n",
       "    </tr>\n",
       "  </tbody>\n",
       "</table>\n",
       "<p>9928270 rows × 3 columns</p>\n",
       "</div>"
      ],
      "text/plain": [
       "          index1  index2  combined_score\n",
       "0            820   10020             155\n",
       "1            820    9796             197\n",
       "2            820   11255             222\n",
       "3            820   11365             181\n",
       "4            820   13660             270\n",
       "...          ...     ...             ...\n",
       "11938261    4264    8507             408\n",
       "11938262    4264    3532             160\n",
       "11938264    4264   10588             256\n",
       "11938265    4264    2732             281\n",
       "11938267    4264   11928             963\n",
       "\n",
       "[9928270 rows x 3 columns]"
      ]
     },
     "execution_count": 26,
     "metadata": {},
     "output_type": "execute_result"
    }
   ],
   "source": [
    "index_links = protein_links.copy()\n",
    "index_links['protein1'] = protein_links['protein1'].apply(lambda prot: dict_prot_ID[prot])\n",
    "index_links['protein2'] = protein_links['protein2'].apply(lambda prot: dict_prot_ID[prot])\n",
    "index_links=index_links.rename(columns={'protein1':'index1', 'protein2':'index2'})\n",
    "index_links"
   ]
  },
  {
   "cell_type": "code",
   "execution_count": 27,
   "metadata": {},
   "outputs": [
    {
     "data": {
      "text/plain": [
       "(2, 9928270)"
      ]
     },
     "execution_count": 27,
     "metadata": {},
     "output_type": "execute_result"
    }
   ],
   "source": [
    "edge_index = index_links[['index1', 'index2']].to_numpy().T\n",
    "edge_index.shape"
   ]
  },
  {
   "cell_type": "code",
   "execution_count": 28,
   "metadata": {},
   "outputs": [
    {
     "data": {
      "text/plain": [
       "(9928270,)"
      ]
     },
     "execution_count": 28,
     "metadata": {},
     "output_type": "execute_result"
    }
   ],
   "source": [
    "edge_attr = index_links['combined_score'].to_numpy()\n",
    "edge_attr.shape"
   ]
  },
  {
   "cell_type": "code",
   "execution_count": 29,
   "metadata": {},
   "outputs": [
    {
     "name": "stdout",
     "output_type": "stream",
     "text": [
      "(16481,) (16481,)\n"
     ]
    }
   ],
   "source": [
    "cell_line_idx = 0\n",
    "x_expression = gene_expression.iloc[cell_line_idx].to_numpy()\n",
    "x_effect = gene_effect.iloc[cell_line_idx].to_numpy()\n",
    "print(x_expression.shape, x_effect.shape)"
   ]
  },
  {
   "cell_type": "code",
   "execution_count": 50,
   "metadata": {},
   "outputs": [],
   "source": [
    "from torch_geometric.data import Data\n",
    "\n",
    "data = Data(x=torch.LongTensor(x_expression), edge_index=torch.LongTensor(edge_index), edge_attr=torch.LongTensor(edge_attr))"
   ]
  },
  {
   "cell_type": "code",
   "execution_count": 51,
   "metadata": {},
   "outputs": [
    {
     "data": {
      "text/plain": [
       "Data(x=[16481], edge_index=[2, 9928270], edge_attr=[9928270])"
      ]
     },
     "execution_count": 51,
     "metadata": {},
     "output_type": "execute_result"
    }
   ],
   "source": [
    "data"
   ]
  },
  {
   "cell_type": "code",
   "execution_count": 52,
   "metadata": {},
   "outputs": [],
   "source": [
    "device = torch.device('cuda')\n",
    "data = data.to(device)"
   ]
  },
  {
   "cell_type": "code",
   "execution_count": 54,
   "metadata": {},
   "outputs": [],
   "source": [
    "from torch.nn import Linear, ReLU\n",
    "from torch_geometric.nn import Sequential, GCNConv, GraphConv"
   ]
  },
  {
   "cell_type": "code",
   "execution_count": 55,
   "metadata": {},
   "outputs": [],
   "source": [
    "graphconv = GraphConv(in_channels = 1, out_channels = 1, aggr = 'mean', bias = True)"
   ]
  },
  {
   "cell_type": "code",
   "execution_count": 58,
   "metadata": {},
   "outputs": [
    {
     "data": {
      "text/plain": [
       "True"
      ]
     },
     "execution_count": 58,
     "metadata": {},
     "output_type": "execute_result"
    }
   ],
   "source": [
    "#data.num_nodes = len(data.x)\n",
    "data.validate()"
   ]
  },
  {
   "cell_type": "code",
   "execution_count": 64,
   "metadata": {},
   "outputs": [
    {
     "data": {
      "text/plain": [
       "False"
      ]
     },
     "execution_count": 64,
     "metadata": {},
     "output_type": "execute_result"
    }
   ],
   "source": [
    "data.has_isolated_nodes()"
   ]
  },
  {
   "cell_type": "code",
   "execution_count": 65,
   "metadata": {},
   "outputs": [
    {
     "data": {
      "text/plain": [
       "False"
      ]
     },
     "execution_count": 65,
     "metadata": {},
     "output_type": "execute_result"
    }
   ],
   "source": [
    "data.has_self_loops()"
   ]
  },
  {
   "cell_type": "code",
   "execution_count": 66,
   "metadata": {},
   "outputs": [
    {
     "data": {
      "text/plain": [
       "False"
      ]
     },
     "execution_count": 66,
     "metadata": {},
     "output_type": "execute_result"
    }
   ],
   "source": [
    "data.is_directed()"
   ]
  },
  {
   "cell_type": "code",
   "execution_count": 68,
   "metadata": {},
   "outputs": [
    {
     "data": {
      "text/plain": [
       "['x', 'edge_index', 'edge_attr']"
      ]
     },
     "execution_count": 68,
     "metadata": {},
     "output_type": "execute_result"
    }
   ],
   "source": [
    "data.keys"
   ]
  },
  {
   "cell_type": "code",
   "execution_count": 69,
   "metadata": {},
   "outputs": [
    {
     "data": {
      "text/plain": [
       "9928270"
      ]
     },
     "execution_count": 69,
     "metadata": {},
     "output_type": "execute_result"
    }
   ],
   "source": [
    "data.num_edges"
   ]
  },
  {
   "cell_type": "code",
   "execution_count": 70,
   "metadata": {},
   "outputs": [
    {
     "data": {
      "text/plain": [
       "16481"
      ]
     },
     "execution_count": 70,
     "metadata": {},
     "output_type": "execute_result"
    }
   ],
   "source": [
    "data.num_nodes"
   ]
  },
  {
   "cell_type": "code",
   "execution_count": 71,
   "metadata": {},
   "outputs": [
    {
     "ename": "IndexError",
     "evalue": "Dimension out of range (expected to be in range of [-1, 0], but got -2)",
     "output_type": "error",
     "traceback": [
      "\u001b[1;31m---------------------------------------------------------------------------\u001b[0m",
      "\u001b[1;31mIndexError\u001b[0m                                Traceback (most recent call last)",
      "Input \u001b[1;32mIn [71]\u001b[0m, in \u001b[0;36m<cell line: 1>\u001b[1;34m()\u001b[0m\n\u001b[1;32m----> 1\u001b[0m x_avg \u001b[38;5;241m=\u001b[39m \u001b[43mgraphconv\u001b[49m\u001b[43m(\u001b[49m\u001b[43mx\u001b[49m\u001b[43m \u001b[49m\u001b[38;5;241;43m=\u001b[39;49m\u001b[43m \u001b[49m\u001b[43mdata\u001b[49m\u001b[38;5;241;43m.\u001b[39;49m\u001b[43mx\u001b[49m\u001b[43m,\u001b[49m\u001b[43m \u001b[49m\u001b[43medge_index\u001b[49m\u001b[43m \u001b[49m\u001b[38;5;241;43m=\u001b[39;49m\u001b[43m \u001b[49m\u001b[43mdata\u001b[49m\u001b[38;5;241;43m.\u001b[39;49m\u001b[43medge_index\u001b[49m\u001b[43m)\u001b[49m\n",
      "File \u001b[1;32m~\\anaconda3\\envs\\earthquake-prediction\\lib\\site-packages\\torch\\nn\\modules\\module.py:1110\u001b[0m, in \u001b[0;36mModule._call_impl\u001b[1;34m(self, *input, **kwargs)\u001b[0m\n\u001b[0;32m   1106\u001b[0m \u001b[38;5;66;03m# If we don't have any hooks, we want to skip the rest of the logic in\u001b[39;00m\n\u001b[0;32m   1107\u001b[0m \u001b[38;5;66;03m# this function, and just call forward.\u001b[39;00m\n\u001b[0;32m   1108\u001b[0m \u001b[38;5;28;01mif\u001b[39;00m \u001b[38;5;129;01mnot\u001b[39;00m (\u001b[38;5;28mself\u001b[39m\u001b[38;5;241m.\u001b[39m_backward_hooks \u001b[38;5;129;01mor\u001b[39;00m \u001b[38;5;28mself\u001b[39m\u001b[38;5;241m.\u001b[39m_forward_hooks \u001b[38;5;129;01mor\u001b[39;00m \u001b[38;5;28mself\u001b[39m\u001b[38;5;241m.\u001b[39m_forward_pre_hooks \u001b[38;5;129;01mor\u001b[39;00m _global_backward_hooks\n\u001b[0;32m   1109\u001b[0m         \u001b[38;5;129;01mor\u001b[39;00m _global_forward_hooks \u001b[38;5;129;01mor\u001b[39;00m _global_forward_pre_hooks):\n\u001b[1;32m-> 1110\u001b[0m     \u001b[38;5;28;01mreturn\u001b[39;00m forward_call(\u001b[38;5;241m*\u001b[39m\u001b[38;5;28minput\u001b[39m, \u001b[38;5;241m*\u001b[39m\u001b[38;5;241m*\u001b[39mkwargs)\n\u001b[0;32m   1111\u001b[0m \u001b[38;5;66;03m# Do not call functions when jit is used\u001b[39;00m\n\u001b[0;32m   1112\u001b[0m full_backward_hooks, non_full_backward_hooks \u001b[38;5;241m=\u001b[39m [], []\n",
      "File \u001b[1;32m~\\anaconda3\\envs\\earthquake-prediction\\lib\\site-packages\\torch_geometric\\nn\\conv\\graph_conv.py:79\u001b[0m, in \u001b[0;36mGraphConv.forward\u001b[1;34m(self, x, edge_index, edge_weight, size)\u001b[0m\n\u001b[0;32m     76\u001b[0m     x: OptPairTensor \u001b[38;5;241m=\u001b[39m (x, x)\n\u001b[0;32m     78\u001b[0m \u001b[38;5;66;03m# propagate_type: (x: OptPairTensor, edge_weight: OptTensor)\u001b[39;00m\n\u001b[1;32m---> 79\u001b[0m out \u001b[38;5;241m=\u001b[39m \u001b[38;5;28;43mself\u001b[39;49m\u001b[38;5;241;43m.\u001b[39;49m\u001b[43mpropagate\u001b[49m\u001b[43m(\u001b[49m\u001b[43medge_index\u001b[49m\u001b[43m,\u001b[49m\u001b[43m \u001b[49m\u001b[43mx\u001b[49m\u001b[38;5;241;43m=\u001b[39;49m\u001b[43mx\u001b[49m\u001b[43m,\u001b[49m\u001b[43m \u001b[49m\u001b[43medge_weight\u001b[49m\u001b[38;5;241;43m=\u001b[39;49m\u001b[43medge_weight\u001b[49m\u001b[43m,\u001b[49m\n\u001b[0;32m     80\u001b[0m \u001b[43m                     \u001b[49m\u001b[43msize\u001b[49m\u001b[38;5;241;43m=\u001b[39;49m\u001b[43msize\u001b[49m\u001b[43m)\u001b[49m\n\u001b[0;32m     81\u001b[0m out \u001b[38;5;241m=\u001b[39m \u001b[38;5;28mself\u001b[39m\u001b[38;5;241m.\u001b[39mlin_rel(out)\n\u001b[0;32m     83\u001b[0m x_r \u001b[38;5;241m=\u001b[39m x[\u001b[38;5;241m1\u001b[39m]\n",
      "File \u001b[1;32m~\\anaconda3\\envs\\earthquake-prediction\\lib\\site-packages\\torch_geometric\\nn\\conv\\message_passing.py:366\u001b[0m, in \u001b[0;36mMessagePassing.propagate\u001b[1;34m(self, edge_index, size, **kwargs)\u001b[0m\n\u001b[0;32m    363\u001b[0m     \u001b[38;5;28;01mfor\u001b[39;00m arg \u001b[38;5;129;01min\u001b[39;00m decomp_args:\n\u001b[0;32m    364\u001b[0m         kwargs[arg] \u001b[38;5;241m=\u001b[39m decomp_kwargs[arg][i]\n\u001b[1;32m--> 366\u001b[0m coll_dict \u001b[38;5;241m=\u001b[39m \u001b[38;5;28;43mself\u001b[39;49m\u001b[38;5;241;43m.\u001b[39;49m\u001b[43m__collect__\u001b[49m\u001b[43m(\u001b[49m\u001b[38;5;28;43mself\u001b[39;49m\u001b[38;5;241;43m.\u001b[39;49m\u001b[43m__user_args__\u001b[49m\u001b[43m,\u001b[49m\u001b[43m \u001b[49m\u001b[43medge_index\u001b[49m\u001b[43m,\u001b[49m\n\u001b[0;32m    367\u001b[0m \u001b[43m                             \u001b[49m\u001b[43msize\u001b[49m\u001b[43m,\u001b[49m\u001b[43m \u001b[49m\u001b[43mkwargs\u001b[49m\u001b[43m)\u001b[49m\n\u001b[0;32m    369\u001b[0m msg_kwargs \u001b[38;5;241m=\u001b[39m \u001b[38;5;28mself\u001b[39m\u001b[38;5;241m.\u001b[39minspector\u001b[38;5;241m.\u001b[39mdistribute(\u001b[38;5;124m'\u001b[39m\u001b[38;5;124mmessage\u001b[39m\u001b[38;5;124m'\u001b[39m, coll_dict)\n\u001b[0;32m    370\u001b[0m \u001b[38;5;28;01mfor\u001b[39;00m hook \u001b[38;5;129;01min\u001b[39;00m \u001b[38;5;28mself\u001b[39m\u001b[38;5;241m.\u001b[39m_message_forward_pre_hooks\u001b[38;5;241m.\u001b[39mvalues():\n",
      "File \u001b[1;32m~\\anaconda3\\envs\\earthquake-prediction\\lib\\site-packages\\torch_geometric\\nn\\conv\\message_passing.py:255\u001b[0m, in \u001b[0;36mMessagePassing.__collect__\u001b[1;34m(self, args, edge_index, size, kwargs)\u001b[0m\n\u001b[0;32m    253\u001b[0m     \u001b[38;5;28;01massert\u001b[39;00m \u001b[38;5;28mlen\u001b[39m(data) \u001b[38;5;241m==\u001b[39m \u001b[38;5;241m2\u001b[39m\n\u001b[0;32m    254\u001b[0m     \u001b[38;5;28;01mif\u001b[39;00m \u001b[38;5;28misinstance\u001b[39m(data[\u001b[38;5;241m1\u001b[39m \u001b[38;5;241m-\u001b[39m dim], Tensor):\n\u001b[1;32m--> 255\u001b[0m         \u001b[38;5;28;43mself\u001b[39;49m\u001b[38;5;241;43m.\u001b[39;49m\u001b[43m__set_size__\u001b[49m\u001b[43m(\u001b[49m\u001b[43msize\u001b[49m\u001b[43m,\u001b[49m\u001b[43m \u001b[49m\u001b[38;5;241;43m1\u001b[39;49m\u001b[43m \u001b[49m\u001b[38;5;241;43m-\u001b[39;49m\u001b[43m \u001b[49m\u001b[43mdim\u001b[49m\u001b[43m,\u001b[49m\u001b[43m \u001b[49m\u001b[43mdata\u001b[49m\u001b[43m[\u001b[49m\u001b[38;5;241;43m1\u001b[39;49m\u001b[43m \u001b[49m\u001b[38;5;241;43m-\u001b[39;49m\u001b[43m \u001b[49m\u001b[43mdim\u001b[49m\u001b[43m]\u001b[49m\u001b[43m)\u001b[49m\n\u001b[0;32m    256\u001b[0m     data \u001b[38;5;241m=\u001b[39m data[dim]\n\u001b[0;32m    258\u001b[0m \u001b[38;5;28;01mif\u001b[39;00m \u001b[38;5;28misinstance\u001b[39m(data, Tensor):\n",
      "File \u001b[1;32m~\\anaconda3\\envs\\earthquake-prediction\\lib\\site-packages\\torch_geometric\\nn\\conv\\message_passing.py:221\u001b[0m, in \u001b[0;36mMessagePassing.__set_size__\u001b[1;34m(self, size, dim, src)\u001b[0m\n\u001b[0;32m    219\u001b[0m the_size \u001b[38;5;241m=\u001b[39m size[dim]\n\u001b[0;32m    220\u001b[0m \u001b[38;5;28;01mif\u001b[39;00m the_size \u001b[38;5;129;01mis\u001b[39;00m \u001b[38;5;28;01mNone\u001b[39;00m:\n\u001b[1;32m--> 221\u001b[0m     size[dim] \u001b[38;5;241m=\u001b[39m \u001b[43msrc\u001b[49m\u001b[38;5;241;43m.\u001b[39;49m\u001b[43msize\u001b[49m\u001b[43m(\u001b[49m\u001b[38;5;28;43mself\u001b[39;49m\u001b[38;5;241;43m.\u001b[39;49m\u001b[43mnode_dim\u001b[49m\u001b[43m)\u001b[49m\n\u001b[0;32m    222\u001b[0m \u001b[38;5;28;01melif\u001b[39;00m the_size \u001b[38;5;241m!=\u001b[39m src\u001b[38;5;241m.\u001b[39msize(\u001b[38;5;28mself\u001b[39m\u001b[38;5;241m.\u001b[39mnode_dim):\n\u001b[0;32m    223\u001b[0m     \u001b[38;5;28;01mraise\u001b[39;00m \u001b[38;5;167;01mValueError\u001b[39;00m(\n\u001b[0;32m    224\u001b[0m         (\u001b[38;5;124mf\u001b[39m\u001b[38;5;124m'\u001b[39m\u001b[38;5;124mEncountered tensor with size \u001b[39m\u001b[38;5;132;01m{\u001b[39;00msrc\u001b[38;5;241m.\u001b[39msize(\u001b[38;5;28mself\u001b[39m\u001b[38;5;241m.\u001b[39mnode_dim)\u001b[38;5;132;01m}\u001b[39;00m\u001b[38;5;124m in \u001b[39m\u001b[38;5;124m'\u001b[39m\n\u001b[0;32m    225\u001b[0m          \u001b[38;5;124mf\u001b[39m\u001b[38;5;124m'\u001b[39m\u001b[38;5;124mdimension \u001b[39m\u001b[38;5;132;01m{\u001b[39;00m\u001b[38;5;28mself\u001b[39m\u001b[38;5;241m.\u001b[39mnode_dim\u001b[38;5;132;01m}\u001b[39;00m\u001b[38;5;124m, but expected size \u001b[39m\u001b[38;5;132;01m{\u001b[39;00mthe_size\u001b[38;5;132;01m}\u001b[39;00m\u001b[38;5;124m.\u001b[39m\u001b[38;5;124m'\u001b[39m))\n",
      "\u001b[1;31mIndexError\u001b[0m: Dimension out of range (expected to be in range of [-1, 0], but got -2)"
     ]
    }
   ],
   "source": [
    "x_avg = graphconv(x = data.x, edge_index = data.edge_index)"
   ]
  },
  {
   "cell_type": "code",
   "execution_count": null,
   "metadata": {},
   "outputs": [],
   "source": [
    "gene_effect.shape"
   ]
  },
  {
   "cell_type": "code",
   "execution_count": null,
   "metadata": {},
   "outputs": [],
   "source": [
    "import sys"
   ]
  },
  {
   "cell_type": "code",
   "execution_count": null,
   "metadata": {},
   "outputs": [],
   "source": [
    "sys.getsizeof(adjacence_matrix)"
   ]
  },
  {
   "cell_type": "code",
   "execution_count": null,
   "metadata": {},
   "outputs": [],
   "source": [
    "sys.getsizeof(protein_links)"
   ]
  },
  {
   "cell_type": "code",
   "execution_count": null,
   "metadata": {},
   "outputs": [],
   "source": [
    "protein_adjacence_list = {}\n",
    "last_index = 0\n",
    "total_nb_index = protein_links.shape[0]   # 11938498"
   ]
  },
  {
   "cell_type": "code",
   "execution_count": null,
   "metadata": {
    "scrolled": true
   },
   "outputs": [],
   "source": [
    "remaining_laps = 1_000_000\n",
    "for index, row in tqdm(protein_links.iterrows()):\n",
    "    if index <= last_index:\n",
    "        continue\n",
    "    protein1, protein2, score = row\n",
    "    if (index+1)%(total_nb_index//100) == 0:\n",
    "        print(f\"{(index+1)/total_nb_index *100:.0f} % analyzed\")\n",
    "    if protein1 not in protein_adjacence_list:\n",
    "        protein_adjacence_list[protein1] = {}\n",
    "        protein_adjacence_list[protein1][protein2] = score\n",
    "    last_index = index\n",
    "    \n",
    "    remaining_laps -= 1\n",
    "    if remaining_laps <= 0:\n",
    "        break\n",
    "    "
   ]
  },
  {
   "cell_type": "code",
   "execution_count": null,
   "metadata": {
    "scrolled": true
   },
   "outputs": [],
   "source": [
    "print(protein_links.shape[0])"
   ]
  },
  {
   "cell_type": "code",
   "execution_count": null,
   "metadata": {},
   "outputs": [],
   "source": [
    "print('# possible combinations = %d \\n# PPIs = %d' %(16481*16482 / 2, protein_links.shape[0]))\n",
    "\n",
    "# We see not all proteins are connected ==> # PPIs < # possible combinations"
   ]
  },
  {
   "cell_type": "code",
   "execution_count": null,
   "metadata": {},
   "outputs": [],
   "source": [
    "#protein_adjacence_list['9606.ENSP00000000412']['9606.ENSP00000011653']"
   ]
  },
  {
   "cell_type": "code",
   "execution_count": null,
   "metadata": {
    "scrolled": true
   },
   "outputs": [],
   "source": [
    "protein_adjacence_list"
   ]
  },
  {
   "cell_type": "code",
   "execution_count": null,
   "metadata": {},
   "outputs": [],
   "source": [
    "def find_neighbors(protein, scan_limit=1_000_000):\n",
    "    neighbors = {}\n",
    "    remaining_laps = scan_limit\n",
    "    for index, (protein1, protein2, score) in protein_links.iterrows():\n",
    "        if protein1 == protein:\n",
    "            neighbors[protein2] = score\n",
    "        if protein2 == protein:\n",
    "            neighbors[protein1] = score\n",
    "        \n",
    "        #if (index+1)%(total_nb_index//100) == 0:\n",
    "        #    print(f\"{(index+1)/total_nb_index *100:.0f} % analyzed\")\n",
    "        \n",
    "        remaining_laps-=1\n",
    "        if remaining_laps <= 0:\n",
    "            break\n",
    "    \n",
    "    return neighbors"
   ]
  },
  {
   "cell_type": "code",
   "execution_count": null,
   "metadata": {},
   "outputs": [],
   "source": [
    "neighbors = find_neighbors(\"9606.ENSP00000005260\", scan_limit=1_000_000)"
   ]
  },
  {
   "cell_type": "code",
   "execution_count": null,
   "metadata": {
    "scrolled": true
   },
   "outputs": [],
   "source": [
    "len(neighbors)"
   ]
  },
  {
   "cell_type": "code",
   "execution_count": null,
   "metadata": {},
   "outputs": [],
   "source": [
    "neighbors"
   ]
  },
  {
   "cell_type": "code",
   "execution_count": null,
   "metadata": {},
   "outputs": [],
   "source": [
    "len(gene_effect.columns)"
   ]
  },
  {
   "cell_type": "code",
   "execution_count": null,
   "metadata": {},
   "outputs": [],
   "source": []
  },
  {
   "cell_type": "code",
   "execution_count": null,
   "metadata": {},
   "outputs": [],
   "source": []
  },
  {
   "cell_type": "markdown",
   "metadata": {},
   "source": [
    "Personal roadmap:\n",
    "\n",
    "Save the graph as npy  \n",
    "Smooth the graph using:\n",
    "$$new x_* = \\lambda x_* + (1-\\lambda)\\sum_i \\frac {\\alpha_i} {\\sum_j \\alpha_j} x_i$$\n",
    "Then do linear regression"
   ]
  },
  {
   "cell_type": "markdown",
   "metadata": {},
   "source": [
    "Goal:\n",
    "plot graph expr vs. graph effect before smoothing  \n",
    "plot graph expr vs. graph effect after smoothing  (different values of lambda)  \n"
   ]
  },
  {
   "cell_type": "code",
   "execution_count": null,
   "metadata": {},
   "outputs": [],
   "source": []
  },
  {
   "cell_type": "code",
   "execution_count": null,
   "metadata": {},
   "outputs": [],
   "source": []
  },
  {
   "cell_type": "markdown",
   "metadata": {},
   "source": [
    "## GraphNN"
   ]
  },
  {
   "cell_type": "markdown",
   "metadata": {},
   "source": [
    "**Aymeric check this out:**"
   ]
  },
  {
   "cell_type": "markdown",
   "metadata": {},
   "source": [
    "Graphs from pytorch library (PyG) take COO matrix as an input (sparse version of adjacency matrix) which is $[2 \\times N_{edges}]$. You have examples here : https://pytorch-geometric.readthedocs.io/en/latest/notes/introduction.html\n",
    "Here's a quick alternative for retrieving edges:"
   ]
  },
  {
   "cell_type": "code",
   "execution_count": null,
   "metadata": {},
   "outputs": [],
   "source": [
    "from tqdm import tqdm\n",
    "import scipy\n",
    "from scipy import stats\n",
    "\n",
    "\n",
    "# row indices of sorted_proteins will serve as node indices\n",
    "sorted_proteins = protein_info.sort_values(by = 'protein')\n",
    "\n",
    "# standardize scores of proteins\n",
    "protein_links_ = protein_links.copy()\n",
    "protein_links_['combined_score'] = stats.zscore(protein_links_['combined_score'])\n",
    "protein_links_ = protein_links_[protein_links_['protein1'].isin(sorted_proteins['protein'])]\n",
    "protein_links_ = protein_links_[protein_links_['protein2'].isin(sorted_proteins['protein'])]\n",
    "\n",
    "# initializing our COO matrix\n",
    "N_edges = protein_links_.shape[0] * 2 # multiplied by 2 because graph undirected\n",
    "edge_index = np.zeros( (2, N_edges) )\n",
    "edge_attr = np.zeros( (N_edges, 1) )\n"
   ]
  },
  {
   "cell_type": "code",
   "execution_count": null,
   "metadata": {},
   "outputs": [],
   "source": [
    "max_rows = 1_000_000\n",
    "\n",
    "for i, row in tqdm(protein_links_[:max_rows].iterrows()):\n",
    "    protein1, protein2, score = row\n",
    "    \n",
    "    print(protein1, protein2)\n",
    "    \n",
    "    idx1 = sorted_proteins.index[sorted_proteins['protein'] == protein1].tolist()\n",
    "    idx2 = sorted_proteins.index[sorted_proteins['protein'] == protein2].tolist()\n",
    "    \n",
    "    #assert( len(idx1) == 1 and len(idx2) == 1 )\n",
    "    \n",
    "    idx1, idx2 = idx1[0], idx2[0]\n",
    "    \n",
    "    # adding both directions to the COO matrix\n",
    "    edge_index[:, 2*i] = idx1, idx2\n",
    "    edge_index[:, 2*i + 1] = idx2, idx1\n",
    "    \n",
    "    # adding scores to edge_attr matrix \n",
    "    edge_attr[2*i:2*i+2, 0] = [score]*2"
   ]
  },
  {
   "cell_type": "markdown",
   "metadata": {},
   "source": [
    "**Create Data Object for Graph**"
   ]
  },
  {
   "cell_type": "code",
   "execution_count": null,
   "metadata": {
    "scrolled": true
   },
   "outputs": [],
   "source": [
    "from torch_geometric.data import Data\n",
    "\n",
    "data = Data(x=x, edge_index=edge_index, ...)"
   ]
  },
  {
   "cell_type": "code",
   "execution_count": null,
   "metadata": {},
   "outputs": [],
   "source": []
  }
 ],
 "metadata": {
  "kernelspec": {
   "display_name": "Python 3 (ipykernel)",
   "language": "python",
   "name": "python3"
  },
  "language_info": {
   "codemirror_mode": {
    "name": "ipython",
    "version": 3
   },
   "file_extension": ".py",
   "mimetype": "text/x-python",
   "name": "python",
   "nbconvert_exporter": "python",
   "pygments_lexer": "ipython3",
   "version": "3.8.15"
  }
 },
 "nbformat": 4,
 "nbformat_minor": 4
}
